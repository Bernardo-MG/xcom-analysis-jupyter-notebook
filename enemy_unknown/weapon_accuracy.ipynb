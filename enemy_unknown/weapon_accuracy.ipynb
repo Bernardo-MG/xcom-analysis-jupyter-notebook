{
 "cells": [
  {
   "cell_type": "markdown",
   "metadata": {},
   "source": [
    "# Weapon Accuracy"
   ]
  },
  {
   "cell_type": "markdown",
   "metadata": {},
   "source": [
    "## Setting Up"
   ]
  },
  {
   "cell_type": "code",
   "execution_count": 1,
   "metadata": {},
   "outputs": [],
   "source": [
    "import pandas as pd\n",
    "import calendar\n",
    "\n",
    "weapon_stats = pd.read_csv(\"datasets/weapon_stats.csv\")\n",
    "ammo_stats = pd.read_csv(\"datasets/ammo_stats.csv\")\n",
    "weapon_firemodes = pd.read_csv(\"datasets/weapon_firemodes.csv\")"
   ]
  },
  {
   "cell_type": "markdown",
   "metadata": {},
   "source": [
    "# Exploring Data"
   ]
  },
  {
   "cell_type": "code",
   "execution_count": 2,
   "metadata": {},
   "outputs": [
    {
     "data": {
      "text/html": [
       "<div>\n",
       "<style scoped>\n",
       "    .dataframe tbody tr th:only-of-type {\n",
       "        vertical-align: middle;\n",
       "    }\n",
       "\n",
       "    .dataframe tbody tr th {\n",
       "        vertical-align: top;\n",
       "    }\n",
       "\n",
       "    .dataframe thead th {\n",
       "        text-align: right;\n",
       "    }\n",
       "</style>\n",
       "<table border=\"1\" class=\"dataframe\">\n",
       "  <thead>\n",
       "    <tr style=\"text-align: right;\">\n",
       "      <th></th>\n",
       "      <th>weapon</th>\n",
       "      <th>grip</th>\n",
       "    </tr>\n",
       "  </thead>\n",
       "  <tbody>\n",
       "    <tr>\n",
       "      <th>0</th>\n",
       "      <td>pistol</td>\n",
       "      <td>1</td>\n",
       "    </tr>\n",
       "    <tr>\n",
       "      <th>1</th>\n",
       "      <td>rifle</td>\n",
       "      <td>2</td>\n",
       "    </tr>\n",
       "    <tr>\n",
       "      <th>2</th>\n",
       "      <td>heavy_cannon</td>\n",
       "      <td>2</td>\n",
       "    </tr>\n",
       "    <tr>\n",
       "      <th>3</th>\n",
       "      <td>auto_cannon</td>\n",
       "      <td>2</td>\n",
       "    </tr>\n",
       "    <tr>\n",
       "      <th>4</th>\n",
       "      <td>rocket_launcher</td>\n",
       "      <td>2</td>\n",
       "    </tr>\n",
       "  </tbody>\n",
       "</table>\n",
       "</div>"
      ],
      "text/plain": [
       "            weapon  grip\n",
       "0           pistol     1\n",
       "1            rifle     2\n",
       "2     heavy_cannon     2\n",
       "3      auto_cannon     2\n",
       "4  rocket_launcher     2"
      ]
     },
     "execution_count": 2,
     "metadata": {},
     "output_type": "execute_result"
    }
   ],
   "source": [
    "weapon_stats.head()"
   ]
  },
  {
   "cell_type": "code",
   "execution_count": 3,
   "metadata": {},
   "outputs": [
    {
     "data": {
      "text/html": [
       "<div>\n",
       "<style scoped>\n",
       "    .dataframe tbody tr th:only-of-type {\n",
       "        vertical-align: middle;\n",
       "    }\n",
       "\n",
       "    .dataframe tbody tr th {\n",
       "        vertical-align: top;\n",
       "    }\n",
       "\n",
       "    .dataframe thead th {\n",
       "        text-align: right;\n",
       "    }\n",
       "</style>\n",
       "<table border=\"1\" class=\"dataframe\">\n",
       "  <thead>\n",
       "    <tr style=\"text-align: right;\">\n",
       "      <th></th>\n",
       "      <th>weapon</th>\n",
       "      <th>ammo</th>\n",
       "      <th>damage</th>\n",
       "      <th>damage_type</th>\n",
       "      <th>capacity</th>\n",
       "    </tr>\n",
       "  </thead>\n",
       "  <tbody>\n",
       "    <tr>\n",
       "      <th>0</th>\n",
       "      <td>pistol</td>\n",
       "      <td>pistol_clip</td>\n",
       "      <td>26</td>\n",
       "      <td>armor_piercing</td>\n",
       "      <td>12.0</td>\n",
       "    </tr>\n",
       "    <tr>\n",
       "      <th>1</th>\n",
       "      <td>rifle</td>\n",
       "      <td>rifle_clip</td>\n",
       "      <td>30</td>\n",
       "      <td>armor_piercing</td>\n",
       "      <td>20.0</td>\n",
       "    </tr>\n",
       "    <tr>\n",
       "      <th>2</th>\n",
       "      <td>heavy_cannon</td>\n",
       "      <td>heavy_cannon_ap</td>\n",
       "      <td>56</td>\n",
       "      <td>armor_piercing</td>\n",
       "      <td>6.0</td>\n",
       "    </tr>\n",
       "    <tr>\n",
       "      <th>3</th>\n",
       "      <td>heavy_cannon</td>\n",
       "      <td>heavy_cannon_he</td>\n",
       "      <td>52</td>\n",
       "      <td>high_explosive</td>\n",
       "      <td>6.0</td>\n",
       "    </tr>\n",
       "    <tr>\n",
       "      <th>4</th>\n",
       "      <td>heavy_cannon</td>\n",
       "      <td>heavy_cannon_inc</td>\n",
       "      <td>60</td>\n",
       "      <td>incendiary</td>\n",
       "      <td>6.0</td>\n",
       "    </tr>\n",
       "  </tbody>\n",
       "</table>\n",
       "</div>"
      ],
      "text/plain": [
       "         weapon              ammo  damage     damage_type  capacity\n",
       "0        pistol       pistol_clip      26  armor_piercing      12.0\n",
       "1         rifle        rifle_clip      30  armor_piercing      20.0\n",
       "2  heavy_cannon   heavy_cannon_ap      56  armor_piercing       6.0\n",
       "3  heavy_cannon   heavy_cannon_he      52  high_explosive       6.0\n",
       "4  heavy_cannon  heavy_cannon_inc      60      incendiary       6.0"
      ]
     },
     "execution_count": 3,
     "metadata": {},
     "output_type": "execute_result"
    }
   ],
   "source": [
    "ammo_stats.head()"
   ]
  },
  {
   "cell_type": "code",
   "execution_count": 4,
   "metadata": {},
   "outputs": [
    {
     "data": {
      "text/html": [
       "<div>\n",
       "<style scoped>\n",
       "    .dataframe tbody tr th:only-of-type {\n",
       "        vertical-align: middle;\n",
       "    }\n",
       "\n",
       "    .dataframe tbody tr th {\n",
       "        vertical-align: top;\n",
       "    }\n",
       "\n",
       "    .dataframe thead th {\n",
       "        text-align: right;\n",
       "    }\n",
       "</style>\n",
       "<table border=\"1\" class=\"dataframe\">\n",
       "  <thead>\n",
       "    <tr style=\"text-align: right;\">\n",
       "      <th></th>\n",
       "      <th>weapon</th>\n",
       "      <th>fire_mode</th>\n",
       "      <th>time_units</th>\n",
       "      <th>accuracy</th>\n",
       "    </tr>\n",
       "  </thead>\n",
       "  <tbody>\n",
       "    <tr>\n",
       "      <th>0</th>\n",
       "      <td>pistol</td>\n",
       "      <td>snapshot</td>\n",
       "      <td>18</td>\n",
       "      <td>60</td>\n",
       "    </tr>\n",
       "    <tr>\n",
       "      <th>1</th>\n",
       "      <td>pistol</td>\n",
       "      <td>aimed</td>\n",
       "      <td>30</td>\n",
       "      <td>78</td>\n",
       "    </tr>\n",
       "    <tr>\n",
       "      <th>2</th>\n",
       "      <td>rifle</td>\n",
       "      <td>auto</td>\n",
       "      <td>35</td>\n",
       "      <td>35</td>\n",
       "    </tr>\n",
       "    <tr>\n",
       "      <th>3</th>\n",
       "      <td>rifle</td>\n",
       "      <td>snapshot</td>\n",
       "      <td>25</td>\n",
       "      <td>60</td>\n",
       "    </tr>\n",
       "    <tr>\n",
       "      <th>4</th>\n",
       "      <td>rifle</td>\n",
       "      <td>aimed</td>\n",
       "      <td>80</td>\n",
       "      <td>110</td>\n",
       "    </tr>\n",
       "  </tbody>\n",
       "</table>\n",
       "</div>"
      ],
      "text/plain": [
       "   weapon fire_mode  time_units  accuracy\n",
       "0  pistol  snapshot          18        60\n",
       "1  pistol     aimed          30        78\n",
       "2   rifle      auto          35        35\n",
       "3   rifle  snapshot          25        60\n",
       "4   rifle     aimed          80       110"
      ]
     },
     "execution_count": 4,
     "metadata": {},
     "output_type": "execute_result"
    }
   ],
   "source": [
    "weapon_firemodes.head()"
   ]
  },
  {
   "cell_type": "markdown",
   "metadata": {},
   "source": [
    "# Data Merge"
   ]
  },
  {
   "cell_type": "code",
   "execution_count": 5,
   "metadata": {},
   "outputs": [
    {
     "data": {
      "text/html": [
       "<div>\n",
       "<style scoped>\n",
       "    .dataframe tbody tr th:only-of-type {\n",
       "        vertical-align: middle;\n",
       "    }\n",
       "\n",
       "    .dataframe tbody tr th {\n",
       "        vertical-align: top;\n",
       "    }\n",
       "\n",
       "    .dataframe thead th {\n",
       "        text-align: right;\n",
       "    }\n",
       "</style>\n",
       "<table border=\"1\" class=\"dataframe\">\n",
       "  <thead>\n",
       "    <tr style=\"text-align: right;\">\n",
       "      <th></th>\n",
       "      <th>weapon</th>\n",
       "      <th>grip</th>\n",
       "      <th>ammo</th>\n",
       "      <th>damage</th>\n",
       "      <th>damage_type</th>\n",
       "      <th>capacity</th>\n",
       "      <th>fire_mode</th>\n",
       "      <th>time_units</th>\n",
       "      <th>accuracy</th>\n",
       "    </tr>\n",
       "  </thead>\n",
       "  <tbody>\n",
       "    <tr>\n",
       "      <th>0</th>\n",
       "      <td>pistol</td>\n",
       "      <td>1</td>\n",
       "      <td>pistol_clip</td>\n",
       "      <td>26</td>\n",
       "      <td>armor_piercing</td>\n",
       "      <td>12.0</td>\n",
       "      <td>snapshot</td>\n",
       "      <td>18</td>\n",
       "      <td>60</td>\n",
       "    </tr>\n",
       "    <tr>\n",
       "      <th>1</th>\n",
       "      <td>pistol</td>\n",
       "      <td>1</td>\n",
       "      <td>pistol_clip</td>\n",
       "      <td>26</td>\n",
       "      <td>armor_piercing</td>\n",
       "      <td>12.0</td>\n",
       "      <td>aimed</td>\n",
       "      <td>30</td>\n",
       "      <td>78</td>\n",
       "    </tr>\n",
       "    <tr>\n",
       "      <th>2</th>\n",
       "      <td>rifle</td>\n",
       "      <td>2</td>\n",
       "      <td>rifle_clip</td>\n",
       "      <td>30</td>\n",
       "      <td>armor_piercing</td>\n",
       "      <td>20.0</td>\n",
       "      <td>auto</td>\n",
       "      <td>35</td>\n",
       "      <td>35</td>\n",
       "    </tr>\n",
       "    <tr>\n",
       "      <th>3</th>\n",
       "      <td>rifle</td>\n",
       "      <td>2</td>\n",
       "      <td>rifle_clip</td>\n",
       "      <td>30</td>\n",
       "      <td>armor_piercing</td>\n",
       "      <td>20.0</td>\n",
       "      <td>snapshot</td>\n",
       "      <td>25</td>\n",
       "      <td>60</td>\n",
       "    </tr>\n",
       "    <tr>\n",
       "      <th>4</th>\n",
       "      <td>rifle</td>\n",
       "      <td>2</td>\n",
       "      <td>rifle_clip</td>\n",
       "      <td>30</td>\n",
       "      <td>armor_piercing</td>\n",
       "      <td>20.0</td>\n",
       "      <td>aimed</td>\n",
       "      <td>80</td>\n",
       "      <td>110</td>\n",
       "    </tr>\n",
       "  </tbody>\n",
       "</table>\n",
       "</div>"
      ],
      "text/plain": [
       "   weapon  grip         ammo  damage     damage_type  capacity fire_mode  \\\n",
       "0  pistol     1  pistol_clip      26  armor_piercing      12.0  snapshot   \n",
       "1  pistol     1  pistol_clip      26  armor_piercing      12.0     aimed   \n",
       "2   rifle     2   rifle_clip      30  armor_piercing      20.0      auto   \n",
       "3   rifle     2   rifle_clip      30  armor_piercing      20.0  snapshot   \n",
       "4   rifle     2   rifle_clip      30  armor_piercing      20.0     aimed   \n",
       "\n",
       "   time_units  accuracy  \n",
       "0          18        60  \n",
       "1          30        78  \n",
       "2          35        35  \n",
       "3          25        60  \n",
       "4          80       110  "
      ]
     },
     "execution_count": 5,
     "metadata": {},
     "output_type": "execute_result"
    }
   ],
   "source": [
    "weapon_attacks = weapon_stats.merge(ammo_stats, on=\"weapon\")\n",
    "weapon_attacks = weapon_attacks.merge(weapon_firemodes, on=\"weapon\")\n",
    "weapon_attacks.head()"
   ]
  },
  {
   "cell_type": "markdown",
   "metadata": {},
   "source": [
    "# Accuracy Range"
   ]
  },
  {
   "cell_type": "markdown",
   "metadata": {},
   "source": [
    "Soldiers start with an Accuracy value between 40 and 70. But the attribute may go up to 120. So we are going to prepare a set moving between 40 and 120."
   ]
  },
  {
   "cell_type": "code",
   "execution_count": 6,
   "metadata": {},
   "outputs": [
    {
     "data": {
      "text/html": [
       "<div>\n",
       "<style scoped>\n",
       "    .dataframe tbody tr th:only-of-type {\n",
       "        vertical-align: middle;\n",
       "    }\n",
       "\n",
       "    .dataframe tbody tr th {\n",
       "        vertical-align: top;\n",
       "    }\n",
       "\n",
       "    .dataframe thead th {\n",
       "        text-align: right;\n",
       "    }\n",
       "</style>\n",
       "<table border=\"1\" class=\"dataframe\">\n",
       "  <thead>\n",
       "    <tr style=\"text-align: right;\">\n",
       "      <th></th>\n",
       "      <th>soldier_accuracy</th>\n",
       "    </tr>\n",
       "  </thead>\n",
       "  <tbody>\n",
       "    <tr>\n",
       "      <th>0</th>\n",
       "      <td>40</td>\n",
       "    </tr>\n",
       "    <tr>\n",
       "      <th>1</th>\n",
       "      <td>50</td>\n",
       "    </tr>\n",
       "    <tr>\n",
       "      <th>2</th>\n",
       "      <td>60</td>\n",
       "    </tr>\n",
       "    <tr>\n",
       "      <th>3</th>\n",
       "      <td>80</td>\n",
       "    </tr>\n",
       "    <tr>\n",
       "      <th>4</th>\n",
       "      <td>90</td>\n",
       "    </tr>\n",
       "    <tr>\n",
       "      <th>5</th>\n",
       "      <td>100</td>\n",
       "    </tr>\n",
       "    <tr>\n",
       "      <th>6</th>\n",
       "      <td>110</td>\n",
       "    </tr>\n",
       "    <tr>\n",
       "      <th>7</th>\n",
       "      <td>120</td>\n",
       "    </tr>\n",
       "  </tbody>\n",
       "</table>\n",
       "</div>"
      ],
      "text/plain": [
       "   soldier_accuracy\n",
       "0                40\n",
       "1                50\n",
       "2                60\n",
       "3                80\n",
       "4                90\n",
       "5               100\n",
       "6               110\n",
       "7               120"
      ]
     },
     "execution_count": 6,
     "metadata": {},
     "output_type": "execute_result"
    }
   ],
   "source": [
    "data = [40, 50, 60, 80, 90, 100, 110, 120]\n",
    "accuracy_range = pd.DataFrame(data, columns = [\"soldier_accuracy\"])\n",
    "accuracy_range"
   ]
  },
  {
   "cell_type": "markdown",
   "metadata": {},
   "source": [
    "## Merging With Weapons"
   ]
  },
  {
   "cell_type": "code",
   "execution_count": 7,
   "metadata": {},
   "outputs": [
    {
     "data": {
      "text/html": [
       "<div>\n",
       "<style scoped>\n",
       "    .dataframe tbody tr th:only-of-type {\n",
       "        vertical-align: middle;\n",
       "    }\n",
       "\n",
       "    .dataframe tbody tr th {\n",
       "        vertical-align: top;\n",
       "    }\n",
       "\n",
       "    .dataframe thead th {\n",
       "        text-align: right;\n",
       "    }\n",
       "</style>\n",
       "<table border=\"1\" class=\"dataframe\">\n",
       "  <thead>\n",
       "    <tr style=\"text-align: right;\">\n",
       "      <th></th>\n",
       "      <th>weapon</th>\n",
       "      <th>grip</th>\n",
       "      <th>ammo</th>\n",
       "      <th>damage</th>\n",
       "      <th>damage_type</th>\n",
       "      <th>capacity</th>\n",
       "      <th>fire_mode</th>\n",
       "      <th>time_units</th>\n",
       "      <th>accuracy</th>\n",
       "      <th>soldier_accuracy</th>\n",
       "    </tr>\n",
       "  </thead>\n",
       "  <tbody>\n",
       "    <tr>\n",
       "      <th>0</th>\n",
       "      <td>pistol</td>\n",
       "      <td>1</td>\n",
       "      <td>pistol_clip</td>\n",
       "      <td>26</td>\n",
       "      <td>armor_piercing</td>\n",
       "      <td>12.0</td>\n",
       "      <td>snapshot</td>\n",
       "      <td>18</td>\n",
       "      <td>60</td>\n",
       "      <td>40</td>\n",
       "    </tr>\n",
       "    <tr>\n",
       "      <th>1</th>\n",
       "      <td>pistol</td>\n",
       "      <td>1</td>\n",
       "      <td>pistol_clip</td>\n",
       "      <td>26</td>\n",
       "      <td>armor_piercing</td>\n",
       "      <td>12.0</td>\n",
       "      <td>aimed</td>\n",
       "      <td>30</td>\n",
       "      <td>78</td>\n",
       "      <td>40</td>\n",
       "    </tr>\n",
       "    <tr>\n",
       "      <th>2</th>\n",
       "      <td>rifle</td>\n",
       "      <td>2</td>\n",
       "      <td>rifle_clip</td>\n",
       "      <td>30</td>\n",
       "      <td>armor_piercing</td>\n",
       "      <td>20.0</td>\n",
       "      <td>auto</td>\n",
       "      <td>35</td>\n",
       "      <td>35</td>\n",
       "      <td>40</td>\n",
       "    </tr>\n",
       "    <tr>\n",
       "      <th>3</th>\n",
       "      <td>rifle</td>\n",
       "      <td>2</td>\n",
       "      <td>rifle_clip</td>\n",
       "      <td>30</td>\n",
       "      <td>armor_piercing</td>\n",
       "      <td>20.0</td>\n",
       "      <td>snapshot</td>\n",
       "      <td>25</td>\n",
       "      <td>60</td>\n",
       "      <td>40</td>\n",
       "    </tr>\n",
       "    <tr>\n",
       "      <th>4</th>\n",
       "      <td>rifle</td>\n",
       "      <td>2</td>\n",
       "      <td>rifle_clip</td>\n",
       "      <td>30</td>\n",
       "      <td>armor_piercing</td>\n",
       "      <td>20.0</td>\n",
       "      <td>aimed</td>\n",
       "      <td>80</td>\n",
       "      <td>110</td>\n",
       "      <td>40</td>\n",
       "    </tr>\n",
       "    <tr>\n",
       "      <th>...</th>\n",
       "      <td>...</td>\n",
       "      <td>...</td>\n",
       "      <td>...</td>\n",
       "      <td>...</td>\n",
       "      <td>...</td>\n",
       "      <td>...</td>\n",
       "      <td>...</td>\n",
       "      <td>...</td>\n",
       "      <td>...</td>\n",
       "      <td>...</td>\n",
       "    </tr>\n",
       "    <tr>\n",
       "      <th>475</th>\n",
       "      <td>laser_turret</td>\n",
       "      <td>2</td>\n",
       "      <td>laser_beam</td>\n",
       "      <td>110</td>\n",
       "      <td>laser</td>\n",
       "      <td>255.0</td>\n",
       "      <td>snapshot</td>\n",
       "      <td>75</td>\n",
       "      <td>85</td>\n",
       "      <td>120</td>\n",
       "    </tr>\n",
       "    <tr>\n",
       "      <th>476</th>\n",
       "      <td>laser_turret</td>\n",
       "      <td>2</td>\n",
       "      <td>laser_beam</td>\n",
       "      <td>110</td>\n",
       "      <td>laser</td>\n",
       "      <td>255.0</td>\n",
       "      <td>aimed</td>\n",
       "      <td>33</td>\n",
       "      <td>50</td>\n",
       "      <td>120</td>\n",
       "    </tr>\n",
       "    <tr>\n",
       "      <th>477</th>\n",
       "      <td>plasma_turret</td>\n",
       "      <td>2</td>\n",
       "      <td>plasma</td>\n",
       "      <td>110</td>\n",
       "      <td>plasma</td>\n",
       "      <td>255.0</td>\n",
       "      <td>snapshot</td>\n",
       "      <td>30</td>\n",
       "      <td>85</td>\n",
       "      <td>120</td>\n",
       "    </tr>\n",
       "    <tr>\n",
       "      <th>478</th>\n",
       "      <td>plasma_turret</td>\n",
       "      <td>2</td>\n",
       "      <td>plasma</td>\n",
       "      <td>110</td>\n",
       "      <td>plasma</td>\n",
       "      <td>255.0</td>\n",
       "      <td>aimed</td>\n",
       "      <td>60</td>\n",
       "      <td>100</td>\n",
       "      <td>120</td>\n",
       "    </tr>\n",
       "    <tr>\n",
       "      <th>479</th>\n",
       "      <td>fusion_turret</td>\n",
       "      <td>2</td>\n",
       "      <td>hwp_fusion_bomb</td>\n",
       "      <td>140</td>\n",
       "      <td>high_explosive</td>\n",
       "      <td>8.0</td>\n",
       "      <td>aimed</td>\n",
       "      <td>66</td>\n",
       "      <td>100</td>\n",
       "      <td>120</td>\n",
       "    </tr>\n",
       "  </tbody>\n",
       "</table>\n",
       "<p>480 rows × 10 columns</p>\n",
       "</div>"
      ],
      "text/plain": [
       "            weapon  grip             ammo  damage     damage_type  capacity  \\\n",
       "0           pistol     1      pistol_clip      26  armor_piercing      12.0   \n",
       "1           pistol     1      pistol_clip      26  armor_piercing      12.0   \n",
       "2            rifle     2       rifle_clip      30  armor_piercing      20.0   \n",
       "3            rifle     2       rifle_clip      30  armor_piercing      20.0   \n",
       "4            rifle     2       rifle_clip      30  armor_piercing      20.0   \n",
       "..             ...   ...              ...     ...             ...       ...   \n",
       "475   laser_turret     2       laser_beam     110           laser     255.0   \n",
       "476   laser_turret     2       laser_beam     110           laser     255.0   \n",
       "477  plasma_turret     2           plasma     110          plasma     255.0   \n",
       "478  plasma_turret     2           plasma     110          plasma     255.0   \n",
       "479  fusion_turret     2  hwp_fusion_bomb     140  high_explosive       8.0   \n",
       "\n",
       "    fire_mode  time_units  accuracy  soldier_accuracy  \n",
       "0    snapshot          18        60                40  \n",
       "1       aimed          30        78                40  \n",
       "2        auto          35        35                40  \n",
       "3    snapshot          25        60                40  \n",
       "4       aimed          80       110                40  \n",
       "..        ...         ...       ...               ...  \n",
       "475  snapshot          75        85               120  \n",
       "476     aimed          33        50               120  \n",
       "477  snapshot          30        85               120  \n",
       "478     aimed          60       100               120  \n",
       "479     aimed          66       100               120  \n",
       "\n",
       "[480 rows x 10 columns]"
      ]
     },
     "execution_count": 7,
     "metadata": {},
     "output_type": "execute_result"
    }
   ],
   "source": [
    "weapon_attacks_proficiency = weapon_attacks\n",
    "weapon_attacks_proficiency = weapon_attacks_proficiency.append([weapon_attacks_proficiency] * (len(accuracy_range.index)-1), ignore_index=True)\n",
    "weapon_attacks_proficiency[\"key\"] = weapon_attacks_proficiency.groupby([\"weapon\", \"ammo\", \"fire_mode\"]).cumcount()\n",
    "\n",
    "weapon_attacks_proficiency = pd.merge(weapon_attacks_proficiency, accuracy_range, left_on=\"key\", right_index=True, how=\"left\", sort=False)\n",
    "weapon_attacks_proficiency = weapon_attacks_proficiency.drop(columns=[\"key\"])\n",
    "weapon_attacks_proficiency"
   ]
  },
  {
   "cell_type": "markdown",
   "metadata": {},
   "source": [
    "## Final Accuracy"
   ]
  },
  {
   "cell_type": "markdown",
   "metadata": {},
   "source": [
    "For our need the accuracy formula is just the weapon accuracy multiplied by the soldier accuracy."
   ]
  },
  {
   "cell_type": "code",
   "execution_count": 8,
   "metadata": {},
   "outputs": [
    {
     "data": {
      "text/html": [
       "<div>\n",
       "<style scoped>\n",
       "    .dataframe tbody tr th:only-of-type {\n",
       "        vertical-align: middle;\n",
       "    }\n",
       "\n",
       "    .dataframe tbody tr th {\n",
       "        vertical-align: top;\n",
       "    }\n",
       "\n",
       "    .dataframe thead th {\n",
       "        text-align: right;\n",
       "    }\n",
       "</style>\n",
       "<table border=\"1\" class=\"dataframe\">\n",
       "  <thead>\n",
       "    <tr style=\"text-align: right;\">\n",
       "      <th></th>\n",
       "      <th>weapon</th>\n",
       "      <th>grip</th>\n",
       "      <th>ammo</th>\n",
       "      <th>damage</th>\n",
       "      <th>damage_type</th>\n",
       "      <th>capacity</th>\n",
       "      <th>fire_mode</th>\n",
       "      <th>time_units</th>\n",
       "      <th>accuracy</th>\n",
       "      <th>soldier_accuracy</th>\n",
       "      <th>final_accuracy</th>\n",
       "    </tr>\n",
       "  </thead>\n",
       "  <tbody>\n",
       "    <tr>\n",
       "      <th>0</th>\n",
       "      <td>pistol</td>\n",
       "      <td>1</td>\n",
       "      <td>pistol_clip</td>\n",
       "      <td>26</td>\n",
       "      <td>armor_piercing</td>\n",
       "      <td>12.0</td>\n",
       "      <td>snapshot</td>\n",
       "      <td>18</td>\n",
       "      <td>60</td>\n",
       "      <td>40</td>\n",
       "      <td>0.240</td>\n",
       "    </tr>\n",
       "    <tr>\n",
       "      <th>1</th>\n",
       "      <td>pistol</td>\n",
       "      <td>1</td>\n",
       "      <td>pistol_clip</td>\n",
       "      <td>26</td>\n",
       "      <td>armor_piercing</td>\n",
       "      <td>12.0</td>\n",
       "      <td>aimed</td>\n",
       "      <td>30</td>\n",
       "      <td>78</td>\n",
       "      <td>40</td>\n",
       "      <td>0.312</td>\n",
       "    </tr>\n",
       "    <tr>\n",
       "      <th>2</th>\n",
       "      <td>rifle</td>\n",
       "      <td>2</td>\n",
       "      <td>rifle_clip</td>\n",
       "      <td>30</td>\n",
       "      <td>armor_piercing</td>\n",
       "      <td>20.0</td>\n",
       "      <td>auto</td>\n",
       "      <td>35</td>\n",
       "      <td>35</td>\n",
       "      <td>40</td>\n",
       "      <td>0.140</td>\n",
       "    </tr>\n",
       "    <tr>\n",
       "      <th>3</th>\n",
       "      <td>rifle</td>\n",
       "      <td>2</td>\n",
       "      <td>rifle_clip</td>\n",
       "      <td>30</td>\n",
       "      <td>armor_piercing</td>\n",
       "      <td>20.0</td>\n",
       "      <td>snapshot</td>\n",
       "      <td>25</td>\n",
       "      <td>60</td>\n",
       "      <td>40</td>\n",
       "      <td>0.240</td>\n",
       "    </tr>\n",
       "    <tr>\n",
       "      <th>4</th>\n",
       "      <td>rifle</td>\n",
       "      <td>2</td>\n",
       "      <td>rifle_clip</td>\n",
       "      <td>30</td>\n",
       "      <td>armor_piercing</td>\n",
       "      <td>20.0</td>\n",
       "      <td>aimed</td>\n",
       "      <td>80</td>\n",
       "      <td>110</td>\n",
       "      <td>40</td>\n",
       "      <td>0.440</td>\n",
       "    </tr>\n",
       "    <tr>\n",
       "      <th>...</th>\n",
       "      <td>...</td>\n",
       "      <td>...</td>\n",
       "      <td>...</td>\n",
       "      <td>...</td>\n",
       "      <td>...</td>\n",
       "      <td>...</td>\n",
       "      <td>...</td>\n",
       "      <td>...</td>\n",
       "      <td>...</td>\n",
       "      <td>...</td>\n",
       "      <td>...</td>\n",
       "    </tr>\n",
       "    <tr>\n",
       "      <th>475</th>\n",
       "      <td>laser_turret</td>\n",
       "      <td>2</td>\n",
       "      <td>laser_beam</td>\n",
       "      <td>110</td>\n",
       "      <td>laser</td>\n",
       "      <td>255.0</td>\n",
       "      <td>snapshot</td>\n",
       "      <td>75</td>\n",
       "      <td>85</td>\n",
       "      <td>120</td>\n",
       "      <td>1.020</td>\n",
       "    </tr>\n",
       "    <tr>\n",
       "      <th>476</th>\n",
       "      <td>laser_turret</td>\n",
       "      <td>2</td>\n",
       "      <td>laser_beam</td>\n",
       "      <td>110</td>\n",
       "      <td>laser</td>\n",
       "      <td>255.0</td>\n",
       "      <td>aimed</td>\n",
       "      <td>33</td>\n",
       "      <td>50</td>\n",
       "      <td>120</td>\n",
       "      <td>0.600</td>\n",
       "    </tr>\n",
       "    <tr>\n",
       "      <th>477</th>\n",
       "      <td>plasma_turret</td>\n",
       "      <td>2</td>\n",
       "      <td>plasma</td>\n",
       "      <td>110</td>\n",
       "      <td>plasma</td>\n",
       "      <td>255.0</td>\n",
       "      <td>snapshot</td>\n",
       "      <td>30</td>\n",
       "      <td>85</td>\n",
       "      <td>120</td>\n",
       "      <td>1.020</td>\n",
       "    </tr>\n",
       "    <tr>\n",
       "      <th>478</th>\n",
       "      <td>plasma_turret</td>\n",
       "      <td>2</td>\n",
       "      <td>plasma</td>\n",
       "      <td>110</td>\n",
       "      <td>plasma</td>\n",
       "      <td>255.0</td>\n",
       "      <td>aimed</td>\n",
       "      <td>60</td>\n",
       "      <td>100</td>\n",
       "      <td>120</td>\n",
       "      <td>1.200</td>\n",
       "    </tr>\n",
       "    <tr>\n",
       "      <th>479</th>\n",
       "      <td>fusion_turret</td>\n",
       "      <td>2</td>\n",
       "      <td>hwp_fusion_bomb</td>\n",
       "      <td>140</td>\n",
       "      <td>high_explosive</td>\n",
       "      <td>8.0</td>\n",
       "      <td>aimed</td>\n",
       "      <td>66</td>\n",
       "      <td>100</td>\n",
       "      <td>120</td>\n",
       "      <td>1.200</td>\n",
       "    </tr>\n",
       "  </tbody>\n",
       "</table>\n",
       "<p>480 rows × 11 columns</p>\n",
       "</div>"
      ],
      "text/plain": [
       "            weapon  grip             ammo  damage     damage_type  capacity  \\\n",
       "0           pistol     1      pistol_clip      26  armor_piercing      12.0   \n",
       "1           pistol     1      pistol_clip      26  armor_piercing      12.0   \n",
       "2            rifle     2       rifle_clip      30  armor_piercing      20.0   \n",
       "3            rifle     2       rifle_clip      30  armor_piercing      20.0   \n",
       "4            rifle     2       rifle_clip      30  armor_piercing      20.0   \n",
       "..             ...   ...              ...     ...             ...       ...   \n",
       "475   laser_turret     2       laser_beam     110           laser     255.0   \n",
       "476   laser_turret     2       laser_beam     110           laser     255.0   \n",
       "477  plasma_turret     2           plasma     110          plasma     255.0   \n",
       "478  plasma_turret     2           plasma     110          plasma     255.0   \n",
       "479  fusion_turret     2  hwp_fusion_bomb     140  high_explosive       8.0   \n",
       "\n",
       "    fire_mode  time_units  accuracy  soldier_accuracy  final_accuracy  \n",
       "0    snapshot          18        60                40           0.240  \n",
       "1       aimed          30        78                40           0.312  \n",
       "2        auto          35        35                40           0.140  \n",
       "3    snapshot          25        60                40           0.240  \n",
       "4       aimed          80       110                40           0.440  \n",
       "..        ...         ...       ...               ...             ...  \n",
       "475  snapshot          75        85               120           1.020  \n",
       "476     aimed          33        50               120           0.600  \n",
       "477  snapshot          30        85               120           1.020  \n",
       "478     aimed          60       100               120           1.200  \n",
       "479     aimed          66       100               120           1.200  \n",
       "\n",
       "[480 rows x 11 columns]"
      ]
     },
     "execution_count": 8,
     "metadata": {},
     "output_type": "execute_result"
    }
   ],
   "source": [
    "weapon_attacks_proficiency[\"final_accuracy\"] = weapon_attacks_proficiency.apply(lambda x: x[\"accuracy\"] * x[\"soldier_accuracy\"] / 10000, axis=1)\n",
    "weapon_attacks_proficiency"
   ]
  },
  {
   "cell_type": "markdown",
   "metadata": {},
   "source": [
    "# Weapon Accuracies"
   ]
  },
  {
   "cell_type": "code",
   "execution_count": 9,
   "metadata": {
    "scrolled": false
   },
   "outputs": [
    {
     "data": {
      "text/html": [
       "<div>\n",
       "<style scoped>\n",
       "    .dataframe tbody tr th:only-of-type {\n",
       "        vertical-align: middle;\n",
       "    }\n",
       "\n",
       "    .dataframe tbody tr th {\n",
       "        vertical-align: top;\n",
       "    }\n",
       "\n",
       "    .dataframe thead th {\n",
       "        text-align: right;\n",
       "    }\n",
       "</style>\n",
       "<table border=\"1\" class=\"dataframe\">\n",
       "  <thead>\n",
       "    <tr style=\"text-align: right;\">\n",
       "      <th></th>\n",
       "      <th></th>\n",
       "      <th>final_accuracy</th>\n",
       "    </tr>\n",
       "    <tr>\n",
       "      <th>weapon</th>\n",
       "      <th>soldier_accuracy</th>\n",
       "      <th></th>\n",
       "    </tr>\n",
       "  </thead>\n",
       "  <tbody>\n",
       "    <tr>\n",
       "      <th rowspan=\"5\" valign=\"top\">alien_grenade</th>\n",
       "      <th>40</th>\n",
       "      <td>0.260</td>\n",
       "    </tr>\n",
       "    <tr>\n",
       "      <th>50</th>\n",
       "      <td>0.325</td>\n",
       "    </tr>\n",
       "    <tr>\n",
       "      <th>60</th>\n",
       "      <td>0.390</td>\n",
       "    </tr>\n",
       "    <tr>\n",
       "      <th>80</th>\n",
       "      <td>0.520</td>\n",
       "    </tr>\n",
       "    <tr>\n",
       "      <th>90</th>\n",
       "      <td>0.585</td>\n",
       "    </tr>\n",
       "    <tr>\n",
       "      <th>...</th>\n",
       "      <th>...</th>\n",
       "      <td>...</td>\n",
       "    </tr>\n",
       "    <tr>\n",
       "      <th rowspan=\"5\" valign=\"top\">stun_rod</th>\n",
       "      <th>110</th>\n",
       "      <td>1.100</td>\n",
       "    </tr>\n",
       "    <tr>\n",
       "      <th>50</th>\n",
       "      <td>0.500</td>\n",
       "    </tr>\n",
       "    <tr>\n",
       "      <th>40</th>\n",
       "      <td>0.400</td>\n",
       "    </tr>\n",
       "    <tr>\n",
       "      <th>60</th>\n",
       "      <td>0.600</td>\n",
       "    </tr>\n",
       "    <tr>\n",
       "      <th>120</th>\n",
       "      <td>1.200</td>\n",
       "    </tr>\n",
       "  </tbody>\n",
       "</table>\n",
       "<p>184 rows × 1 columns</p>\n",
       "</div>"
      ],
      "text/plain": [
       "                                final_accuracy\n",
       "weapon        soldier_accuracy                \n",
       "alien_grenade 40                         0.260\n",
       "              50                         0.325\n",
       "              60                         0.390\n",
       "              80                         0.520\n",
       "              90                         0.585\n",
       "...                                        ...\n",
       "stun_rod      110                        1.100\n",
       "              50                         0.500\n",
       "              40                         0.400\n",
       "              60                         0.600\n",
       "              120                        1.200\n",
       "\n",
       "[184 rows x 1 columns]"
      ]
     },
     "execution_count": 9,
     "metadata": {},
     "output_type": "execute_result"
    }
   ],
   "source": [
    "weapon_proficiency_development = weapon_attacks_proficiency[[\"weapon\", \"fire_mode\", \"soldier_accuracy\", \"final_accuracy\"]]\n",
    "weapon_proficiency_development = weapon_proficiency_development.groupby([\"weapon\", \"soldier_accuracy\"]).mean()\n",
    "weapon_proficiency_development = weapon_proficiency_development.sort_values(by=[\"weapon\"])\n",
    "weapon_proficiency_development"
   ]
  },
  {
   "cell_type": "markdown",
   "metadata": {},
   "source": [
    "## Kinetic Weapons"
   ]
  },
  {
   "cell_type": "code",
   "execution_count": 10,
   "metadata": {},
   "outputs": [
    {
     "data": {
      "text/html": [
       "<div>\n",
       "<style scoped>\n",
       "    .dataframe tbody tr th:only-of-type {\n",
       "        vertical-align: middle;\n",
       "    }\n",
       "\n",
       "    .dataframe tbody tr th {\n",
       "        vertical-align: top;\n",
       "    }\n",
       "\n",
       "    .dataframe thead th {\n",
       "        text-align: right;\n",
       "    }\n",
       "</style>\n",
       "<table border=\"1\" class=\"dataframe\">\n",
       "  <thead>\n",
       "    <tr style=\"text-align: right;\">\n",
       "      <th></th>\n",
       "      <th></th>\n",
       "      <th>final_accuracy</th>\n",
       "    </tr>\n",
       "    <tr>\n",
       "      <th>weapon</th>\n",
       "      <th>soldier_accuracy</th>\n",
       "      <th></th>\n",
       "    </tr>\n",
       "  </thead>\n",
       "  <tbody>\n",
       "    <tr>\n",
       "      <th rowspan=\"8\" valign=\"top\">pistol</th>\n",
       "      <th>40</th>\n",
       "      <td>0.276</td>\n",
       "    </tr>\n",
       "    <tr>\n",
       "      <th>50</th>\n",
       "      <td>0.345</td>\n",
       "    </tr>\n",
       "    <tr>\n",
       "      <th>60</th>\n",
       "      <td>0.414</td>\n",
       "    </tr>\n",
       "    <tr>\n",
       "      <th>80</th>\n",
       "      <td>0.552</td>\n",
       "    </tr>\n",
       "    <tr>\n",
       "      <th>90</th>\n",
       "      <td>0.621</td>\n",
       "    </tr>\n",
       "    <tr>\n",
       "      <th>100</th>\n",
       "      <td>0.690</td>\n",
       "    </tr>\n",
       "    <tr>\n",
       "      <th>110</th>\n",
       "      <td>0.759</td>\n",
       "    </tr>\n",
       "    <tr>\n",
       "      <th>120</th>\n",
       "      <td>0.828</td>\n",
       "    </tr>\n",
       "  </tbody>\n",
       "</table>\n",
       "</div>"
      ],
      "text/plain": [
       "                         final_accuracy\n",
       "weapon soldier_accuracy                \n",
       "pistol 40                         0.276\n",
       "       50                         0.345\n",
       "       60                         0.414\n",
       "       80                         0.552\n",
       "       90                         0.621\n",
       "       100                        0.690\n",
       "       110                        0.759\n",
       "       120                        0.828"
      ]
     },
     "execution_count": 10,
     "metadata": {},
     "output_type": "execute_result"
    }
   ],
   "source": [
    "weapon_proficiency_development.loc[ [\"pistol\"] ]"
   ]
  },
  {
   "cell_type": "code",
   "execution_count": 11,
   "metadata": {},
   "outputs": [
    {
     "data": {
      "text/plain": [
       "Text(0, 0.5, 'Final accuracy')"
      ]
     },
     "execution_count": 11,
     "metadata": {},
     "output_type": "execute_result"
    },
    {
     "data": {
      "image/png": "[encoded data removed]",
      "text/plain": [
       "<Figure size 432x288 with 1 Axes>"
      ]
     },
     "metadata": {
      "needs_background": "light"
     },
     "output_type": "display_data"
    }
   ],
   "source": [
    "weapon_proficiency_development_kinetic = weapon_proficiency_development.loc[ [\"pistol\", \"rifle\", \"heavy_cannon\", \"auto_cannon\"] ]\n",
    "weapon_proficiency_development_kinetic = weapon_proficiency_development_kinetic.sort_values(by=[\"final_accuracy\"])\n",
    "weapon_proficiency_development_kinetic = weapon_proficiency_development_kinetic.unstack(level=0)\n",
    "ax = weapon_proficiency_development_kinetic.plot(title=\"Accuracy progression with kinetic weapons\")\n",
    "ax.legend([\"Pistol\", \"Rifle\", \"Heavy cannon\", \"Auto cannon\"]);\n",
    "ax.set_xlabel(\"Soldier accuracy\")\n",
    "ax.set_ylabel(\"Final accuracy\")"
   ]
  },
  {
   "cell_type": "markdown",
   "metadata": {},
   "source": [
    "## Melee"
   ]
  },
  {
   "cell_type": "code",
   "execution_count": 12,
   "metadata": {},
   "outputs": [
    {
     "data": {
      "text/plain": [
       "Text(0, 0.5, 'Final accuracy')"
      ]
     },
     "execution_count": 12,
     "metadata": {},
     "output_type": "execute_result"
    },
    {
     "data": {
      "image/png": "[encoded data removed]",
      "text/plain": [
       "<Figure size 432x288 with 1 Axes>"
      ]
     },
     "metadata": {
      "needs_background": "light"
     },
     "output_type": "display_data"
    }
   ],
   "source": [
    "weapon_proficiency_development_melee = weapon_proficiency_development.loc[ [\"stun_rod\"] ]\n",
    "weapon_proficiency_development_melee = weapon_proficiency_development_melee.sort_values(by=[\"final_accuracy\"])\n",
    "weapon_proficiency_development_melee = weapon_proficiency_development_melee.unstack(level=0)\n",
    "ax = weapon_proficiency_development_melee.plot(title=\"Accuracy progression with melee weapons\")\n",
    "ax.legend([\"Stun rod\"]);\n",
    "ax.set_xlabel(\"Soldier accuracy\")\n",
    "ax.set_ylabel(\"Final accuracy\")"
   ]
  },
  {
   "cell_type": "markdown",
   "metadata": {},
   "source": [
    "## Explosive"
   ]
  },
  {
   "cell_type": "code",
   "execution_count": 13,
   "metadata": {},
   "outputs": [
    {
     "data": {
      "text/plain": [
       "Text(0, 0.5, 'Final accuracy')"
      ]
     },
     "execution_count": 13,
     "metadata": {},
     "output_type": "execute_result"
    },
    {
     "data": {
      "image/png": "[encoded data removed]",
      "text/plain": [
       "<Figure size 432x288 with 1 Axes>"
      ]
     },
     "metadata": {
      "needs_background": "light"
     },
     "output_type": "display_data"
    }
   ],
   "source": [
    "weapon_proficiency_development_grenade = weapon_proficiency_development.loc[ [\"grenade\", \"proximity_grenade\", \"alien_grenade\", \"high_explosive\"] ]\n",
    "weapon_proficiency_development_grenade = weapon_proficiency_development_grenade.sort_values(by=[\"final_accuracy\"])\n",
    "weapon_proficiency_development_grenade = weapon_proficiency_development_grenade.unstack(level=0)\n",
    "ax = weapon_proficiency_development_grenade.plot(title=\"Accuracy progression with grenades\")\n",
    "ax.legend([\"Grenade\", \"Proximity grenade\", \"Alien grenade\", \"High explosive\"]);\n",
    "ax.set_xlabel(\"Soldier accuracy\")\n",
    "ax.set_ylabel(\"Final accuracy\")"
   ]
  },
  {
   "cell_type": "code",
   "execution_count": 14,
   "metadata": {},
   "outputs": [
    {
     "data": {
      "text/plain": [
       "Text(0, 0.5, 'Final accuracy')"
      ]
     },
     "execution_count": 14,
     "metadata": {},
     "output_type": "execute_result"
    },
    {
     "data": {
      "image/png": "[encoded data removed]",
      "text/plain": [
       "<Figure size 432x288 with 1 Axes>"
      ]
     },
     "metadata": {
      "needs_background": "light"
     },
     "output_type": "display_data"
    }
   ],
   "source": [
    "weapon_proficiency_development_launcher = weapon_proficiency_development.loc[ [\"rocket_launcher\", \"blaster_launcher\", \"small_launcher\"] ]\n",
    "weapon_proficiency_development_launcher = weapon_proficiency_development_launcher.sort_values(by=[\"final_accuracy\"])\n",
    "weapon_proficiency_development_launcher = weapon_proficiency_development_launcher.unstack(level=0)\n",
    "ax = weapon_proficiency_development_launcher.plot(title=\"Accuracy progression with launchers\")\n",
    "ax.legend([\"Rocket launcher\", \"Blaster launcher\", \"Small launcher\"]);\n",
    "ax.set_xlabel(\"Soldier accuracy\")\n",
    "ax.set_ylabel(\"Final accuracy\")"
   ]
  },
  {
   "cell_type": "markdown",
   "metadata": {},
   "source": [
    "## Laser"
   ]
  },
  {
   "cell_type": "code",
   "execution_count": 15,
   "metadata": {},
   "outputs": [
    {
     "data": {
      "text/plain": [
       "Text(0, 0.5, 'Final accuracy')"
      ]
     },
     "execution_count": 15,
     "metadata": {},
     "output_type": "execute_result"
    },
    {
     "data": {
      "image/png": "[encoded data removed]",
      "text/plain": [
       "<Figure size 432x288 with 1 Axes>"
      ]
     },
     "metadata": {
      "needs_background": "light"
     },
     "output_type": "display_data"
    }
   ],
   "source": [
    "weapon_proficiency_development_laser = weapon_proficiency_development.loc[ [\"laser_pistol\", \"laser_rifle\", \"heavy_laser\"] ]\n",
    "weapon_proficiency_development_laser = weapon_proficiency_development_laser.sort_values(by=[\"final_accuracy\"])\n",
    "weapon_proficiency_development_laser = weapon_proficiency_development_laser.unstack(level=0)\n",
    "ax = weapon_proficiency_development_laser.plot(title=\"Accuracy progression with laser\")\n",
    "ax.legend([\"Laser pistol\", \"Laser rifle\", \"Heavy laser\"]);\n",
    "ax.set_xlabel(\"Soldier accuracy\")\n",
    "ax.set_ylabel(\"Final accuracy\")"
   ]
  },
  {
   "cell_type": "markdown",
   "metadata": {},
   "source": [
    "## Plasma"
   ]
  },
  {
   "cell_type": "code",
   "execution_count": 16,
   "metadata": {},
   "outputs": [
    {
     "data": {
      "text/plain": [
       "Text(0, 0.5, 'Final accuracy')"
      ]
     },
     "execution_count": 16,
     "metadata": {},
     "output_type": "execute_result"
    },
    {
     "data": {
      "image/png": "[encoded data removed]",
      "text/plain": [
       "<Figure size 432x288 with 1 Axes>"
      ]
     },
     "metadata": {
      "needs_background": "light"
     },
     "output_type": "display_data"
    }
   ],
   "source": [
    "weapon_proficiency_development_plasma = weapon_proficiency_development.loc[ [\"plasma_pistol\", \"plasma_rifle\", \"heavy_plasma\"] ]\n",
    "weapon_proficiency_development_plasma = weapon_proficiency_development_plasma.sort_values(by=[\"final_accuracy\"])\n",
    "weapon_proficiency_development_plasma = weapon_proficiency_development_plasma.unstack(level=0)\n",
    "ax = weapon_proficiency_development_plasma.plot(title=\"Accuracy progression with plasma\")\n",
    "ax.legend([\"Plasma pistol\", \"Plasma rifle\", \"Heavy Plasma\"]);\n",
    "ax.set_xlabel(\"Soldier accuracy\")\n",
    "ax.set_ylabel(\"Final accuracy\")"
   ]
  },
  {
   "cell_type": "markdown",
   "metadata": {},
   "source": [
    "## Tank"
   ]
  },
  {
   "cell_type": "markdown",
   "metadata": {},
   "source": [
    "Tanks don't increase skills. But the calculations are included."
   ]
  },
  {
   "cell_type": "code",
   "execution_count": 17,
   "metadata": {},
   "outputs": [
    {
     "data": {
      "text/plain": [
       "Text(0, 0.5, 'Final accuracy')"
      ]
     },
     "execution_count": 17,
     "metadata": {},
     "output_type": "execute_result"
    },
    {
     "data": {
      "image/png": "[encoded data removed]",
      "text/plain": [
       "<Figure size 432x288 with 1 Axes>"
      ]
     },
     "metadata": {
      "needs_background": "light"
     },
     "output_type": "display_data"
    }
   ],
   "source": [
    "weapon_proficiency_development_turret = weapon_proficiency_development.loc[ [\"cannon_turret\", \"rocket_turret\", \"laser_turret\", \"plasma_turret\", \"fusion_turret\"] ]\n",
    "weapon_proficiency_development_turret = weapon_proficiency_development_turret.sort_values(by=[\"final_accuracy\"])\n",
    "weapon_proficiency_development_turret = weapon_proficiency_development_turret.unstack(level=0)\n",
    "ax = weapon_proficiency_development_turret.plot(title=\"Accuracy progression with turrets\")\n",
    "ax.legend([\"Cannon\", \"Rocket\", \"Laser\", \"Plasma\", \"Fusion\"]);\n",
    "ax.set_xlabel(\"Soldier accuracy\")\n",
    "ax.set_ylabel(\"Final accuracy\")"
   ]
  }
 ],
 "metadata": {
  "kernelspec": {
   "display_name": "Python 3",
   "language": "python",
   "name": "python3"
  },
  "language_info": {
   "codemirror_mode": {
    "name": "ipython",
    "version": 3
   },
   "file_extension": ".py",
   "mimetype": "text/x-python",
   "name": "python",
   "nbconvert_exporter": "python",
   "pygments_lexer": "ipython3",
   "version": "3.8.5"
  }
 },
 "nbformat": 4,
 "nbformat_minor": 4
}
