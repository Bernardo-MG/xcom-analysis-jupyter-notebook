{
 "cells": [
  {
   "cell_type": "markdown",
   "metadata": {},
   "source": [
    "# Weapon Damage Per Turn"
   ]
  },
  {
   "cell_type": "markdown",
   "metadata": {},
   "source": [
    "## Setting Up"
   ]
  },
  {
   "cell_type": "code",
   "execution_count": 1,
   "metadata": {},
   "outputs": [],
   "source": [
    "import pandas as pd\n",
    "from weapon import max_shots, burst\n",
    "\n",
    "weapon_stats = pd.read_csv(\"datasets/weapon_stats.csv\")\n",
    "ammo_stats = pd.read_csv(\"datasets/ammo_stats.csv\")\n",
    "weapon_firemodes = pd.read_csv(\"datasets/weapon_firemodes.csv\")\n",
    "damage_modifiers = pd.read_csv(\"datasets/damage_modifiers.csv\")"
   ]
  },
  {
   "cell_type": "markdown",
   "metadata": {},
   "source": [
    "## Data Merge"
   ]
  },
  {
   "cell_type": "code",
   "execution_count": 2,
   "metadata": {
    "scrolled": false
   },
   "outputs": [
    {
     "data": {
      "text/html": [
       "<div>\n",
       "<style scoped>\n",
       "    .dataframe tbody tr th:only-of-type {\n",
       "        vertical-align: middle;\n",
       "    }\n",
       "\n",
       "    .dataframe tbody tr th {\n",
       "        vertical-align: top;\n",
       "    }\n",
       "\n",
       "    .dataframe thead th {\n",
       "        text-align: right;\n",
       "    }\n",
       "</style>\n",
       "<table border=\"1\" class=\"dataframe\">\n",
       "  <thead>\n",
       "    <tr style=\"text-align: right;\">\n",
       "      <th></th>\n",
       "      <th>weapon</th>\n",
       "      <th>grip</th>\n",
       "      <th>ammo</th>\n",
       "      <th>damage</th>\n",
       "      <th>damage_type</th>\n",
       "      <th>capacity</th>\n",
       "      <th>fire_mode</th>\n",
       "      <th>time_units</th>\n",
       "      <th>accuracy</th>\n",
       "    </tr>\n",
       "  </thead>\n",
       "  <tbody>\n",
       "    <tr>\n",
       "      <th>47</th>\n",
       "      <td>alien_grenade</td>\n",
       "      <td>1</td>\n",
       "      <td>alien_grenade</td>\n",
       "      <td>90</td>\n",
       "      <td>high_explosive</td>\n",
       "      <td>1.0</td>\n",
       "      <td>grenade</td>\n",
       "      <td>75</td>\n",
       "      <td>65</td>\n",
       "    </tr>\n",
       "    <tr>\n",
       "      <th>13</th>\n",
       "      <td>auto_cannon</td>\n",
       "      <td>2</td>\n",
       "      <td>auto_cannon_ap</td>\n",
       "      <td>42</td>\n",
       "      <td>armor_piercing</td>\n",
       "      <td>14.0</td>\n",
       "      <td>aimed</td>\n",
       "      <td>80</td>\n",
       "      <td>82</td>\n",
       "    </tr>\n",
       "    <tr>\n",
       "      <th>16</th>\n",
       "      <td>auto_cannon</td>\n",
       "      <td>2</td>\n",
       "      <td>auto_cannon_he</td>\n",
       "      <td>44</td>\n",
       "      <td>high_explosive</td>\n",
       "      <td>14.0</td>\n",
       "      <td>aimed</td>\n",
       "      <td>80</td>\n",
       "      <td>82</td>\n",
       "    </tr>\n",
       "    <tr>\n",
       "      <th>19</th>\n",
       "      <td>auto_cannon</td>\n",
       "      <td>2</td>\n",
       "      <td>auto_cannon_inc</td>\n",
       "      <td>48</td>\n",
       "      <td>incendiary</td>\n",
       "      <td>14.0</td>\n",
       "      <td>aimed</td>\n",
       "      <td>80</td>\n",
       "      <td>82</td>\n",
       "    </tr>\n",
       "    <tr>\n",
       "      <th>11</th>\n",
       "      <td>auto_cannon</td>\n",
       "      <td>2</td>\n",
       "      <td>auto_cannon_ap</td>\n",
       "      <td>42</td>\n",
       "      <td>armor_piercing</td>\n",
       "      <td>14.0</td>\n",
       "      <td>auto</td>\n",
       "      <td>40</td>\n",
       "      <td>32</td>\n",
       "    </tr>\n",
       "  </tbody>\n",
       "</table>\n",
       "</div>"
      ],
      "text/plain": [
       "           weapon  grip             ammo  damage     damage_type  capacity  \\\n",
       "47  alien_grenade     1    alien_grenade      90  high_explosive       1.0   \n",
       "13    auto_cannon     2   auto_cannon_ap      42  armor_piercing      14.0   \n",
       "16    auto_cannon     2   auto_cannon_he      44  high_explosive      14.0   \n",
       "19    auto_cannon     2  auto_cannon_inc      48      incendiary      14.0   \n",
       "11    auto_cannon     2   auto_cannon_ap      42  armor_piercing      14.0   \n",
       "\n",
       "   fire_mode  time_units  accuracy  \n",
       "47   grenade          75        65  \n",
       "13     aimed          80        82  \n",
       "16     aimed          80        82  \n",
       "19     aimed          80        82  \n",
       "11      auto          40        32  "
      ]
     },
     "execution_count": 2,
     "metadata": {},
     "output_type": "execute_result"
    }
   ],
   "source": [
    "weapon_attacks = weapon_stats.merge(ammo_stats, on=\"weapon\")\n",
    "weapon_attacks = weapon_attacks.merge(weapon_firemodes, on=\"weapon\")\n",
    "weapon_attacks = weapon_attacks.sort_values(by=[\"weapon\", \"fire_mode\"])\n",
    "weapon_attacks.head()"
   ]
  },
  {
   "cell_type": "markdown",
   "metadata": {},
   "source": [
    "## Chance to Hit"
   ]
  },
  {
   "cell_type": "markdown",
   "metadata": {},
   "source": [
    "Soldiers start with an Accuracy value between 40 and 70, giving an average of 55.\n",
    "\n",
    "To get the change of hit this should by applied to the weapon accuracy. Just multiply them as proportions. So an average of 55 to a weapon of Accuracy 90 means 0.55 * 0.9 = 0.495 chance of hit."
   ]
  },
  {
   "cell_type": "code",
   "execution_count": 3,
   "metadata": {
    "scrolled": true
   },
   "outputs": [
    {
     "data": {
      "text/html": [
       "<div>\n",
       "<style scoped>\n",
       "    .dataframe tbody tr th:only-of-type {\n",
       "        vertical-align: middle;\n",
       "    }\n",
       "\n",
       "    .dataframe tbody tr th {\n",
       "        vertical-align: top;\n",
       "    }\n",
       "\n",
       "    .dataframe thead th {\n",
       "        text-align: right;\n",
       "    }\n",
       "</style>\n",
       "<table border=\"1\" class=\"dataframe\">\n",
       "  <thead>\n",
       "    <tr style=\"text-align: right;\">\n",
       "      <th></th>\n",
       "      <th>weapon</th>\n",
       "      <th>grip</th>\n",
       "      <th>ammo</th>\n",
       "      <th>damage</th>\n",
       "      <th>damage_type</th>\n",
       "      <th>capacity</th>\n",
       "      <th>fire_mode</th>\n",
       "      <th>time_units</th>\n",
       "      <th>accuracy</th>\n",
       "      <th>chance_to_hit</th>\n",
       "    </tr>\n",
       "  </thead>\n",
       "  <tbody>\n",
       "    <tr>\n",
       "      <th>47</th>\n",
       "      <td>alien_grenade</td>\n",
       "      <td>1</td>\n",
       "      <td>alien_grenade</td>\n",
       "      <td>90</td>\n",
       "      <td>high_explosive</td>\n",
       "      <td>1.0</td>\n",
       "      <td>grenade</td>\n",
       "      <td>75</td>\n",
       "      <td>65</td>\n",
       "      <td>0.3575</td>\n",
       "    </tr>\n",
       "    <tr>\n",
       "      <th>13</th>\n",
       "      <td>auto_cannon</td>\n",
       "      <td>2</td>\n",
       "      <td>auto_cannon_ap</td>\n",
       "      <td>42</td>\n",
       "      <td>armor_piercing</td>\n",
       "      <td>14.0</td>\n",
       "      <td>aimed</td>\n",
       "      <td>80</td>\n",
       "      <td>82</td>\n",
       "      <td>0.4510</td>\n",
       "    </tr>\n",
       "    <tr>\n",
       "      <th>16</th>\n",
       "      <td>auto_cannon</td>\n",
       "      <td>2</td>\n",
       "      <td>auto_cannon_he</td>\n",
       "      <td>44</td>\n",
       "      <td>high_explosive</td>\n",
       "      <td>14.0</td>\n",
       "      <td>aimed</td>\n",
       "      <td>80</td>\n",
       "      <td>82</td>\n",
       "      <td>0.4510</td>\n",
       "    </tr>\n",
       "    <tr>\n",
       "      <th>19</th>\n",
       "      <td>auto_cannon</td>\n",
       "      <td>2</td>\n",
       "      <td>auto_cannon_inc</td>\n",
       "      <td>48</td>\n",
       "      <td>incendiary</td>\n",
       "      <td>14.0</td>\n",
       "      <td>aimed</td>\n",
       "      <td>80</td>\n",
       "      <td>82</td>\n",
       "      <td>0.4510</td>\n",
       "    </tr>\n",
       "    <tr>\n",
       "      <th>11</th>\n",
       "      <td>auto_cannon</td>\n",
       "      <td>2</td>\n",
       "      <td>auto_cannon_ap</td>\n",
       "      <td>42</td>\n",
       "      <td>armor_piercing</td>\n",
       "      <td>14.0</td>\n",
       "      <td>auto</td>\n",
       "      <td>40</td>\n",
       "      <td>32</td>\n",
       "      <td>0.1760</td>\n",
       "    </tr>\n",
       "  </tbody>\n",
       "</table>\n",
       "</div>"
      ],
      "text/plain": [
       "           weapon  grip             ammo  damage     damage_type  capacity  \\\n",
       "47  alien_grenade     1    alien_grenade      90  high_explosive       1.0   \n",
       "13    auto_cannon     2   auto_cannon_ap      42  armor_piercing      14.0   \n",
       "16    auto_cannon     2   auto_cannon_he      44  high_explosive      14.0   \n",
       "19    auto_cannon     2  auto_cannon_inc      48      incendiary      14.0   \n",
       "11    auto_cannon     2   auto_cannon_ap      42  armor_piercing      14.0   \n",
       "\n",
       "   fire_mode  time_units  accuracy  chance_to_hit  \n",
       "47   grenade          75        65         0.3575  \n",
       "13     aimed          80        82         0.4510  \n",
       "16     aimed          80        82         0.4510  \n",
       "19     aimed          80        82         0.4510  \n",
       "11      auto          40        32         0.1760  "
      ]
     },
     "execution_count": 3,
     "metadata": {},
     "output_type": "execute_result"
    }
   ],
   "source": [
    "weapon_attacks[\"chance_to_hit\"] = weapon_attacks.apply(lambda x: x[\"accuracy\"] / 100 * 0.55, axis=1)\n",
    "weapon_attacks.head()"
   ]
  },
  {
   "cell_type": "markdown",
   "metadata": {},
   "source": [
    "## Derived Damage"
   ]
  },
  {
   "cell_type": "code",
   "execution_count": 4,
   "metadata": {
    "scrolled": false
   },
   "outputs": [
    {
     "data": {
      "text/html": [
       "<div>\n",
       "<style scoped>\n",
       "    .dataframe tbody tr th:only-of-type {\n",
       "        vertical-align: middle;\n",
       "    }\n",
       "\n",
       "    .dataframe tbody tr th {\n",
       "        vertical-align: top;\n",
       "    }\n",
       "\n",
       "    .dataframe thead th {\n",
       "        text-align: right;\n",
       "    }\n",
       "</style>\n",
       "<table border=\"1\" class=\"dataframe\">\n",
       "  <thead>\n",
       "    <tr style=\"text-align: right;\">\n",
       "      <th></th>\n",
       "      <th>weapon</th>\n",
       "      <th>grip</th>\n",
       "      <th>ammo</th>\n",
       "      <th>damage</th>\n",
       "      <th>damage_type</th>\n",
       "      <th>capacity</th>\n",
       "      <th>fire_mode</th>\n",
       "      <th>time_units</th>\n",
       "      <th>accuracy</th>\n",
       "      <th>chance_to_hit</th>\n",
       "      <th>burst</th>\n",
       "      <th>turn_max_shots</th>\n",
       "      <th>turn_damage_max</th>\n",
       "      <th>turn_damage_expected</th>\n",
       "    </tr>\n",
       "  </thead>\n",
       "  <tbody>\n",
       "    <tr>\n",
       "      <th>47</th>\n",
       "      <td>alien_grenade</td>\n",
       "      <td>1</td>\n",
       "      <td>alien_grenade</td>\n",
       "      <td>90</td>\n",
       "      <td>high_explosive</td>\n",
       "      <td>1.0</td>\n",
       "      <td>grenade</td>\n",
       "      <td>75</td>\n",
       "      <td>65</td>\n",
       "      <td>0.3575</td>\n",
       "      <td>1</td>\n",
       "      <td>1</td>\n",
       "      <td>90</td>\n",
       "      <td>32.175</td>\n",
       "    </tr>\n",
       "    <tr>\n",
       "      <th>13</th>\n",
       "      <td>auto_cannon</td>\n",
       "      <td>2</td>\n",
       "      <td>auto_cannon_ap</td>\n",
       "      <td>42</td>\n",
       "      <td>armor_piercing</td>\n",
       "      <td>14.0</td>\n",
       "      <td>aimed</td>\n",
       "      <td>80</td>\n",
       "      <td>82</td>\n",
       "      <td>0.4510</td>\n",
       "      <td>1</td>\n",
       "      <td>1</td>\n",
       "      <td>42</td>\n",
       "      <td>18.942</td>\n",
       "    </tr>\n",
       "    <tr>\n",
       "      <th>16</th>\n",
       "      <td>auto_cannon</td>\n",
       "      <td>2</td>\n",
       "      <td>auto_cannon_he</td>\n",
       "      <td>44</td>\n",
       "      <td>high_explosive</td>\n",
       "      <td>14.0</td>\n",
       "      <td>aimed</td>\n",
       "      <td>80</td>\n",
       "      <td>82</td>\n",
       "      <td>0.4510</td>\n",
       "      <td>1</td>\n",
       "      <td>1</td>\n",
       "      <td>44</td>\n",
       "      <td>19.844</td>\n",
       "    </tr>\n",
       "    <tr>\n",
       "      <th>19</th>\n",
       "      <td>auto_cannon</td>\n",
       "      <td>2</td>\n",
       "      <td>auto_cannon_inc</td>\n",
       "      <td>48</td>\n",
       "      <td>incendiary</td>\n",
       "      <td>14.0</td>\n",
       "      <td>aimed</td>\n",
       "      <td>80</td>\n",
       "      <td>82</td>\n",
       "      <td>0.4510</td>\n",
       "      <td>1</td>\n",
       "      <td>1</td>\n",
       "      <td>48</td>\n",
       "      <td>21.648</td>\n",
       "    </tr>\n",
       "    <tr>\n",
       "      <th>11</th>\n",
       "      <td>auto_cannon</td>\n",
       "      <td>2</td>\n",
       "      <td>auto_cannon_ap</td>\n",
       "      <td>42</td>\n",
       "      <td>armor_piercing</td>\n",
       "      <td>14.0</td>\n",
       "      <td>auto</td>\n",
       "      <td>40</td>\n",
       "      <td>32</td>\n",
       "      <td>0.1760</td>\n",
       "      <td>3</td>\n",
       "      <td>6</td>\n",
       "      <td>252</td>\n",
       "      <td>44.352</td>\n",
       "    </tr>\n",
       "  </tbody>\n",
       "</table>\n",
       "</div>"
      ],
      "text/plain": [
       "           weapon  grip             ammo  damage     damage_type  capacity  \\\n",
       "47  alien_grenade     1    alien_grenade      90  high_explosive       1.0   \n",
       "13    auto_cannon     2   auto_cannon_ap      42  armor_piercing      14.0   \n",
       "16    auto_cannon     2   auto_cannon_he      44  high_explosive      14.0   \n",
       "19    auto_cannon     2  auto_cannon_inc      48      incendiary      14.0   \n",
       "11    auto_cannon     2   auto_cannon_ap      42  armor_piercing      14.0   \n",
       "\n",
       "   fire_mode  time_units  accuracy  chance_to_hit  burst  turn_max_shots  \\\n",
       "47   grenade          75        65         0.3575      1               1   \n",
       "13     aimed          80        82         0.4510      1               1   \n",
       "16     aimed          80        82         0.4510      1               1   \n",
       "19     aimed          80        82         0.4510      1               1   \n",
       "11      auto          40        32         0.1760      3               6   \n",
       "\n",
       "    turn_damage_max  turn_damage_expected  \n",
       "47               90                32.175  \n",
       "13               42                18.942  \n",
       "16               44                19.844  \n",
       "19               48                21.648  \n",
       "11              252                44.352  "
      ]
     },
     "execution_count": 4,
     "metadata": {},
     "output_type": "execute_result"
    }
   ],
   "source": [
    "# weapon_attacks = weapon_attacks.apply(burst, axis=1)\n",
    "weapon_attacks[\"burst\"] = weapon_attacks.apply(burst, axis=1)\n",
    "weapon_attacks[\"turn_max_shots\"] = weapon_attacks.apply(max_shots, axis=1)\n",
    "weapon_attacks[\"turn_damage_max\"] = weapon_attacks.apply(lambda x: x[\"turn_max_shots\"] * x[\"damage\"], axis=1)\n",
    "weapon_attacks[\"turn_damage_expected\"] = weapon_attacks.apply(lambda x: x[\"turn_damage_max\"] * x[\"chance_to_hit\"], axis=1)\n",
    "weapon_attacks.head()"
   ]
  },
  {
   "cell_type": "markdown",
   "metadata": {},
   "source": [
    "## Damage Ranking"
   ]
  },
  {
   "cell_type": "markdown",
   "metadata": {},
   "source": [
    "### Most Damaging Weapon"
   ]
  },
  {
   "cell_type": "markdown",
   "metadata": {},
   "source": [
    "In a single turn, shooting as much as possible, which weapon does the most damage.\n",
    "\n",
    "This takes into account reloading."
   ]
  },
  {
   "cell_type": "code",
   "execution_count": 5,
   "metadata": {},
   "outputs": [],
   "source": [
    "most_damaging_weapon_average = weapon_attacks[[\"weapon\", \"turn_damage_expected\"]]\n",
    "most_damaging_weapon_average = most_damaging_weapon_average.groupby(\"weapon\").mean()"
   ]
  },
  {
   "cell_type": "code",
   "execution_count": 6,
   "metadata": {},
   "outputs": [],
   "source": [
    "most_damaging_weapon_max = weapon_attacks[[\"weapon\", \"turn_damage_expected\"]]\n",
    "most_damaging_weapon_max = most_damaging_weapon_max.groupby(\"weapon\").max()"
   ]
  },
  {
   "cell_type": "code",
   "execution_count": 7,
   "metadata": {},
   "outputs": [
    {
     "data": {
      "text/html": [
       "<div>\n",
       "<style scoped>\n",
       "    .dataframe tbody tr th:only-of-type {\n",
       "        vertical-align: middle;\n",
       "    }\n",
       "\n",
       "    .dataframe tbody tr th {\n",
       "        vertical-align: top;\n",
       "    }\n",
       "\n",
       "    .dataframe thead th {\n",
       "        text-align: right;\n",
       "    }\n",
       "</style>\n",
       "<table border=\"1\" class=\"dataframe\">\n",
       "  <thead>\n",
       "    <tr style=\"text-align: right;\">\n",
       "      <th></th>\n",
       "      <th>max</th>\n",
       "      <th>average</th>\n",
       "    </tr>\n",
       "    <tr>\n",
       "      <th>weapon</th>\n",
       "      <th></th>\n",
       "      <th></th>\n",
       "    </tr>\n",
       "  </thead>\n",
       "  <tbody>\n",
       "    <tr>\n",
       "      <th>grenade</th>\n",
       "      <td>17.8750</td>\n",
       "      <td>17.875000</td>\n",
       "    </tr>\n",
       "    <tr>\n",
       "      <th>proximity_grenade</th>\n",
       "      <td>25.0250</td>\n",
       "      <td>25.025000</td>\n",
       "    </tr>\n",
       "    <tr>\n",
       "      <th>rifle</th>\n",
       "      <td>39.6000</td>\n",
       "      <td>30.800000</td>\n",
       "    </tr>\n",
       "    <tr>\n",
       "      <th>alien_grenade</th>\n",
       "      <td>32.1750</td>\n",
       "      <td>32.175000</td>\n",
       "    </tr>\n",
       "    <tr>\n",
       "      <th>auto_cannon</th>\n",
       "      <td>50.6880</td>\n",
       "      <td>36.194889</td>\n",
       "    </tr>\n",
       "    <tr>\n",
       "      <th>pistol</th>\n",
       "      <td>42.9000</td>\n",
       "      <td>38.181000</td>\n",
       "    </tr>\n",
       "    <tr>\n",
       "      <th>high_explosive</th>\n",
       "      <td>39.3250</td>\n",
       "      <td>39.325000</td>\n",
       "    </tr>\n",
       "    <tr>\n",
       "      <th>rocket_launcher</th>\n",
       "      <td>63.2500</td>\n",
       "      <td>41.295833</td>\n",
       "    </tr>\n",
       "    <tr>\n",
       "      <th>heavy_cannon</th>\n",
       "      <td>59.4000</td>\n",
       "      <td>41.580000</td>\n",
       "    </tr>\n",
       "    <tr>\n",
       "      <th>cannon_turret</th>\n",
       "      <td>59.4000</td>\n",
       "      <td>44.550000</td>\n",
       "    </tr>\n",
       "    <tr>\n",
       "      <th>laser_pistol</th>\n",
       "      <td>85.0080</td>\n",
       "      <td>50.937333</td>\n",
       "    </tr>\n",
       "    <tr>\n",
       "      <th>rocket_turret</th>\n",
       "      <td>53.7625</td>\n",
       "      <td>52.593750</td>\n",
       "    </tr>\n",
       "    <tr>\n",
       "      <th>small_launcher</th>\n",
       "      <td>64.3500</td>\n",
       "      <td>59.400000</td>\n",
       "    </tr>\n",
       "    <tr>\n",
       "      <th>plasma_pistol</th>\n",
       "      <td>128.7000</td>\n",
       "      <td>69.593333</td>\n",
       "    </tr>\n",
       "    <tr>\n",
       "      <th>laser_turret</th>\n",
       "      <td>90.7500</td>\n",
       "      <td>71.087500</td>\n",
       "    </tr>\n",
       "    <tr>\n",
       "      <th>fusion_turret</th>\n",
       "      <td>77.0000</td>\n",
       "      <td>77.000000</td>\n",
       "    </tr>\n",
       "    <tr>\n",
       "      <th>laser_rifle</th>\n",
       "      <td>91.0800</td>\n",
       "      <td>80.960000</td>\n",
       "    </tr>\n",
       "    <tr>\n",
       "      <th>plasma_rifle</th>\n",
       "      <td>145.2000</td>\n",
       "      <td>100.906667</td>\n",
       "    </tr>\n",
       "    <tr>\n",
       "      <th>stun_rod</th>\n",
       "      <td>107.2500</td>\n",
       "      <td>107.250000</td>\n",
       "    </tr>\n",
       "    <tr>\n",
       "      <th>plasma_turret</th>\n",
       "      <td>154.2750</td>\n",
       "      <td>107.387500</td>\n",
       "    </tr>\n",
       "    <tr>\n",
       "      <th>heavy_laser</th>\n",
       "      <td>148.5000</td>\n",
       "      <td>110.550000</td>\n",
       "    </tr>\n",
       "    <tr>\n",
       "      <th>blaster_launcher</th>\n",
       "      <td>132.0000</td>\n",
       "      <td>132.000000</td>\n",
       "    </tr>\n",
       "    <tr>\n",
       "      <th>heavy_plasma</th>\n",
       "      <td>189.7500</td>\n",
       "      <td>133.879167</td>\n",
       "    </tr>\n",
       "  </tbody>\n",
       "</table>\n",
       "</div>"
      ],
      "text/plain": [
       "                        max     average\n",
       "weapon                                 \n",
       "grenade             17.8750   17.875000\n",
       "proximity_grenade   25.0250   25.025000\n",
       "rifle               39.6000   30.800000\n",
       "alien_grenade       32.1750   32.175000\n",
       "auto_cannon         50.6880   36.194889\n",
       "pistol              42.9000   38.181000\n",
       "high_explosive      39.3250   39.325000\n",
       "rocket_launcher     63.2500   41.295833\n",
       "heavy_cannon        59.4000   41.580000\n",
       "cannon_turret       59.4000   44.550000\n",
       "laser_pistol        85.0080   50.937333\n",
       "rocket_turret       53.7625   52.593750\n",
       "small_launcher      64.3500   59.400000\n",
       "plasma_pistol      128.7000   69.593333\n",
       "laser_turret        90.7500   71.087500\n",
       "fusion_turret       77.0000   77.000000\n",
       "laser_rifle         91.0800   80.960000\n",
       "plasma_rifle       145.2000  100.906667\n",
       "stun_rod           107.2500  107.250000\n",
       "plasma_turret      154.2750  107.387500\n",
       "heavy_laser        148.5000  110.550000\n",
       "blaster_launcher   132.0000  132.000000\n",
       "heavy_plasma       189.7500  133.879167"
      ]
     },
     "execution_count": 7,
     "metadata": {},
     "output_type": "execute_result"
    }
   ],
   "source": [
    "most_damaging_weapon = most_damaging_weapon_max.merge(most_damaging_weapon_average, on=\"weapon\")\n",
    "most_damaging_weapon = most_damaging_weapon.rename(columns={\"turn_damage_expected_x\": \"max\", \"turn_damage_expected_y\": \"average\"})\n",
    "most_damaging_weapon = most_damaging_weapon.sort_values(by=[\"average\"])\n",
    "most_damaging_weapon"
   ]
  },
  {
   "cell_type": "code",
   "execution_count": 8,
   "metadata": {
    "scrolled": false
   },
   "outputs": [
    {
     "data": {
      "text/plain": [
       "Text(0, 0.5, 'Damage')"
      ]
     },
     "execution_count": 8,
     "metadata": {},
     "output_type": "execute_result"
    },
    {
     "data": {
      "image/png": "[encoded data removed]",
      "text/plain": [
       "<Figure size 432x288 with 1 Axes>"
      ]
     },
     "metadata": {
      "needs_background": "light"
     },
     "output_type": "display_data"
    }
   ],
   "source": [
    "ax = most_damaging_weapon.plot.bar(title=\"Max damage per turn\", legend=False)\n",
    "ax.legend([\"Max\", \"Average\"])\n",
    "ax.set_xlabel(\"Weapon\")\n",
    "ax.set_ylabel(\"Damage\")"
   ]
  },
  {
   "cell_type": "markdown",
   "metadata": {},
   "source": [
    "### Most Damaging Snapshot"
   ]
  },
  {
   "cell_type": "code",
   "execution_count": 9,
   "metadata": {},
   "outputs": [],
   "source": [
    "most_damaging_weapon_snap_average = weapon_attacks[weapon_attacks[\"fire_mode\"] == \"snapshot\"]\n",
    "most_damaging_weapon_snap_average = most_damaging_weapon_snap_average[[\"weapon\", \"turn_damage_expected\"]]\n",
    "most_damaging_weapon_snap_average = most_damaging_weapon_snap_average.groupby(\"weapon\").mean()"
   ]
  },
  {
   "cell_type": "code",
   "execution_count": 10,
   "metadata": {},
   "outputs": [],
   "source": [
    "most_damaging_weapon_snap_max = weapon_attacks[weapon_attacks[\"fire_mode\"] == \"snapshot\"]\n",
    "most_damaging_weapon_snap_max = most_damaging_weapon_snap_max[[\"weapon\", \"turn_damage_expected\"]]\n",
    "most_damaging_weapon_snap_max = most_damaging_weapon_snap_max.groupby(\"weapon\").max()"
   ]
  },
  {
   "cell_type": "code",
   "execution_count": 11,
   "metadata": {},
   "outputs": [
    {
     "data": {
      "text/html": [
       "<div>\n",
       "<style scoped>\n",
       "    .dataframe tbody tr th:only-of-type {\n",
       "        vertical-align: middle;\n",
       "    }\n",
       "\n",
       "    .dataframe tbody tr th {\n",
       "        vertical-align: top;\n",
       "    }\n",
       "\n",
       "    .dataframe thead th {\n",
       "        text-align: right;\n",
       "    }\n",
       "</style>\n",
       "<table border=\"1\" class=\"dataframe\">\n",
       "  <thead>\n",
       "    <tr style=\"text-align: right;\">\n",
       "      <th></th>\n",
       "      <th>max</th>\n",
       "      <th>average</th>\n",
       "    </tr>\n",
       "    <tr>\n",
       "      <th>weapon</th>\n",
       "      <th></th>\n",
       "      <th></th>\n",
       "    </tr>\n",
       "  </thead>\n",
       "  <tbody>\n",
       "    <tr>\n",
       "      <th>rocket_launcher</th>\n",
       "      <td>30.2500</td>\n",
       "      <td>26.720833</td>\n",
       "    </tr>\n",
       "    <tr>\n",
       "      <th>rifle</th>\n",
       "      <td>39.6000</td>\n",
       "      <td>39.600000</td>\n",
       "    </tr>\n",
       "    <tr>\n",
       "      <th>auto_cannon</th>\n",
       "      <td>44.3520</td>\n",
       "      <td>41.272000</td>\n",
       "    </tr>\n",
       "    <tr>\n",
       "      <th>pistol</th>\n",
       "      <td>42.9000</td>\n",
       "      <td>42.900000</td>\n",
       "    </tr>\n",
       "    <tr>\n",
       "      <th>laser_pistol</th>\n",
       "      <td>50.6000</td>\n",
       "      <td>50.600000</td>\n",
       "    </tr>\n",
       "    <tr>\n",
       "      <th>laser_turret</th>\n",
       "      <td>51.4250</td>\n",
       "      <td>51.425000</td>\n",
       "    </tr>\n",
       "    <tr>\n",
       "      <th>rocket_turret</th>\n",
       "      <td>51.4250</td>\n",
       "      <td>51.425000</td>\n",
       "    </tr>\n",
       "    <tr>\n",
       "      <th>heavy_cannon</th>\n",
       "      <td>59.4000</td>\n",
       "      <td>55.440000</td>\n",
       "    </tr>\n",
       "    <tr>\n",
       "      <th>plasma_pistol</th>\n",
       "      <td>55.7700</td>\n",
       "      <td>55.770000</td>\n",
       "    </tr>\n",
       "    <tr>\n",
       "      <th>cannon_turret</th>\n",
       "      <td>59.4000</td>\n",
       "      <td>59.400000</td>\n",
       "    </tr>\n",
       "    <tr>\n",
       "      <th>small_launcher</th>\n",
       "      <td>64.3500</td>\n",
       "      <td>64.350000</td>\n",
       "    </tr>\n",
       "    <tr>\n",
       "      <th>laser_rifle</th>\n",
       "      <td>85.8000</td>\n",
       "      <td>85.800000</td>\n",
       "    </tr>\n",
       "    <tr>\n",
       "      <th>plasma_rifle</th>\n",
       "      <td>113.5200</td>\n",
       "      <td>113.520000</td>\n",
       "    </tr>\n",
       "    <tr>\n",
       "      <th>heavy_plasma</th>\n",
       "      <td>142.3125</td>\n",
       "      <td>142.312500</td>\n",
       "    </tr>\n",
       "    <tr>\n",
       "      <th>heavy_laser</th>\n",
       "      <td>148.5000</td>\n",
       "      <td>148.500000</td>\n",
       "    </tr>\n",
       "    <tr>\n",
       "      <th>plasma_turret</th>\n",
       "      <td>154.2750</td>\n",
       "      <td>154.275000</td>\n",
       "    </tr>\n",
       "  </tbody>\n",
       "</table>\n",
       "</div>"
      ],
      "text/plain": [
       "                      max     average\n",
       "weapon                               \n",
       "rocket_launcher   30.2500   26.720833\n",
       "rifle             39.6000   39.600000\n",
       "auto_cannon       44.3520   41.272000\n",
       "pistol            42.9000   42.900000\n",
       "laser_pistol      50.6000   50.600000\n",
       "laser_turret      51.4250   51.425000\n",
       "rocket_turret     51.4250   51.425000\n",
       "heavy_cannon      59.4000   55.440000\n",
       "plasma_pistol     55.7700   55.770000\n",
       "cannon_turret     59.4000   59.400000\n",
       "small_launcher    64.3500   64.350000\n",
       "laser_rifle       85.8000   85.800000\n",
       "plasma_rifle     113.5200  113.520000\n",
       "heavy_plasma     142.3125  142.312500\n",
       "heavy_laser      148.5000  148.500000\n",
       "plasma_turret    154.2750  154.275000"
      ]
     },
     "execution_count": 11,
     "metadata": {},
     "output_type": "execute_result"
    }
   ],
   "source": [
    "most_damaging_weapon_snap = most_damaging_weapon_snap_max.merge(most_damaging_weapon_snap_average, on=\"weapon\")\n",
    "most_damaging_weapon_snap = most_damaging_weapon_snap.rename(columns={\"turn_damage_expected_x\": \"max\", \"turn_damage_expected_y\": \"average\"})\n",
    "most_damaging_weapon_snap = most_damaging_weapon_snap.sort_values(by=[\"average\"])\n",
    "most_damaging_weapon_snap"
   ]
  },
  {
   "cell_type": "code",
   "execution_count": 12,
   "metadata": {},
   "outputs": [
    {
     "data": {
      "text/plain": [
       "Text(0, 0.5, 'Damage')"
      ]
     },
     "execution_count": 12,
     "metadata": {},
     "output_type": "execute_result"
    },
    {
     "data": {
      "image/png": "[encoded data removed]",
      "text/plain": [
       "<Figure size 432x288 with 1 Axes>"
      ]
     },
     "metadata": {
      "needs_background": "light"
     },
     "output_type": "display_data"
    }
   ],
   "source": [
    "ax = most_damaging_weapon_snap.plot.bar(title=\"Max damage per turn on snapshot\", legend=False)\n",
    "ax.legend([\"Max\", \"Average\"])\n",
    "ax.set_xlabel(\"Weapon\")\n",
    "ax.set_ylabel(\"Damage\")"
   ]
  },
  {
   "cell_type": "markdown",
   "metadata": {},
   "source": [
    "### Most Damaging Aimed"
   ]
  },
  {
   "cell_type": "code",
   "execution_count": 13,
   "metadata": {},
   "outputs": [],
   "source": [
    "most_damaging_weapon_aim_average = weapon_attacks[weapon_attacks[\"fire_mode\"] == \"aimed\"]\n",
    "most_damaging_weapon_aim_average = most_damaging_weapon_aim_average[[\"weapon\", \"turn_damage_expected\"]]\n",
    "most_damaging_weapon_aim_average = most_damaging_weapon_aim_average.groupby(\"weapon\").mean()"
   ]
  },
  {
   "cell_type": "code",
   "execution_count": 14,
   "metadata": {},
   "outputs": [],
   "source": [
    "most_damaging_weapon_aim_max = weapon_attacks[weapon_attacks[\"fire_mode\"] == \"aimed\"]\n",
    "most_damaging_weapon_aim_max = most_damaging_weapon_aim_max[[\"weapon\", \"turn_damage_expected\"]]\n",
    "most_damaging_weapon_aim_max = most_damaging_weapon_aim_max.groupby(\"weapon\").max()"
   ]
  },
  {
   "cell_type": "code",
   "execution_count": 15,
   "metadata": {},
   "outputs": [
    {
     "data": {
      "text/html": [
       "<div>\n",
       "<style scoped>\n",
       "    .dataframe tbody tr th:only-of-type {\n",
       "        vertical-align: middle;\n",
       "    }\n",
       "\n",
       "    .dataframe tbody tr th {\n",
       "        vertical-align: top;\n",
       "    }\n",
       "\n",
       "    .dataframe thead th {\n",
       "        text-align: right;\n",
       "    }\n",
       "</style>\n",
       "<table border=\"1\" class=\"dataframe\">\n",
       "  <thead>\n",
       "    <tr style=\"text-align: right;\">\n",
       "      <th></th>\n",
       "      <th>max</th>\n",
       "      <th>average</th>\n",
       "    </tr>\n",
       "    <tr>\n",
       "      <th>weapon</th>\n",
       "      <th></th>\n",
       "      <th></th>\n",
       "    </tr>\n",
       "  </thead>\n",
       "  <tbody>\n",
       "    <tr>\n",
       "      <th>laser_pistol</th>\n",
       "      <td>17.2040</td>\n",
       "      <td>17.204000</td>\n",
       "    </tr>\n",
       "    <tr>\n",
       "      <th>rifle</th>\n",
       "      <td>18.1500</td>\n",
       "      <td>18.150000</td>\n",
       "    </tr>\n",
       "    <tr>\n",
       "      <th>auto_cannon</th>\n",
       "      <td>21.6480</td>\n",
       "      <td>20.144667</td>\n",
       "    </tr>\n",
       "    <tr>\n",
       "      <th>plasma_pistol</th>\n",
       "      <td>24.3100</td>\n",
       "      <td>24.310000</td>\n",
       "    </tr>\n",
       "    <tr>\n",
       "      <th>heavy_cannon</th>\n",
       "      <td>29.7000</td>\n",
       "      <td>27.720000</td>\n",
       "    </tr>\n",
       "    <tr>\n",
       "      <th>cannon_turret</th>\n",
       "      <td>29.7000</td>\n",
       "      <td>29.700000</td>\n",
       "    </tr>\n",
       "    <tr>\n",
       "      <th>pistol</th>\n",
       "      <td>33.4620</td>\n",
       "      <td>33.462000</td>\n",
       "    </tr>\n",
       "    <tr>\n",
       "      <th>plasma_rifle</th>\n",
       "      <td>44.0000</td>\n",
       "      <td>44.000000</td>\n",
       "    </tr>\n",
       "    <tr>\n",
       "      <th>rocket_turret</th>\n",
       "      <td>53.7625</td>\n",
       "      <td>53.762500</td>\n",
       "    </tr>\n",
       "    <tr>\n",
       "      <th>small_launcher</th>\n",
       "      <td>54.4500</td>\n",
       "      <td>54.450000</td>\n",
       "    </tr>\n",
       "    <tr>\n",
       "      <th>rocket_launcher</th>\n",
       "      <td>63.2500</td>\n",
       "      <td>55.870833</td>\n",
       "    </tr>\n",
       "    <tr>\n",
       "      <th>plasma_turret</th>\n",
       "      <td>60.5000</td>\n",
       "      <td>60.500000</td>\n",
       "    </tr>\n",
       "    <tr>\n",
       "      <th>laser_rifle</th>\n",
       "      <td>66.0000</td>\n",
       "      <td>66.000000</td>\n",
       "    </tr>\n",
       "    <tr>\n",
       "      <th>heavy_plasma</th>\n",
       "      <td>69.5750</td>\n",
       "      <td>69.575000</td>\n",
       "    </tr>\n",
       "    <tr>\n",
       "      <th>heavy_laser</th>\n",
       "      <td>72.6000</td>\n",
       "      <td>72.600000</td>\n",
       "    </tr>\n",
       "    <tr>\n",
       "      <th>fusion_turret</th>\n",
       "      <td>77.0000</td>\n",
       "      <td>77.000000</td>\n",
       "    </tr>\n",
       "    <tr>\n",
       "      <th>laser_turret</th>\n",
       "      <td>90.7500</td>\n",
       "      <td>90.750000</td>\n",
       "    </tr>\n",
       "    <tr>\n",
       "      <th>blaster_launcher</th>\n",
       "      <td>132.0000</td>\n",
       "      <td>132.000000</td>\n",
       "    </tr>\n",
       "  </tbody>\n",
       "</table>\n",
       "</div>"
      ],
      "text/plain": [
       "                       max     average\n",
       "weapon                                \n",
       "laser_pistol       17.2040   17.204000\n",
       "rifle              18.1500   18.150000\n",
       "auto_cannon        21.6480   20.144667\n",
       "plasma_pistol      24.3100   24.310000\n",
       "heavy_cannon       29.7000   27.720000\n",
       "cannon_turret      29.7000   29.700000\n",
       "pistol             33.4620   33.462000\n",
       "plasma_rifle       44.0000   44.000000\n",
       "rocket_turret      53.7625   53.762500\n",
       "small_launcher     54.4500   54.450000\n",
       "rocket_launcher    63.2500   55.870833\n",
       "plasma_turret      60.5000   60.500000\n",
       "laser_rifle        66.0000   66.000000\n",
       "heavy_plasma       69.5750   69.575000\n",
       "heavy_laser        72.6000   72.600000\n",
       "fusion_turret      77.0000   77.000000\n",
       "laser_turret       90.7500   90.750000\n",
       "blaster_launcher  132.0000  132.000000"
      ]
     },
     "execution_count": 15,
     "metadata": {},
     "output_type": "execute_result"
    }
   ],
   "source": [
    "most_damaging_weapon_aim = most_damaging_weapon_aim_max.merge(most_damaging_weapon_aim_average, on=\"weapon\")\n",
    "most_damaging_weapon_aim = most_damaging_weapon_aim.rename(columns={\"turn_damage_expected_x\": \"max\", \"turn_damage_expected_y\": \"average\"})\n",
    "most_damaging_weapon_aim = most_damaging_weapon_aim.sort_values(by=[\"average\"])\n",
    "most_damaging_weapon_aim"
   ]
  },
  {
   "cell_type": "code",
   "execution_count": 16,
   "metadata": {},
   "outputs": [
    {
     "data": {
      "text/plain": [
       "Text(0, 0.5, 'Damage')"
      ]
     },
     "execution_count": 16,
     "metadata": {},
     "output_type": "execute_result"
    },
    {
     "data": {
      "image/png": "[encoded data removed]",
      "text/plain": [
       "<Figure size 432x288 with 1 Axes>"
      ]
     },
     "metadata": {
      "needs_background": "light"
     },
     "output_type": "display_data"
    }
   ],
   "source": [
    "ax = most_damaging_weapon_aim.plot.bar(title=\"Max damage per turn on aimed\", legend=False)\n",
    "ax.legend([\"Max\", \"Average\"])\n",
    "ax.set_xlabel(\"Weapon\")\n",
    "ax.set_ylabel(\"Damage\")"
   ]
  },
  {
   "cell_type": "markdown",
   "metadata": {},
   "source": [
    "### Most Damaging Auto"
   ]
  },
  {
   "cell_type": "code",
   "execution_count": 17,
   "metadata": {},
   "outputs": [],
   "source": [
    "most_damaging_weapon_auto_average = weapon_attacks[weapon_attacks[\"fire_mode\"] == \"auto\"]\n",
    "most_damaging_weapon_auto_average = most_damaging_weapon_auto_average[[\"weapon\", \"turn_damage_expected\"]]\n",
    "most_damaging_weapon_auto_average = most_damaging_weapon_auto_average.groupby(\"weapon\").mean()"
   ]
  },
  {
   "cell_type": "code",
   "execution_count": 18,
   "metadata": {},
   "outputs": [],
   "source": [
    "most_damaging_weapon_auto_max = weapon_attacks[weapon_attacks[\"fire_mode\"] == \"auto\"]\n",
    "most_damaging_weapon_auto_max = most_damaging_weapon_auto_max[[\"weapon\", \"turn_damage_expected\"]]\n",
    "most_damaging_weapon_auto_max = most_damaging_weapon_auto_max.groupby(\"weapon\").max()"
   ]
  },
  {
   "cell_type": "code",
   "execution_count": 19,
   "metadata": {},
   "outputs": [
    {
     "data": {
      "text/html": [
       "<div>\n",
       "<style scoped>\n",
       "    .dataframe tbody tr th:only-of-type {\n",
       "        vertical-align: middle;\n",
       "    }\n",
       "\n",
       "    .dataframe tbody tr th {\n",
       "        vertical-align: top;\n",
       "    }\n",
       "\n",
       "    .dataframe thead th {\n",
       "        text-align: right;\n",
       "    }\n",
       "</style>\n",
       "<table border=\"1\" class=\"dataframe\">\n",
       "  <thead>\n",
       "    <tr style=\"text-align: right;\">\n",
       "      <th></th>\n",
       "      <th>max</th>\n",
       "      <th>average</th>\n",
       "    </tr>\n",
       "    <tr>\n",
       "      <th>weapon</th>\n",
       "      <th></th>\n",
       "      <th></th>\n",
       "    </tr>\n",
       "  </thead>\n",
       "  <tbody>\n",
       "    <tr>\n",
       "      <th>rifle</th>\n",
       "      <td>34.650</td>\n",
       "      <td>34.650</td>\n",
       "    </tr>\n",
       "    <tr>\n",
       "      <th>auto_cannon</th>\n",
       "      <td>50.688</td>\n",
       "      <td>47.168</td>\n",
       "    </tr>\n",
       "    <tr>\n",
       "      <th>laser_pistol</th>\n",
       "      <td>85.008</td>\n",
       "      <td>85.008</td>\n",
       "    </tr>\n",
       "    <tr>\n",
       "      <th>laser_rifle</th>\n",
       "      <td>91.080</td>\n",
       "      <td>91.080</td>\n",
       "    </tr>\n",
       "    <tr>\n",
       "      <th>plasma_pistol</th>\n",
       "      <td>128.700</td>\n",
       "      <td>128.700</td>\n",
       "    </tr>\n",
       "    <tr>\n",
       "      <th>plasma_rifle</th>\n",
       "      <td>145.200</td>\n",
       "      <td>145.200</td>\n",
       "    </tr>\n",
       "    <tr>\n",
       "      <th>heavy_plasma</th>\n",
       "      <td>189.750</td>\n",
       "      <td>189.750</td>\n",
       "    </tr>\n",
       "  </tbody>\n",
       "</table>\n",
       "</div>"
      ],
      "text/plain": [
       "                   max  average\n",
       "weapon                         \n",
       "rifle           34.650   34.650\n",
       "auto_cannon     50.688   47.168\n",
       "laser_pistol    85.008   85.008\n",
       "laser_rifle     91.080   91.080\n",
       "plasma_pistol  128.700  128.700\n",
       "plasma_rifle   145.200  145.200\n",
       "heavy_plasma   189.750  189.750"
      ]
     },
     "execution_count": 19,
     "metadata": {},
     "output_type": "execute_result"
    }
   ],
   "source": [
    "most_damaging_weapon_auto = most_damaging_weapon_auto_max.merge(most_damaging_weapon_auto_average, on=\"weapon\")\n",
    "most_damaging_weapon_auto = most_damaging_weapon_auto.rename(columns={\"turn_damage_expected_x\": \"max\", \"turn_damage_expected_y\": \"average\"})\n",
    "most_damaging_weapon_auto = most_damaging_weapon_auto.sort_values(by=[\"average\"])\n",
    "most_damaging_weapon_auto"
   ]
  },
  {
   "cell_type": "code",
   "execution_count": 20,
   "metadata": {},
   "outputs": [
    {
     "data": {
      "text/plain": [
       "Text(0, 0.5, 'Damage')"
      ]
     },
     "execution_count": 20,
     "metadata": {},
     "output_type": "execute_result"
    },
    {
     "data": {
      "image/png": "[encoded data removed]",
      "text/plain": [
       "<Figure size 432x288 with 1 Axes>"
      ]
     },
     "metadata": {
      "needs_background": "light"
     },
     "output_type": "display_data"
    }
   ],
   "source": [
    "ax = most_damaging_weapon_auto.plot.bar(title=\"Max damage per turn on auto\", legend=False)\n",
    "ax.legend([\"Max\", \"Average\"])\n",
    "ax.set_xlabel(\"Weapon\")\n",
    "ax.set_ylabel(\"Damage\")"
   ]
  },
  {
   "cell_type": "markdown",
   "metadata": {},
   "source": [
    "### Most Damaging Grenade"
   ]
  },
  {
   "cell_type": "code",
   "execution_count": 21,
   "metadata": {},
   "outputs": [
    {
     "data": {
      "text/html": [
       "<div>\n",
       "<style scoped>\n",
       "    .dataframe tbody tr th:only-of-type {\n",
       "        vertical-align: middle;\n",
       "    }\n",
       "\n",
       "    .dataframe tbody tr th {\n",
       "        vertical-align: top;\n",
       "    }\n",
       "\n",
       "    .dataframe thead th {\n",
       "        text-align: right;\n",
       "    }\n",
       "</style>\n",
       "<table border=\"1\" class=\"dataframe\">\n",
       "  <thead>\n",
       "    <tr style=\"text-align: right;\">\n",
       "      <th></th>\n",
       "      <th>turn_damage</th>\n",
       "    </tr>\n",
       "    <tr>\n",
       "      <th>weapon</th>\n",
       "      <th></th>\n",
       "    </tr>\n",
       "  </thead>\n",
       "  <tbody>\n",
       "    <tr>\n",
       "      <th>grenade</th>\n",
       "      <td>17.875</td>\n",
       "    </tr>\n",
       "    <tr>\n",
       "      <th>proximity_grenade</th>\n",
       "      <td>25.025</td>\n",
       "    </tr>\n",
       "    <tr>\n",
       "      <th>alien_grenade</th>\n",
       "      <td>32.175</td>\n",
       "    </tr>\n",
       "    <tr>\n",
       "      <th>high_explosive</th>\n",
       "      <td>39.325</td>\n",
       "    </tr>\n",
       "  </tbody>\n",
       "</table>\n",
       "</div>"
      ],
      "text/plain": [
       "                   turn_damage\n",
       "weapon                        \n",
       "grenade                 17.875\n",
       "proximity_grenade       25.025\n",
       "alien_grenade           32.175\n",
       "high_explosive          39.325"
      ]
     },
     "execution_count": 21,
     "metadata": {},
     "output_type": "execute_result"
    }
   ],
   "source": [
    "most_damaging_weapon_grenade = weapon_attacks[weapon_attacks[\"fire_mode\"] == \"grenade\"]\n",
    "most_damaging_weapon_grenade = most_damaging_weapon_grenade[[\"weapon\", \"turn_damage_expected\"]]\n",
    "most_damaging_weapon_grenade = most_damaging_weapon_grenade.rename(columns={\"turn_damage_expected\": \"turn_damage\"})\n",
    "most_damaging_weapon_grenade = most_damaging_weapon_grenade.set_index([\"weapon\"])\n",
    "most_damaging_weapon_grenade = most_damaging_weapon_grenade.sort_values(by=[\"turn_damage\"])\n",
    "most_damaging_weapon_grenade"
   ]
  },
  {
   "cell_type": "code",
   "execution_count": 22,
   "metadata": {},
   "outputs": [
    {
     "data": {
      "text/plain": [
       "Text(0, 0.5, 'Damage')"
      ]
     },
     "execution_count": 22,
     "metadata": {},
     "output_type": "execute_result"
    },
    {
     "data": {
      "image/png": "[encoded data removed]",
      "text/plain": [
       "<Figure size 432x288 with 1 Axes>"
      ]
     },
     "metadata": {
      "needs_background": "light"
     },
     "output_type": "display_data"
    }
   ],
   "source": [
    "ax = most_damaging_weapon_grenade.plot.bar(title=\"Max damage per turn for grenades\", legend=False)\n",
    "ax.set_xlabel(\"Weapon\")\n",
    "ax.set_ylabel(\"Damage\")"
   ]
  }
 ],
 "metadata": {
  "kernelspec": {
   "display_name": "Python 3",
   "language": "python",
   "name": "python3"
  },
  "language_info": {
   "codemirror_mode": {
    "name": "ipython",
    "version": 3
   },
   "file_extension": ".py",
   "mimetype": "text/x-python",
   "name": "python",
   "nbconvert_exporter": "python",
   "pygments_lexer": "ipython3",
   "version": "3.8.5"
  }
 },
 "nbformat": 4,
 "nbformat_minor": 4
}
