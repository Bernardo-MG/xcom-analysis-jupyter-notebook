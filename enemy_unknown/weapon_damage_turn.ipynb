{
 "cells": [
  {
   "cell_type": "markdown",
   "metadata": {},
   "source": [
    "# Weapon Damage Per Turn"
   ]
  },
  {
   "cell_type": "markdown",
   "metadata": {},
   "source": [
    "## Setting Up"
   ]
  },
  {
   "cell_type": "code",
   "execution_count": 1,
   "metadata": {},
   "outputs": [],
   "source": [
    "import pandas as pd\n",
    "from weapon import max_shots, burst\n",
    "\n",
    "weapon_stats = pd.read_csv(\"datasets/weapon_stats.csv\")\n",
    "ammo_stats = pd.read_csv(\"datasets/ammo_stats.csv\")\n",
    "weapon_firemodes = pd.read_csv(\"datasets/weapon_firemodes.csv\")\n",
    "damage_modifiers = pd.read_csv(\"datasets/damage_modifiers.csv\")"
   ]
  },
  {
   "cell_type": "markdown",
   "metadata": {},
   "source": [
    "## Data Merge"
   ]
  },
  {
   "cell_type": "code",
   "execution_count": 2,
   "metadata": {
    "scrolled": false
   },
   "outputs": [
    {
     "data": {
      "text/html": [
       "<div>\n",
       "<style scoped>\n",
       "    .dataframe tbody tr th:only-of-type {\n",
       "        vertical-align: middle;\n",
       "    }\n",
       "\n",
       "    .dataframe tbody tr th {\n",
       "        vertical-align: top;\n",
       "    }\n",
       "\n",
       "    .dataframe thead th {\n",
       "        text-align: right;\n",
       "    }\n",
       "</style>\n",
       "<table border=\"1\" class=\"dataframe\">\n",
       "  <thead>\n",
       "    <tr style=\"text-align: right;\">\n",
       "      <th></th>\n",
       "      <th>weapon</th>\n",
       "      <th>grip</th>\n",
       "      <th>ammo</th>\n",
       "      <th>damage</th>\n",
       "      <th>damage_type</th>\n",
       "      <th>capacity</th>\n",
       "      <th>fire_mode</th>\n",
       "      <th>time_units</th>\n",
       "      <th>accuracy</th>\n",
       "    </tr>\n",
       "  </thead>\n",
       "  <tbody>\n",
       "    <tr>\n",
       "      <th>47</th>\n",
       "      <td>alien_grenade</td>\n",
       "      <td>1</td>\n",
       "      <td>alien_grenade</td>\n",
       "      <td>90</td>\n",
       "      <td>high_explosive</td>\n",
       "      <td>1.0</td>\n",
       "      <td>grenade</td>\n",
       "      <td>75</td>\n",
       "      <td>65</td>\n",
       "    </tr>\n",
       "    <tr>\n",
       "      <th>13</th>\n",
       "      <td>auto_cannon</td>\n",
       "      <td>2</td>\n",
       "      <td>auto_cannon_ap</td>\n",
       "      <td>42</td>\n",
       "      <td>armor_piercing</td>\n",
       "      <td>14.0</td>\n",
       "      <td>aimed</td>\n",
       "      <td>80</td>\n",
       "      <td>82</td>\n",
       "    </tr>\n",
       "    <tr>\n",
       "      <th>16</th>\n",
       "      <td>auto_cannon</td>\n",
       "      <td>2</td>\n",
       "      <td>auto_cannon_he</td>\n",
       "      <td>44</td>\n",
       "      <td>high_explosive</td>\n",
       "      <td>14.0</td>\n",
       "      <td>aimed</td>\n",
       "      <td>80</td>\n",
       "      <td>82</td>\n",
       "    </tr>\n",
       "    <tr>\n",
       "      <th>19</th>\n",
       "      <td>auto_cannon</td>\n",
       "      <td>2</td>\n",
       "      <td>auto_cannon_inc</td>\n",
       "      <td>48</td>\n",
       "      <td>incendiary</td>\n",
       "      <td>14.0</td>\n",
       "      <td>aimed</td>\n",
       "      <td>80</td>\n",
       "      <td>82</td>\n",
       "    </tr>\n",
       "    <tr>\n",
       "      <th>11</th>\n",
       "      <td>auto_cannon</td>\n",
       "      <td>2</td>\n",
       "      <td>auto_cannon_ap</td>\n",
       "      <td>42</td>\n",
       "      <td>armor_piercing</td>\n",
       "      <td>14.0</td>\n",
       "      <td>auto</td>\n",
       "      <td>40</td>\n",
       "      <td>32</td>\n",
       "    </tr>\n",
       "  </tbody>\n",
       "</table>\n",
       "</div>"
      ],
      "text/plain": [
       "           weapon  grip             ammo  damage     damage_type  capacity  \\\n",
       "47  alien_grenade     1    alien_grenade      90  high_explosive       1.0   \n",
       "13    auto_cannon     2   auto_cannon_ap      42  armor_piercing      14.0   \n",
       "16    auto_cannon     2   auto_cannon_he      44  high_explosive      14.0   \n",
       "19    auto_cannon     2  auto_cannon_inc      48      incendiary      14.0   \n",
       "11    auto_cannon     2   auto_cannon_ap      42  armor_piercing      14.0   \n",
       "\n",
       "   fire_mode  time_units  accuracy  \n",
       "47   grenade          75        65  \n",
       "13     aimed          80        82  \n",
       "16     aimed          80        82  \n",
       "19     aimed          80        82  \n",
       "11      auto          40        32  "
      ]
     },
     "execution_count": 2,
     "metadata": {},
     "output_type": "execute_result"
    }
   ],
   "source": [
    "weapon_attacks = weapon_stats.merge(ammo_stats, on=\"weapon\")\n",
    "weapon_attacks = weapon_attacks.merge(weapon_firemodes, on=\"weapon\")\n",
    "weapon_attacks = weapon_attacks.sort_values(by=[\"weapon\", \"fire_mode\"])\n",
    "weapon_attacks.head()"
   ]
  },
  {
   "cell_type": "markdown",
   "metadata": {},
   "source": [
    "## Chance to Hit"
   ]
  },
  {
   "cell_type": "markdown",
   "metadata": {},
   "source": [
    "We will use an average Accuracy of 50. Meaning the soldier fails half of the time.\n",
    "\n",
    "The chance of hit formula is simple. Just multiply the soldier's accuracy chance by the weapon's accuracy chance. So an average of 50 to a weapon of Accuracy 90 means 0.50 * 0.9 = 0.45 chance of hit."
   ]
  },
  {
   "cell_type": "code",
   "execution_count": 3,
   "metadata": {
    "scrolled": true
   },
   "outputs": [
    {
     "data": {
      "text/html": [
       "<div>\n",
       "<style scoped>\n",
       "    .dataframe tbody tr th:only-of-type {\n",
       "        vertical-align: middle;\n",
       "    }\n",
       "\n",
       "    .dataframe tbody tr th {\n",
       "        vertical-align: top;\n",
       "    }\n",
       "\n",
       "    .dataframe thead th {\n",
       "        text-align: right;\n",
       "    }\n",
       "</style>\n",
       "<table border=\"1\" class=\"dataframe\">\n",
       "  <thead>\n",
       "    <tr style=\"text-align: right;\">\n",
       "      <th></th>\n",
       "      <th>weapon</th>\n",
       "      <th>grip</th>\n",
       "      <th>ammo</th>\n",
       "      <th>damage</th>\n",
       "      <th>damage_type</th>\n",
       "      <th>capacity</th>\n",
       "      <th>fire_mode</th>\n",
       "      <th>time_units</th>\n",
       "      <th>accuracy</th>\n",
       "      <th>chance_to_hit</th>\n",
       "    </tr>\n",
       "  </thead>\n",
       "  <tbody>\n",
       "    <tr>\n",
       "      <th>47</th>\n",
       "      <td>alien_grenade</td>\n",
       "      <td>1</td>\n",
       "      <td>alien_grenade</td>\n",
       "      <td>90</td>\n",
       "      <td>high_explosive</td>\n",
       "      <td>1.0</td>\n",
       "      <td>grenade</td>\n",
       "      <td>75</td>\n",
       "      <td>65</td>\n",
       "      <td>0.325</td>\n",
       "    </tr>\n",
       "    <tr>\n",
       "      <th>13</th>\n",
       "      <td>auto_cannon</td>\n",
       "      <td>2</td>\n",
       "      <td>auto_cannon_ap</td>\n",
       "      <td>42</td>\n",
       "      <td>armor_piercing</td>\n",
       "      <td>14.0</td>\n",
       "      <td>aimed</td>\n",
       "      <td>80</td>\n",
       "      <td>82</td>\n",
       "      <td>0.410</td>\n",
       "    </tr>\n",
       "    <tr>\n",
       "      <th>16</th>\n",
       "      <td>auto_cannon</td>\n",
       "      <td>2</td>\n",
       "      <td>auto_cannon_he</td>\n",
       "      <td>44</td>\n",
       "      <td>high_explosive</td>\n",
       "      <td>14.0</td>\n",
       "      <td>aimed</td>\n",
       "      <td>80</td>\n",
       "      <td>82</td>\n",
       "      <td>0.410</td>\n",
       "    </tr>\n",
       "    <tr>\n",
       "      <th>19</th>\n",
       "      <td>auto_cannon</td>\n",
       "      <td>2</td>\n",
       "      <td>auto_cannon_inc</td>\n",
       "      <td>48</td>\n",
       "      <td>incendiary</td>\n",
       "      <td>14.0</td>\n",
       "      <td>aimed</td>\n",
       "      <td>80</td>\n",
       "      <td>82</td>\n",
       "      <td>0.410</td>\n",
       "    </tr>\n",
       "    <tr>\n",
       "      <th>11</th>\n",
       "      <td>auto_cannon</td>\n",
       "      <td>2</td>\n",
       "      <td>auto_cannon_ap</td>\n",
       "      <td>42</td>\n",
       "      <td>armor_piercing</td>\n",
       "      <td>14.0</td>\n",
       "      <td>auto</td>\n",
       "      <td>40</td>\n",
       "      <td>32</td>\n",
       "      <td>0.160</td>\n",
       "    </tr>\n",
       "  </tbody>\n",
       "</table>\n",
       "</div>"
      ],
      "text/plain": [
       "           weapon  grip             ammo  damage     damage_type  capacity  \\\n",
       "47  alien_grenade     1    alien_grenade      90  high_explosive       1.0   \n",
       "13    auto_cannon     2   auto_cannon_ap      42  armor_piercing      14.0   \n",
       "16    auto_cannon     2   auto_cannon_he      44  high_explosive      14.0   \n",
       "19    auto_cannon     2  auto_cannon_inc      48      incendiary      14.0   \n",
       "11    auto_cannon     2   auto_cannon_ap      42  armor_piercing      14.0   \n",
       "\n",
       "   fire_mode  time_units  accuracy  chance_to_hit  \n",
       "47   grenade          75        65          0.325  \n",
       "13     aimed          80        82          0.410  \n",
       "16     aimed          80        82          0.410  \n",
       "19     aimed          80        82          0.410  \n",
       "11      auto          40        32          0.160  "
      ]
     },
     "execution_count": 3,
     "metadata": {},
     "output_type": "execute_result"
    }
   ],
   "source": [
    "weapon_attacks[\"chance_to_hit\"] = weapon_attacks.apply(lambda x: x[\"accuracy\"] / 100 * 0.50, axis=1)\n",
    "weapon_attacks.head()"
   ]
  },
  {
   "cell_type": "markdown",
   "metadata": {},
   "source": [
    "## Derived Damage"
   ]
  },
  {
   "cell_type": "code",
   "execution_count": 4,
   "metadata": {
    "scrolled": false
   },
   "outputs": [
    {
     "data": {
      "text/html": [
       "<div>\n",
       "<style scoped>\n",
       "    .dataframe tbody tr th:only-of-type {\n",
       "        vertical-align: middle;\n",
       "    }\n",
       "\n",
       "    .dataframe tbody tr th {\n",
       "        vertical-align: top;\n",
       "    }\n",
       "\n",
       "    .dataframe thead th {\n",
       "        text-align: right;\n",
       "    }\n",
       "</style>\n",
       "<table border=\"1\" class=\"dataframe\">\n",
       "  <thead>\n",
       "    <tr style=\"text-align: right;\">\n",
       "      <th></th>\n",
       "      <th>weapon</th>\n",
       "      <th>grip</th>\n",
       "      <th>ammo</th>\n",
       "      <th>damage</th>\n",
       "      <th>damage_type</th>\n",
       "      <th>capacity</th>\n",
       "      <th>fire_mode</th>\n",
       "      <th>time_units</th>\n",
       "      <th>accuracy</th>\n",
       "      <th>chance_to_hit</th>\n",
       "      <th>burst</th>\n",
       "      <th>turn_max_shots</th>\n",
       "      <th>turn_damage_max</th>\n",
       "      <th>turn_damage_expected</th>\n",
       "    </tr>\n",
       "  </thead>\n",
       "  <tbody>\n",
       "    <tr>\n",
       "      <th>47</th>\n",
       "      <td>alien_grenade</td>\n",
       "      <td>1</td>\n",
       "      <td>alien_grenade</td>\n",
       "      <td>90</td>\n",
       "      <td>high_explosive</td>\n",
       "      <td>1.0</td>\n",
       "      <td>grenade</td>\n",
       "      <td>75</td>\n",
       "      <td>65</td>\n",
       "      <td>0.325</td>\n",
       "      <td>1</td>\n",
       "      <td>1</td>\n",
       "      <td>90</td>\n",
       "      <td>29.25</td>\n",
       "    </tr>\n",
       "    <tr>\n",
       "      <th>13</th>\n",
       "      <td>auto_cannon</td>\n",
       "      <td>2</td>\n",
       "      <td>auto_cannon_ap</td>\n",
       "      <td>42</td>\n",
       "      <td>armor_piercing</td>\n",
       "      <td>14.0</td>\n",
       "      <td>aimed</td>\n",
       "      <td>80</td>\n",
       "      <td>82</td>\n",
       "      <td>0.410</td>\n",
       "      <td>1</td>\n",
       "      <td>1</td>\n",
       "      <td>42</td>\n",
       "      <td>17.22</td>\n",
       "    </tr>\n",
       "    <tr>\n",
       "      <th>16</th>\n",
       "      <td>auto_cannon</td>\n",
       "      <td>2</td>\n",
       "      <td>auto_cannon_he</td>\n",
       "      <td>44</td>\n",
       "      <td>high_explosive</td>\n",
       "      <td>14.0</td>\n",
       "      <td>aimed</td>\n",
       "      <td>80</td>\n",
       "      <td>82</td>\n",
       "      <td>0.410</td>\n",
       "      <td>1</td>\n",
       "      <td>1</td>\n",
       "      <td>44</td>\n",
       "      <td>18.04</td>\n",
       "    </tr>\n",
       "    <tr>\n",
       "      <th>19</th>\n",
       "      <td>auto_cannon</td>\n",
       "      <td>2</td>\n",
       "      <td>auto_cannon_inc</td>\n",
       "      <td>48</td>\n",
       "      <td>incendiary</td>\n",
       "      <td>14.0</td>\n",
       "      <td>aimed</td>\n",
       "      <td>80</td>\n",
       "      <td>82</td>\n",
       "      <td>0.410</td>\n",
       "      <td>1</td>\n",
       "      <td>1</td>\n",
       "      <td>48</td>\n",
       "      <td>19.68</td>\n",
       "    </tr>\n",
       "    <tr>\n",
       "      <th>11</th>\n",
       "      <td>auto_cannon</td>\n",
       "      <td>2</td>\n",
       "      <td>auto_cannon_ap</td>\n",
       "      <td>42</td>\n",
       "      <td>armor_piercing</td>\n",
       "      <td>14.0</td>\n",
       "      <td>auto</td>\n",
       "      <td>40</td>\n",
       "      <td>32</td>\n",
       "      <td>0.160</td>\n",
       "      <td>3</td>\n",
       "      <td>6</td>\n",
       "      <td>252</td>\n",
       "      <td>40.32</td>\n",
       "    </tr>\n",
       "  </tbody>\n",
       "</table>\n",
       "</div>"
      ],
      "text/plain": [
       "           weapon  grip             ammo  damage     damage_type  capacity  \\\n",
       "47  alien_grenade     1    alien_grenade      90  high_explosive       1.0   \n",
       "13    auto_cannon     2   auto_cannon_ap      42  armor_piercing      14.0   \n",
       "16    auto_cannon     2   auto_cannon_he      44  high_explosive      14.0   \n",
       "19    auto_cannon     2  auto_cannon_inc      48      incendiary      14.0   \n",
       "11    auto_cannon     2   auto_cannon_ap      42  armor_piercing      14.0   \n",
       "\n",
       "   fire_mode  time_units  accuracy  chance_to_hit  burst  turn_max_shots  \\\n",
       "47   grenade          75        65          0.325      1               1   \n",
       "13     aimed          80        82          0.410      1               1   \n",
       "16     aimed          80        82          0.410      1               1   \n",
       "19     aimed          80        82          0.410      1               1   \n",
       "11      auto          40        32          0.160      3               6   \n",
       "\n",
       "    turn_damage_max  turn_damage_expected  \n",
       "47               90                 29.25  \n",
       "13               42                 17.22  \n",
       "16               44                 18.04  \n",
       "19               48                 19.68  \n",
       "11              252                 40.32  "
      ]
     },
     "execution_count": 4,
     "metadata": {},
     "output_type": "execute_result"
    }
   ],
   "source": [
    "# weapon_attacks = weapon_attacks.apply(burst, axis=1)\n",
    "weapon_attacks[\"burst\"] = weapon_attacks.apply(burst, axis=1)\n",
    "weapon_attacks[\"turn_max_shots\"] = weapon_attacks.apply(max_shots, axis=1)\n",
    "weapon_attacks[\"turn_damage_max\"] = weapon_attacks.apply(lambda x: x[\"turn_max_shots\"] * x[\"damage\"], axis=1)\n",
    "weapon_attacks[\"turn_damage_expected\"] = weapon_attacks.apply(lambda x: x[\"turn_damage_max\"] * x[\"chance_to_hit\"], axis=1)\n",
    "weapon_attacks.head()"
   ]
  },
  {
   "cell_type": "markdown",
   "metadata": {},
   "source": [
    "## Damage Ranking"
   ]
  },
  {
   "cell_type": "markdown",
   "metadata": {},
   "source": [
    "### Most Damaging Weapon"
   ]
  },
  {
   "cell_type": "markdown",
   "metadata": {},
   "source": [
    "In a single turn, shooting as much as possible, which weapon does the most damage.\n",
    "\n",
    "This takes into account reloading."
   ]
  },
  {
   "cell_type": "code",
   "execution_count": 5,
   "metadata": {},
   "outputs": [],
   "source": [
    "most_damaging_weapon_average = weapon_attacks[[\"weapon\", \"turn_damage_expected\"]]\n",
    "most_damaging_weapon_average = most_damaging_weapon_average.groupby(\"weapon\").mean()"
   ]
  },
  {
   "cell_type": "code",
   "execution_count": 6,
   "metadata": {},
   "outputs": [],
   "source": [
    "most_damaging_weapon_max = weapon_attacks[[\"weapon\", \"turn_damage_expected\"]]\n",
    "most_damaging_weapon_max = most_damaging_weapon_max.groupby(\"weapon\").max()"
   ]
  },
  {
   "cell_type": "code",
   "execution_count": 7,
   "metadata": {},
   "outputs": [
    {
     "data": {
      "text/html": [
       "<div>\n",
       "<style scoped>\n",
       "    .dataframe tbody tr th:only-of-type {\n",
       "        vertical-align: middle;\n",
       "    }\n",
       "\n",
       "    .dataframe tbody tr th {\n",
       "        vertical-align: top;\n",
       "    }\n",
       "\n",
       "    .dataframe thead th {\n",
       "        text-align: right;\n",
       "    }\n",
       "</style>\n",
       "<table border=\"1\" class=\"dataframe\">\n",
       "  <thead>\n",
       "    <tr style=\"text-align: right;\">\n",
       "      <th></th>\n",
       "      <th>max</th>\n",
       "      <th>average</th>\n",
       "    </tr>\n",
       "    <tr>\n",
       "      <th>weapon</th>\n",
       "      <th></th>\n",
       "      <th></th>\n",
       "    </tr>\n",
       "  </thead>\n",
       "  <tbody>\n",
       "    <tr>\n",
       "      <th>grenade</th>\n",
       "      <td>16.250</td>\n",
       "      <td>16.250000</td>\n",
       "    </tr>\n",
       "    <tr>\n",
       "      <th>proximity_grenade</th>\n",
       "      <td>22.750</td>\n",
       "      <td>22.750000</td>\n",
       "    </tr>\n",
       "    <tr>\n",
       "      <th>rifle</th>\n",
       "      <td>36.000</td>\n",
       "      <td>28.000000</td>\n",
       "    </tr>\n",
       "    <tr>\n",
       "      <th>alien_grenade</th>\n",
       "      <td>29.250</td>\n",
       "      <td>29.250000</td>\n",
       "    </tr>\n",
       "    <tr>\n",
       "      <th>auto_cannon</th>\n",
       "      <td>46.080</td>\n",
       "      <td>32.904444</td>\n",
       "    </tr>\n",
       "    <tr>\n",
       "      <th>pistol</th>\n",
       "      <td>39.000</td>\n",
       "      <td>34.710000</td>\n",
       "    </tr>\n",
       "    <tr>\n",
       "      <th>high_explosive</th>\n",
       "      <td>35.750</td>\n",
       "      <td>35.750000</td>\n",
       "    </tr>\n",
       "    <tr>\n",
       "      <th>rocket_launcher</th>\n",
       "      <td>57.500</td>\n",
       "      <td>37.541667</td>\n",
       "    </tr>\n",
       "    <tr>\n",
       "      <th>heavy_cannon</th>\n",
       "      <td>54.000</td>\n",
       "      <td>37.800000</td>\n",
       "    </tr>\n",
       "    <tr>\n",
       "      <th>cannon_turret</th>\n",
       "      <td>54.000</td>\n",
       "      <td>40.500000</td>\n",
       "    </tr>\n",
       "    <tr>\n",
       "      <th>laser_pistol</th>\n",
       "      <td>77.280</td>\n",
       "      <td>46.306667</td>\n",
       "    </tr>\n",
       "    <tr>\n",
       "      <th>rocket_turret</th>\n",
       "      <td>48.875</td>\n",
       "      <td>47.812500</td>\n",
       "    </tr>\n",
       "    <tr>\n",
       "      <th>small_launcher</th>\n",
       "      <td>58.500</td>\n",
       "      <td>54.000000</td>\n",
       "    </tr>\n",
       "    <tr>\n",
       "      <th>plasma_pistol</th>\n",
       "      <td>117.000</td>\n",
       "      <td>63.266667</td>\n",
       "    </tr>\n",
       "    <tr>\n",
       "      <th>laser_turret</th>\n",
       "      <td>82.500</td>\n",
       "      <td>64.625000</td>\n",
       "    </tr>\n",
       "    <tr>\n",
       "      <th>fusion_turret</th>\n",
       "      <td>70.000</td>\n",
       "      <td>70.000000</td>\n",
       "    </tr>\n",
       "    <tr>\n",
       "      <th>laser_rifle</th>\n",
       "      <td>82.800</td>\n",
       "      <td>73.600000</td>\n",
       "    </tr>\n",
       "    <tr>\n",
       "      <th>plasma_rifle</th>\n",
       "      <td>132.000</td>\n",
       "      <td>91.733333</td>\n",
       "    </tr>\n",
       "    <tr>\n",
       "      <th>stun_rod</th>\n",
       "      <td>97.500</td>\n",
       "      <td>97.500000</td>\n",
       "    </tr>\n",
       "    <tr>\n",
       "      <th>plasma_turret</th>\n",
       "      <td>140.250</td>\n",
       "      <td>97.625000</td>\n",
       "    </tr>\n",
       "    <tr>\n",
       "      <th>heavy_laser</th>\n",
       "      <td>135.000</td>\n",
       "      <td>100.500000</td>\n",
       "    </tr>\n",
       "    <tr>\n",
       "      <th>blaster_launcher</th>\n",
       "      <td>120.000</td>\n",
       "      <td>120.000000</td>\n",
       "    </tr>\n",
       "    <tr>\n",
       "      <th>heavy_plasma</th>\n",
       "      <td>172.500</td>\n",
       "      <td>121.708333</td>\n",
       "    </tr>\n",
       "  </tbody>\n",
       "</table>\n",
       "</div>"
      ],
      "text/plain": [
       "                       max     average\n",
       "weapon                                \n",
       "grenade             16.250   16.250000\n",
       "proximity_grenade   22.750   22.750000\n",
       "rifle               36.000   28.000000\n",
       "alien_grenade       29.250   29.250000\n",
       "auto_cannon         46.080   32.904444\n",
       "pistol              39.000   34.710000\n",
       "high_explosive      35.750   35.750000\n",
       "rocket_launcher     57.500   37.541667\n",
       "heavy_cannon        54.000   37.800000\n",
       "cannon_turret       54.000   40.500000\n",
       "laser_pistol        77.280   46.306667\n",
       "rocket_turret       48.875   47.812500\n",
       "small_launcher      58.500   54.000000\n",
       "plasma_pistol      117.000   63.266667\n",
       "laser_turret        82.500   64.625000\n",
       "fusion_turret       70.000   70.000000\n",
       "laser_rifle         82.800   73.600000\n",
       "plasma_rifle       132.000   91.733333\n",
       "stun_rod            97.500   97.500000\n",
       "plasma_turret      140.250   97.625000\n",
       "heavy_laser        135.000  100.500000\n",
       "blaster_launcher   120.000  120.000000\n",
       "heavy_plasma       172.500  121.708333"
      ]
     },
     "execution_count": 7,
     "metadata": {},
     "output_type": "execute_result"
    }
   ],
   "source": [
    "most_damaging_weapon = most_damaging_weapon_max.merge(most_damaging_weapon_average, on=\"weapon\")\n",
    "most_damaging_weapon = most_damaging_weapon.rename(columns={\"turn_damage_expected_x\": \"max\", \"turn_damage_expected_y\": \"average\"})\n",
    "most_damaging_weapon = most_damaging_weapon.sort_values(by=[\"average\"])\n",
    "most_damaging_weapon"
   ]
  },
  {
   "cell_type": "code",
   "execution_count": 8,
   "metadata": {
    "scrolled": false
   },
   "outputs": [
    {
     "data": {
      "text/plain": [
       "Text(0, 0.5, 'Damage')"
      ]
     },
     "execution_count": 8,
     "metadata": {},
     "output_type": "execute_result"
    },
    {
     "data": {
      "image/png": "[encoded data removed]",
      "text/plain": [
       "<Figure size 432x288 with 1 Axes>"
      ]
     },
     "metadata": {
      "needs_background": "light"
     },
     "output_type": "display_data"
    }
   ],
   "source": [
    "ax = most_damaging_weapon.plot.bar(title=\"Damage per turn\", legend=False)\n",
    "ax.legend([\"Max\", \"Average\"])\n",
    "ax.set_xlabel(\"Weapon\")\n",
    "ax.set_ylabel(\"Damage\")"
   ]
  },
  {
   "cell_type": "markdown",
   "metadata": {},
   "source": [
    "### Most Damaging Snapshot"
   ]
  },
  {
   "cell_type": "code",
   "execution_count": 9,
   "metadata": {},
   "outputs": [],
   "source": [
    "most_damaging_weapon_snap_average = weapon_attacks[weapon_attacks[\"fire_mode\"] == \"snapshot\"]\n",
    "most_damaging_weapon_snap_average = most_damaging_weapon_snap_average[[\"weapon\", \"turn_damage_expected\"]]\n",
    "most_damaging_weapon_snap_average = most_damaging_weapon_snap_average.groupby(\"weapon\").mean()"
   ]
  },
  {
   "cell_type": "code",
   "execution_count": 10,
   "metadata": {},
   "outputs": [],
   "source": [
    "most_damaging_weapon_snap_max = weapon_attacks[weapon_attacks[\"fire_mode\"] == \"snapshot\"]\n",
    "most_damaging_weapon_snap_max = most_damaging_weapon_snap_max[[\"weapon\", \"turn_damage_expected\"]]\n",
    "most_damaging_weapon_snap_max = most_damaging_weapon_snap_max.groupby(\"weapon\").max()"
   ]
  },
  {
   "cell_type": "code",
   "execution_count": 11,
   "metadata": {},
   "outputs": [
    {
     "data": {
      "text/html": [
       "<div>\n",
       "<style scoped>\n",
       "    .dataframe tbody tr th:only-of-type {\n",
       "        vertical-align: middle;\n",
       "    }\n",
       "\n",
       "    .dataframe tbody tr th {\n",
       "        vertical-align: top;\n",
       "    }\n",
       "\n",
       "    .dataframe thead th {\n",
       "        text-align: right;\n",
       "    }\n",
       "</style>\n",
       "<table border=\"1\" class=\"dataframe\">\n",
       "  <thead>\n",
       "    <tr style=\"text-align: right;\">\n",
       "      <th></th>\n",
       "      <th>max</th>\n",
       "      <th>average</th>\n",
       "    </tr>\n",
       "    <tr>\n",
       "      <th>weapon</th>\n",
       "      <th></th>\n",
       "      <th></th>\n",
       "    </tr>\n",
       "  </thead>\n",
       "  <tbody>\n",
       "    <tr>\n",
       "      <th>rocket_launcher</th>\n",
       "      <td>27.500</td>\n",
       "      <td>24.291667</td>\n",
       "    </tr>\n",
       "    <tr>\n",
       "      <th>rifle</th>\n",
       "      <td>36.000</td>\n",
       "      <td>36.000000</td>\n",
       "    </tr>\n",
       "    <tr>\n",
       "      <th>auto_cannon</th>\n",
       "      <td>40.320</td>\n",
       "      <td>37.520000</td>\n",
       "    </tr>\n",
       "    <tr>\n",
       "      <th>pistol</th>\n",
       "      <td>39.000</td>\n",
       "      <td>39.000000</td>\n",
       "    </tr>\n",
       "    <tr>\n",
       "      <th>laser_pistol</th>\n",
       "      <td>46.000</td>\n",
       "      <td>46.000000</td>\n",
       "    </tr>\n",
       "    <tr>\n",
       "      <th>laser_turret</th>\n",
       "      <td>46.750</td>\n",
       "      <td>46.750000</td>\n",
       "    </tr>\n",
       "    <tr>\n",
       "      <th>rocket_turret</th>\n",
       "      <td>46.750</td>\n",
       "      <td>46.750000</td>\n",
       "    </tr>\n",
       "    <tr>\n",
       "      <th>heavy_cannon</th>\n",
       "      <td>54.000</td>\n",
       "      <td>50.400000</td>\n",
       "    </tr>\n",
       "    <tr>\n",
       "      <th>plasma_pistol</th>\n",
       "      <td>50.700</td>\n",
       "      <td>50.700000</td>\n",
       "    </tr>\n",
       "    <tr>\n",
       "      <th>cannon_turret</th>\n",
       "      <td>54.000</td>\n",
       "      <td>54.000000</td>\n",
       "    </tr>\n",
       "    <tr>\n",
       "      <th>small_launcher</th>\n",
       "      <td>58.500</td>\n",
       "      <td>58.500000</td>\n",
       "    </tr>\n",
       "    <tr>\n",
       "      <th>laser_rifle</th>\n",
       "      <td>78.000</td>\n",
       "      <td>78.000000</td>\n",
       "    </tr>\n",
       "    <tr>\n",
       "      <th>plasma_rifle</th>\n",
       "      <td>103.200</td>\n",
       "      <td>103.200000</td>\n",
       "    </tr>\n",
       "    <tr>\n",
       "      <th>heavy_plasma</th>\n",
       "      <td>129.375</td>\n",
       "      <td>129.375000</td>\n",
       "    </tr>\n",
       "    <tr>\n",
       "      <th>heavy_laser</th>\n",
       "      <td>135.000</td>\n",
       "      <td>135.000000</td>\n",
       "    </tr>\n",
       "    <tr>\n",
       "      <th>plasma_turret</th>\n",
       "      <td>140.250</td>\n",
       "      <td>140.250000</td>\n",
       "    </tr>\n",
       "  </tbody>\n",
       "</table>\n",
       "</div>"
      ],
      "text/plain": [
       "                     max     average\n",
       "weapon                              \n",
       "rocket_launcher   27.500   24.291667\n",
       "rifle             36.000   36.000000\n",
       "auto_cannon       40.320   37.520000\n",
       "pistol            39.000   39.000000\n",
       "laser_pistol      46.000   46.000000\n",
       "laser_turret      46.750   46.750000\n",
       "rocket_turret     46.750   46.750000\n",
       "heavy_cannon      54.000   50.400000\n",
       "plasma_pistol     50.700   50.700000\n",
       "cannon_turret     54.000   54.000000\n",
       "small_launcher    58.500   58.500000\n",
       "laser_rifle       78.000   78.000000\n",
       "plasma_rifle     103.200  103.200000\n",
       "heavy_plasma     129.375  129.375000\n",
       "heavy_laser      135.000  135.000000\n",
       "plasma_turret    140.250  140.250000"
      ]
     },
     "execution_count": 11,
     "metadata": {},
     "output_type": "execute_result"
    }
   ],
   "source": [
    "most_damaging_weapon_snap = most_damaging_weapon_snap_max.merge(most_damaging_weapon_snap_average, on=\"weapon\")\n",
    "most_damaging_weapon_snap = most_damaging_weapon_snap.rename(columns={\"turn_damage_expected_x\": \"max\", \"turn_damage_expected_y\": \"average\"})\n",
    "most_damaging_weapon_snap = most_damaging_weapon_snap.sort_values(by=[\"average\"])\n",
    "most_damaging_weapon_snap"
   ]
  },
  {
   "cell_type": "code",
   "execution_count": 12,
   "metadata": {},
   "outputs": [
    {
     "data": {
      "text/plain": [
       "Text(0, 0.5, 'Damage')"
      ]
     },
     "execution_count": 12,
     "metadata": {},
     "output_type": "execute_result"
    },
    {
     "data": {
      "image/png": "[encoded data removed]",
      "text/plain": [
       "<Figure size 432x288 with 1 Axes>"
      ]
     },
     "metadata": {
      "needs_background": "light"
     },
     "output_type": "display_data"
    }
   ],
   "source": [
    "ax = most_damaging_weapon_snap.plot.bar(title=\"Damage per turn on snapshot\", legend=False)\n",
    "ax.legend([\"Max\", \"Average\"])\n",
    "ax.set_xlabel(\"Weapon\")\n",
    "ax.set_ylabel(\"Damage\")"
   ]
  },
  {
   "cell_type": "markdown",
   "metadata": {},
   "source": [
    "### Most Damaging Aimed"
   ]
  },
  {
   "cell_type": "code",
   "execution_count": 13,
   "metadata": {},
   "outputs": [],
   "source": [
    "most_damaging_weapon_aim_average = weapon_attacks[weapon_attacks[\"fire_mode\"] == \"aimed\"]\n",
    "most_damaging_weapon_aim_average = most_damaging_weapon_aim_average[[\"weapon\", \"turn_damage_expected\"]]\n",
    "most_damaging_weapon_aim_average = most_damaging_weapon_aim_average.groupby(\"weapon\").mean()"
   ]
  },
  {
   "cell_type": "code",
   "execution_count": 14,
   "metadata": {},
   "outputs": [],
   "source": [
    "most_damaging_weapon_aim_max = weapon_attacks[weapon_attacks[\"fire_mode\"] == \"aimed\"]\n",
    "most_damaging_weapon_aim_max = most_damaging_weapon_aim_max[[\"weapon\", \"turn_damage_expected\"]]\n",
    "most_damaging_weapon_aim_max = most_damaging_weapon_aim_max.groupby(\"weapon\").max()"
   ]
  },
  {
   "cell_type": "code",
   "execution_count": 15,
   "metadata": {},
   "outputs": [
    {
     "data": {
      "text/html": [
       "<div>\n",
       "<style scoped>\n",
       "    .dataframe tbody tr th:only-of-type {\n",
       "        vertical-align: middle;\n",
       "    }\n",
       "\n",
       "    .dataframe tbody tr th {\n",
       "        vertical-align: top;\n",
       "    }\n",
       "\n",
       "    .dataframe thead th {\n",
       "        text-align: right;\n",
       "    }\n",
       "</style>\n",
       "<table border=\"1\" class=\"dataframe\">\n",
       "  <thead>\n",
       "    <tr style=\"text-align: right;\">\n",
       "      <th></th>\n",
       "      <th>max</th>\n",
       "      <th>average</th>\n",
       "    </tr>\n",
       "    <tr>\n",
       "      <th>weapon</th>\n",
       "      <th></th>\n",
       "      <th></th>\n",
       "    </tr>\n",
       "  </thead>\n",
       "  <tbody>\n",
       "    <tr>\n",
       "      <th>laser_pistol</th>\n",
       "      <td>15.640</td>\n",
       "      <td>15.640000</td>\n",
       "    </tr>\n",
       "    <tr>\n",
       "      <th>rifle</th>\n",
       "      <td>16.500</td>\n",
       "      <td>16.500000</td>\n",
       "    </tr>\n",
       "    <tr>\n",
       "      <th>auto_cannon</th>\n",
       "      <td>19.680</td>\n",
       "      <td>18.313333</td>\n",
       "    </tr>\n",
       "    <tr>\n",
       "      <th>plasma_pistol</th>\n",
       "      <td>22.100</td>\n",
       "      <td>22.100000</td>\n",
       "    </tr>\n",
       "    <tr>\n",
       "      <th>heavy_cannon</th>\n",
       "      <td>27.000</td>\n",
       "      <td>25.200000</td>\n",
       "    </tr>\n",
       "    <tr>\n",
       "      <th>cannon_turret</th>\n",
       "      <td>27.000</td>\n",
       "      <td>27.000000</td>\n",
       "    </tr>\n",
       "    <tr>\n",
       "      <th>pistol</th>\n",
       "      <td>30.420</td>\n",
       "      <td>30.420000</td>\n",
       "    </tr>\n",
       "    <tr>\n",
       "      <th>plasma_rifle</th>\n",
       "      <td>40.000</td>\n",
       "      <td>40.000000</td>\n",
       "    </tr>\n",
       "    <tr>\n",
       "      <th>rocket_turret</th>\n",
       "      <td>48.875</td>\n",
       "      <td>48.875000</td>\n",
       "    </tr>\n",
       "    <tr>\n",
       "      <th>small_launcher</th>\n",
       "      <td>49.500</td>\n",
       "      <td>49.500000</td>\n",
       "    </tr>\n",
       "    <tr>\n",
       "      <th>rocket_launcher</th>\n",
       "      <td>57.500</td>\n",
       "      <td>50.791667</td>\n",
       "    </tr>\n",
       "    <tr>\n",
       "      <th>plasma_turret</th>\n",
       "      <td>55.000</td>\n",
       "      <td>55.000000</td>\n",
       "    </tr>\n",
       "    <tr>\n",
       "      <th>laser_rifle</th>\n",
       "      <td>60.000</td>\n",
       "      <td>60.000000</td>\n",
       "    </tr>\n",
       "    <tr>\n",
       "      <th>heavy_plasma</th>\n",
       "      <td>63.250</td>\n",
       "      <td>63.250000</td>\n",
       "    </tr>\n",
       "    <tr>\n",
       "      <th>heavy_laser</th>\n",
       "      <td>66.000</td>\n",
       "      <td>66.000000</td>\n",
       "    </tr>\n",
       "    <tr>\n",
       "      <th>fusion_turret</th>\n",
       "      <td>70.000</td>\n",
       "      <td>70.000000</td>\n",
       "    </tr>\n",
       "    <tr>\n",
       "      <th>laser_turret</th>\n",
       "      <td>82.500</td>\n",
       "      <td>82.500000</td>\n",
       "    </tr>\n",
       "    <tr>\n",
       "      <th>blaster_launcher</th>\n",
       "      <td>120.000</td>\n",
       "      <td>120.000000</td>\n",
       "    </tr>\n",
       "  </tbody>\n",
       "</table>\n",
       "</div>"
      ],
      "text/plain": [
       "                      max     average\n",
       "weapon                               \n",
       "laser_pistol       15.640   15.640000\n",
       "rifle              16.500   16.500000\n",
       "auto_cannon        19.680   18.313333\n",
       "plasma_pistol      22.100   22.100000\n",
       "heavy_cannon       27.000   25.200000\n",
       "cannon_turret      27.000   27.000000\n",
       "pistol             30.420   30.420000\n",
       "plasma_rifle       40.000   40.000000\n",
       "rocket_turret      48.875   48.875000\n",
       "small_launcher     49.500   49.500000\n",
       "rocket_launcher    57.500   50.791667\n",
       "plasma_turret      55.000   55.000000\n",
       "laser_rifle        60.000   60.000000\n",
       "heavy_plasma       63.250   63.250000\n",
       "heavy_laser        66.000   66.000000\n",
       "fusion_turret      70.000   70.000000\n",
       "laser_turret       82.500   82.500000\n",
       "blaster_launcher  120.000  120.000000"
      ]
     },
     "execution_count": 15,
     "metadata": {},
     "output_type": "execute_result"
    }
   ],
   "source": [
    "most_damaging_weapon_aim = most_damaging_weapon_aim_max.merge(most_damaging_weapon_aim_average, on=\"weapon\")\n",
    "most_damaging_weapon_aim = most_damaging_weapon_aim.rename(columns={\"turn_damage_expected_x\": \"max\", \"turn_damage_expected_y\": \"average\"})\n",
    "most_damaging_weapon_aim = most_damaging_weapon_aim.sort_values(by=[\"average\"])\n",
    "most_damaging_weapon_aim"
   ]
  },
  {
   "cell_type": "code",
   "execution_count": 16,
   "metadata": {},
   "outputs": [
    {
     "data": {
      "text/plain": [
       "Text(0, 0.5, 'Damage')"
      ]
     },
     "execution_count": 16,
     "metadata": {},
     "output_type": "execute_result"
    },
    {
     "data": {
      "image/png": "[encoded data removed]",
      "text/plain": [
       "<Figure size 432x288 with 1 Axes>"
      ]
     },
     "metadata": {
      "needs_background": "light"
     },
     "output_type": "display_data"
    }
   ],
   "source": [
    "ax = most_damaging_weapon_aim.plot.bar(title=\"Damage per turn on aimed\", legend=False)\n",
    "ax.legend([\"Max\", \"Average\"])\n",
    "ax.set_xlabel(\"Weapon\")\n",
    "ax.set_ylabel(\"Damage\")"
   ]
  },
  {
   "cell_type": "markdown",
   "metadata": {},
   "source": [
    "### Most Damaging Auto"
   ]
  },
  {
   "cell_type": "code",
   "execution_count": 17,
   "metadata": {},
   "outputs": [],
   "source": [
    "most_damaging_weapon_auto_average = weapon_attacks[weapon_attacks[\"fire_mode\"] == \"auto\"]\n",
    "most_damaging_weapon_auto_average = most_damaging_weapon_auto_average[[\"weapon\", \"turn_damage_expected\"]]\n",
    "most_damaging_weapon_auto_average = most_damaging_weapon_auto_average.groupby(\"weapon\").mean()"
   ]
  },
  {
   "cell_type": "code",
   "execution_count": 18,
   "metadata": {},
   "outputs": [],
   "source": [
    "most_damaging_weapon_auto_max = weapon_attacks[weapon_attacks[\"fire_mode\"] == \"auto\"]\n",
    "most_damaging_weapon_auto_max = most_damaging_weapon_auto_max[[\"weapon\", \"turn_damage_expected\"]]\n",
    "most_damaging_weapon_auto_max = most_damaging_weapon_auto_max.groupby(\"weapon\").max()"
   ]
  },
  {
   "cell_type": "code",
   "execution_count": 19,
   "metadata": {},
   "outputs": [
    {
     "data": {
      "text/html": [
       "<div>\n",
       "<style scoped>\n",
       "    .dataframe tbody tr th:only-of-type {\n",
       "        vertical-align: middle;\n",
       "    }\n",
       "\n",
       "    .dataframe tbody tr th {\n",
       "        vertical-align: top;\n",
       "    }\n",
       "\n",
       "    .dataframe thead th {\n",
       "        text-align: right;\n",
       "    }\n",
       "</style>\n",
       "<table border=\"1\" class=\"dataframe\">\n",
       "  <thead>\n",
       "    <tr style=\"text-align: right;\">\n",
       "      <th></th>\n",
       "      <th>max</th>\n",
       "      <th>average</th>\n",
       "    </tr>\n",
       "    <tr>\n",
       "      <th>weapon</th>\n",
       "      <th></th>\n",
       "      <th></th>\n",
       "    </tr>\n",
       "  </thead>\n",
       "  <tbody>\n",
       "    <tr>\n",
       "      <th>rifle</th>\n",
       "      <td>31.50</td>\n",
       "      <td>31.50</td>\n",
       "    </tr>\n",
       "    <tr>\n",
       "      <th>auto_cannon</th>\n",
       "      <td>46.08</td>\n",
       "      <td>42.88</td>\n",
       "    </tr>\n",
       "    <tr>\n",
       "      <th>laser_pistol</th>\n",
       "      <td>77.28</td>\n",
       "      <td>77.28</td>\n",
       "    </tr>\n",
       "    <tr>\n",
       "      <th>laser_rifle</th>\n",
       "      <td>82.80</td>\n",
       "      <td>82.80</td>\n",
       "    </tr>\n",
       "    <tr>\n",
       "      <th>plasma_pistol</th>\n",
       "      <td>117.00</td>\n",
       "      <td>117.00</td>\n",
       "    </tr>\n",
       "    <tr>\n",
       "      <th>plasma_rifle</th>\n",
       "      <td>132.00</td>\n",
       "      <td>132.00</td>\n",
       "    </tr>\n",
       "    <tr>\n",
       "      <th>heavy_plasma</th>\n",
       "      <td>172.50</td>\n",
       "      <td>172.50</td>\n",
       "    </tr>\n",
       "  </tbody>\n",
       "</table>\n",
       "</div>"
      ],
      "text/plain": [
       "                  max  average\n",
       "weapon                        \n",
       "rifle           31.50    31.50\n",
       "auto_cannon     46.08    42.88\n",
       "laser_pistol    77.28    77.28\n",
       "laser_rifle     82.80    82.80\n",
       "plasma_pistol  117.00   117.00\n",
       "plasma_rifle   132.00   132.00\n",
       "heavy_plasma   172.50   172.50"
      ]
     },
     "execution_count": 19,
     "metadata": {},
     "output_type": "execute_result"
    }
   ],
   "source": [
    "most_damaging_weapon_auto = most_damaging_weapon_auto_max.merge(most_damaging_weapon_auto_average, on=\"weapon\")\n",
    "most_damaging_weapon_auto = most_damaging_weapon_auto.rename(columns={\"turn_damage_expected_x\": \"max\", \"turn_damage_expected_y\": \"average\"})\n",
    "most_damaging_weapon_auto = most_damaging_weapon_auto.sort_values(by=[\"average\"])\n",
    "most_damaging_weapon_auto"
   ]
  },
  {
   "cell_type": "code",
   "execution_count": 20,
   "metadata": {},
   "outputs": [
    {
     "data": {
      "text/plain": [
       "Text(0, 0.5, 'Damage')"
      ]
     },
     "execution_count": 20,
     "metadata": {},
     "output_type": "execute_result"
    },
    {
     "data": {
      "image/png": "[encoded data removed]",
      "text/plain": [
       "<Figure size 432x288 with 1 Axes>"
      ]
     },
     "metadata": {
      "needs_background": "light"
     },
     "output_type": "display_data"
    }
   ],
   "source": [
    "ax = most_damaging_weapon_auto.plot.bar(title=\"Damage per turn on auto\", legend=False)\n",
    "ax.legend([\"Max\", \"Average\"])\n",
    "ax.set_xlabel(\"Weapon\")\n",
    "ax.set_ylabel(\"Damage\")"
   ]
  },
  {
   "cell_type": "markdown",
   "metadata": {},
   "source": [
    "### Most Damaging Grenade"
   ]
  },
  {
   "cell_type": "code",
   "execution_count": 21,
   "metadata": {},
   "outputs": [
    {
     "data": {
      "text/html": [
       "<div>\n",
       "<style scoped>\n",
       "    .dataframe tbody tr th:only-of-type {\n",
       "        vertical-align: middle;\n",
       "    }\n",
       "\n",
       "    .dataframe tbody tr th {\n",
       "        vertical-align: top;\n",
       "    }\n",
       "\n",
       "    .dataframe thead th {\n",
       "        text-align: right;\n",
       "    }\n",
       "</style>\n",
       "<table border=\"1\" class=\"dataframe\">\n",
       "  <thead>\n",
       "    <tr style=\"text-align: right;\">\n",
       "      <th></th>\n",
       "      <th>turn_damage</th>\n",
       "    </tr>\n",
       "    <tr>\n",
       "      <th>weapon</th>\n",
       "      <th></th>\n",
       "    </tr>\n",
       "  </thead>\n",
       "  <tbody>\n",
       "    <tr>\n",
       "      <th>grenade</th>\n",
       "      <td>16.25</td>\n",
       "    </tr>\n",
       "    <tr>\n",
       "      <th>proximity_grenade</th>\n",
       "      <td>22.75</td>\n",
       "    </tr>\n",
       "    <tr>\n",
       "      <th>alien_grenade</th>\n",
       "      <td>29.25</td>\n",
       "    </tr>\n",
       "    <tr>\n",
       "      <th>high_explosive</th>\n",
       "      <td>35.75</td>\n",
       "    </tr>\n",
       "  </tbody>\n",
       "</table>\n",
       "</div>"
      ],
      "text/plain": [
       "                   turn_damage\n",
       "weapon                        \n",
       "grenade                  16.25\n",
       "proximity_grenade        22.75\n",
       "alien_grenade            29.25\n",
       "high_explosive           35.75"
      ]
     },
     "execution_count": 21,
     "metadata": {},
     "output_type": "execute_result"
    }
   ],
   "source": [
    "most_damaging_weapon_grenade = weapon_attacks[weapon_attacks[\"fire_mode\"] == \"grenade\"]\n",
    "most_damaging_weapon_grenade = most_damaging_weapon_grenade[[\"weapon\", \"turn_damage_expected\"]]\n",
    "most_damaging_weapon_grenade = most_damaging_weapon_grenade.rename(columns={\"turn_damage_expected\": \"turn_damage\"})\n",
    "most_damaging_weapon_grenade = most_damaging_weapon_grenade.set_index([\"weapon\"])\n",
    "most_damaging_weapon_grenade = most_damaging_weapon_grenade.sort_values(by=[\"turn_damage\"])\n",
    "most_damaging_weapon_grenade"
   ]
  },
  {
   "cell_type": "code",
   "execution_count": 22,
   "metadata": {},
   "outputs": [
    {
     "data": {
      "text/plain": [
       "Text(0, 0.5, 'Damage')"
      ]
     },
     "execution_count": 22,
     "metadata": {},
     "output_type": "execute_result"
    },
    {
     "data": {
      "image/png": "[encoded data removed]",
      "text/plain": [
       "<Figure size 432x288 with 1 Axes>"
      ]
     },
     "metadata": {
      "needs_background": "light"
     },
     "output_type": "display_data"
    }
   ],
   "source": [
    "ax = most_damaging_weapon_grenade.plot.bar(title=\"Damage per turn for grenades\", legend=False)\n",
    "ax.set_xlabel(\"Weapon\")\n",
    "ax.set_ylabel(\"Damage\")"
   ]
  }
 ],
 "metadata": {
  "kernelspec": {
   "display_name": "Python 3",
   "language": "python",
   "name": "python3"
  },
  "language_info": {
   "codemirror_mode": {
    "name": "ipython",
    "version": 3
   },
   "file_extension": ".py",
   "mimetype": "text/x-python",
   "name": "python",
   "nbconvert_exporter": "python",
   "pygments_lexer": "ipython3",
   "version": "3.8.5"
  }
 },
 "nbformat": 4,
 "nbformat_minor": 4
}
