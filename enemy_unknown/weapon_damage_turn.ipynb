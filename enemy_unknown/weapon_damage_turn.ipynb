{
 "cells": [
  {
   "cell_type": "markdown",
   "metadata": {},
   "source": [
    "# Weapon Damage Per Turn"
   ]
  },
  {
   "cell_type": "markdown",
   "metadata": {},
   "source": [
    "## Setting Up"
   ]
  },
  {
   "cell_type": "code",
   "execution_count": 1,
   "metadata": {},
   "outputs": [],
   "source": [
    "import pandas as pd\n",
    "\n",
    "%run weapon_full_data.ipynb"
   ]
  },
  {
   "cell_type": "markdown",
   "metadata": {},
   "source": [
    "## Damage Ranking"
   ]
  },
  {
   "cell_type": "markdown",
   "metadata": {},
   "source": [
    "### Most Damaging Weapon"
   ]
  },
  {
   "cell_type": "markdown",
   "metadata": {},
   "source": [
    "In a single turn, shooting as much as possible, which weapon does the most damage.\n",
    "\n",
    "This takes into account reloading."
   ]
  },
  {
   "cell_type": "code",
   "execution_count": 2,
   "metadata": {},
   "outputs": [],
   "source": [
    "most_damaging_weapon_average = weapon_data_aliens[[\"weapon\", \"turn_penetrating_damage_expected\"]]\n",
    "most_damaging_weapon_average = most_damaging_weapon_average.groupby(\"weapon\").mean()"
   ]
  },
  {
   "cell_type": "code",
   "execution_count": 3,
   "metadata": {},
   "outputs": [],
   "source": [
    "most_damaging_weapon_max = weapon_data_aliens[[\"weapon\", \"turn_penetrating_damage_expected\"]]\n",
    "most_damaging_weapon_max = most_damaging_weapon_max.groupby(\"weapon\").max()"
   ]
  },
  {
   "cell_type": "code",
   "execution_count": 4,
   "metadata": {},
   "outputs": [
    {
     "data": {
      "text/html": [
       "<div>\n",
       "<style scoped>\n",
       "    .dataframe tbody tr th:only-of-type {\n",
       "        vertical-align: middle;\n",
       "    }\n",
       "\n",
       "    .dataframe tbody tr th {\n",
       "        vertical-align: top;\n",
       "    }\n",
       "\n",
       "    .dataframe thead th {\n",
       "        text-align: right;\n",
       "    }\n",
       "</style>\n",
       "<table border=\"1\" class=\"dataframe\">\n",
       "  <thead>\n",
       "    <tr style=\"text-align: right;\">\n",
       "      <th></th>\n",
       "      <th>max</th>\n",
       "      <th>average</th>\n",
       "    </tr>\n",
       "    <tr>\n",
       "      <th>weapon</th>\n",
       "      <th></th>\n",
       "      <th></th>\n",
       "    </tr>\n",
       "  </thead>\n",
       "  <tbody>\n",
       "    <tr>\n",
       "      <th>rifle</th>\n",
       "      <td>18.562500</td>\n",
       "      <td>10.021458</td>\n",
       "    </tr>\n",
       "    <tr>\n",
       "      <th>pistol</th>\n",
       "      <td>23.883750</td>\n",
       "      <td>13.485010</td>\n",
       "    </tr>\n",
       "    <tr>\n",
       "      <th>grenade</th>\n",
       "      <td>17.204688</td>\n",
       "      <td>13.890365</td>\n",
       "    </tr>\n",
       "    <tr>\n",
       "      <th>auto_cannon</th>\n",
       "      <td>43.181600</td>\n",
       "      <td>15.085415</td>\n",
       "    </tr>\n",
       "    <tr>\n",
       "      <th>laser_pistol</th>\n",
       "      <td>29.122500</td>\n",
       "      <td>15.823671</td>\n",
       "    </tr>\n",
       "    <tr>\n",
       "      <th>proximity_grenade</th>\n",
       "      <td>25.203750</td>\n",
       "      <td>20.730531</td>\n",
       "    </tr>\n",
       "    <tr>\n",
       "      <th>heavy_cannon</th>\n",
       "      <td>59.730000</td>\n",
       "      <td>24.353496</td>\n",
       "    </tr>\n",
       "    <tr>\n",
       "      <th>cannon_turret</th>\n",
       "      <td>38.362500</td>\n",
       "      <td>26.257000</td>\n",
       "    </tr>\n",
       "    <tr>\n",
       "      <th>plasma_pistol</th>\n",
       "      <td>41.353125</td>\n",
       "      <td>27.280252</td>\n",
       "    </tr>\n",
       "    <tr>\n",
       "      <th>alien_grenade</th>\n",
       "      <td>34.498750</td>\n",
       "      <td>27.730083</td>\n",
       "    </tr>\n",
       "    <tr>\n",
       "      <th>laser_rifle</th>\n",
       "      <td>41.559375</td>\n",
       "      <td>29.201822</td>\n",
       "    </tr>\n",
       "    <tr>\n",
       "      <th>rocket_turret</th>\n",
       "      <td>56.925000</td>\n",
       "      <td>33.963875</td>\n",
       "    </tr>\n",
       "    <tr>\n",
       "      <th>rocket_launcher</th>\n",
       "      <td>89.498750</td>\n",
       "      <td>34.480722</td>\n",
       "    </tr>\n",
       "    <tr>\n",
       "      <th>high_explosive</th>\n",
       "      <td>43.793750</td>\n",
       "      <td>34.760917</td>\n",
       "    </tr>\n",
       "    <tr>\n",
       "      <th>plasma_rifle</th>\n",
       "      <td>73.906250</td>\n",
       "      <td>47.435911</td>\n",
       "    </tr>\n",
       "    <tr>\n",
       "      <th>small_launcher</th>\n",
       "      <td>63.009375</td>\n",
       "      <td>48.873000</td>\n",
       "    </tr>\n",
       "    <tr>\n",
       "      <th>laser_turret</th>\n",
       "      <td>59.468750</td>\n",
       "      <td>50.773250</td>\n",
       "    </tr>\n",
       "    <tr>\n",
       "      <th>stun_rod</th>\n",
       "      <td>69.437500</td>\n",
       "      <td>55.513333</td>\n",
       "    </tr>\n",
       "    <tr>\n",
       "      <th>heavy_plasma</th>\n",
       "      <td>93.328125</td>\n",
       "      <td>67.419000</td>\n",
       "    </tr>\n",
       "    <tr>\n",
       "      <th>fusion_turret</th>\n",
       "      <td>88.825000</td>\n",
       "      <td>69.703333</td>\n",
       "    </tr>\n",
       "    <tr>\n",
       "      <th>plasma_turret</th>\n",
       "      <td>101.096875</td>\n",
       "      <td>72.195750</td>\n",
       "    </tr>\n",
       "    <tr>\n",
       "      <th>heavy_laser</th>\n",
       "      <td>100.134375</td>\n",
       "      <td>78.554667</td>\n",
       "    </tr>\n",
       "    <tr>\n",
       "      <th>blaster_launcher</th>\n",
       "      <td>158.070000</td>\n",
       "      <td>122.584000</td>\n",
       "    </tr>\n",
       "  </tbody>\n",
       "</table>\n",
       "</div>"
      ],
      "text/plain": [
       "                          max     average\n",
       "weapon                                   \n",
       "rifle               18.562500   10.021458\n",
       "pistol              23.883750   13.485010\n",
       "grenade             17.204688   13.890365\n",
       "auto_cannon         43.181600   15.085415\n",
       "laser_pistol        29.122500   15.823671\n",
       "proximity_grenade   25.203750   20.730531\n",
       "heavy_cannon        59.730000   24.353496\n",
       "cannon_turret       38.362500   26.257000\n",
       "plasma_pistol       41.353125   27.280252\n",
       "alien_grenade       34.498750   27.730083\n",
       "laser_rifle         41.559375   29.201822\n",
       "rocket_turret       56.925000   33.963875\n",
       "rocket_launcher     89.498750   34.480722\n",
       "high_explosive      43.793750   34.760917\n",
       "plasma_rifle        73.906250   47.435911\n",
       "small_launcher      63.009375   48.873000\n",
       "laser_turret        59.468750   50.773250\n",
       "stun_rod            69.437500   55.513333\n",
       "heavy_plasma        93.328125   67.419000\n",
       "fusion_turret       88.825000   69.703333\n",
       "plasma_turret      101.096875   72.195750\n",
       "heavy_laser        100.134375   78.554667\n",
       "blaster_launcher   158.070000  122.584000"
      ]
     },
     "execution_count": 4,
     "metadata": {},
     "output_type": "execute_result"
    }
   ],
   "source": [
    "most_damaging_weapon = most_damaging_weapon_max.merge(most_damaging_weapon_average, on=\"weapon\")\n",
    "most_damaging_weapon = most_damaging_weapon.rename(columns={\"turn_penetrating_damage_expected_x\": \"max\", \"turn_penetrating_damage_expected_y\": \"average\"})\n",
    "most_damaging_weapon = most_damaging_weapon.sort_values(by=[\"average\"])\n",
    "most_damaging_weapon"
   ]
  },
  {
   "cell_type": "code",
   "execution_count": null,
   "metadata": {},
   "outputs": [],
   "source": []
  },
  {
   "cell_type": "code",
   "execution_count": 5,
   "metadata": {
    "scrolled": false
   },
   "outputs": [
    {
     "data": {
      "text/plain": [
       "Text(0, 0.5, 'Damage')"
      ]
     },
     "execution_count": 5,
     "metadata": {},
     "output_type": "execute_result"
    },
    {
     "data": {
      "image/png": "[encoded data removed]",
      "text/plain": [
       "<Figure size 432x288 with 1 Axes>"
      ]
     },
     "metadata": {
      "needs_background": "light"
     },
     "output_type": "display_data"
    }
   ],
   "source": [
    "ax = most_damaging_weapon[[\"average\", \"max\"]].plot.bar(title=\"Damage per turn\", legend=False)\n",
    "ax.legend([\"Average\", \"Max\"])\n",
    "ax.xaxis.get_label().set_visible(False)\n",
    "ax.set_ylabel(\"Damage\")"
   ]
  },
  {
   "cell_type": "markdown",
   "metadata": {},
   "source": [
    "### Most Damaging Snapshot"
   ]
  },
  {
   "cell_type": "code",
   "execution_count": 6,
   "metadata": {},
   "outputs": [],
   "source": [
    "most_damaging_weapon_snap_average = weapon_data_aliens[weapon_data_aliens[\"fire_mode\"] == \"snapshot\"]\n",
    "most_damaging_weapon_snap_average = most_damaging_weapon_snap_average[[\"weapon\", \"turn_penetrating_damage_expected\"]]\n",
    "most_damaging_weapon_snap_average = most_damaging_weapon_snap_average.groupby(\"weapon\").mean()"
   ]
  },
  {
   "cell_type": "code",
   "execution_count": 7,
   "metadata": {},
   "outputs": [],
   "source": [
    "most_damaging_weapon_snap_max = weapon_data_aliens[weapon_data_aliens[\"fire_mode\"] == \"snapshot\"]\n",
    "most_damaging_weapon_snap_max = most_damaging_weapon_snap_max[[\"weapon\", \"turn_penetrating_damage_expected\"]]\n",
    "most_damaging_weapon_snap_max = most_damaging_weapon_snap_max.groupby(\"weapon\").max()"
   ]
  },
  {
   "cell_type": "code",
   "execution_count": 8,
   "metadata": {},
   "outputs": [
    {
     "data": {
      "text/html": [
       "<div>\n",
       "<style scoped>\n",
       "    .dataframe tbody tr th:only-of-type {\n",
       "        vertical-align: middle;\n",
       "    }\n",
       "\n",
       "    .dataframe tbody tr th {\n",
       "        vertical-align: top;\n",
       "    }\n",
       "\n",
       "    .dataframe thead th {\n",
       "        text-align: right;\n",
       "    }\n",
       "</style>\n",
       "<table border=\"1\" class=\"dataframe\">\n",
       "  <thead>\n",
       "    <tr style=\"text-align: right;\">\n",
       "      <th></th>\n",
       "      <th>max</th>\n",
       "      <th>average</th>\n",
       "    </tr>\n",
       "    <tr>\n",
       "      <th>weapon</th>\n",
       "      <th></th>\n",
       "      <th></th>\n",
       "    </tr>\n",
       "  </thead>\n",
       "  <tbody>\n",
       "    <tr>\n",
       "      <th>rifle</th>\n",
       "      <td>18.562500</td>\n",
       "      <td>12.025750</td>\n",
       "    </tr>\n",
       "    <tr>\n",
       "      <th>pistol</th>\n",
       "      <td>23.883750</td>\n",
       "      <td>14.448225</td>\n",
       "    </tr>\n",
       "    <tr>\n",
       "      <th>auto_cannon</th>\n",
       "      <td>43.181600</td>\n",
       "      <td>19.646122</td>\n",
       "    </tr>\n",
       "    <tr>\n",
       "      <th>rocket_turret</th>\n",
       "      <td>27.225000</td>\n",
       "      <td>21.976625</td>\n",
       "    </tr>\n",
       "    <tr>\n",
       "      <th>rocket_launcher</th>\n",
       "      <td>42.803750</td>\n",
       "      <td>22.311056</td>\n",
       "    </tr>\n",
       "    <tr>\n",
       "      <th>laser_pistol</th>\n",
       "      <td>29.122500</td>\n",
       "      <td>23.346400</td>\n",
       "    </tr>\n",
       "    <tr>\n",
       "      <th>heavy_cannon</th>\n",
       "      <td>59.730000</td>\n",
       "      <td>27.832567</td>\n",
       "    </tr>\n",
       "    <tr>\n",
       "      <th>plasma_pistol</th>\n",
       "      <td>35.839375</td>\n",
       "      <td>29.148763</td>\n",
       "    </tr>\n",
       "    <tr>\n",
       "      <th>cannon_turret</th>\n",
       "      <td>38.362500</td>\n",
       "      <td>30.008000</td>\n",
       "    </tr>\n",
       "    <tr>\n",
       "      <th>laser_rifle</th>\n",
       "      <td>41.559375</td>\n",
       "      <td>35.368667</td>\n",
       "    </tr>\n",
       "    <tr>\n",
       "      <th>laser_turret</th>\n",
       "      <td>50.548438</td>\n",
       "      <td>46.656500</td>\n",
       "    </tr>\n",
       "    <tr>\n",
       "      <th>small_launcher</th>\n",
       "      <td>63.009375</td>\n",
       "      <td>52.945750</td>\n",
       "    </tr>\n",
       "    <tr>\n",
       "      <th>plasma_rifle</th>\n",
       "      <td>73.906250</td>\n",
       "      <td>64.075733</td>\n",
       "    </tr>\n",
       "    <tr>\n",
       "      <th>heavy_plasma</th>\n",
       "      <td>93.328125</td>\n",
       "      <td>84.273750</td>\n",
       "    </tr>\n",
       "    <tr>\n",
       "      <th>heavy_laser</th>\n",
       "      <td>100.134375</td>\n",
       "      <td>90.640000</td>\n",
       "    </tr>\n",
       "    <tr>\n",
       "      <th>plasma_turret</th>\n",
       "      <td>101.096875</td>\n",
       "      <td>90.913167</td>\n",
       "    </tr>\n",
       "  </tbody>\n",
       "</table>\n",
       "</div>"
      ],
      "text/plain": [
       "                        max    average\n",
       "weapon                                \n",
       "rifle             18.562500  12.025750\n",
       "pistol            23.883750  14.448225\n",
       "auto_cannon       43.181600  19.646122\n",
       "rocket_turret     27.225000  21.976625\n",
       "rocket_launcher   42.803750  22.311056\n",
       "laser_pistol      29.122500  23.346400\n",
       "heavy_cannon      59.730000  27.832567\n",
       "plasma_pistol     35.839375  29.148763\n",
       "cannon_turret     38.362500  30.008000\n",
       "laser_rifle       41.559375  35.368667\n",
       "laser_turret      50.548438  46.656500\n",
       "small_launcher    63.009375  52.945750\n",
       "plasma_rifle      73.906250  64.075733\n",
       "heavy_plasma      93.328125  84.273750\n",
       "heavy_laser      100.134375  90.640000\n",
       "plasma_turret    101.096875  90.913167"
      ]
     },
     "execution_count": 8,
     "metadata": {},
     "output_type": "execute_result"
    }
   ],
   "source": [
    "most_damaging_weapon_snap = most_damaging_weapon_snap_max.merge(most_damaging_weapon_snap_average, on=\"weapon\")\n",
    "most_damaging_weapon_snap = most_damaging_weapon_snap.rename(columns={\"turn_penetrating_damage_expected_x\": \"max\", \"turn_penetrating_damage_expected_y\": \"average\"})\n",
    "most_damaging_weapon_snap = most_damaging_weapon_snap.sort_values(by=[\"average\"])\n",
    "most_damaging_weapon_snap"
   ]
  },
  {
   "cell_type": "code",
   "execution_count": 9,
   "metadata": {},
   "outputs": [
    {
     "data": {
      "text/plain": [
       "Text(0, 0.5, 'Damage')"
      ]
     },
     "execution_count": 9,
     "metadata": {},
     "output_type": "execute_result"
    },
    {
     "data": {
      "image/png": "[encoded data removed]",
      "text/plain": [
       "<Figure size 432x288 with 1 Axes>"
      ]
     },
     "metadata": {
      "needs_background": "light"
     },
     "output_type": "display_data"
    }
   ],
   "source": [
    "ax = most_damaging_weapon_snap[[\"average\", \"max\"]].plot.bar(title=\"Damage per turn on snapshot\", legend=False)\n",
    "ax.legend([\"Average\", \"Max\"])\n",
    "ax.xaxis.get_label().set_visible(False)\n",
    "ax.set_ylabel(\"Damage\")"
   ]
  },
  {
   "cell_type": "markdown",
   "metadata": {},
   "source": [
    "### Most Damaging Aimed"
   ]
  },
  {
   "cell_type": "code",
   "execution_count": 10,
   "metadata": {},
   "outputs": [],
   "source": [
    "most_damaging_weapon_aim_average = weapon_data_aliens[weapon_data_aliens[\"fire_mode\"] == \"aimed\"]\n",
    "most_damaging_weapon_aim_average = most_damaging_weapon_aim_average[[\"weapon\", \"turn_penetrating_damage_expected\"]]\n",
    "most_damaging_weapon_aim_average = most_damaging_weapon_aim_average.groupby(\"weapon\").mean()"
   ]
  },
  {
   "cell_type": "code",
   "execution_count": 11,
   "metadata": {},
   "outputs": [],
   "source": [
    "most_damaging_weapon_aim_max = weapon_data_aliens[weapon_data_aliens[\"fire_mode\"] == \"aimed\"]\n",
    "most_damaging_weapon_aim_max = most_damaging_weapon_aim_max[[\"weapon\", \"turn_penetrating_damage_expected\"]]\n",
    "most_damaging_weapon_aim_max = most_damaging_weapon_aim_max.groupby(\"weapon\").max()"
   ]
  },
  {
   "cell_type": "code",
   "execution_count": 12,
   "metadata": {},
   "outputs": [
    {
     "data": {
      "text/html": [
       "<div>\n",
       "<style scoped>\n",
       "    .dataframe tbody tr th:only-of-type {\n",
       "        vertical-align: middle;\n",
       "    }\n",
       "\n",
       "    .dataframe tbody tr th {\n",
       "        vertical-align: top;\n",
       "    }\n",
       "\n",
       "    .dataframe thead th {\n",
       "        text-align: right;\n",
       "    }\n",
       "</style>\n",
       "<table border=\"1\" class=\"dataframe\">\n",
       "  <thead>\n",
       "    <tr style=\"text-align: right;\">\n",
       "      <th></th>\n",
       "      <th>max</th>\n",
       "      <th>average</th>\n",
       "    </tr>\n",
       "    <tr>\n",
       "      <th>weapon</th>\n",
       "      <th></th>\n",
       "      <th></th>\n",
       "    </tr>\n",
       "  </thead>\n",
       "  <tbody>\n",
       "    <tr>\n",
       "      <th>rifle</th>\n",
       "      <td>17.015625</td>\n",
       "      <td>11.023604</td>\n",
       "    </tr>\n",
       "    <tr>\n",
       "      <th>pistol</th>\n",
       "      <td>20.699250</td>\n",
       "      <td>12.521795</td>\n",
       "    </tr>\n",
       "    <tr>\n",
       "      <th>laser_pistol</th>\n",
       "      <td>16.502750</td>\n",
       "      <td>13.229627</td>\n",
       "    </tr>\n",
       "    <tr>\n",
       "      <th>auto_cannon</th>\n",
       "      <td>31.615100</td>\n",
       "      <td>14.383768</td>\n",
       "    </tr>\n",
       "    <tr>\n",
       "      <th>plasma_pistol</th>\n",
       "      <td>23.433438</td>\n",
       "      <td>19.058806</td>\n",
       "    </tr>\n",
       "    <tr>\n",
       "      <th>heavy_cannon</th>\n",
       "      <td>44.797500</td>\n",
       "      <td>20.874425</td>\n",
       "    </tr>\n",
       "    <tr>\n",
       "      <th>cannon_turret</th>\n",
       "      <td>28.771875</td>\n",
       "      <td>22.506000</td>\n",
       "    </tr>\n",
       "    <tr>\n",
       "      <th>laser_rifle</th>\n",
       "      <td>31.968750</td>\n",
       "      <td>27.206667</td>\n",
       "    </tr>\n",
       "    <tr>\n",
       "      <th>plasma_rifle</th>\n",
       "      <td>42.968750</td>\n",
       "      <td>37.253333</td>\n",
       "    </tr>\n",
       "    <tr>\n",
       "      <th>small_launcher</th>\n",
       "      <td>53.315625</td>\n",
       "      <td>44.800250</td>\n",
       "    </tr>\n",
       "    <tr>\n",
       "      <th>rocket_turret</th>\n",
       "      <td>56.925000</td>\n",
       "      <td>45.951125</td>\n",
       "    </tr>\n",
       "    <tr>\n",
       "      <th>rocket_launcher</th>\n",
       "      <td>89.498750</td>\n",
       "      <td>46.650389</td>\n",
       "    </tr>\n",
       "    <tr>\n",
       "      <th>plasma_turret</th>\n",
       "      <td>59.468750</td>\n",
       "      <td>53.478333</td>\n",
       "    </tr>\n",
       "    <tr>\n",
       "      <th>laser_turret</th>\n",
       "      <td>59.468750</td>\n",
       "      <td>54.890000</td>\n",
       "    </tr>\n",
       "    <tr>\n",
       "      <th>heavy_plasma</th>\n",
       "      <td>68.440625</td>\n",
       "      <td>61.800750</td>\n",
       "    </tr>\n",
       "    <tr>\n",
       "      <th>heavy_laser</th>\n",
       "      <td>73.431875</td>\n",
       "      <td>66.469333</td>\n",
       "    </tr>\n",
       "    <tr>\n",
       "      <th>fusion_turret</th>\n",
       "      <td>88.825000</td>\n",
       "      <td>69.703333</td>\n",
       "    </tr>\n",
       "    <tr>\n",
       "      <th>blaster_launcher</th>\n",
       "      <td>158.070000</td>\n",
       "      <td>122.584000</td>\n",
       "    </tr>\n",
       "  </tbody>\n",
       "</table>\n",
       "</div>"
      ],
      "text/plain": [
       "                         max     average\n",
       "weapon                                  \n",
       "rifle              17.015625   11.023604\n",
       "pistol             20.699250   12.521795\n",
       "laser_pistol       16.502750   13.229627\n",
       "auto_cannon        31.615100   14.383768\n",
       "plasma_pistol      23.433438   19.058806\n",
       "heavy_cannon       44.797500   20.874425\n",
       "cannon_turret      28.771875   22.506000\n",
       "laser_rifle        31.968750   27.206667\n",
       "plasma_rifle       42.968750   37.253333\n",
       "small_launcher     53.315625   44.800250\n",
       "rocket_turret      56.925000   45.951125\n",
       "rocket_launcher    89.498750   46.650389\n",
       "plasma_turret      59.468750   53.478333\n",
       "laser_turret       59.468750   54.890000\n",
       "heavy_plasma       68.440625   61.800750\n",
       "heavy_laser        73.431875   66.469333\n",
       "fusion_turret      88.825000   69.703333\n",
       "blaster_launcher  158.070000  122.584000"
      ]
     },
     "execution_count": 12,
     "metadata": {},
     "output_type": "execute_result"
    }
   ],
   "source": [
    "most_damaging_weapon_aim = most_damaging_weapon_aim_max.merge(most_damaging_weapon_aim_average, on=\"weapon\")\n",
    "most_damaging_weapon_aim = most_damaging_weapon_aim.rename(columns={\"turn_penetrating_damage_expected_x\": \"max\", \"turn_penetrating_damage_expected_y\": \"average\"})\n",
    "most_damaging_weapon_aim = most_damaging_weapon_aim.sort_values(by=[\"average\"])\n",
    "most_damaging_weapon_aim"
   ]
  },
  {
   "cell_type": "code",
   "execution_count": 13,
   "metadata": {},
   "outputs": [
    {
     "data": {
      "text/plain": [
       "Text(0, 0.5, 'Damage')"
      ]
     },
     "execution_count": 13,
     "metadata": {},
     "output_type": "execute_result"
    },
    {
     "data": {
      "image/png": "[encoded data removed]",
      "text/plain": [
       "<Figure size 432x288 with 1 Axes>"
      ]
     },
     "metadata": {
      "needs_background": "light"
     },
     "output_type": "display_data"
    }
   ],
   "source": [
    "ax = most_damaging_weapon_aim[[\"average\", \"max\"]].plot.bar(title=\"Damage per turn on aimed\", legend=False)\n",
    "ax.legend([\"Average\", \"Max\"])\n",
    "ax.xaxis.get_label().set_visible(False)\n",
    "ax.set_ylabel(\"Damage\")"
   ]
  },
  {
   "cell_type": "markdown",
   "metadata": {},
   "source": [
    "### Most Damaging Auto"
   ]
  },
  {
   "cell_type": "code",
   "execution_count": 14,
   "metadata": {},
   "outputs": [],
   "source": [
    "most_damaging_weapon_auto_average = weapon_data_aliens[weapon_data_aliens[\"fire_mode\"] == \"auto\"]\n",
    "most_damaging_weapon_auto_average = most_damaging_weapon_auto_average[[\"weapon\", \"turn_penetrating_damage_expected\"]]\n",
    "most_damaging_weapon_auto_average = most_damaging_weapon_auto_average.groupby(\"weapon\").mean()"
   ]
  },
  {
   "cell_type": "code",
   "execution_count": 15,
   "metadata": {},
   "outputs": [],
   "source": [
    "most_damaging_weapon_auto_max = weapon_data_aliens[weapon_data_aliens[\"fire_mode\"] == \"auto\"]\n",
    "most_damaging_weapon_auto_max = most_damaging_weapon_auto_max[[\"weapon\", \"turn_penetrating_damage_expected\"]]\n",
    "most_damaging_weapon_auto_max = most_damaging_weapon_auto_max.groupby(\"weapon\").max()"
   ]
  },
  {
   "cell_type": "code",
   "execution_count": 16,
   "metadata": {},
   "outputs": [
    {
     "data": {
      "text/html": [
       "<div>\n",
       "<style scoped>\n",
       "    .dataframe tbody tr th:only-of-type {\n",
       "        vertical-align: middle;\n",
       "    }\n",
       "\n",
       "    .dataframe tbody tr th {\n",
       "        vertical-align: top;\n",
       "    }\n",
       "\n",
       "    .dataframe thead th {\n",
       "        text-align: right;\n",
       "    }\n",
       "</style>\n",
       "<table border=\"1\" class=\"dataframe\">\n",
       "  <thead>\n",
       "    <tr style=\"text-align: right;\">\n",
       "      <th></th>\n",
       "      <th>max</th>\n",
       "      <th>average</th>\n",
       "    </tr>\n",
       "    <tr>\n",
       "      <th>weapon</th>\n",
       "      <th></th>\n",
       "      <th></th>\n",
       "    </tr>\n",
       "  </thead>\n",
       "  <tbody>\n",
       "    <tr>\n",
       "      <th>rifle</th>\n",
       "      <td>10.828125</td>\n",
       "      <td>7.015021</td>\n",
       "    </tr>\n",
       "    <tr>\n",
       "      <th>laser_pistol</th>\n",
       "      <td>13.590500</td>\n",
       "      <td>10.894987</td>\n",
       "    </tr>\n",
       "    <tr>\n",
       "      <th>auto_cannon</th>\n",
       "      <td>24.675200</td>\n",
       "      <td>11.226356</td>\n",
       "    </tr>\n",
       "    <tr>\n",
       "      <th>laser_rifle</th>\n",
       "      <td>29.411250</td>\n",
       "      <td>25.030133</td>\n",
       "    </tr>\n",
       "    <tr>\n",
       "      <th>plasma_pistol</th>\n",
       "      <td>41.353125</td>\n",
       "      <td>33.633187</td>\n",
       "    </tr>\n",
       "    <tr>\n",
       "      <th>plasma_rifle</th>\n",
       "      <td>47.265625</td>\n",
       "      <td>40.978667</td>\n",
       "    </tr>\n",
       "    <tr>\n",
       "      <th>heavy_plasma</th>\n",
       "      <td>62.218750</td>\n",
       "      <td>56.182500</td>\n",
       "    </tr>\n",
       "  </tbody>\n",
       "</table>\n",
       "</div>"
      ],
      "text/plain": [
       "                     max    average\n",
       "weapon                             \n",
       "rifle          10.828125   7.015021\n",
       "laser_pistol   13.590500  10.894987\n",
       "auto_cannon    24.675200  11.226356\n",
       "laser_rifle    29.411250  25.030133\n",
       "plasma_pistol  41.353125  33.633187\n",
       "plasma_rifle   47.265625  40.978667\n",
       "heavy_plasma   62.218750  56.182500"
      ]
     },
     "execution_count": 16,
     "metadata": {},
     "output_type": "execute_result"
    }
   ],
   "source": [
    "most_damaging_weapon_auto = most_damaging_weapon_auto_max.merge(most_damaging_weapon_auto_average, on=\"weapon\")\n",
    "most_damaging_weapon_auto = most_damaging_weapon_auto.rename(columns={\"turn_penetrating_damage_expected_x\": \"max\", \"turn_penetrating_damage_expected_y\": \"average\"})\n",
    "most_damaging_weapon_auto = most_damaging_weapon_auto.sort_values(by=[\"average\"])\n",
    "most_damaging_weapon_auto"
   ]
  },
  {
   "cell_type": "code",
   "execution_count": 17,
   "metadata": {},
   "outputs": [
    {
     "data": {
      "text/plain": [
       "Text(0, 0.5, 'Damage')"
      ]
     },
     "execution_count": 17,
     "metadata": {},
     "output_type": "execute_result"
    },
    {
     "data": {
      "image/png": "[encoded data removed]",
      "text/plain": [
       "<Figure size 432x288 with 1 Axes>"
      ]
     },
     "metadata": {
      "needs_background": "light"
     },
     "output_type": "display_data"
    }
   ],
   "source": [
    "ax = most_damaging_weapon_auto[[\"average\", \"max\"]].plot.bar(title=\"Damage per turn on auto\", legend=False)\n",
    "ax.legend([\"Average\", \"Max\"])\n",
    "ax.xaxis.get_label().set_visible(False)\n",
    "ax.set_ylabel(\"Damage\")"
   ]
  },
  {
   "cell_type": "markdown",
   "metadata": {},
   "source": [
    "### Most Damaging Grenade"
   ]
  },
  {
   "cell_type": "code",
   "execution_count": 18,
   "metadata": {},
   "outputs": [],
   "source": [
    "most_damaging_weapon_grenade_average = weapon_data_aliens[weapon_data_aliens[\"fire_mode\"] == \"grenade\"]\n",
    "most_damaging_weapon_grenade_average = most_damaging_weapon_grenade_average[[\"weapon\", \"turn_penetrating_damage_expected\"]]\n",
    "most_damaging_weapon_grenade_average = most_damaging_weapon_grenade_average.groupby(\"weapon\").mean()"
   ]
  },
  {
   "cell_type": "code",
   "execution_count": 19,
   "metadata": {},
   "outputs": [],
   "source": [
    "most_damaging_weapon_grenade_max = weapon_data_aliens[weapon_data_aliens[\"fire_mode\"] == \"grenade\"]\n",
    "most_damaging_weapon_grenade_max = most_damaging_weapon_grenade_max[[\"weapon\", \"turn_penetrating_damage_expected\"]]\n",
    "most_damaging_weapon_grenade_max = most_damaging_weapon_grenade_max.groupby(\"weapon\").max()"
   ]
  },
  {
   "cell_type": "code",
   "execution_count": 20,
   "metadata": {},
   "outputs": [
    {
     "data": {
      "text/html": [
       "<div>\n",
       "<style scoped>\n",
       "    .dataframe tbody tr th:only-of-type {\n",
       "        vertical-align: middle;\n",
       "    }\n",
       "\n",
       "    .dataframe tbody tr th {\n",
       "        vertical-align: top;\n",
       "    }\n",
       "\n",
       "    .dataframe thead th {\n",
       "        text-align: right;\n",
       "    }\n",
       "</style>\n",
       "<table border=\"1\" class=\"dataframe\">\n",
       "  <thead>\n",
       "    <tr style=\"text-align: right;\">\n",
       "      <th></th>\n",
       "      <th>max</th>\n",
       "      <th>average</th>\n",
       "    </tr>\n",
       "    <tr>\n",
       "      <th>weapon</th>\n",
       "      <th></th>\n",
       "      <th></th>\n",
       "    </tr>\n",
       "  </thead>\n",
       "  <tbody>\n",
       "    <tr>\n",
       "      <th>grenade</th>\n",
       "      <td>17.204688</td>\n",
       "      <td>13.890365</td>\n",
       "    </tr>\n",
       "    <tr>\n",
       "      <th>proximity_grenade</th>\n",
       "      <td>25.203750</td>\n",
       "      <td>20.730531</td>\n",
       "    </tr>\n",
       "    <tr>\n",
       "      <th>alien_grenade</th>\n",
       "      <td>34.498750</td>\n",
       "      <td>27.730083</td>\n",
       "    </tr>\n",
       "    <tr>\n",
       "      <th>high_explosive</th>\n",
       "      <td>43.793750</td>\n",
       "      <td>34.760917</td>\n",
       "    </tr>\n",
       "  </tbody>\n",
       "</table>\n",
       "</div>"
      ],
      "text/plain": [
       "                         max    average\n",
       "weapon                                 \n",
       "grenade            17.204688  13.890365\n",
       "proximity_grenade  25.203750  20.730531\n",
       "alien_grenade      34.498750  27.730083\n",
       "high_explosive     43.793750  34.760917"
      ]
     },
     "execution_count": 20,
     "metadata": {},
     "output_type": "execute_result"
    }
   ],
   "source": [
    "most_damaging_weapon_grenade = most_damaging_weapon_grenade_max.merge(most_damaging_weapon_grenade_average, on=\"weapon\")\n",
    "most_damaging_weapon_grenade = most_damaging_weapon_grenade.rename(columns={\"turn_penetrating_damage_expected_x\": \"max\", \"turn_penetrating_damage_expected_y\": \"average\"})\n",
    "most_damaging_weapon_grenade = most_damaging_weapon_grenade.sort_values(by=[\"average\"])\n",
    "most_damaging_weapon_grenade"
   ]
  },
  {
   "cell_type": "code",
   "execution_count": 21,
   "metadata": {},
   "outputs": [
    {
     "data": {
      "text/plain": [
       "Text(0, 0.5, 'Damage')"
      ]
     },
     "execution_count": 21,
     "metadata": {},
     "output_type": "execute_result"
    },
    {
     "data": {
      "image/png": "[encoded data removed]",
      "text/plain": [
       "<Figure size 432x288 with 1 Axes>"
      ]
     },
     "metadata": {
      "needs_background": "light"
     },
     "output_type": "display_data"
    }
   ],
   "source": [
    "ax = most_damaging_weapon_grenade[[\"average\", \"max\"]].plot.bar(title=\"Damage per turn for grenades\", legend=False)\n",
    "ax.legend([\"Average\", \"Max\"])\n",
    "ax.xaxis.get_label().set_visible(False)\n",
    "ax.set_ylabel(\"Damage\")"
   ]
  }
 ],
 "metadata": {
  "kernelspec": {
   "display_name": "Python 3",
   "language": "python",
   "name": "python3"
  },
  "language_info": {
   "codemirror_mode": {
    "name": "ipython",
    "version": 3
   },
   "file_extension": ".py",
   "mimetype": "text/x-python",
   "name": "python",
   "nbconvert_exporter": "python",
   "pygments_lexer": "ipython3",
   "version": "3.8.5"
  }
 },
 "nbformat": 4,
 "nbformat_minor": 4
}
