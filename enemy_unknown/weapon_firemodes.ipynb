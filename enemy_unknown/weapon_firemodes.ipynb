{
 "cells": [
  {
   "cell_type": "markdown",
   "metadata": {},
   "source": [
    "# Fire Modes Comparison"
   ]
  },
  {
   "cell_type": "markdown",
   "metadata": {},
   "source": [
    "## Setting Up"
   ]
  },
  {
   "cell_type": "code",
   "execution_count": 1,
   "metadata": {},
   "outputs": [],
   "source": [
    "import pandas as pd\n",
    "from weapon import burst\n",
    "from accuracy import average_to_hit\n",
    "\n",
    "weapon_stats = pd.read_csv(\"datasets/weapon_stats.csv\")\n",
    "ammo_stats = pd.read_csv(\"datasets/ammo_stats.csv\")\n",
    "weapon_firemodes = pd.read_csv(\"datasets/weapon_firemodes.csv\")"
   ]
  },
  {
   "cell_type": "markdown",
   "metadata": {},
   "source": [
    "## Data Merge"
   ]
  },
  {
   "cell_type": "code",
   "execution_count": 2,
   "metadata": {},
   "outputs": [
    {
     "data": {
      "text/html": [
       "<div>\n",
       "<style scoped>\n",
       "    .dataframe tbody tr th:only-of-type {\n",
       "        vertical-align: middle;\n",
       "    }\n",
       "\n",
       "    .dataframe tbody tr th {\n",
       "        vertical-align: top;\n",
       "    }\n",
       "\n",
       "    .dataframe thead th {\n",
       "        text-align: right;\n",
       "    }\n",
       "</style>\n",
       "<table border=\"1\" class=\"dataframe\">\n",
       "  <thead>\n",
       "    <tr style=\"text-align: right;\">\n",
       "      <th></th>\n",
       "      <th>weapon</th>\n",
       "      <th>grip</th>\n",
       "      <th>ammo</th>\n",
       "      <th>damage</th>\n",
       "      <th>damage_type</th>\n",
       "      <th>capacity</th>\n",
       "      <th>fire_mode</th>\n",
       "      <th>time_units</th>\n",
       "      <th>accuracy</th>\n",
       "    </tr>\n",
       "  </thead>\n",
       "  <tbody>\n",
       "    <tr>\n",
       "      <th>47</th>\n",
       "      <td>alien_grenade</td>\n",
       "      <td>1</td>\n",
       "      <td>alien_grenade</td>\n",
       "      <td>90</td>\n",
       "      <td>high_explosive</td>\n",
       "      <td>1.0</td>\n",
       "      <td>grenade</td>\n",
       "      <td>75</td>\n",
       "      <td>65</td>\n",
       "    </tr>\n",
       "    <tr>\n",
       "      <th>13</th>\n",
       "      <td>auto_cannon</td>\n",
       "      <td>2</td>\n",
       "      <td>auto_cannon_ap</td>\n",
       "      <td>42</td>\n",
       "      <td>armor_piercing</td>\n",
       "      <td>14.0</td>\n",
       "      <td>aimed</td>\n",
       "      <td>80</td>\n",
       "      <td>82</td>\n",
       "    </tr>\n",
       "    <tr>\n",
       "      <th>16</th>\n",
       "      <td>auto_cannon</td>\n",
       "      <td>2</td>\n",
       "      <td>auto_cannon_he</td>\n",
       "      <td>44</td>\n",
       "      <td>high_explosive</td>\n",
       "      <td>14.0</td>\n",
       "      <td>aimed</td>\n",
       "      <td>80</td>\n",
       "      <td>82</td>\n",
       "    </tr>\n",
       "    <tr>\n",
       "      <th>19</th>\n",
       "      <td>auto_cannon</td>\n",
       "      <td>2</td>\n",
       "      <td>auto_cannon_inc</td>\n",
       "      <td>48</td>\n",
       "      <td>incendiary</td>\n",
       "      <td>14.0</td>\n",
       "      <td>aimed</td>\n",
       "      <td>80</td>\n",
       "      <td>82</td>\n",
       "    </tr>\n",
       "    <tr>\n",
       "      <th>11</th>\n",
       "      <td>auto_cannon</td>\n",
       "      <td>2</td>\n",
       "      <td>auto_cannon_ap</td>\n",
       "      <td>42</td>\n",
       "      <td>armor_piercing</td>\n",
       "      <td>14.0</td>\n",
       "      <td>auto</td>\n",
       "      <td>40</td>\n",
       "      <td>32</td>\n",
       "    </tr>\n",
       "  </tbody>\n",
       "</table>\n",
       "</div>"
      ],
      "text/plain": [
       "           weapon  grip             ammo  damage     damage_type  capacity  \\\n",
       "47  alien_grenade     1    alien_grenade      90  high_explosive       1.0   \n",
       "13    auto_cannon     2   auto_cannon_ap      42  armor_piercing      14.0   \n",
       "16    auto_cannon     2   auto_cannon_he      44  high_explosive      14.0   \n",
       "19    auto_cannon     2  auto_cannon_inc      48      incendiary      14.0   \n",
       "11    auto_cannon     2   auto_cannon_ap      42  armor_piercing      14.0   \n",
       "\n",
       "   fire_mode  time_units  accuracy  \n",
       "47   grenade          75        65  \n",
       "13     aimed          80        82  \n",
       "16     aimed          80        82  \n",
       "19     aimed          80        82  \n",
       "11      auto          40        32  "
      ]
     },
     "execution_count": 2,
     "metadata": {},
     "output_type": "execute_result"
    }
   ],
   "source": [
    "weapon_attacks = weapon_stats.merge(ammo_stats, on=\"weapon\")\n",
    "weapon_attacks = weapon_attacks.merge(weapon_firemodes, on=\"weapon\")\n",
    "weapon_attacks = weapon_attacks.sort_values(by=[\"weapon\", \"fire_mode\"])\n",
    "weapon_attacks.head()"
   ]
  },
  {
   "cell_type": "markdown",
   "metadata": {},
   "source": [
    "## Chance to Hit"
   ]
  },
  {
   "cell_type": "markdown",
   "metadata": {},
   "source": [
    "We will use an average Accuracy of 50. Meaning the soldier fails half of the time.\n",
    "\n",
    "The chance of hit formula is simple. Just multiply the soldier's accuracy chance by the weapon's accuracy chance. So an average of 50 to a weapon of Accuracy 90 means 0.50 * 0.9 = 0.45 chance of hit."
   ]
  },
  {
   "cell_type": "code",
   "execution_count": 3,
   "metadata": {
    "scrolled": false
   },
   "outputs": [
    {
     "data": {
      "text/html": [
       "<div>\n",
       "<style scoped>\n",
       "    .dataframe tbody tr th:only-of-type {\n",
       "        vertical-align: middle;\n",
       "    }\n",
       "\n",
       "    .dataframe tbody tr th {\n",
       "        vertical-align: top;\n",
       "    }\n",
       "\n",
       "    .dataframe thead th {\n",
       "        text-align: right;\n",
       "    }\n",
       "</style>\n",
       "<table border=\"1\" class=\"dataframe\">\n",
       "  <thead>\n",
       "    <tr style=\"text-align: right;\">\n",
       "      <th></th>\n",
       "      <th>weapon</th>\n",
       "      <th>grip</th>\n",
       "      <th>ammo</th>\n",
       "      <th>damage</th>\n",
       "      <th>damage_type</th>\n",
       "      <th>capacity</th>\n",
       "      <th>fire_mode</th>\n",
       "      <th>time_units</th>\n",
       "      <th>accuracy</th>\n",
       "      <th>chance_to_hit</th>\n",
       "    </tr>\n",
       "  </thead>\n",
       "  <tbody>\n",
       "    <tr>\n",
       "      <th>47</th>\n",
       "      <td>alien_grenade</td>\n",
       "      <td>1</td>\n",
       "      <td>alien_grenade</td>\n",
       "      <td>90</td>\n",
       "      <td>high_explosive</td>\n",
       "      <td>1.0</td>\n",
       "      <td>grenade</td>\n",
       "      <td>75</td>\n",
       "      <td>65</td>\n",
       "      <td>0.3575</td>\n",
       "    </tr>\n",
       "    <tr>\n",
       "      <th>13</th>\n",
       "      <td>auto_cannon</td>\n",
       "      <td>2</td>\n",
       "      <td>auto_cannon_ap</td>\n",
       "      <td>42</td>\n",
       "      <td>armor_piercing</td>\n",
       "      <td>14.0</td>\n",
       "      <td>aimed</td>\n",
       "      <td>80</td>\n",
       "      <td>82</td>\n",
       "      <td>0.4510</td>\n",
       "    </tr>\n",
       "    <tr>\n",
       "      <th>16</th>\n",
       "      <td>auto_cannon</td>\n",
       "      <td>2</td>\n",
       "      <td>auto_cannon_he</td>\n",
       "      <td>44</td>\n",
       "      <td>high_explosive</td>\n",
       "      <td>14.0</td>\n",
       "      <td>aimed</td>\n",
       "      <td>80</td>\n",
       "      <td>82</td>\n",
       "      <td>0.4510</td>\n",
       "    </tr>\n",
       "    <tr>\n",
       "      <th>19</th>\n",
       "      <td>auto_cannon</td>\n",
       "      <td>2</td>\n",
       "      <td>auto_cannon_inc</td>\n",
       "      <td>48</td>\n",
       "      <td>incendiary</td>\n",
       "      <td>14.0</td>\n",
       "      <td>aimed</td>\n",
       "      <td>80</td>\n",
       "      <td>82</td>\n",
       "      <td>0.4510</td>\n",
       "    </tr>\n",
       "    <tr>\n",
       "      <th>11</th>\n",
       "      <td>auto_cannon</td>\n",
       "      <td>2</td>\n",
       "      <td>auto_cannon_ap</td>\n",
       "      <td>42</td>\n",
       "      <td>armor_piercing</td>\n",
       "      <td>14.0</td>\n",
       "      <td>auto</td>\n",
       "      <td>40</td>\n",
       "      <td>32</td>\n",
       "      <td>0.1760</td>\n",
       "    </tr>\n",
       "  </tbody>\n",
       "</table>\n",
       "</div>"
      ],
      "text/plain": [
       "           weapon  grip             ammo  damage     damage_type  capacity  \\\n",
       "47  alien_grenade     1    alien_grenade      90  high_explosive       1.0   \n",
       "13    auto_cannon     2   auto_cannon_ap      42  armor_piercing      14.0   \n",
       "16    auto_cannon     2   auto_cannon_he      44  high_explosive      14.0   \n",
       "19    auto_cannon     2  auto_cannon_inc      48      incendiary      14.0   \n",
       "11    auto_cannon     2   auto_cannon_ap      42  armor_piercing      14.0   \n",
       "\n",
       "   fire_mode  time_units  accuracy  chance_to_hit  \n",
       "47   grenade          75        65         0.3575  \n",
       "13     aimed          80        82         0.4510  \n",
       "16     aimed          80        82         0.4510  \n",
       "19     aimed          80        82         0.4510  \n",
       "11      auto          40        32         0.1760  "
      ]
     },
     "execution_count": 3,
     "metadata": {},
     "output_type": "execute_result"
    }
   ],
   "source": [
    "weapon_attacks[\"chance_to_hit\"] = weapon_attacks.apply(lambda x: average_to_hit(x[\"accuracy\"]), axis=1)\n",
    "weapon_attacks.head()"
   ]
  },
  {
   "cell_type": "markdown",
   "metadata": {},
   "source": [
    "## Additional Data"
   ]
  },
  {
   "cell_type": "code",
   "execution_count": 4,
   "metadata": {},
   "outputs": [
    {
     "data": {
      "text/html": [
       "<div>\n",
       "<style scoped>\n",
       "    .dataframe tbody tr th:only-of-type {\n",
       "        vertical-align: middle;\n",
       "    }\n",
       "\n",
       "    .dataframe tbody tr th {\n",
       "        vertical-align: top;\n",
       "    }\n",
       "\n",
       "    .dataframe thead th {\n",
       "        text-align: right;\n",
       "    }\n",
       "</style>\n",
       "<table border=\"1\" class=\"dataframe\">\n",
       "  <thead>\n",
       "    <tr style=\"text-align: right;\">\n",
       "      <th></th>\n",
       "      <th>weapon</th>\n",
       "      <th>grip</th>\n",
       "      <th>ammo</th>\n",
       "      <th>damage</th>\n",
       "      <th>damage_type</th>\n",
       "      <th>capacity</th>\n",
       "      <th>fire_mode</th>\n",
       "      <th>time_units</th>\n",
       "      <th>accuracy</th>\n",
       "      <th>chance_to_hit</th>\n",
       "      <th>burst</th>\n",
       "      <th>damage_expected</th>\n",
       "    </tr>\n",
       "  </thead>\n",
       "  <tbody>\n",
       "    <tr>\n",
       "      <th>47</th>\n",
       "      <td>alien_grenade</td>\n",
       "      <td>1</td>\n",
       "      <td>alien_grenade</td>\n",
       "      <td>90</td>\n",
       "      <td>high_explosive</td>\n",
       "      <td>1.0</td>\n",
       "      <td>grenade</td>\n",
       "      <td>75</td>\n",
       "      <td>65</td>\n",
       "      <td>0.3575</td>\n",
       "      <td>1</td>\n",
       "      <td>32.175</td>\n",
       "    </tr>\n",
       "    <tr>\n",
       "      <th>13</th>\n",
       "      <td>auto_cannon</td>\n",
       "      <td>2</td>\n",
       "      <td>auto_cannon_ap</td>\n",
       "      <td>42</td>\n",
       "      <td>armor_piercing</td>\n",
       "      <td>14.0</td>\n",
       "      <td>aimed</td>\n",
       "      <td>80</td>\n",
       "      <td>82</td>\n",
       "      <td>0.4510</td>\n",
       "      <td>1</td>\n",
       "      <td>18.942</td>\n",
       "    </tr>\n",
       "    <tr>\n",
       "      <th>16</th>\n",
       "      <td>auto_cannon</td>\n",
       "      <td>2</td>\n",
       "      <td>auto_cannon_he</td>\n",
       "      <td>44</td>\n",
       "      <td>high_explosive</td>\n",
       "      <td>14.0</td>\n",
       "      <td>aimed</td>\n",
       "      <td>80</td>\n",
       "      <td>82</td>\n",
       "      <td>0.4510</td>\n",
       "      <td>1</td>\n",
       "      <td>19.844</td>\n",
       "    </tr>\n",
       "    <tr>\n",
       "      <th>19</th>\n",
       "      <td>auto_cannon</td>\n",
       "      <td>2</td>\n",
       "      <td>auto_cannon_inc</td>\n",
       "      <td>48</td>\n",
       "      <td>incendiary</td>\n",
       "      <td>14.0</td>\n",
       "      <td>aimed</td>\n",
       "      <td>80</td>\n",
       "      <td>82</td>\n",
       "      <td>0.4510</td>\n",
       "      <td>1</td>\n",
       "      <td>21.648</td>\n",
       "    </tr>\n",
       "    <tr>\n",
       "      <th>11</th>\n",
       "      <td>auto_cannon</td>\n",
       "      <td>2</td>\n",
       "      <td>auto_cannon_ap</td>\n",
       "      <td>42</td>\n",
       "      <td>armor_piercing</td>\n",
       "      <td>14.0</td>\n",
       "      <td>auto</td>\n",
       "      <td>40</td>\n",
       "      <td>32</td>\n",
       "      <td>0.1760</td>\n",
       "      <td>3</td>\n",
       "      <td>7.392</td>\n",
       "    </tr>\n",
       "  </tbody>\n",
       "</table>\n",
       "</div>"
      ],
      "text/plain": [
       "           weapon  grip             ammo  damage     damage_type  capacity  \\\n",
       "47  alien_grenade     1    alien_grenade      90  high_explosive       1.0   \n",
       "13    auto_cannon     2   auto_cannon_ap      42  armor_piercing      14.0   \n",
       "16    auto_cannon     2   auto_cannon_he      44  high_explosive      14.0   \n",
       "19    auto_cannon     2  auto_cannon_inc      48      incendiary      14.0   \n",
       "11    auto_cannon     2   auto_cannon_ap      42  armor_piercing      14.0   \n",
       "\n",
       "   fire_mode  time_units  accuracy  chance_to_hit  burst  damage_expected  \n",
       "47   grenade          75        65         0.3575      1           32.175  \n",
       "13     aimed          80        82         0.4510      1           18.942  \n",
       "16     aimed          80        82         0.4510      1           19.844  \n",
       "19     aimed          80        82         0.4510      1           21.648  \n",
       "11      auto          40        32         0.1760      3            7.392  "
      ]
     },
     "execution_count": 4,
     "metadata": {},
     "output_type": "execute_result"
    }
   ],
   "source": [
    "weapon_attacks[\"burst\"] = weapon_attacks.apply(burst, axis=1)\n",
    "weapon_attacks[\"damage_expected\"] = weapon_attacks.apply(lambda x: x[\"damage\"] * x[\"chance_to_hit\"], axis=1)\n",
    "weapon_attacks.head()"
   ]
  },
  {
   "cell_type": "markdown",
   "metadata": {},
   "source": [
    "## Fire Modes Data"
   ]
  },
  {
   "cell_type": "code",
   "execution_count": 5,
   "metadata": {},
   "outputs": [
    {
     "data": {
      "text/html": [
       "<div>\n",
       "<style scoped>\n",
       "    .dataframe tbody tr th:only-of-type {\n",
       "        vertical-align: middle;\n",
       "    }\n",
       "\n",
       "    .dataframe tbody tr th {\n",
       "        vertical-align: top;\n",
       "    }\n",
       "\n",
       "    .dataframe thead th {\n",
       "        text-align: right;\n",
       "    }\n",
       "</style>\n",
       "<table border=\"1\" class=\"dataframe\">\n",
       "  <thead>\n",
       "    <tr style=\"text-align: right;\">\n",
       "      <th></th>\n",
       "      <th>time_units</th>\n",
       "      <th>chance_to_hit</th>\n",
       "      <th>damage_expected</th>\n",
       "    </tr>\n",
       "    <tr>\n",
       "      <th>fire_mode</th>\n",
       "      <th></th>\n",
       "      <th></th>\n",
       "      <th></th>\n",
       "    </tr>\n",
       "  </thead>\n",
       "  <tbody>\n",
       "    <tr>\n",
       "      <th>aimed</th>\n",
       "      <td>67.875000</td>\n",
       "      <td>0.528688</td>\n",
       "      <td>43.285917</td>\n",
       "    </tr>\n",
       "    <tr>\n",
       "      <th>auto</th>\n",
       "      <td>35.000000</td>\n",
       "      <td>0.220000</td>\n",
       "      <td>13.527556</td>\n",
       "    </tr>\n",
       "    <tr>\n",
       "      <th>grenade</th>\n",
       "      <td>75.000000</td>\n",
       "      <td>0.357500</td>\n",
       "      <td>28.600000</td>\n",
       "    </tr>\n",
       "    <tr>\n",
       "      <th>melee</th>\n",
       "      <td>30.000000</td>\n",
       "      <td>0.550000</td>\n",
       "      <td>35.750000</td>\n",
       "    </tr>\n",
       "    <tr>\n",
       "      <th>snapshot</th>\n",
       "      <td>34.863636</td>\n",
       "      <td>0.347250</td>\n",
       "      <td>25.492250</td>\n",
       "    </tr>\n",
       "  </tbody>\n",
       "</table>\n",
       "</div>"
      ],
      "text/plain": [
       "           time_units  chance_to_hit  damage_expected\n",
       "fire_mode                                            \n",
       "aimed       67.875000       0.528688        43.285917\n",
       "auto        35.000000       0.220000        13.527556\n",
       "grenade     75.000000       0.357500        28.600000\n",
       "melee       30.000000       0.550000        35.750000\n",
       "snapshot    34.863636       0.347250        25.492250"
      ]
     },
     "execution_count": 5,
     "metadata": {},
     "output_type": "execute_result"
    }
   ],
   "source": [
    "weapon_firemodes = weapon_attacks[ [\"fire_mode\", \"time_units\", \"chance_to_hit\", \"damage_expected\"] ]\n",
    "weapon_firemodes = weapon_firemodes.groupby(\"fire_mode\").mean()\n",
    "weapon_firemodes"
   ]
  },
  {
   "cell_type": "markdown",
   "metadata": {},
   "source": [
    "## Chance to Hit"
   ]
  },
  {
   "cell_type": "code",
   "execution_count": 6,
   "metadata": {},
   "outputs": [],
   "source": [
    "weapon_firemodes_to_hit = weapon_firemodes[[\"chance_to_hit\"]]\n",
    "weapon_firemodes_to_hit = weapon_firemodes_to_hit.sort_values(by=[\"chance_to_hit\"])"
   ]
  },
  {
   "cell_type": "code",
   "execution_count": 7,
   "metadata": {},
   "outputs": [
    {
     "data": {
      "text/plain": [
       "Text(0, 0.5, 'Chance')"
      ]
     },
     "execution_count": 7,
     "metadata": {},
     "output_type": "execute_result"
    },
    {
     "data": {
      "image/png": "[encoded data removed]",
      "text/plain": [
       "<Figure size 432x288 with 1 Axes>"
      ]
     },
     "metadata": {
      "needs_background": "light"
     },
     "output_type": "display_data"
    }
   ],
   "source": [
    "ax = weapon_firemodes_to_hit.plot.bar(title=\"Chance to hit by fire mode\", legend=False)\n",
    "ax.set_xlabel(\"Fire mode\")\n",
    "ax.set_ylabel(\"Chance\")"
   ]
  },
  {
   "cell_type": "markdown",
   "metadata": {},
   "source": [
    "## Damage"
   ]
  },
  {
   "cell_type": "code",
   "execution_count": 8,
   "metadata": {},
   "outputs": [],
   "source": [
    "weapon_firemodes_damage = weapon_firemodes[[\"damage_expected\"]]\n",
    "weapon_firemodes_damage = weapon_firemodes_damage.sort_values(by=[\"damage_expected\"])"
   ]
  },
  {
   "cell_type": "code",
   "execution_count": 9,
   "metadata": {},
   "outputs": [
    {
     "data": {
      "text/plain": [
       "Text(0, 0.5, 'Damage')"
      ]
     },
     "execution_count": 9,
     "metadata": {},
     "output_type": "execute_result"
    },
    {
     "data": {
      "image/png": "[encoded data removed]",
      "text/plain": [
       "<Figure size 432x288 with 1 Axes>"
      ]
     },
     "metadata": {
      "needs_background": "light"
     },
     "output_type": "display_data"
    }
   ],
   "source": [
    "ax = weapon_firemodes_damage.plot.bar(title=\"Damage by fire mode\", legend=False)\n",
    "ax.set_xlabel(\"Fire mode\")\n",
    "ax.set_ylabel(\"Damage\")"
   ]
  },
  {
   "cell_type": "markdown",
   "metadata": {},
   "source": [
    "## Time Units"
   ]
  },
  {
   "cell_type": "code",
   "execution_count": 10,
   "metadata": {},
   "outputs": [],
   "source": [
    "weapon_firemodes_tus = weapon_firemodes[[\"time_units\"]]\n",
    "weapon_firemodes_tus = weapon_firemodes_tus.sort_values(by=[\"time_units\"])"
   ]
  },
  {
   "cell_type": "code",
   "execution_count": 11,
   "metadata": {},
   "outputs": [
    {
     "data": {
      "text/plain": [
       "Text(0, 0.5, 'Time units')"
      ]
     },
     "execution_count": 11,
     "metadata": {},
     "output_type": "execute_result"
    },
    {
     "data": {
      "image/png": "[encoded data removed]",
      "text/plain": [
       "<Figure size 432x288 with 1 Axes>"
      ]
     },
     "metadata": {
      "needs_background": "light"
     },
     "output_type": "display_data"
    }
   ],
   "source": [
    "ax = weapon_firemodes_tus.plot.bar(title=\"TUs by fire mode\", legend=False)\n",
    "ax.set_xlabel(\"Fire mode\")\n",
    "ax.set_ylabel(\"Time units\")"
   ]
  }
 ],
 "metadata": {
  "kernelspec": {
   "display_name": "Python 3",
   "language": "python",
   "name": "python3"
  },
  "language_info": {
   "codemirror_mode": {
    "name": "ipython",
    "version": 3
   },
   "file_extension": ".py",
   "mimetype": "text/x-python",
   "name": "python",
   "nbconvert_exporter": "python",
   "pygments_lexer": "ipython3",
   "version": "3.8.5"
  }
 },
 "nbformat": 4,
 "nbformat_minor": 4
}
