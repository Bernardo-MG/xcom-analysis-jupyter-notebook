{
 "cells": [
  {
   "cell_type": "markdown",
   "metadata": {},
   "source": [
    "# Fire Modes Comparison"
   ]
  },
  {
   "cell_type": "markdown",
   "metadata": {},
   "source": [
    "## Setting Up"
   ]
  },
  {
   "cell_type": "code",
   "execution_count": 1,
   "metadata": {},
   "outputs": [],
   "source": [
    "import pandas as pd\n",
    "\n",
    "%run weapon_full_data.ipynb"
   ]
  },
  {
   "cell_type": "markdown",
   "metadata": {},
   "source": [
    "## Fire Modes Data"
   ]
  },
  {
   "cell_type": "code",
   "execution_count": 2,
   "metadata": {},
   "outputs": [
    {
     "data": {
      "text/html": [
       "<div>\n",
       "<style scoped>\n",
       "    .dataframe tbody tr th:only-of-type {\n",
       "        vertical-align: middle;\n",
       "    }\n",
       "\n",
       "    .dataframe tbody tr th {\n",
       "        vertical-align: top;\n",
       "    }\n",
       "\n",
       "    .dataframe thead th {\n",
       "        text-align: right;\n",
       "    }\n",
       "</style>\n",
       "<table border=\"1\" class=\"dataframe\">\n",
       "  <thead>\n",
       "    <tr style=\"text-align: right;\">\n",
       "      <th></th>\n",
       "      <th>time_units</th>\n",
       "      <th>average_chance_to_hit</th>\n",
       "      <th>turn_damage_expected</th>\n",
       "      <th>damage_per_time_unit</th>\n",
       "    </tr>\n",
       "    <tr>\n",
       "      <th>fire_mode</th>\n",
       "      <th></th>\n",
       "      <th></th>\n",
       "      <th></th>\n",
       "      <th></th>\n",
       "    </tr>\n",
       "  </thead>\n",
       "  <tbody>\n",
       "    <tr>\n",
       "      <th>aimed</th>\n",
       "      <td>67.875000</td>\n",
       "      <td>0.528688</td>\n",
       "      <td>48.111250</td>\n",
       "      <td>1.232260</td>\n",
       "    </tr>\n",
       "    <tr>\n",
       "      <th>auto</th>\n",
       "      <td>35.000000</td>\n",
       "      <td>0.220000</td>\n",
       "      <td>90.654667</td>\n",
       "      <td>1.672569</td>\n",
       "    </tr>\n",
       "    <tr>\n",
       "      <th>grenade</th>\n",
       "      <td>75.000000</td>\n",
       "      <td>0.357500</td>\n",
       "      <td>28.600000</td>\n",
       "      <td>1.066667</td>\n",
       "    </tr>\n",
       "    <tr>\n",
       "      <th>melee</th>\n",
       "      <td>30.000000</td>\n",
       "      <td>0.550000</td>\n",
       "      <td>107.250000</td>\n",
       "      <td>2.166667</td>\n",
       "    </tr>\n",
       "    <tr>\n",
       "      <th>snapshot</th>\n",
       "      <td>34.863636</td>\n",
       "      <td>0.347250</td>\n",
       "      <td>65.008000</td>\n",
       "      <td>2.061134</td>\n",
       "    </tr>\n",
       "  </tbody>\n",
       "</table>\n",
       "</div>"
      ],
      "text/plain": [
       "           time_units  average_chance_to_hit  turn_damage_expected  \\\n",
       "fire_mode                                                            \n",
       "aimed       67.875000               0.528688             48.111250   \n",
       "auto        35.000000               0.220000             90.654667   \n",
       "grenade     75.000000               0.357500             28.600000   \n",
       "melee       30.000000               0.550000            107.250000   \n",
       "snapshot    34.863636               0.347250             65.008000   \n",
       "\n",
       "           damage_per_time_unit  \n",
       "fire_mode                        \n",
       "aimed                  1.232260  \n",
       "auto                   1.672569  \n",
       "grenade                1.066667  \n",
       "melee                  2.166667  \n",
       "snapshot               2.061134  "
      ]
     },
     "execution_count": 2,
     "metadata": {},
     "output_type": "execute_result"
    }
   ],
   "source": [
    "weapon_firemodes = weapon_data[ [\"fire_mode\", \"time_units\", \"average_chance_to_hit\", \"turn_damage_expected\", \"damage_per_time_unit\"] ]\n",
    "weapon_firemodes = weapon_firemodes.groupby(\"fire_mode\").mean()\n",
    "weapon_firemodes"
   ]
  },
  {
   "cell_type": "markdown",
   "metadata": {},
   "source": [
    "## Chance to Hit"
   ]
  },
  {
   "cell_type": "code",
   "execution_count": 3,
   "metadata": {},
   "outputs": [],
   "source": [
    "weapon_firemodes_to_hit = weapon_firemodes[[\"average_chance_to_hit\"]]\n",
    "weapon_firemodes_to_hit = weapon_firemodes_to_hit.sort_values(by=[\"average_chance_to_hit\"])"
   ]
  },
  {
   "cell_type": "code",
   "execution_count": 4,
   "metadata": {},
   "outputs": [
    {
     "data": {
      "text/plain": [
       "Text(0, 0.5, 'Chance')"
      ]
     },
     "execution_count": 4,
     "metadata": {},
     "output_type": "execute_result"
    },
    {
     "data": {
      "image/png": "[encoded data removed]",
      "text/plain": [
       "<Figure size 432x288 with 1 Axes>"
      ]
     },
     "metadata": {
      "needs_background": "light"
     },
     "output_type": "display_data"
    }
   ],
   "source": [
    "ax = weapon_firemodes_to_hit.plot.bar(title=\"Chance to hit by fire mode\", legend=False)\n",
    "ax.xaxis.get_label().set_visible(False)\n",
    "ax.set_ylabel(\"Chance\")"
   ]
  },
  {
   "cell_type": "markdown",
   "metadata": {},
   "source": [
    "## Damage"
   ]
  },
  {
   "cell_type": "code",
   "execution_count": 5,
   "metadata": {},
   "outputs": [],
   "source": [
    "weapon_firemodes_damage = weapon_firemodes[[\"turn_damage_expected\"]]\n",
    "weapon_firemodes_damage = weapon_firemodes_damage.sort_values(by=[\"turn_damage_expected\"])"
   ]
  },
  {
   "cell_type": "code",
   "execution_count": 6,
   "metadata": {},
   "outputs": [
    {
     "data": {
      "text/plain": [
       "Text(0, 0.5, 'Damage')"
      ]
     },
     "execution_count": 6,
     "metadata": {},
     "output_type": "execute_result"
    },
    {
     "data": {
      "image/png": "[encoded data removed]",
      "text/plain": [
       "<Figure size 432x288 with 1 Axes>"
      ]
     },
     "metadata": {
      "needs_background": "light"
     },
     "output_type": "display_data"
    }
   ],
   "source": [
    "ax = weapon_firemodes_damage.plot.bar(title=\"Damage by fire mode\", legend=False)\n",
    "ax.xaxis.get_label().set_visible(False)\n",
    "ax.set_ylabel(\"Damage\")"
   ]
  },
  {
   "cell_type": "markdown",
   "metadata": {},
   "source": [
    "## Time Units"
   ]
  },
  {
   "cell_type": "code",
   "execution_count": 7,
   "metadata": {},
   "outputs": [],
   "source": [
    "weapon_firemodes_tus = weapon_firemodes[[\"time_units\"]]\n",
    "weapon_firemodes_tus = weapon_firemodes_tus.sort_values(by=[\"time_units\"])"
   ]
  },
  {
   "cell_type": "code",
   "execution_count": 8,
   "metadata": {},
   "outputs": [
    {
     "data": {
      "text/plain": [
       "Text(0, 0.5, 'Time units')"
      ]
     },
     "execution_count": 8,
     "metadata": {},
     "output_type": "execute_result"
    },
    {
     "data": {
      "image/png": "[encoded data removed]",
      "text/plain": [
       "<Figure size 432x288 with 1 Axes>"
      ]
     },
     "metadata": {
      "needs_background": "light"
     },
     "output_type": "display_data"
    }
   ],
   "source": [
    "ax = weapon_firemodes_tus.plot.bar(title=\"TUs by fire mode\", legend=False)\n",
    "ax.xaxis.get_label().set_visible(False)\n",
    "ax.set_ylabel(\"Time units\")"
   ]
  },
  {
   "cell_type": "markdown",
   "metadata": {},
   "source": [
    "## Damage Per Time Unit"
   ]
  },
  {
   "cell_type": "code",
   "execution_count": 9,
   "metadata": {},
   "outputs": [],
   "source": [
    "weapon_firemodes_dam_tu = weapon_firemodes[[\"damage_per_time_unit\"]]\n",
    "weapon_firemodes_dam_tu = weapon_firemodes_dam_tu.sort_values(by=[\"damage_per_time_unit\"])"
   ]
  },
  {
   "cell_type": "code",
   "execution_count": 10,
   "metadata": {},
   "outputs": [
    {
     "data": {
      "text/plain": [
       "Text(0, 0.5, 'Ratio')"
      ]
     },
     "execution_count": 10,
     "metadata": {},
     "output_type": "execute_result"
    },
    {
     "data": {
      "image/png": "[encoded data removed]",
      "text/plain": [
       "<Figure size 432x288 with 1 Axes>"
      ]
     },
     "metadata": {
      "needs_background": "light"
     },
     "output_type": "display_data"
    }
   ],
   "source": [
    "ax = weapon_firemodes_dam_tu.plot.bar(title=\"Damage per TU\", legend=False)\n",
    "ax.xaxis.get_label().set_visible(False)\n",
    "ax.set_ylabel(\"Ratio\")"
   ]
  }
 ],
 "metadata": {
  "kernelspec": {
   "display_name": "Python 3",
   "language": "python",
   "name": "python3"
  },
  "language_info": {
   "codemirror_mode": {
    "name": "ipython",
    "version": 3
   },
   "file_extension": ".py",
   "mimetype": "text/x-python",
   "name": "python",
   "nbconvert_exporter": "python",
   "pygments_lexer": "ipython3",
   "version": "3.8.5"
  }
 },
 "nbformat": 4,
 "nbformat_minor": 4
}
