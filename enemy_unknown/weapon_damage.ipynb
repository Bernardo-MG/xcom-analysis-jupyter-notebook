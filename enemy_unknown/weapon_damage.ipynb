{
 "cells": [
  {
   "cell_type": "markdown",
   "metadata": {},
   "source": [
    "# Weapon Damage"
   ]
  },
  {
   "cell_type": "markdown",
   "metadata": {},
   "source": [
    "## Setting Up"
   ]
  },
  {
   "cell_type": "code",
   "execution_count": 1,
   "metadata": {},
   "outputs": [],
   "source": [
    "import pandas as pd\n",
    "import calendar\n",
    "from weapon import max_shots, burst\n",
    "\n",
    "weapon_stats = pd.read_csv(\"datasets/weapon_stats.csv\")\n",
    "ammo_stats = pd.read_csv(\"datasets/ammo_stats.csv\")\n",
    "weapon_firemodes = pd.read_csv(\"datasets/weapon_firemodes.csv\")\n",
    "damage_modifiers = pd.read_csv(\"datasets/damage_modifiers.csv\")"
   ]
  },
  {
   "cell_type": "markdown",
   "metadata": {},
   "source": [
    "## Data Merge"
   ]
  },
  {
   "cell_type": "code",
   "execution_count": 2,
   "metadata": {
    "scrolled": false
   },
   "outputs": [
    {
     "data": {
      "text/html": [
       "<div>\n",
       "<style scoped>\n",
       "    .dataframe tbody tr th:only-of-type {\n",
       "        vertical-align: middle;\n",
       "    }\n",
       "\n",
       "    .dataframe tbody tr th {\n",
       "        vertical-align: top;\n",
       "    }\n",
       "\n",
       "    .dataframe thead th {\n",
       "        text-align: right;\n",
       "    }\n",
       "</style>\n",
       "<table border=\"1\" class=\"dataframe\">\n",
       "  <thead>\n",
       "    <tr style=\"text-align: right;\">\n",
       "      <th></th>\n",
       "      <th>weapon</th>\n",
       "      <th>grip</th>\n",
       "      <th>ammo</th>\n",
       "      <th>damage</th>\n",
       "      <th>damage_type</th>\n",
       "      <th>capacity</th>\n",
       "      <th>fire_mode</th>\n",
       "      <th>time_units</th>\n",
       "      <th>accuracy</th>\n",
       "    </tr>\n",
       "  </thead>\n",
       "  <tbody>\n",
       "    <tr>\n",
       "      <th>47</th>\n",
       "      <td>alien_grenade</td>\n",
       "      <td>1</td>\n",
       "      <td>alien_grenade</td>\n",
       "      <td>90</td>\n",
       "      <td>high_explosive</td>\n",
       "      <td>1.0</td>\n",
       "      <td>grenade</td>\n",
       "      <td>75</td>\n",
       "      <td>65</td>\n",
       "    </tr>\n",
       "    <tr>\n",
       "      <th>13</th>\n",
       "      <td>auto_cannon</td>\n",
       "      <td>2</td>\n",
       "      <td>auto_cannon_ap</td>\n",
       "      <td>42</td>\n",
       "      <td>armor_piercing</td>\n",
       "      <td>14.0</td>\n",
       "      <td>aimed</td>\n",
       "      <td>80</td>\n",
       "      <td>82</td>\n",
       "    </tr>\n",
       "    <tr>\n",
       "      <th>16</th>\n",
       "      <td>auto_cannon</td>\n",
       "      <td>2</td>\n",
       "      <td>auto_cannon_he</td>\n",
       "      <td>44</td>\n",
       "      <td>high_explosive</td>\n",
       "      <td>14.0</td>\n",
       "      <td>aimed</td>\n",
       "      <td>80</td>\n",
       "      <td>82</td>\n",
       "    </tr>\n",
       "    <tr>\n",
       "      <th>19</th>\n",
       "      <td>auto_cannon</td>\n",
       "      <td>2</td>\n",
       "      <td>auto_cannon_inc</td>\n",
       "      <td>48</td>\n",
       "      <td>incendiary</td>\n",
       "      <td>14.0</td>\n",
       "      <td>aimed</td>\n",
       "      <td>80</td>\n",
       "      <td>82</td>\n",
       "    </tr>\n",
       "    <tr>\n",
       "      <th>11</th>\n",
       "      <td>auto_cannon</td>\n",
       "      <td>2</td>\n",
       "      <td>auto_cannon_ap</td>\n",
       "      <td>42</td>\n",
       "      <td>armor_piercing</td>\n",
       "      <td>14.0</td>\n",
       "      <td>auto</td>\n",
       "      <td>40</td>\n",
       "      <td>32</td>\n",
       "    </tr>\n",
       "  </tbody>\n",
       "</table>\n",
       "</div>"
      ],
      "text/plain": [
       "           weapon  grip             ammo  damage     damage_type  capacity  \\\n",
       "47  alien_grenade     1    alien_grenade      90  high_explosive       1.0   \n",
       "13    auto_cannon     2   auto_cannon_ap      42  armor_piercing      14.0   \n",
       "16    auto_cannon     2   auto_cannon_he      44  high_explosive      14.0   \n",
       "19    auto_cannon     2  auto_cannon_inc      48      incendiary      14.0   \n",
       "11    auto_cannon     2   auto_cannon_ap      42  armor_piercing      14.0   \n",
       "\n",
       "   fire_mode  time_units  accuracy  \n",
       "47   grenade          75        65  \n",
       "13     aimed          80        82  \n",
       "16     aimed          80        82  \n",
       "19     aimed          80        82  \n",
       "11      auto          40        32  "
      ]
     },
     "execution_count": 2,
     "metadata": {},
     "output_type": "execute_result"
    }
   ],
   "source": [
    "weapon_attacks = weapon_stats.merge(ammo_stats, on=\"weapon\")\n",
    "weapon_attacks = weapon_attacks.merge(weapon_firemodes, on=\"weapon\")\n",
    "weapon_attacks = weapon_attacks.sort_values(by=[\"weapon\", \"fire_mode\"])\n",
    "weapon_attacks.head()"
   ]
  },
  {
   "cell_type": "markdown",
   "metadata": {},
   "source": [
    "## Chance to Hit"
   ]
  },
  {
   "cell_type": "markdown",
   "metadata": {},
   "source": [
    "Soldiers start with an Accuracy value between 40 and 70, giving an average of 55.\n",
    "\n",
    "To get the change of hit this should by applied to the weapon accuracy. Just multiply them as proportions. So an average of 55 to a weapon of Accuracy 90 means 0.55 * 0.9 = 0.495 chance of hit."
   ]
  },
  {
   "cell_type": "code",
   "execution_count": 3,
   "metadata": {
    "scrolled": true
   },
   "outputs": [
    {
     "data": {
      "text/html": [
       "<div>\n",
       "<style scoped>\n",
       "    .dataframe tbody tr th:only-of-type {\n",
       "        vertical-align: middle;\n",
       "    }\n",
       "\n",
       "    .dataframe tbody tr th {\n",
       "        vertical-align: top;\n",
       "    }\n",
       "\n",
       "    .dataframe thead th {\n",
       "        text-align: right;\n",
       "    }\n",
       "</style>\n",
       "<table border=\"1\" class=\"dataframe\">\n",
       "  <thead>\n",
       "    <tr style=\"text-align: right;\">\n",
       "      <th></th>\n",
       "      <th>weapon</th>\n",
       "      <th>grip</th>\n",
       "      <th>ammo</th>\n",
       "      <th>damage</th>\n",
       "      <th>damage_type</th>\n",
       "      <th>capacity</th>\n",
       "      <th>fire_mode</th>\n",
       "      <th>time_units</th>\n",
       "      <th>accuracy</th>\n",
       "      <th>chance_to_hit</th>\n",
       "    </tr>\n",
       "  </thead>\n",
       "  <tbody>\n",
       "    <tr>\n",
       "      <th>47</th>\n",
       "      <td>alien_grenade</td>\n",
       "      <td>1</td>\n",
       "      <td>alien_grenade</td>\n",
       "      <td>90</td>\n",
       "      <td>high_explosive</td>\n",
       "      <td>1.0</td>\n",
       "      <td>grenade</td>\n",
       "      <td>75</td>\n",
       "      <td>65</td>\n",
       "      <td>0.3575</td>\n",
       "    </tr>\n",
       "    <tr>\n",
       "      <th>13</th>\n",
       "      <td>auto_cannon</td>\n",
       "      <td>2</td>\n",
       "      <td>auto_cannon_ap</td>\n",
       "      <td>42</td>\n",
       "      <td>armor_piercing</td>\n",
       "      <td>14.0</td>\n",
       "      <td>aimed</td>\n",
       "      <td>80</td>\n",
       "      <td>82</td>\n",
       "      <td>0.4510</td>\n",
       "    </tr>\n",
       "    <tr>\n",
       "      <th>16</th>\n",
       "      <td>auto_cannon</td>\n",
       "      <td>2</td>\n",
       "      <td>auto_cannon_he</td>\n",
       "      <td>44</td>\n",
       "      <td>high_explosive</td>\n",
       "      <td>14.0</td>\n",
       "      <td>aimed</td>\n",
       "      <td>80</td>\n",
       "      <td>82</td>\n",
       "      <td>0.4510</td>\n",
       "    </tr>\n",
       "    <tr>\n",
       "      <th>19</th>\n",
       "      <td>auto_cannon</td>\n",
       "      <td>2</td>\n",
       "      <td>auto_cannon_inc</td>\n",
       "      <td>48</td>\n",
       "      <td>incendiary</td>\n",
       "      <td>14.0</td>\n",
       "      <td>aimed</td>\n",
       "      <td>80</td>\n",
       "      <td>82</td>\n",
       "      <td>0.4510</td>\n",
       "    </tr>\n",
       "    <tr>\n",
       "      <th>11</th>\n",
       "      <td>auto_cannon</td>\n",
       "      <td>2</td>\n",
       "      <td>auto_cannon_ap</td>\n",
       "      <td>42</td>\n",
       "      <td>armor_piercing</td>\n",
       "      <td>14.0</td>\n",
       "      <td>auto</td>\n",
       "      <td>40</td>\n",
       "      <td>32</td>\n",
       "      <td>0.1760</td>\n",
       "    </tr>\n",
       "  </tbody>\n",
       "</table>\n",
       "</div>"
      ],
      "text/plain": [
       "           weapon  grip             ammo  damage     damage_type  capacity  \\\n",
       "47  alien_grenade     1    alien_grenade      90  high_explosive       1.0   \n",
       "13    auto_cannon     2   auto_cannon_ap      42  armor_piercing      14.0   \n",
       "16    auto_cannon     2   auto_cannon_he      44  high_explosive      14.0   \n",
       "19    auto_cannon     2  auto_cannon_inc      48      incendiary      14.0   \n",
       "11    auto_cannon     2   auto_cannon_ap      42  armor_piercing      14.0   \n",
       "\n",
       "   fire_mode  time_units  accuracy  chance_to_hit  \n",
       "47   grenade          75        65         0.3575  \n",
       "13     aimed          80        82         0.4510  \n",
       "16     aimed          80        82         0.4510  \n",
       "19     aimed          80        82         0.4510  \n",
       "11      auto          40        32         0.1760  "
      ]
     },
     "execution_count": 3,
     "metadata": {},
     "output_type": "execute_result"
    }
   ],
   "source": [
    "weapon_attacks[\"chance_to_hit\"] = weapon_attacks.apply(lambda x: x[\"accuracy\"] / 100 * 0.55, axis=1)\n",
    "weapon_attacks.head()"
   ]
  },
  {
   "cell_type": "markdown",
   "metadata": {},
   "source": [
    "## Derived Damage"
   ]
  },
  {
   "cell_type": "code",
   "execution_count": 4,
   "metadata": {
    "scrolled": false
   },
   "outputs": [
    {
     "data": {
      "text/html": [
       "<div>\n",
       "<style scoped>\n",
       "    .dataframe tbody tr th:only-of-type {\n",
       "        vertical-align: middle;\n",
       "    }\n",
       "\n",
       "    .dataframe tbody tr th {\n",
       "        vertical-align: top;\n",
       "    }\n",
       "\n",
       "    .dataframe thead th {\n",
       "        text-align: right;\n",
       "    }\n",
       "</style>\n",
       "<table border=\"1\" class=\"dataframe\">\n",
       "  <thead>\n",
       "    <tr style=\"text-align: right;\">\n",
       "      <th></th>\n",
       "      <th>weapon</th>\n",
       "      <th>grip</th>\n",
       "      <th>ammo</th>\n",
       "      <th>damage</th>\n",
       "      <th>damage_type</th>\n",
       "      <th>capacity</th>\n",
       "      <th>fire_mode</th>\n",
       "      <th>time_units</th>\n",
       "      <th>accuracy</th>\n",
       "      <th>chance_to_hit</th>\n",
       "      <th>burst</th>\n",
       "      <th>expected_damage</th>\n",
       "      <th>clip_damage</th>\n",
       "      <th>turn_max_shots</th>\n",
       "      <th>turns_to_reload</th>\n",
       "      <th>turn_damage_max</th>\n",
       "      <th>turn_damage_expected</th>\n",
       "    </tr>\n",
       "  </thead>\n",
       "  <tbody>\n",
       "    <tr>\n",
       "      <th>47</th>\n",
       "      <td>alien_grenade</td>\n",
       "      <td>1</td>\n",
       "      <td>alien_grenade</td>\n",
       "      <td>90</td>\n",
       "      <td>high_explosive</td>\n",
       "      <td>1.0</td>\n",
       "      <td>grenade</td>\n",
       "      <td>75</td>\n",
       "      <td>65</td>\n",
       "      <td>0.3575</td>\n",
       "      <td>1</td>\n",
       "      <td>32.175</td>\n",
       "      <td>90.0</td>\n",
       "      <td>1.269841</td>\n",
       "      <td>0.787500</td>\n",
       "      <td>114.285714</td>\n",
       "      <td>40.857143</td>\n",
       "    </tr>\n",
       "    <tr>\n",
       "      <th>13</th>\n",
       "      <td>auto_cannon</td>\n",
       "      <td>2</td>\n",
       "      <td>auto_cannon_ap</td>\n",
       "      <td>42</td>\n",
       "      <td>armor_piercing</td>\n",
       "      <td>14.0</td>\n",
       "      <td>aimed</td>\n",
       "      <td>80</td>\n",
       "      <td>82</td>\n",
       "      <td>0.4510</td>\n",
       "      <td>1</td>\n",
       "      <td>18.942</td>\n",
       "      <td>588.0</td>\n",
       "      <td>1.250000</td>\n",
       "      <td>11.200000</td>\n",
       "      <td>52.500000</td>\n",
       "      <td>23.677500</td>\n",
       "    </tr>\n",
       "    <tr>\n",
       "      <th>16</th>\n",
       "      <td>auto_cannon</td>\n",
       "      <td>2</td>\n",
       "      <td>auto_cannon_he</td>\n",
       "      <td>44</td>\n",
       "      <td>high_explosive</td>\n",
       "      <td>14.0</td>\n",
       "      <td>aimed</td>\n",
       "      <td>80</td>\n",
       "      <td>82</td>\n",
       "      <td>0.4510</td>\n",
       "      <td>1</td>\n",
       "      <td>19.844</td>\n",
       "      <td>616.0</td>\n",
       "      <td>1.250000</td>\n",
       "      <td>11.200000</td>\n",
       "      <td>55.000000</td>\n",
       "      <td>24.805000</td>\n",
       "    </tr>\n",
       "    <tr>\n",
       "      <th>19</th>\n",
       "      <td>auto_cannon</td>\n",
       "      <td>2</td>\n",
       "      <td>auto_cannon_inc</td>\n",
       "      <td>48</td>\n",
       "      <td>incendiary</td>\n",
       "      <td>14.0</td>\n",
       "      <td>aimed</td>\n",
       "      <td>80</td>\n",
       "      <td>82</td>\n",
       "      <td>0.4510</td>\n",
       "      <td>1</td>\n",
       "      <td>21.648</td>\n",
       "      <td>672.0</td>\n",
       "      <td>1.250000</td>\n",
       "      <td>11.200000</td>\n",
       "      <td>60.000000</td>\n",
       "      <td>27.060000</td>\n",
       "    </tr>\n",
       "    <tr>\n",
       "      <th>11</th>\n",
       "      <td>auto_cannon</td>\n",
       "      <td>2</td>\n",
       "      <td>auto_cannon_ap</td>\n",
       "      <td>42</td>\n",
       "      <td>armor_piercing</td>\n",
       "      <td>14.0</td>\n",
       "      <td>auto</td>\n",
       "      <td>40</td>\n",
       "      <td>32</td>\n",
       "      <td>0.1760</td>\n",
       "      <td>3</td>\n",
       "      <td>7.392</td>\n",
       "      <td>588.0</td>\n",
       "      <td>7.500000</td>\n",
       "      <td>1.866667</td>\n",
       "      <td>315.000000</td>\n",
       "      <td>55.440000</td>\n",
       "    </tr>\n",
       "  </tbody>\n",
       "</table>\n",
       "</div>"
      ],
      "text/plain": [
       "           weapon  grip             ammo  damage     damage_type  capacity  \\\n",
       "47  alien_grenade     1    alien_grenade      90  high_explosive       1.0   \n",
       "13    auto_cannon     2   auto_cannon_ap      42  armor_piercing      14.0   \n",
       "16    auto_cannon     2   auto_cannon_he      44  high_explosive      14.0   \n",
       "19    auto_cannon     2  auto_cannon_inc      48      incendiary      14.0   \n",
       "11    auto_cannon     2   auto_cannon_ap      42  armor_piercing      14.0   \n",
       "\n",
       "   fire_mode  time_units  accuracy  chance_to_hit  burst  expected_damage  \\\n",
       "47   grenade          75        65         0.3575      1           32.175   \n",
       "13     aimed          80        82         0.4510      1           18.942   \n",
       "16     aimed          80        82         0.4510      1           19.844   \n",
       "19     aimed          80        82         0.4510      1           21.648   \n",
       "11      auto          40        32         0.1760      3            7.392   \n",
       "\n",
       "    clip_damage  turn_max_shots  turns_to_reload  turn_damage_max  \\\n",
       "47         90.0        1.269841         0.787500       114.285714   \n",
       "13        588.0        1.250000        11.200000        52.500000   \n",
       "16        616.0        1.250000        11.200000        55.000000   \n",
       "19        672.0        1.250000        11.200000        60.000000   \n",
       "11        588.0        7.500000         1.866667       315.000000   \n",
       "\n",
       "    turn_damage_expected  \n",
       "47             40.857143  \n",
       "13             23.677500  \n",
       "16             24.805000  \n",
       "19             27.060000  \n",
       "11             55.440000  "
      ]
     },
     "execution_count": 4,
     "metadata": {},
     "output_type": "execute_result"
    }
   ],
   "source": [
    "# weapon_attacks = weapon_attacks.apply(burst, axis=1)\n",
    "weapon_attacks[\"burst\"] = weapon_attacks.apply(burst, axis=1)\n",
    "weapon_attacks[\"expected_damage\"] = weapon_attacks.apply(lambda x: x[\"damage\"] * x[\"chance_to_hit\"], axis=1)\n",
    "weapon_attacks[\"clip_damage\"] = weapon_attacks.apply(lambda x: x[\"capacity\"] * x[\"damage\"], axis=1)\n",
    "weapon_attacks[\"turn_max_shots\"] = weapon_attacks.apply(max_shots, axis=1)\n",
    "weapon_attacks[\"turns_to_reload\"] = weapon_attacks.apply(lambda x: x[\"capacity\"] / x[\"turn_max_shots\"], axis=1)\n",
    "weapon_attacks[\"turn_damage_max\"] = weapon_attacks.apply(lambda x: x[\"turn_max_shots\"] * x[\"damage\"], axis=1)\n",
    "weapon_attacks[\"turn_damage_expected\"] = weapon_attacks.apply(lambda x: x[\"turn_damage_max\"] * x[\"chance_to_hit\"], axis=1)\n",
    "weapon_attacks.head()"
   ]
  },
  {
   "cell_type": "markdown",
   "metadata": {},
   "source": [
    "## Damage Ranking"
   ]
  },
  {
   "cell_type": "markdown",
   "metadata": {},
   "source": [
    "### Most Damaging Weapon"
   ]
  },
  {
   "cell_type": "markdown",
   "metadata": {},
   "source": [
    "In a single turn, shooting as much as possible, which weapon does the most damage.\n",
    "\n",
    "This takes into account reloading."
   ]
  },
  {
   "cell_type": "code",
   "execution_count": 5,
   "metadata": {},
   "outputs": [
    {
     "data": {
      "text/html": [
       "<div>\n",
       "<style scoped>\n",
       "    .dataframe tbody tr th:only-of-type {\n",
       "        vertical-align: middle;\n",
       "    }\n",
       "\n",
       "    .dataframe tbody tr th {\n",
       "        vertical-align: top;\n",
       "    }\n",
       "\n",
       "    .dataframe thead th {\n",
       "        text-align: right;\n",
       "    }\n",
       "</style>\n",
       "<table border=\"1\" class=\"dataframe\">\n",
       "  <thead>\n",
       "    <tr style=\"text-align: right;\">\n",
       "      <th></th>\n",
       "      <th>turn_damage</th>\n",
       "    </tr>\n",
       "    <tr>\n",
       "      <th>weapon</th>\n",
       "      <th></th>\n",
       "    </tr>\n",
       "  </thead>\n",
       "  <tbody>\n",
       "    <tr>\n",
       "      <th>grenade</th>\n",
       "      <td>22.698413</td>\n",
       "    </tr>\n",
       "    <tr>\n",
       "      <th>proximity_grenade</th>\n",
       "      <td>31.777778</td>\n",
       "    </tr>\n",
       "    <tr>\n",
       "      <th>alien_grenade</th>\n",
       "      <td>40.857143</td>\n",
       "    </tr>\n",
       "    <tr>\n",
       "      <th>pistol</th>\n",
       "      <td>47.666667</td>\n",
       "    </tr>\n",
       "    <tr>\n",
       "      <th>rifle</th>\n",
       "      <td>49.500000</td>\n",
       "    </tr>\n",
       "    <tr>\n",
       "      <th>high_explosive</th>\n",
       "      <td>49.936508</td>\n",
       "    </tr>\n",
       "    <tr>\n",
       "      <th>cannon_turret</th>\n",
       "      <td>60.000000</td>\n",
       "    </tr>\n",
       "    <tr>\n",
       "      <th>heavy_cannon</th>\n",
       "      <td>60.000000</td>\n",
       "    </tr>\n",
       "    <tr>\n",
       "      <th>auto_cannon</th>\n",
       "      <td>63.360000</td>\n",
       "    </tr>\n",
       "    <tr>\n",
       "      <th>small_launcher</th>\n",
       "      <td>69.142857</td>\n",
       "    </tr>\n",
       "    <tr>\n",
       "      <th>rocket_turret</th>\n",
       "      <td>71.683333</td>\n",
       "    </tr>\n",
       "    <tr>\n",
       "      <th>rocket_launcher</th>\n",
       "      <td>80.317460</td>\n",
       "    </tr>\n",
       "    <tr>\n",
       "      <th>laser_pistol</th>\n",
       "      <td>85.008000</td>\n",
       "    </tr>\n",
       "    <tr>\n",
       "      <th>laser_turret</th>\n",
       "      <td>91.666667</td>\n",
       "    </tr>\n",
       "    <tr>\n",
       "      <th>fusion_turret</th>\n",
       "      <td>116.666667</td>\n",
       "    </tr>\n",
       "    <tr>\n",
       "      <th>stun_rod</th>\n",
       "      <td>119.166667</td>\n",
       "    </tr>\n",
       "    <tr>\n",
       "      <th>laser_rifle</th>\n",
       "      <td>133.941176</td>\n",
       "    </tr>\n",
       "    <tr>\n",
       "      <th>plasma_pistol</th>\n",
       "      <td>143.000000</td>\n",
       "    </tr>\n",
       "    <tr>\n",
       "      <th>heavy_laser</th>\n",
       "      <td>150.000000</td>\n",
       "    </tr>\n",
       "    <tr>\n",
       "      <th>blaster_launcher</th>\n",
       "      <td>159.036145</td>\n",
       "    </tr>\n",
       "    <tr>\n",
       "      <th>plasma_turret</th>\n",
       "      <td>171.416667</td>\n",
       "    </tr>\n",
       "    <tr>\n",
       "      <th>plasma_rifle</th>\n",
       "      <td>201.666667</td>\n",
       "    </tr>\n",
       "    <tr>\n",
       "      <th>heavy_plasma</th>\n",
       "      <td>271.071429</td>\n",
       "    </tr>\n",
       "  </tbody>\n",
       "</table>\n",
       "</div>"
      ],
      "text/plain": [
       "                   turn_damage\n",
       "weapon                        \n",
       "grenade              22.698413\n",
       "proximity_grenade    31.777778\n",
       "alien_grenade        40.857143\n",
       "pistol               47.666667\n",
       "rifle                49.500000\n",
       "high_explosive       49.936508\n",
       "cannon_turret        60.000000\n",
       "heavy_cannon         60.000000\n",
       "auto_cannon          63.360000\n",
       "small_launcher       69.142857\n",
       "rocket_turret        71.683333\n",
       "rocket_launcher      80.317460\n",
       "laser_pistol         85.008000\n",
       "laser_turret         91.666667\n",
       "fusion_turret       116.666667\n",
       "stun_rod            119.166667\n",
       "laser_rifle         133.941176\n",
       "plasma_pistol       143.000000\n",
       "heavy_laser         150.000000\n",
       "blaster_launcher    159.036145\n",
       "plasma_turret       171.416667\n",
       "plasma_rifle        201.666667\n",
       "heavy_plasma        271.071429"
      ]
     },
     "execution_count": 5,
     "metadata": {},
     "output_type": "execute_result"
    }
   ],
   "source": [
    "most_damaging_weapon = weapon_attacks[[\"weapon\", \"turn_damage_expected\"]]\n",
    "most_damaging_weapon = most_damaging_weapon.rename(columns={\"turn_damage_expected\": \"turn_damage\"})\n",
    "most_damaging_weapon = most_damaging_weapon.groupby(\"weapon\").max()\n",
    "most_damaging_weapon = most_damaging_weapon.sort_values(by=[\"turn_damage\"])\n",
    "most_damaging_weapon"
   ]
  },
  {
   "cell_type": "code",
   "execution_count": 6,
   "metadata": {
    "scrolled": false
   },
   "outputs": [
    {
     "data": {
      "text/plain": [
       "Text(0, 0.5, 'Damage')"
      ]
     },
     "execution_count": 6,
     "metadata": {},
     "output_type": "execute_result"
    },
    {
     "data": {
      "image/png": "[encoded data removed]",
      "text/plain": [
       "<Figure size 432x288 with 1 Axes>"
      ]
     },
     "metadata": {
      "needs_background": "light"
     },
     "output_type": "display_data"
    }
   ],
   "source": [
    "ax = most_damaging_weapon.plot.bar(title=\"Max damage per turn\", legend=False)\n",
    "ax.set_xlabel(\"Weapon\")\n",
    "ax.set_ylabel(\"Damage\")"
   ]
  },
  {
   "cell_type": "markdown",
   "metadata": {},
   "source": [
    "### Most Damaging Snapshot"
   ]
  },
  {
   "cell_type": "code",
   "execution_count": 7,
   "metadata": {},
   "outputs": [
    {
     "data": {
      "text/html": [
       "<div>\n",
       "<style scoped>\n",
       "    .dataframe tbody tr th:only-of-type {\n",
       "        vertical-align: middle;\n",
       "    }\n",
       "\n",
       "    .dataframe tbody tr th {\n",
       "        vertical-align: top;\n",
       "    }\n",
       "\n",
       "    .dataframe thead th {\n",
       "        text-align: right;\n",
       "    }\n",
       "</style>\n",
       "<table border=\"1\" class=\"dataframe\">\n",
       "  <thead>\n",
       "    <tr style=\"text-align: right;\">\n",
       "      <th></th>\n",
       "      <th>turn_damage</th>\n",
       "    </tr>\n",
       "    <tr>\n",
       "      <th>weapon</th>\n",
       "      <th></th>\n",
       "    </tr>\n",
       "  </thead>\n",
       "  <tbody>\n",
       "    <tr>\n",
       "      <th>rifle</th>\n",
       "      <td>39.600000</td>\n",
       "    </tr>\n",
       "    <tr>\n",
       "      <th>auto_cannon</th>\n",
       "      <td>44.800000</td>\n",
       "    </tr>\n",
       "    <tr>\n",
       "      <th>pistol</th>\n",
       "      <td>47.666667</td>\n",
       "    </tr>\n",
       "    <tr>\n",
       "      <th>laser_pistol</th>\n",
       "      <td>50.600000</td>\n",
       "    </tr>\n",
       "    <tr>\n",
       "      <th>rocket_launcher</th>\n",
       "      <td>56.807512</td>\n",
       "    </tr>\n",
       "    <tr>\n",
       "      <th>rocket_turret</th>\n",
       "      <td>57.138889</td>\n",
       "    </tr>\n",
       "    <tr>\n",
       "      <th>cannon_turret</th>\n",
       "      <td>60.000000</td>\n",
       "    </tr>\n",
       "    <tr>\n",
       "      <th>heavy_cannon</th>\n",
       "      <td>60.000000</td>\n",
       "    </tr>\n",
       "    <tr>\n",
       "      <th>plasma_pistol</th>\n",
       "      <td>61.966667</td>\n",
       "    </tr>\n",
       "    <tr>\n",
       "      <th>small_launcher</th>\n",
       "      <td>65.663265</td>\n",
       "    </tr>\n",
       "    <tr>\n",
       "      <th>laser_turret</th>\n",
       "      <td>68.566667</td>\n",
       "    </tr>\n",
       "    <tr>\n",
       "      <th>laser_rifle</th>\n",
       "      <td>85.800000</td>\n",
       "    </tr>\n",
       "    <tr>\n",
       "      <th>plasma_rifle</th>\n",
       "      <td>126.133333</td>\n",
       "    </tr>\n",
       "    <tr>\n",
       "      <th>heavy_laser</th>\n",
       "      <td>150.000000</td>\n",
       "    </tr>\n",
       "    <tr>\n",
       "      <th>heavy_plasma</th>\n",
       "      <td>158.125000</td>\n",
       "    </tr>\n",
       "    <tr>\n",
       "      <th>plasma_turret</th>\n",
       "      <td>171.416667</td>\n",
       "    </tr>\n",
       "  </tbody>\n",
       "</table>\n",
       "</div>"
      ],
      "text/plain": [
       "                 turn_damage\n",
       "weapon                      \n",
       "rifle              39.600000\n",
       "auto_cannon        44.800000\n",
       "pistol             47.666667\n",
       "laser_pistol       50.600000\n",
       "rocket_launcher    56.807512\n",
       "rocket_turret      57.138889\n",
       "cannon_turret      60.000000\n",
       "heavy_cannon       60.000000\n",
       "plasma_pistol      61.966667\n",
       "small_launcher     65.663265\n",
       "laser_turret       68.566667\n",
       "laser_rifle        85.800000\n",
       "plasma_rifle      126.133333\n",
       "heavy_laser       150.000000\n",
       "heavy_plasma      158.125000\n",
       "plasma_turret     171.416667"
      ]
     },
     "execution_count": 7,
     "metadata": {},
     "output_type": "execute_result"
    }
   ],
   "source": [
    "most_damaging_weapon_snap = weapon_attacks[weapon_attacks[\"fire_mode\"] == \"snapshot\"]\n",
    "most_damaging_weapon_snap = most_damaging_weapon_snap[[\"weapon\", \"turn_damage_expected\"]]\n",
    "most_damaging_weapon_snap = most_damaging_weapon_snap.rename(columns={\"turn_damage_expected\": \"turn_damage\"})\n",
    "most_damaging_weapon_snap = most_damaging_weapon_snap.groupby(\"weapon\").max()\n",
    "most_damaging_weapon_snap = most_damaging_weapon_snap.sort_values(by=[\"turn_damage\"])\n",
    "most_damaging_weapon_snap"
   ]
  },
  {
   "cell_type": "code",
   "execution_count": 8,
   "metadata": {},
   "outputs": [
    {
     "data": {
      "text/plain": [
       "Text(0, 0.5, 'Damage')"
      ]
     },
     "execution_count": 8,
     "metadata": {},
     "output_type": "execute_result"
    },
    {
     "data": {
      "image/png": "[encoded data removed]",
      "text/plain": [
       "<Figure size 432x288 with 1 Axes>"
      ]
     },
     "metadata": {
      "needs_background": "light"
     },
     "output_type": "display_data"
    }
   ],
   "source": [
    "ax = most_damaging_weapon_snap.plot.bar(title=\"Max damage per turn on snapshot\", legend=False)\n",
    "ax.set_xlabel(\"Weapon\")\n",
    "ax.set_ylabel(\"Damage\")"
   ]
  },
  {
   "cell_type": "markdown",
   "metadata": {},
   "source": [
    "### Most Damaging Aimed"
   ]
  },
  {
   "cell_type": "code",
   "execution_count": 9,
   "metadata": {},
   "outputs": [
    {
     "data": {
      "text/html": [
       "<div>\n",
       "<style scoped>\n",
       "    .dataframe tbody tr th:only-of-type {\n",
       "        vertical-align: middle;\n",
       "    }\n",
       "\n",
       "    .dataframe tbody tr th {\n",
       "        vertical-align: top;\n",
       "    }\n",
       "\n",
       "    .dataframe thead th {\n",
       "        text-align: right;\n",
       "    }\n",
       "</style>\n",
       "<table border=\"1\" class=\"dataframe\">\n",
       "  <thead>\n",
       "    <tr style=\"text-align: right;\">\n",
       "      <th></th>\n",
       "      <th>turn_damage</th>\n",
       "    </tr>\n",
       "    <tr>\n",
       "      <th>weapon</th>\n",
       "      <th></th>\n",
       "    </tr>\n",
       "  </thead>\n",
       "  <tbody>\n",
       "    <tr>\n",
       "      <th>rifle</th>\n",
       "      <td>22.687500</td>\n",
       "    </tr>\n",
       "    <tr>\n",
       "      <th>auto_cannon</th>\n",
       "      <td>27.060000</td>\n",
       "    </tr>\n",
       "    <tr>\n",
       "      <th>laser_pistol</th>\n",
       "      <td>31.280000</td>\n",
       "    </tr>\n",
       "    <tr>\n",
       "      <th>cannon_turret</th>\n",
       "      <td>37.125000</td>\n",
       "    </tr>\n",
       "    <tr>\n",
       "      <th>heavy_cannon</th>\n",
       "      <td>37.125000</td>\n",
       "    </tr>\n",
       "    <tr>\n",
       "      <th>pistol</th>\n",
       "      <td>37.180000</td>\n",
       "    </tr>\n",
       "    <tr>\n",
       "      <th>plasma_pistol</th>\n",
       "      <td>40.516667</td>\n",
       "    </tr>\n",
       "    <tr>\n",
       "      <th>laser_rifle</th>\n",
       "      <td>66.000000</td>\n",
       "    </tr>\n",
       "    <tr>\n",
       "      <th>small_launcher</th>\n",
       "      <td>69.142857</td>\n",
       "    </tr>\n",
       "    <tr>\n",
       "      <th>rocket_turret</th>\n",
       "      <td>71.683333</td>\n",
       "    </tr>\n",
       "    <tr>\n",
       "      <th>plasma_rifle</th>\n",
       "      <td>73.333333</td>\n",
       "    </tr>\n",
       "    <tr>\n",
       "      <th>rocket_launcher</th>\n",
       "      <td>80.317460</td>\n",
       "    </tr>\n",
       "    <tr>\n",
       "      <th>laser_turret</th>\n",
       "      <td>91.666667</td>\n",
       "    </tr>\n",
       "    <tr>\n",
       "      <th>plasma_turret</th>\n",
       "      <td>100.833333</td>\n",
       "    </tr>\n",
       "    <tr>\n",
       "      <th>heavy_plasma</th>\n",
       "      <td>115.958333</td>\n",
       "    </tr>\n",
       "    <tr>\n",
       "      <th>fusion_turret</th>\n",
       "      <td>116.666667</td>\n",
       "    </tr>\n",
       "    <tr>\n",
       "      <th>heavy_laser</th>\n",
       "      <td>121.000000</td>\n",
       "    </tr>\n",
       "    <tr>\n",
       "      <th>blaster_launcher</th>\n",
       "      <td>159.036145</td>\n",
       "    </tr>\n",
       "  </tbody>\n",
       "</table>\n",
       "</div>"
      ],
      "text/plain": [
       "                  turn_damage\n",
       "weapon                       \n",
       "rifle               22.687500\n",
       "auto_cannon         27.060000\n",
       "laser_pistol        31.280000\n",
       "cannon_turret       37.125000\n",
       "heavy_cannon        37.125000\n",
       "pistol              37.180000\n",
       "plasma_pistol       40.516667\n",
       "laser_rifle         66.000000\n",
       "small_launcher      69.142857\n",
       "rocket_turret       71.683333\n",
       "plasma_rifle        73.333333\n",
       "rocket_launcher     80.317460\n",
       "laser_turret        91.666667\n",
       "plasma_turret      100.833333\n",
       "heavy_plasma       115.958333\n",
       "fusion_turret      116.666667\n",
       "heavy_laser        121.000000\n",
       "blaster_launcher   159.036145"
      ]
     },
     "execution_count": 9,
     "metadata": {},
     "output_type": "execute_result"
    }
   ],
   "source": [
    "most_damaging_weapon_aim = weapon_attacks[weapon_attacks[\"fire_mode\"] == \"aimed\"]\n",
    "most_damaging_weapon_aim = most_damaging_weapon_aim[[\"weapon\", \"turn_damage_expected\"]]\n",
    "most_damaging_weapon_aim = most_damaging_weapon_aim.rename(columns={\"turn_damage_expected\": \"turn_damage\"})\n",
    "most_damaging_weapon_aim = most_damaging_weapon_aim.groupby(\"weapon\").max()\n",
    "most_damaging_weapon_aim = most_damaging_weapon_aim.sort_values(by=[\"turn_damage\"])\n",
    "most_damaging_weapon_aim"
   ]
  },
  {
   "cell_type": "code",
   "execution_count": 10,
   "metadata": {},
   "outputs": [
    {
     "data": {
      "text/plain": [
       "Text(0, 0.5, 'Damage')"
      ]
     },
     "execution_count": 10,
     "metadata": {},
     "output_type": "execute_result"
    },
    {
     "data": {
      "image/png": "[encoded data removed]",
      "text/plain": [
       "<Figure size 432x288 with 1 Axes>"
      ]
     },
     "metadata": {
      "needs_background": "light"
     },
     "output_type": "display_data"
    }
   ],
   "source": [
    "ax = most_damaging_weapon_aim.plot.bar(title=\"Max damage per turn on aimed\", legend=False)\n",
    "ax.set_xlabel(\"Weapon\")\n",
    "ax.set_ylabel(\"Damage\")"
   ]
  },
  {
   "cell_type": "markdown",
   "metadata": {},
   "source": [
    "### Most Damaging Auto"
   ]
  },
  {
   "cell_type": "code",
   "execution_count": 11,
   "metadata": {},
   "outputs": [
    {
     "data": {
      "text/html": [
       "<div>\n",
       "<style scoped>\n",
       "    .dataframe tbody tr th:only-of-type {\n",
       "        vertical-align: middle;\n",
       "    }\n",
       "\n",
       "    .dataframe tbody tr th {\n",
       "        vertical-align: top;\n",
       "    }\n",
       "\n",
       "    .dataframe thead th {\n",
       "        text-align: right;\n",
       "    }\n",
       "</style>\n",
       "<table border=\"1\" class=\"dataframe\">\n",
       "  <thead>\n",
       "    <tr style=\"text-align: right;\">\n",
       "      <th></th>\n",
       "      <th>turn_damage</th>\n",
       "    </tr>\n",
       "    <tr>\n",
       "      <th>weapon</th>\n",
       "      <th></th>\n",
       "    </tr>\n",
       "  </thead>\n",
       "  <tbody>\n",
       "    <tr>\n",
       "      <th>rifle</th>\n",
       "      <td>49.500000</td>\n",
       "    </tr>\n",
       "    <tr>\n",
       "      <th>auto_cannon</th>\n",
       "      <td>63.360000</td>\n",
       "    </tr>\n",
       "    <tr>\n",
       "      <th>laser_pistol</th>\n",
       "      <td>85.008000</td>\n",
       "    </tr>\n",
       "    <tr>\n",
       "      <th>laser_rifle</th>\n",
       "      <td>133.941176</td>\n",
       "    </tr>\n",
       "    <tr>\n",
       "      <th>plasma_pistol</th>\n",
       "      <td>143.000000</td>\n",
       "    </tr>\n",
       "    <tr>\n",
       "      <th>plasma_rifle</th>\n",
       "      <td>201.666667</td>\n",
       "    </tr>\n",
       "    <tr>\n",
       "      <th>heavy_plasma</th>\n",
       "      <td>271.071429</td>\n",
       "    </tr>\n",
       "  </tbody>\n",
       "</table>\n",
       "</div>"
      ],
      "text/plain": [
       "               turn_damage\n",
       "weapon                    \n",
       "rifle            49.500000\n",
       "auto_cannon      63.360000\n",
       "laser_pistol     85.008000\n",
       "laser_rifle     133.941176\n",
       "plasma_pistol   143.000000\n",
       "plasma_rifle    201.666667\n",
       "heavy_plasma    271.071429"
      ]
     },
     "execution_count": 11,
     "metadata": {},
     "output_type": "execute_result"
    }
   ],
   "source": [
    "most_damaging_weapon_auto = weapon_attacks[weapon_attacks[\"fire_mode\"] == \"auto\"]\n",
    "most_damaging_weapon_auto = most_damaging_weapon_auto[[\"weapon\", \"turn_damage_expected\"]]\n",
    "most_damaging_weapon_auto = most_damaging_weapon_auto.rename(columns={\"turn_damage_expected\": \"turn_damage\"})\n",
    "most_damaging_weapon_auto = most_damaging_weapon_auto.groupby(\"weapon\").max()\n",
    "most_damaging_weapon_auto = most_damaging_weapon_auto.sort_values(by=[\"turn_damage\"])\n",
    "most_damaging_weapon_auto"
   ]
  },
  {
   "cell_type": "code",
   "execution_count": 12,
   "metadata": {},
   "outputs": [
    {
     "data": {
      "text/plain": [
       "Text(0, 0.5, 'Damage')"
      ]
     },
     "execution_count": 12,
     "metadata": {},
     "output_type": "execute_result"
    },
    {
     "data": {
      "image/png": "[encoded data removed]",
      "text/plain": [
       "<Figure size 432x288 with 1 Axes>"
      ]
     },
     "metadata": {
      "needs_background": "light"
     },
     "output_type": "display_data"
    }
   ],
   "source": [
    "ax = most_damaging_weapon_auto.plot.bar(title=\"Max damage per turn on auto\", legend=False)\n",
    "ax.set_xlabel(\"Weapon\")\n",
    "ax.set_ylabel(\"Damage\")"
   ]
  },
  {
   "cell_type": "markdown",
   "metadata": {},
   "source": [
    "### Most Damaging Grenade"
   ]
  },
  {
   "cell_type": "code",
   "execution_count": 13,
   "metadata": {},
   "outputs": [
    {
     "data": {
      "text/html": [
       "<div>\n",
       "<style scoped>\n",
       "    .dataframe tbody tr th:only-of-type {\n",
       "        vertical-align: middle;\n",
       "    }\n",
       "\n",
       "    .dataframe tbody tr th {\n",
       "        vertical-align: top;\n",
       "    }\n",
       "\n",
       "    .dataframe thead th {\n",
       "        text-align: right;\n",
       "    }\n",
       "</style>\n",
       "<table border=\"1\" class=\"dataframe\">\n",
       "  <thead>\n",
       "    <tr style=\"text-align: right;\">\n",
       "      <th></th>\n",
       "      <th>turn_damage</th>\n",
       "    </tr>\n",
       "    <tr>\n",
       "      <th>weapon</th>\n",
       "      <th></th>\n",
       "    </tr>\n",
       "  </thead>\n",
       "  <tbody>\n",
       "    <tr>\n",
       "      <th>grenade</th>\n",
       "      <td>22.698413</td>\n",
       "    </tr>\n",
       "    <tr>\n",
       "      <th>proximity_grenade</th>\n",
       "      <td>31.777778</td>\n",
       "    </tr>\n",
       "    <tr>\n",
       "      <th>alien_grenade</th>\n",
       "      <td>40.857143</td>\n",
       "    </tr>\n",
       "    <tr>\n",
       "      <th>high_explosive</th>\n",
       "      <td>49.936508</td>\n",
       "    </tr>\n",
       "  </tbody>\n",
       "</table>\n",
       "</div>"
      ],
      "text/plain": [
       "                   turn_damage\n",
       "weapon                        \n",
       "grenade              22.698413\n",
       "proximity_grenade    31.777778\n",
       "alien_grenade        40.857143\n",
       "high_explosive       49.936508"
      ]
     },
     "execution_count": 13,
     "metadata": {},
     "output_type": "execute_result"
    }
   ],
   "source": [
    "most_damaging_weapon_grenade = weapon_attacks[weapon_attacks[\"fire_mode\"] == \"grenade\"]\n",
    "most_damaging_weapon_grenade = most_damaging_weapon_grenade[[\"weapon\", \"turn_damage_expected\"]]\n",
    "most_damaging_weapon_grenade = most_damaging_weapon_grenade.rename(columns={\"turn_damage_expected\": \"turn_damage\"})\n",
    "most_damaging_weapon_grenade = most_damaging_weapon_grenade.set_index([\"weapon\"])\n",
    "most_damaging_weapon_grenade = most_damaging_weapon_grenade.sort_values(by=[\"turn_damage\"])\n",
    "most_damaging_weapon_grenade"
   ]
  },
  {
   "cell_type": "code",
   "execution_count": 14,
   "metadata": {},
   "outputs": [
    {
     "data": {
      "text/plain": [
       "Text(0, 0.5, 'Damage')"
      ]
     },
     "execution_count": 14,
     "metadata": {},
     "output_type": "execute_result"
    },
    {
     "data": {
      "image/png": "[encoded data removed]",
      "text/plain": [
       "<Figure size 432x288 with 1 Axes>"
      ]
     },
     "metadata": {
      "needs_background": "light"
     },
     "output_type": "display_data"
    }
   ],
   "source": [
    "ax = most_damaging_weapon_grenade.plot.bar(title=\"Max damage per turn for grenades\", legend=False)\n",
    "ax.set_xlabel(\"Weapon\")\n",
    "ax.set_ylabel(\"Damage\")"
   ]
  }
 ],
 "metadata": {
  "kernelspec": {
   "display_name": "Python 3",
   "language": "python",
   "name": "python3"
  },
  "language_info": {
   "codemirror_mode": {
    "name": "ipython",
    "version": 3
   },
   "file_extension": ".py",
   "mimetype": "text/x-python",
   "name": "python",
   "nbconvert_exporter": "python",
   "pygments_lexer": "ipython3",
   "version": "3.8.5"
  }
 },
 "nbformat": 4,
 "nbformat_minor": 4
}
