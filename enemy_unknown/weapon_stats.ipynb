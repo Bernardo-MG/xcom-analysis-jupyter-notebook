{
 "cells": [
  {
   "cell_type": "markdown",
   "metadata": {},
   "source": [
    "# Weapon Stats"
   ]
  },
  {
   "cell_type": "markdown",
   "metadata": {},
   "source": [
    "## Setting Up"
   ]
  },
  {
   "cell_type": "code",
   "execution_count": 1,
   "metadata": {},
   "outputs": [],
   "source": [
    "import pandas as pd\n",
    "from scripts.weapon import max_shots, burst\n",
    "\n",
    "weapon_stats = pd.read_csv(\"datasets/weapon_stats.csv\")\n",
    "ammo_stats = pd.read_csv(\"datasets/ammo_stats.csv\")\n",
    "weapon_firemodes = pd.read_csv(\"datasets/weapon_firemodes.csv\")\n",
    "damage_modifiers = pd.read_csv(\"datasets/damage_modifiers.csv\")"
   ]
  },
  {
   "cell_type": "code",
   "execution_count": 2,
   "metadata": {},
   "outputs": [],
   "source": [
    "%run weapon_full_data.ipynb"
   ]
  },
  {
   "cell_type": "markdown",
   "metadata": {},
   "source": [
    "## Weapon Stats"
   ]
  },
  {
   "cell_type": "markdown",
   "metadata": {},
   "source": [
    "### Average Damage"
   ]
  },
  {
   "cell_type": "markdown",
   "metadata": {},
   "source": [
    "Ignoring the rate of fire, but choosing the highest values among the fire modes."
   ]
  },
  {
   "cell_type": "code",
   "execution_count": 3,
   "metadata": {},
   "outputs": [],
   "source": [
    "average_damage_mean = weapon_data[[\"weapon\", \"turn_damage_expected\"]]\n",
    "average_damage_mean = average_damage_mean.groupby(\"weapon\").mean()"
   ]
  },
  {
   "cell_type": "code",
   "execution_count": 4,
   "metadata": {},
   "outputs": [],
   "source": [
    "average_damage_max = weapon_data[[\"weapon\", \"damage\"]]\n",
    "average_damage_max = average_damage_max.groupby(\"weapon\").mean()"
   ]
  },
  {
   "cell_type": "code",
   "execution_count": 5,
   "metadata": {},
   "outputs": [
    {
     "data": {
      "text/html": [
       "<div>\n",
       "<style scoped>\n",
       "    .dataframe tbody tr th:only-of-type {\n",
       "        vertical-align: middle;\n",
       "    }\n",
       "\n",
       "    .dataframe tbody tr th {\n",
       "        vertical-align: top;\n",
       "    }\n",
       "\n",
       "    .dataframe thead th {\n",
       "        text-align: right;\n",
       "    }\n",
       "</style>\n",
       "<table border=\"1\" class=\"dataframe\">\n",
       "  <thead>\n",
       "    <tr style=\"text-align: right;\">\n",
       "      <th></th>\n",
       "      <th>max</th>\n",
       "      <th>average</th>\n",
       "    </tr>\n",
       "    <tr>\n",
       "      <th>weapon</th>\n",
       "      <th></th>\n",
       "      <th></th>\n",
       "    </tr>\n",
       "  </thead>\n",
       "  <tbody>\n",
       "    <tr>\n",
       "      <th>grenade</th>\n",
       "      <td>50.000000</td>\n",
       "      <td>17.875000</td>\n",
       "    </tr>\n",
       "    <tr>\n",
       "      <th>proximity_grenade</th>\n",
       "      <td>70.000000</td>\n",
       "      <td>25.025000</td>\n",
       "    </tr>\n",
       "    <tr>\n",
       "      <th>rifle</th>\n",
       "      <td>30.000000</td>\n",
       "      <td>30.800000</td>\n",
       "    </tr>\n",
       "    <tr>\n",
       "      <th>alien_grenade</th>\n",
       "      <td>90.000000</td>\n",
       "      <td>32.175000</td>\n",
       "    </tr>\n",
       "    <tr>\n",
       "      <th>auto_cannon</th>\n",
       "      <td>44.666667</td>\n",
       "      <td>36.194889</td>\n",
       "    </tr>\n",
       "    <tr>\n",
       "      <th>pistol</th>\n",
       "      <td>26.000000</td>\n",
       "      <td>38.181000</td>\n",
       "    </tr>\n",
       "    <tr>\n",
       "      <th>high_explosive</th>\n",
       "      <td>110.000000</td>\n",
       "      <td>39.325000</td>\n",
       "    </tr>\n",
       "    <tr>\n",
       "      <th>rocket_launcher</th>\n",
       "      <td>88.333333</td>\n",
       "      <td>41.295833</td>\n",
       "    </tr>\n",
       "    <tr>\n",
       "      <th>heavy_cannon</th>\n",
       "      <td>56.000000</td>\n",
       "      <td>41.580000</td>\n",
       "    </tr>\n",
       "    <tr>\n",
       "      <th>cannon_turret</th>\n",
       "      <td>60.000000</td>\n",
       "      <td>44.550000</td>\n",
       "    </tr>\n",
       "    <tr>\n",
       "      <th>laser_pistol</th>\n",
       "      <td>46.000000</td>\n",
       "      <td>50.937333</td>\n",
       "    </tr>\n",
       "    <tr>\n",
       "      <th>rocket_turret</th>\n",
       "      <td>85.000000</td>\n",
       "      <td>52.593750</td>\n",
       "    </tr>\n",
       "    <tr>\n",
       "      <th>small_launcher</th>\n",
       "      <td>90.000000</td>\n",
       "      <td>59.400000</td>\n",
       "    </tr>\n",
       "    <tr>\n",
       "      <th>plasma_pistol</th>\n",
       "      <td>52.000000</td>\n",
       "      <td>69.593333</td>\n",
       "    </tr>\n",
       "    <tr>\n",
       "      <th>laser_turret</th>\n",
       "      <td>110.000000</td>\n",
       "      <td>71.087500</td>\n",
       "    </tr>\n",
       "    <tr>\n",
       "      <th>fusion_turret</th>\n",
       "      <td>140.000000</td>\n",
       "      <td>77.000000</td>\n",
       "    </tr>\n",
       "    <tr>\n",
       "      <th>laser_rifle</th>\n",
       "      <td>60.000000</td>\n",
       "      <td>80.960000</td>\n",
       "    </tr>\n",
       "    <tr>\n",
       "      <th>plasma_rifle</th>\n",
       "      <td>80.000000</td>\n",
       "      <td>100.906667</td>\n",
       "    </tr>\n",
       "    <tr>\n",
       "      <th>stun_rod</th>\n",
       "      <td>65.000000</td>\n",
       "      <td>107.250000</td>\n",
       "    </tr>\n",
       "    <tr>\n",
       "      <th>plasma_turret</th>\n",
       "      <td>110.000000</td>\n",
       "      <td>107.387500</td>\n",
       "    </tr>\n",
       "    <tr>\n",
       "      <th>heavy_laser</th>\n",
       "      <td>120.000000</td>\n",
       "      <td>110.550000</td>\n",
       "    </tr>\n",
       "    <tr>\n",
       "      <th>blaster_launcher</th>\n",
       "      <td>200.000000</td>\n",
       "      <td>132.000000</td>\n",
       "    </tr>\n",
       "    <tr>\n",
       "      <th>heavy_plasma</th>\n",
       "      <td>115.000000</td>\n",
       "      <td>133.879167</td>\n",
       "    </tr>\n",
       "  </tbody>\n",
       "</table>\n",
       "</div>"
      ],
      "text/plain": [
       "                          max     average\n",
       "weapon                                   \n",
       "grenade             50.000000   17.875000\n",
       "proximity_grenade   70.000000   25.025000\n",
       "rifle               30.000000   30.800000\n",
       "alien_grenade       90.000000   32.175000\n",
       "auto_cannon         44.666667   36.194889\n",
       "pistol              26.000000   38.181000\n",
       "high_explosive     110.000000   39.325000\n",
       "rocket_launcher     88.333333   41.295833\n",
       "heavy_cannon        56.000000   41.580000\n",
       "cannon_turret       60.000000   44.550000\n",
       "laser_pistol        46.000000   50.937333\n",
       "rocket_turret       85.000000   52.593750\n",
       "small_launcher      90.000000   59.400000\n",
       "plasma_pistol       52.000000   69.593333\n",
       "laser_turret       110.000000   71.087500\n",
       "fusion_turret      140.000000   77.000000\n",
       "laser_rifle         60.000000   80.960000\n",
       "plasma_rifle        80.000000  100.906667\n",
       "stun_rod            65.000000  107.250000\n",
       "plasma_turret      110.000000  107.387500\n",
       "heavy_laser        120.000000  110.550000\n",
       "blaster_launcher   200.000000  132.000000\n",
       "heavy_plasma       115.000000  133.879167"
      ]
     },
     "execution_count": 5,
     "metadata": {},
     "output_type": "execute_result"
    }
   ],
   "source": [
    "average_damage = average_damage_max.merge(average_damage_mean, on=\"weapon\")\n",
    "average_damage = average_damage.sort_values(by=[\"turn_damage_expected\"])\n",
    "average_damage = average_damage.rename(columns={\"damage\": \"max\", \"turn_damage_expected\": \"average\"})\n",
    "average_damage"
   ]
  },
  {
   "cell_type": "code",
   "execution_count": 6,
   "metadata": {},
   "outputs": [
    {
     "data": {
      "text/plain": [
       "Text(0, 0.5, 'Damage')"
      ]
     },
     "execution_count": 6,
     "metadata": {},
     "output_type": "execute_result"
    },
    {
     "data": {
      "image/png": "[encoded data removed]",
      "text/plain": [
       "<Figure size 432x288 with 1 Axes>"
      ]
     },
     "metadata": {
      "needs_background": "light"
     },
     "output_type": "display_data"
    }
   ],
   "source": [
    "ax = average_damage.plot.bar(title=\"Expected damage\", legend=False)\n",
    "ax.legend([\"Max\", \"Average\"])\n",
    "ax.xaxis.get_label().set_visible(False)\n",
    "ax.set_ylabel(\"Damage\")"
   ]
  },
  {
   "cell_type": "markdown",
   "metadata": {},
   "source": [
    "### Ammo"
   ]
  },
  {
   "cell_type": "code",
   "execution_count": 7,
   "metadata": {},
   "outputs": [
    {
     "data": {
      "text/html": [
       "<div>\n",
       "<style scoped>\n",
       "    .dataframe tbody tr th:only-of-type {\n",
       "        vertical-align: middle;\n",
       "    }\n",
       "\n",
       "    .dataframe tbody tr th {\n",
       "        vertical-align: top;\n",
       "    }\n",
       "\n",
       "    .dataframe thead th {\n",
       "        text-align: right;\n",
       "    }\n",
       "</style>\n",
       "<table border=\"1\" class=\"dataframe\">\n",
       "  <thead>\n",
       "    <tr style=\"text-align: right;\">\n",
       "      <th></th>\n",
       "      <th>ammo</th>\n",
       "    </tr>\n",
       "    <tr>\n",
       "      <th>weapon</th>\n",
       "      <th></th>\n",
       "    </tr>\n",
       "  </thead>\n",
       "  <tbody>\n",
       "    <tr>\n",
       "      <th>alien_grenade</th>\n",
       "      <td>1.0</td>\n",
       "    </tr>\n",
       "    <tr>\n",
       "      <th>rocket_launcher</th>\n",
       "      <td>1.0</td>\n",
       "    </tr>\n",
       "    <tr>\n",
       "      <th>proximity_grenade</th>\n",
       "      <td>1.0</td>\n",
       "    </tr>\n",
       "    <tr>\n",
       "      <th>high_explosive</th>\n",
       "      <td>1.0</td>\n",
       "    </tr>\n",
       "    <tr>\n",
       "      <th>grenade</th>\n",
       "      <td>1.0</td>\n",
       "    </tr>\n",
       "    <tr>\n",
       "      <th>small_launcher</th>\n",
       "      <td>1.0</td>\n",
       "    </tr>\n",
       "    <tr>\n",
       "      <th>blaster_launcher</th>\n",
       "      <td>1.0</td>\n",
       "    </tr>\n",
       "    <tr>\n",
       "      <th>heavy_cannon</th>\n",
       "      <td>6.0</td>\n",
       "    </tr>\n",
       "    <tr>\n",
       "      <th>rocket_turret</th>\n",
       "      <td>8.0</td>\n",
       "    </tr>\n",
       "    <tr>\n",
       "      <th>fusion_turret</th>\n",
       "      <td>8.0</td>\n",
       "    </tr>\n",
       "    <tr>\n",
       "      <th>pistol</th>\n",
       "      <td>12.0</td>\n",
       "    </tr>\n",
       "    <tr>\n",
       "      <th>auto_cannon</th>\n",
       "      <td>14.0</td>\n",
       "    </tr>\n",
       "    <tr>\n",
       "      <th>rifle</th>\n",
       "      <td>20.0</td>\n",
       "    </tr>\n",
       "    <tr>\n",
       "      <th>plasma_pistol</th>\n",
       "      <td>26.0</td>\n",
       "    </tr>\n",
       "    <tr>\n",
       "      <th>plasma_rifle</th>\n",
       "      <td>28.0</td>\n",
       "    </tr>\n",
       "    <tr>\n",
       "      <th>cannon_turret</th>\n",
       "      <td>30.0</td>\n",
       "    </tr>\n",
       "    <tr>\n",
       "      <th>heavy_plasma</th>\n",
       "      <td>35.0</td>\n",
       "    </tr>\n",
       "  </tbody>\n",
       "</table>\n",
       "</div>"
      ],
      "text/plain": [
       "                   ammo\n",
       "weapon                 \n",
       "alien_grenade       1.0\n",
       "rocket_launcher     1.0\n",
       "proximity_grenade   1.0\n",
       "high_explosive      1.0\n",
       "grenade             1.0\n",
       "small_launcher      1.0\n",
       "blaster_launcher    1.0\n",
       "heavy_cannon        6.0\n",
       "rocket_turret       8.0\n",
       "fusion_turret       8.0\n",
       "pistol             12.0\n",
       "auto_cannon        14.0\n",
       "rifle              20.0\n",
       "plasma_pistol      26.0\n",
       "plasma_rifle       28.0\n",
       "cannon_turret      30.0\n",
       "heavy_plasma       35.0"
      ]
     },
     "execution_count": 7,
     "metadata": {},
     "output_type": "execute_result"
    }
   ],
   "source": [
    "weapon_ammo = weapon_data[[\"weapon\", \"capacity\"]]\n",
    "weapon_ammo = weapon_ammo.rename(columns={\"capacity\": \"ammo\"})\n",
    "weapon_ammo = weapon_ammo.groupby(\"weapon\").max()\n",
    "weapon_ammo = weapon_ammo.sort_values(by=[\"ammo\"])\n",
    "\n",
    "# Remove weapons with unlimited ammo\n",
    "weapon_ammo = weapon_ammo[weapon_ammo[\"ammo\"] < 255]\n",
    "\n",
    "weapon_ammo"
   ]
  },
  {
   "cell_type": "code",
   "execution_count": 8,
   "metadata": {},
   "outputs": [
    {
     "data": {
      "text/plain": [
       "Text(0, 0.5, 'Shots')"
      ]
     },
     "execution_count": 8,
     "metadata": {},
     "output_type": "execute_result"
    },
    {
     "data": {
      "image/png": "[encoded data removed]",
      "text/plain": [
       "<Figure size 432x288 with 1 Axes>"
      ]
     },
     "metadata": {
      "needs_background": "light"
     },
     "output_type": "display_data"
    }
   ],
   "source": [
    "ax = weapon_ammo.plot.bar(title=\"Ammo\", legend=False)\n",
    "ax.xaxis.get_label().set_visible(False)\n",
    "ax.set_ylabel(\"Shots\")"
   ]
  },
  {
   "cell_type": "markdown",
   "metadata": {},
   "source": [
    "### Damage Per Clip"
   ]
  },
  {
   "cell_type": "code",
   "execution_count": 9,
   "metadata": {},
   "outputs": [
    {
     "data": {
      "text/html": [
       "<div>\n",
       "<style scoped>\n",
       "    .dataframe tbody tr th:only-of-type {\n",
       "        vertical-align: middle;\n",
       "    }\n",
       "\n",
       "    .dataframe tbody tr th {\n",
       "        vertical-align: top;\n",
       "    }\n",
       "\n",
       "    .dataframe thead th {\n",
       "        text-align: right;\n",
       "    }\n",
       "</style>\n",
       "<table border=\"1\" class=\"dataframe\">\n",
       "  <thead>\n",
       "    <tr style=\"text-align: right;\">\n",
       "      <th></th>\n",
       "      <th>clip_damage</th>\n",
       "    </tr>\n",
       "    <tr>\n",
       "      <th>weapon</th>\n",
       "      <th></th>\n",
       "    </tr>\n",
       "  </thead>\n",
       "  <tbody>\n",
       "    <tr>\n",
       "      <th>grenade</th>\n",
       "      <td>50.0</td>\n",
       "    </tr>\n",
       "    <tr>\n",
       "      <th>proximity_grenade</th>\n",
       "      <td>70.0</td>\n",
       "    </tr>\n",
       "    <tr>\n",
       "      <th>alien_grenade</th>\n",
       "      <td>90.0</td>\n",
       "    </tr>\n",
       "    <tr>\n",
       "      <th>small_launcher</th>\n",
       "      <td>90.0</td>\n",
       "    </tr>\n",
       "    <tr>\n",
       "      <th>rocket_launcher</th>\n",
       "      <td>100.0</td>\n",
       "    </tr>\n",
       "    <tr>\n",
       "      <th>high_explosive</th>\n",
       "      <td>110.0</td>\n",
       "    </tr>\n",
       "    <tr>\n",
       "      <th>blaster_launcher</th>\n",
       "      <td>200.0</td>\n",
       "    </tr>\n",
       "    <tr>\n",
       "      <th>pistol</th>\n",
       "      <td>312.0</td>\n",
       "    </tr>\n",
       "    <tr>\n",
       "      <th>heavy_cannon</th>\n",
       "      <td>360.0</td>\n",
       "    </tr>\n",
       "    <tr>\n",
       "      <th>rifle</th>\n",
       "      <td>600.0</td>\n",
       "    </tr>\n",
       "    <tr>\n",
       "      <th>auto_cannon</th>\n",
       "      <td>672.0</td>\n",
       "    </tr>\n",
       "    <tr>\n",
       "      <th>rocket_turret</th>\n",
       "      <td>680.0</td>\n",
       "    </tr>\n",
       "    <tr>\n",
       "      <th>fusion_turret</th>\n",
       "      <td>1120.0</td>\n",
       "    </tr>\n",
       "    <tr>\n",
       "      <th>plasma_pistol</th>\n",
       "      <td>1352.0</td>\n",
       "    </tr>\n",
       "    <tr>\n",
       "      <th>cannon_turret</th>\n",
       "      <td>1800.0</td>\n",
       "    </tr>\n",
       "    <tr>\n",
       "      <th>plasma_rifle</th>\n",
       "      <td>2240.0</td>\n",
       "    </tr>\n",
       "    <tr>\n",
       "      <th>heavy_plasma</th>\n",
       "      <td>4025.0</td>\n",
       "    </tr>\n",
       "  </tbody>\n",
       "</table>\n",
       "</div>"
      ],
      "text/plain": [
       "                   clip_damage\n",
       "weapon                        \n",
       "grenade                   50.0\n",
       "proximity_grenade         70.0\n",
       "alien_grenade             90.0\n",
       "small_launcher            90.0\n",
       "rocket_launcher          100.0\n",
       "high_explosive           110.0\n",
       "blaster_launcher         200.0\n",
       "pistol                   312.0\n",
       "heavy_cannon             360.0\n",
       "rifle                    600.0\n",
       "auto_cannon              672.0\n",
       "rocket_turret            680.0\n",
       "fusion_turret           1120.0\n",
       "plasma_pistol           1352.0\n",
       "cannon_turret           1800.0\n",
       "plasma_rifle            2240.0\n",
       "heavy_plasma            4025.0"
      ]
     },
     "execution_count": 9,
     "metadata": {},
     "output_type": "execute_result"
    }
   ],
   "source": [
    "damage_per_clip = weapon_data[[\"weapon\", \"clip_damage\"]]\n",
    "damage_per_clip = damage_per_clip.groupby(\"weapon\").max()\n",
    "damage_per_clip = damage_per_clip.sort_values(by=[\"clip_damage\"])\n",
    "damage_per_clip = damage_per_clip.dropna()\n",
    "\n",
    "# Remove weapons with unlimited ammo\n",
    "damage_per_clip = damage_per_clip[damage_per_clip[\"clip_damage\"] < 10000]\n",
    "\n",
    "damage_per_clip"
   ]
  },
  {
   "cell_type": "code",
   "execution_count": 10,
   "metadata": {},
   "outputs": [
    {
     "data": {
      "text/plain": [
       "Text(0, 0.5, 'Damage')"
      ]
     },
     "execution_count": 10,
     "metadata": {},
     "output_type": "execute_result"
    },
    {
     "data": {
      "image/png": "[encoded data removed]",
      "text/plain": [
       "<Figure size 432x288 with 1 Axes>"
      ]
     },
     "metadata": {
      "needs_background": "light"
     },
     "output_type": "display_data"
    }
   ],
   "source": [
    "ax = damage_per_clip.plot.bar(title=\"Damage per clip\", legend=False)\n",
    "ax.xaxis.get_label().set_visible(False)\n",
    "ax.set_ylabel(\"Damage\")"
   ]
  },
  {
   "cell_type": "markdown",
   "metadata": {},
   "source": [
    "### Shots Per Turn"
   ]
  },
  {
   "cell_type": "markdown",
   "metadata": {},
   "source": [
    "Supposing all the attacks are done on auto, or the highest rate of fire setting."
   ]
  },
  {
   "cell_type": "code",
   "execution_count": 11,
   "metadata": {
    "scrolled": false
   },
   "outputs": [],
   "source": [
    "shots_per_turn_max = weapon_data[[\"weapon\", \"turn_max_shots\"]]\n",
    "shots_per_turn_max = shots_per_turn_max.groupby(\"weapon\").max()"
   ]
  },
  {
   "cell_type": "code",
   "execution_count": 12,
   "metadata": {},
   "outputs": [],
   "source": [
    "shots_per_turn_average = weapon_data[[\"weapon\", \"turn_max_shots\"]]\n",
    "shots_per_turn_average = shots_per_turn_average.groupby(\"weapon\").mean()"
   ]
  },
  {
   "cell_type": "code",
   "execution_count": 13,
   "metadata": {},
   "outputs": [
    {
     "data": {
      "text/html": [
       "<div>\n",
       "<style scoped>\n",
       "    .dataframe tbody tr th:only-of-type {\n",
       "        vertical-align: middle;\n",
       "    }\n",
       "\n",
       "    .dataframe tbody tr th {\n",
       "        vertical-align: top;\n",
       "    }\n",
       "\n",
       "    .dataframe thead th {\n",
       "        text-align: right;\n",
       "    }\n",
       "</style>\n",
       "<table border=\"1\" class=\"dataframe\">\n",
       "  <thead>\n",
       "    <tr style=\"text-align: right;\">\n",
       "      <th></th>\n",
       "      <th>turn_shots_max</th>\n",
       "      <th>turn_shots_avg</th>\n",
       "    </tr>\n",
       "    <tr>\n",
       "      <th>weapon</th>\n",
       "      <th></th>\n",
       "      <th></th>\n",
       "    </tr>\n",
       "  </thead>\n",
       "  <tbody>\n",
       "    <tr>\n",
       "      <th>alien_grenade</th>\n",
       "      <td>1</td>\n",
       "      <td>1.000000</td>\n",
       "    </tr>\n",
       "    <tr>\n",
       "      <th>blaster_launcher</th>\n",
       "      <td>1</td>\n",
       "      <td>1.000000</td>\n",
       "    </tr>\n",
       "    <tr>\n",
       "      <th>fusion_turret</th>\n",
       "      <td>1</td>\n",
       "      <td>1.000000</td>\n",
       "    </tr>\n",
       "    <tr>\n",
       "      <th>grenade</th>\n",
       "      <td>1</td>\n",
       "      <td>1.000000</td>\n",
       "    </tr>\n",
       "    <tr>\n",
       "      <th>rocket_launcher</th>\n",
       "      <td>1</td>\n",
       "      <td>1.000000</td>\n",
       "    </tr>\n",
       "    <tr>\n",
       "      <th>high_explosive</th>\n",
       "      <td>1</td>\n",
       "      <td>1.000000</td>\n",
       "    </tr>\n",
       "    <tr>\n",
       "      <th>proximity_grenade</th>\n",
       "      <td>1</td>\n",
       "      <td>1.000000</td>\n",
       "    </tr>\n",
       "    <tr>\n",
       "      <th>rocket_turret</th>\n",
       "      <td>2</td>\n",
       "      <td>1.500000</td>\n",
       "    </tr>\n",
       "    <tr>\n",
       "      <th>small_launcher</th>\n",
       "      <td>2</td>\n",
       "      <td>1.500000</td>\n",
       "    </tr>\n",
       "    <tr>\n",
       "      <th>cannon_turret</th>\n",
       "      <td>3</td>\n",
       "      <td>2.000000</td>\n",
       "    </tr>\n",
       "    <tr>\n",
       "      <th>heavy_cannon</th>\n",
       "      <td>3</td>\n",
       "      <td>2.000000</td>\n",
       "    </tr>\n",
       "    <tr>\n",
       "      <th>heavy_laser</th>\n",
       "      <td>3</td>\n",
       "      <td>2.000000</td>\n",
       "    </tr>\n",
       "    <tr>\n",
       "      <th>laser_turret</th>\n",
       "      <td>3</td>\n",
       "      <td>2.000000</td>\n",
       "    </tr>\n",
       "    <tr>\n",
       "      <th>plasma_turret</th>\n",
       "      <td>3</td>\n",
       "      <td>2.000000</td>\n",
       "    </tr>\n",
       "    <tr>\n",
       "      <th>stun_rod</th>\n",
       "      <td>3</td>\n",
       "      <td>3.000000</td>\n",
       "    </tr>\n",
       "    <tr>\n",
       "      <th>plasma_rifle</th>\n",
       "      <td>6</td>\n",
       "      <td>3.333333</td>\n",
       "    </tr>\n",
       "    <tr>\n",
       "      <th>heavy_plasma</th>\n",
       "      <td>6</td>\n",
       "      <td>3.333333</td>\n",
       "    </tr>\n",
       "    <tr>\n",
       "      <th>auto_cannon</th>\n",
       "      <td>6</td>\n",
       "      <td>3.333333</td>\n",
       "    </tr>\n",
       "    <tr>\n",
       "      <th>rifle</th>\n",
       "      <td>6</td>\n",
       "      <td>3.666667</td>\n",
       "    </tr>\n",
       "    <tr>\n",
       "      <th>pistol</th>\n",
       "      <td>5</td>\n",
       "      <td>4.000000</td>\n",
       "    </tr>\n",
       "    <tr>\n",
       "      <th>laser_rifle</th>\n",
       "      <td>6</td>\n",
       "      <td>4.000000</td>\n",
       "    </tr>\n",
       "    <tr>\n",
       "      <th>plasma_pistol</th>\n",
       "      <td>9</td>\n",
       "      <td>4.333333</td>\n",
       "    </tr>\n",
       "    <tr>\n",
       "      <th>laser_pistol</th>\n",
       "      <td>12</td>\n",
       "      <td>6.000000</td>\n",
       "    </tr>\n",
       "  </tbody>\n",
       "</table>\n",
       "</div>"
      ],
      "text/plain": [
       "                   turn_shots_max  turn_shots_avg\n",
       "weapon                                           \n",
       "alien_grenade                   1        1.000000\n",
       "blaster_launcher                1        1.000000\n",
       "fusion_turret                   1        1.000000\n",
       "grenade                         1        1.000000\n",
       "rocket_launcher                 1        1.000000\n",
       "high_explosive                  1        1.000000\n",
       "proximity_grenade               1        1.000000\n",
       "rocket_turret                   2        1.500000\n",
       "small_launcher                  2        1.500000\n",
       "cannon_turret                   3        2.000000\n",
       "heavy_cannon                    3        2.000000\n",
       "heavy_laser                     3        2.000000\n",
       "laser_turret                    3        2.000000\n",
       "plasma_turret                   3        2.000000\n",
       "stun_rod                        3        3.000000\n",
       "plasma_rifle                    6        3.333333\n",
       "heavy_plasma                    6        3.333333\n",
       "auto_cannon                     6        3.333333\n",
       "rifle                           6        3.666667\n",
       "pistol                          5        4.000000\n",
       "laser_rifle                     6        4.000000\n",
       "plasma_pistol                   9        4.333333\n",
       "laser_pistol                   12        6.000000"
      ]
     },
     "execution_count": 13,
     "metadata": {},
     "output_type": "execute_result"
    }
   ],
   "source": [
    "shots_per_turn = shots_per_turn_max.merge(shots_per_turn_average, on=\"weapon\")\n",
    "shots_per_turn = shots_per_turn.rename(columns={\"turn_max_shots_x\": \"turn_shots_max\", \"turn_max_shots_y\": \"turn_shots_avg\"})\n",
    "shots_per_turn = shots_per_turn.sort_values(by=[\"turn_shots_avg\"])\n",
    "shots_per_turn"
   ]
  },
  {
   "cell_type": "code",
   "execution_count": 14,
   "metadata": {},
   "outputs": [
    {
     "data": {
      "text/plain": [
       "Text(0, 0.5, 'Shots')"
      ]
     },
     "execution_count": 14,
     "metadata": {},
     "output_type": "execute_result"
    },
    {
     "data": {
      "image/png": "[encoded data removed]",
      "text/plain": [
       "<Figure size 432x288 with 1 Axes>"
      ]
     },
     "metadata": {
      "needs_background": "light"
     },
     "output_type": "display_data"
    }
   ],
   "source": [
    "ax = shots_per_turn.plot.bar(title=\"Shots per turn\")\n",
    "ax.legend([\"Max\", \"Average\"])\n",
    "ax.xaxis.get_label().set_visible(False)\n",
    "ax.set_ylabel(\"Shots\")"
   ]
  },
  {
   "cell_type": "markdown",
   "metadata": {},
   "source": [
    "### Turns of Sustained Fire"
   ]
  },
  {
   "cell_type": "code",
   "execution_count": 15,
   "metadata": {},
   "outputs": [],
   "source": [
    "turns_sustained_fire_max = weapon_data[[\"weapon\", \"turns_to_reload\"]]\n",
    "turns_sustained_fire_max = turns_sustained_fire_max.groupby(\"weapon\").max()\n",
    "\n",
    "# Remove weapons with unlimited ammo\n",
    "turns_sustained_fire_max = turns_sustained_fire_max[turns_sustained_fire_max[\"turns_to_reload\"] < 70]"
   ]
  },
  {
   "cell_type": "code",
   "execution_count": 16,
   "metadata": {},
   "outputs": [],
   "source": [
    "turns_sustained_fire_average = weapon_data[[\"weapon\", \"turns_to_reload\"]]\n",
    "turns_sustained_fire_average = turns_sustained_fire_average.groupby(\"weapon\").mean()\n",
    "\n",
    "# Remove weapons with unlimited ammo\n",
    "turns_sustained_fire_average = turns_sustained_fire_average[turns_sustained_fire_average[\"turns_to_reload\"] < 70]"
   ]
  },
  {
   "cell_type": "code",
   "execution_count": 17,
   "metadata": {
    "scrolled": false
   },
   "outputs": [
    {
     "data": {
      "text/html": [
       "<div>\n",
       "<style scoped>\n",
       "    .dataframe tbody tr th:only-of-type {\n",
       "        vertical-align: middle;\n",
       "    }\n",
       "\n",
       "    .dataframe tbody tr th {\n",
       "        vertical-align: top;\n",
       "    }\n",
       "\n",
       "    .dataframe thead th {\n",
       "        text-align: right;\n",
       "    }\n",
       "</style>\n",
       "<table border=\"1\" class=\"dataframe\">\n",
       "  <thead>\n",
       "    <tr style=\"text-align: right;\">\n",
       "      <th></th>\n",
       "      <th>turns_sustained_fire_max</th>\n",
       "      <th>turns_sustained_fire_avg</th>\n",
       "    </tr>\n",
       "    <tr>\n",
       "      <th>weapon</th>\n",
       "      <th></th>\n",
       "      <th></th>\n",
       "    </tr>\n",
       "  </thead>\n",
       "  <tbody>\n",
       "    <tr>\n",
       "      <th>alien_grenade</th>\n",
       "      <td>1.0</td>\n",
       "      <td>1.000000</td>\n",
       "    </tr>\n",
       "    <tr>\n",
       "      <th>rocket_launcher</th>\n",
       "      <td>1.0</td>\n",
       "      <td>1.000000</td>\n",
       "    </tr>\n",
       "    <tr>\n",
       "      <th>proximity_grenade</th>\n",
       "      <td>1.0</td>\n",
       "      <td>1.000000</td>\n",
       "    </tr>\n",
       "    <tr>\n",
       "      <th>grenade</th>\n",
       "      <td>1.0</td>\n",
       "      <td>1.000000</td>\n",
       "    </tr>\n",
       "    <tr>\n",
       "      <th>high_explosive</th>\n",
       "      <td>1.0</td>\n",
       "      <td>1.000000</td>\n",
       "    </tr>\n",
       "    <tr>\n",
       "      <th>blaster_launcher</th>\n",
       "      <td>1.0</td>\n",
       "      <td>1.000000</td>\n",
       "    </tr>\n",
       "    <tr>\n",
       "      <th>small_launcher</th>\n",
       "      <td>1.0</td>\n",
       "      <td>0.750000</td>\n",
       "    </tr>\n",
       "    <tr>\n",
       "      <th>pistol</th>\n",
       "      <td>4.0</td>\n",
       "      <td>3.200000</td>\n",
       "    </tr>\n",
       "    <tr>\n",
       "      <th>heavy_cannon</th>\n",
       "      <td>6.0</td>\n",
       "      <td>4.000000</td>\n",
       "    </tr>\n",
       "    <tr>\n",
       "      <th>rocket_turret</th>\n",
       "      <td>8.0</td>\n",
       "      <td>6.000000</td>\n",
       "    </tr>\n",
       "    <tr>\n",
       "      <th>fusion_turret</th>\n",
       "      <td>8.0</td>\n",
       "      <td>8.000000</td>\n",
       "    </tr>\n",
       "    <tr>\n",
       "      <th>auto_cannon</th>\n",
       "      <td>14.0</td>\n",
       "      <td>7.000000</td>\n",
       "    </tr>\n",
       "    <tr>\n",
       "      <th>rifle</th>\n",
       "      <td>20.0</td>\n",
       "      <td>9.444444</td>\n",
       "    </tr>\n",
       "    <tr>\n",
       "      <th>plasma_pistol</th>\n",
       "      <td>26.0</td>\n",
       "      <td>12.518519</td>\n",
       "    </tr>\n",
       "    <tr>\n",
       "      <th>plasma_rifle</th>\n",
       "      <td>28.0</td>\n",
       "      <td>14.000000</td>\n",
       "    </tr>\n",
       "    <tr>\n",
       "      <th>cannon_turret</th>\n",
       "      <td>30.0</td>\n",
       "      <td>20.000000</td>\n",
       "    </tr>\n",
       "    <tr>\n",
       "      <th>heavy_plasma</th>\n",
       "      <td>35.0</td>\n",
       "      <td>17.500000</td>\n",
       "    </tr>\n",
       "  </tbody>\n",
       "</table>\n",
       "</div>"
      ],
      "text/plain": [
       "                   turns_sustained_fire_max  turns_sustained_fire_avg\n",
       "weapon                                                               \n",
       "alien_grenade                           1.0                  1.000000\n",
       "rocket_launcher                         1.0                  1.000000\n",
       "proximity_grenade                       1.0                  1.000000\n",
       "grenade                                 1.0                  1.000000\n",
       "high_explosive                          1.0                  1.000000\n",
       "blaster_launcher                        1.0                  1.000000\n",
       "small_launcher                          1.0                  0.750000\n",
       "pistol                                  4.0                  3.200000\n",
       "heavy_cannon                            6.0                  4.000000\n",
       "rocket_turret                           8.0                  6.000000\n",
       "fusion_turret                           8.0                  8.000000\n",
       "auto_cannon                            14.0                  7.000000\n",
       "rifle                                  20.0                  9.444444\n",
       "plasma_pistol                          26.0                 12.518519\n",
       "plasma_rifle                           28.0                 14.000000\n",
       "cannon_turret                          30.0                 20.000000\n",
       "heavy_plasma                           35.0                 17.500000"
      ]
     },
     "execution_count": 17,
     "metadata": {},
     "output_type": "execute_result"
    }
   ],
   "source": [
    "turns_sustained_fire = turns_sustained_fire_max.merge(turns_sustained_fire_average, on=\"weapon\")\n",
    "turns_sustained_fire = turns_sustained_fire.rename(columns={\"turns_to_reload_x\": \"turns_sustained_fire_max\", \"turns_to_reload_y\": \"turns_sustained_fire_avg\"})\n",
    "turns_sustained_fire = turns_sustained_fire.sort_values(by=[\"turns_sustained_fire_max\"])\n",
    "turns_sustained_fire"
   ]
  },
  {
   "cell_type": "code",
   "execution_count": 18,
   "metadata": {},
   "outputs": [
    {
     "data": {
      "text/plain": [
       "Text(0, 0.5, 'Turns')"
      ]
     },
     "execution_count": 18,
     "metadata": {},
     "output_type": "execute_result"
    },
    {
     "data": {
      "image/png": "[encoded data removed]",
      "text/plain": [
       "<Figure size 432x288 with 1 Axes>"
      ]
     },
     "metadata": {
      "needs_background": "light"
     },
     "output_type": "display_data"
    }
   ],
   "source": [
    "ax = turns_sustained_fire.plot.bar(title=\"Turns of sustained fire\")\n",
    "ax.legend([\"Max\", \"Average\"])\n",
    "ax.xaxis.get_label().set_visible(False)\n",
    "ax.set_ylabel(\"Turns\")"
   ]
  }
 ],
 "metadata": {
  "kernelspec": {
   "display_name": "Python 3",
   "language": "python",
   "name": "python3"
  },
  "language_info": {
   "codemirror_mode": {
    "name": "ipython",
    "version": 3
   },
   "file_extension": ".py",
   "mimetype": "text/x-python",
   "name": "python",
   "nbconvert_exporter": "python",
   "pygments_lexer": "ipython3",
   "version": "3.8.5"
  }
 },
 "nbformat": 4,
 "nbformat_minor": 4
}
