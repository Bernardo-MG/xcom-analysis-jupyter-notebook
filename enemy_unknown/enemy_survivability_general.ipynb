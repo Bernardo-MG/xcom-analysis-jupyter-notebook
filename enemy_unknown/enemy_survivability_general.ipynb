{
 "cells": [
  {
   "cell_type": "markdown",
   "metadata": {},
   "source": [
    "# Enemy Survivability "
   ]
  },
  {
   "cell_type": "markdown",
   "metadata": {},
   "source": [
    "How long it takes for each weapon to kill an enemy."
   ]
  },
  {
   "cell_type": "markdown",
   "metadata": {},
   "source": [
    "## Setting Up"
   ]
  },
  {
   "cell_type": "code",
   "execution_count": 1,
   "metadata": {},
   "outputs": [],
   "source": [
    "import math\n",
    "import pandas as pd\n",
    "\n",
    "%run weapon_full_data.ipynb"
   ]
  },
  {
   "cell_type": "markdown",
   "metadata": {},
   "source": [
    "## Weapon Damages by Alien"
   ]
  },
  {
   "cell_type": "code",
   "execution_count": 2,
   "metadata": {},
   "outputs": [],
   "source": [
    "weapon_damages_aliens = weapon_data_aliens.groupby([\"weapon\", \"alien\"]).mean()\n",
    "weapon_damages_aliens = weapon_damages_aliens[[\"penetrating_damage_expected\"]]\n",
    "weapon_damages_aliens = weapon_damages_aliens.rename(columns={\"penetrating_damage_expected\": \"turn_damage\"})\n",
    "weapon_damages_aliens = weapon_damages_aliens.sort_values(by=[\"turn_damage\"])"
   ]
  },
  {
   "cell_type": "markdown",
   "metadata": {},
   "source": [
    "## Alien Damage Lists"
   ]
  },
  {
   "cell_type": "markdown",
   "metadata": {},
   "source": [
    "### Averages"
   ]
  },
  {
   "cell_type": "code",
   "execution_count": 3,
   "metadata": {},
   "outputs": [],
   "source": [
    "weapon_damages_average = weapon_damages_aliens.groupby([\"weapon\"]).mean()\n",
    "weapon_damages_average = weapon_damages_average.sort_values(by=[\"turn_damage\"])"
   ]
  },
  {
   "cell_type": "code",
   "execution_count": 4,
   "metadata": {},
   "outputs": [],
   "source": [
    "weapon_damages_max = weapon_damages_aliens.groupby([\"weapon\"]).max()\n",
    "weapon_damages_max = weapon_damages_max.sort_values(by=[\"turn_damage\"])"
   ]
  },
  {
   "cell_type": "code",
   "execution_count": 5,
   "metadata": {},
   "outputs": [
    {
     "data": {
      "text/html": [
       "<div>\n",
       "<style scoped>\n",
       "    .dataframe tbody tr th:only-of-type {\n",
       "        vertical-align: middle;\n",
       "    }\n",
       "\n",
       "    .dataframe tbody tr th {\n",
       "        vertical-align: top;\n",
       "    }\n",
       "\n",
       "    .dataframe thead th {\n",
       "        text-align: right;\n",
       "    }\n",
       "</style>\n",
       "<table border=\"1\" class=\"dataframe\">\n",
       "  <thead>\n",
       "    <tr style=\"text-align: right;\">\n",
       "      <th></th>\n",
       "      <th>max</th>\n",
       "      <th>average</th>\n",
       "    </tr>\n",
       "    <tr>\n",
       "      <th>weapon</th>\n",
       "      <th></th>\n",
       "      <th></th>\n",
       "    </tr>\n",
       "  </thead>\n",
       "  <tbody>\n",
       "    <tr>\n",
       "      <th>grenade</th>\n",
       "      <td>16.891875</td>\n",
       "      <td>11.073563</td>\n",
       "    </tr>\n",
       "    <tr>\n",
       "      <th>pistol</th>\n",
       "      <td>35.293500</td>\n",
       "      <td>14.830860</td>\n",
       "    </tr>\n",
       "    <tr>\n",
       "      <th>rifle</th>\n",
       "      <td>37.552014</td>\n",
       "      <td>17.087889</td>\n",
       "    </tr>\n",
       "    <tr>\n",
       "      <th>proximity_grenade</th>\n",
       "      <td>24.041875</td>\n",
       "      <td>17.866063</td>\n",
       "    </tr>\n",
       "    <tr>\n",
       "      <th>alien_grenade</th>\n",
       "      <td>31.191875</td>\n",
       "      <td>24.706229</td>\n",
       "    </tr>\n",
       "    <tr>\n",
       "      <th>auto_cannon</th>\n",
       "      <td>43.546759</td>\n",
       "      <td>24.995090</td>\n",
       "    </tr>\n",
       "    <tr>\n",
       "      <th>heavy_cannon</th>\n",
       "      <td>43.931250</td>\n",
       "      <td>27.979875</td>\n",
       "    </tr>\n",
       "    <tr>\n",
       "      <th>rocket_launcher</th>\n",
       "      <td>40.828333</td>\n",
       "      <td>30.347243</td>\n",
       "    </tr>\n",
       "    <tr>\n",
       "      <th>cannon_turret</th>\n",
       "      <td>47.231250</td>\n",
       "      <td>30.861875</td>\n",
       "    </tr>\n",
       "    <tr>\n",
       "      <th>high_explosive</th>\n",
       "      <td>38.341875</td>\n",
       "      <td>31.546396</td>\n",
       "    </tr>\n",
       "    <tr>\n",
       "      <th>laser_pistol</th>\n",
       "      <td>64.702000</td>\n",
       "      <td>40.414440</td>\n",
       "    </tr>\n",
       "    <tr>\n",
       "      <th>rocket_turret</th>\n",
       "      <td>57.677813</td>\n",
       "      <td>45.107906</td>\n",
       "    </tr>\n",
       "    <tr>\n",
       "      <th>small_launcher</th>\n",
       "      <td>62.983594</td>\n",
       "      <td>46.951953</td>\n",
       "    </tr>\n",
       "    <tr>\n",
       "      <th>plasma_pistol</th>\n",
       "      <td>78.252778</td>\n",
       "      <td>52.044056</td>\n",
       "    </tr>\n",
       "    <tr>\n",
       "      <th>laser_rifle</th>\n",
       "      <td>88.584833</td>\n",
       "      <td>62.525161</td>\n",
       "    </tr>\n",
       "    <tr>\n",
       "      <th>fusion_turret</th>\n",
       "      <td>78.100000</td>\n",
       "      <td>64.317917</td>\n",
       "    </tr>\n",
       "    <tr>\n",
       "      <th>laser_turret</th>\n",
       "      <td>79.633125</td>\n",
       "      <td>66.726000</td>\n",
       "    </tr>\n",
       "    <tr>\n",
       "      <th>stun_rod</th>\n",
       "      <td>102.712500</td>\n",
       "      <td>69.781250</td>\n",
       "    </tr>\n",
       "    <tr>\n",
       "      <th>plasma_rifle</th>\n",
       "      <td>113.772083</td>\n",
       "      <td>87.691644</td>\n",
       "    </tr>\n",
       "    <tr>\n",
       "      <th>plasma_turret</th>\n",
       "      <td>109.126875</td>\n",
       "      <td>89.785896</td>\n",
       "    </tr>\n",
       "    <tr>\n",
       "      <th>heavy_laser</th>\n",
       "      <td>119.301875</td>\n",
       "      <td>101.682167</td>\n",
       "    </tr>\n",
       "    <tr>\n",
       "      <th>blaster_launcher</th>\n",
       "      <td>145.200000</td>\n",
       "      <td>116.028000</td>\n",
       "    </tr>\n",
       "    <tr>\n",
       "      <th>heavy_plasma</th>\n",
       "      <td>161.203472</td>\n",
       "      <td>133.594236</td>\n",
       "    </tr>\n",
       "  </tbody>\n",
       "</table>\n",
       "</div>"
      ],
      "text/plain": [
       "                          max     average\n",
       "weapon                                   \n",
       "grenade             16.891875   11.073563\n",
       "pistol              35.293500   14.830860\n",
       "rifle               37.552014   17.087889\n",
       "proximity_grenade   24.041875   17.866063\n",
       "alien_grenade       31.191875   24.706229\n",
       "auto_cannon         43.546759   24.995090\n",
       "heavy_cannon        43.931250   27.979875\n",
       "rocket_launcher     40.828333   30.347243\n",
       "cannon_turret       47.231250   30.861875\n",
       "high_explosive      38.341875   31.546396\n",
       "laser_pistol        64.702000   40.414440\n",
       "rocket_turret       57.677813   45.107906\n",
       "small_launcher      62.983594   46.951953\n",
       "plasma_pistol       78.252778   52.044056\n",
       "laser_rifle         88.584833   62.525161\n",
       "fusion_turret       78.100000   64.317917\n",
       "laser_turret        79.633125   66.726000\n",
       "stun_rod           102.712500   69.781250\n",
       "plasma_rifle       113.772083   87.691644\n",
       "plasma_turret      109.126875   89.785896\n",
       "heavy_laser        119.301875  101.682167\n",
       "blaster_launcher   145.200000  116.028000\n",
       "heavy_plasma       161.203472  133.594236"
      ]
     },
     "execution_count": 5,
     "metadata": {},
     "output_type": "execute_result"
    }
   ],
   "source": [
    "average_damages_expected = weapon_damages_max.merge(weapon_damages_average, on=\"weapon\")\n",
    "average_damages_expected = average_damages_expected.rename(columns={\"turn_damage_x\": \"max\", \"turn_damage_y\": \"average\"})\n",
    "average_damages_expected = average_damages_expected.sort_values(by=[\"average\"])\n",
    "average_damages_expected"
   ]
  },
  {
   "cell_type": "code",
   "execution_count": 6,
   "metadata": {
    "scrolled": false
   },
   "outputs": [
    {
     "data": {
      "text/plain": [
       "Text(0, 0.5, 'Damage')"
      ]
     },
     "execution_count": 6,
     "metadata": {},
     "output_type": "execute_result"
    },
    {
     "data": {
      "image/png": "[encoded data removed]",
      "text/plain": [
       "<Figure size 432x288 with 1 Axes>"
      ]
     },
     "metadata": {
      "needs_background": "light"
     },
     "output_type": "display_data"
    }
   ],
   "source": [
    "ax = average_damages_expected.plot.bar(title=\"Damage per turn on average alien\", legend=False)\n",
    "ax.legend([\"Max\", \"Average\"])\n",
    "ax.xaxis.get_label().set_visible(False)\n",
    "ax.set_ylabel(\"Damage\")"
   ]
  },
  {
   "cell_type": "markdown",
   "metadata": {},
   "source": [
    "### Damage Per Time Unit"
   ]
  },
  {
   "cell_type": "code",
   "execution_count": 7,
   "metadata": {},
   "outputs": [],
   "source": [
    "weapon_damages_per_tu_targets_average = weapon_data_aliens[[\"weapon\", \"penetrating_damage_per_time_unit\"]]\n",
    "weapon_damages_per_tu_targets_average = weapon_damages_per_tu_targets_average.groupby([\"weapon\"]).mean()"
   ]
  },
  {
   "cell_type": "code",
   "execution_count": 8,
   "metadata": {},
   "outputs": [],
   "source": [
    "weapon_damages_per_tu_targets_max = weapon_data_aliens[[\"weapon\", \"penetrating_damage_per_time_unit\"]]\n",
    "weapon_damages_per_tu_targets_max = weapon_damages_per_tu_targets_max.groupby([\"weapon\"]).max()"
   ]
  },
  {
   "cell_type": "code",
   "execution_count": 9,
   "metadata": {},
   "outputs": [
    {
     "data": {
      "text/html": [
       "<div>\n",
       "<style scoped>\n",
       "    .dataframe tbody tr th:only-of-type {\n",
       "        vertical-align: middle;\n",
       "    }\n",
       "\n",
       "    .dataframe tbody tr th {\n",
       "        vertical-align: top;\n",
       "    }\n",
       "\n",
       "    .dataframe thead th {\n",
       "        text-align: right;\n",
       "    }\n",
       "</style>\n",
       "<table border=\"1\" class=\"dataframe\">\n",
       "  <thead>\n",
       "    <tr style=\"text-align: right;\">\n",
       "      <th></th>\n",
       "      <th>max</th>\n",
       "      <th>average</th>\n",
       "    </tr>\n",
       "    <tr>\n",
       "      <th>weapon</th>\n",
       "      <th></th>\n",
       "      <th></th>\n",
       "    </tr>\n",
       "  </thead>\n",
       "  <tbody>\n",
       "    <tr>\n",
       "      <th>rifle</th>\n",
       "      <td>0.583929</td>\n",
       "      <td>0.265714</td>\n",
       "    </tr>\n",
       "    <tr>\n",
       "      <th>pistol</th>\n",
       "      <td>0.968750</td>\n",
       "      <td>0.407083</td>\n",
       "    </tr>\n",
       "    <tr>\n",
       "      <th>grenade</th>\n",
       "      <td>0.630000</td>\n",
       "      <td>0.413000</td>\n",
       "    </tr>\n",
       "    <tr>\n",
       "      <th>auto_cannon</th>\n",
       "      <td>0.821895</td>\n",
       "      <td>0.471754</td>\n",
       "    </tr>\n",
       "    <tr>\n",
       "      <th>heavy_cannon</th>\n",
       "      <td>0.942478</td>\n",
       "      <td>0.600265</td>\n",
       "    </tr>\n",
       "    <tr>\n",
       "      <th>cannon_turret</th>\n",
       "      <td>1.013274</td>\n",
       "      <td>0.662094</td>\n",
       "    </tr>\n",
       "    <tr>\n",
       "      <th>proximity_grenade</th>\n",
       "      <td>0.896667</td>\n",
       "      <td>0.666333</td>\n",
       "    </tr>\n",
       "    <tr>\n",
       "      <th>laser_pistol</th>\n",
       "      <td>1.297500</td>\n",
       "      <td>0.810450</td>\n",
       "    </tr>\n",
       "    <tr>\n",
       "      <th>plasma_pistol</th>\n",
       "      <td>1.231250</td>\n",
       "      <td>0.818875</td>\n",
       "    </tr>\n",
       "    <tr>\n",
       "      <th>alien_grenade</th>\n",
       "      <td>1.163333</td>\n",
       "      <td>0.921444</td>\n",
       "    </tr>\n",
       "    <tr>\n",
       "      <th>rocket_turret</th>\n",
       "      <td>1.370833</td>\n",
       "      <td>1.072083</td>\n",
       "    </tr>\n",
       "    <tr>\n",
       "      <th>rocket_launcher</th>\n",
       "      <td>1.455556</td>\n",
       "      <td>1.081898</td>\n",
       "    </tr>\n",
       "    <tr>\n",
       "      <th>laser_rifle</th>\n",
       "      <td>1.575688</td>\n",
       "      <td>1.112156</td>\n",
       "    </tr>\n",
       "    <tr>\n",
       "      <th>small_launcher</th>\n",
       "      <td>1.517391</td>\n",
       "      <td>1.131159</td>\n",
       "    </tr>\n",
       "    <tr>\n",
       "      <th>high_explosive</th>\n",
       "      <td>1.430000</td>\n",
       "      <td>1.176556</td>\n",
       "    </tr>\n",
       "    <tr>\n",
       "      <th>stun_rod</th>\n",
       "      <td>2.075000</td>\n",
       "      <td>1.409722</td>\n",
       "    </tr>\n",
       "    <tr>\n",
       "      <th>plasma_rifle</th>\n",
       "      <td>1.839286</td>\n",
       "      <td>1.417659</td>\n",
       "    </tr>\n",
       "    <tr>\n",
       "      <th>laser_turret</th>\n",
       "      <td>1.986111</td>\n",
       "      <td>1.664198</td>\n",
       "    </tr>\n",
       "    <tr>\n",
       "      <th>fusion_turret</th>\n",
       "      <td>2.151515</td>\n",
       "      <td>1.771843</td>\n",
       "    </tr>\n",
       "    <tr>\n",
       "      <th>plasma_turret</th>\n",
       "      <td>2.383333</td>\n",
       "      <td>1.960926</td>\n",
       "    </tr>\n",
       "    <tr>\n",
       "      <th>heavy_laser</th>\n",
       "      <td>2.521505</td>\n",
       "      <td>2.149104</td>\n",
       "    </tr>\n",
       "    <tr>\n",
       "      <th>blaster_launcher</th>\n",
       "      <td>2.750000</td>\n",
       "      <td>2.197500</td>\n",
       "    </tr>\n",
       "    <tr>\n",
       "      <th>heavy_plasma</th>\n",
       "      <td>2.694000</td>\n",
       "      <td>2.232600</td>\n",
       "    </tr>\n",
       "  </tbody>\n",
       "</table>\n",
       "</div>"
      ],
      "text/plain": [
       "                        max   average\n",
       "weapon                               \n",
       "rifle              0.583929  0.265714\n",
       "pistol             0.968750  0.407083\n",
       "grenade            0.630000  0.413000\n",
       "auto_cannon        0.821895  0.471754\n",
       "heavy_cannon       0.942478  0.600265\n",
       "cannon_turret      1.013274  0.662094\n",
       "proximity_grenade  0.896667  0.666333\n",
       "laser_pistol       1.297500  0.810450\n",
       "plasma_pistol      1.231250  0.818875\n",
       "alien_grenade      1.163333  0.921444\n",
       "rocket_turret      1.370833  1.072083\n",
       "rocket_launcher    1.455556  1.081898\n",
       "laser_rifle        1.575688  1.112156\n",
       "small_launcher     1.517391  1.131159\n",
       "high_explosive     1.430000  1.176556\n",
       "stun_rod           2.075000  1.409722\n",
       "plasma_rifle       1.839286  1.417659\n",
       "laser_turret       1.986111  1.664198\n",
       "fusion_turret      2.151515  1.771843\n",
       "plasma_turret      2.383333  1.960926\n",
       "heavy_laser        2.521505  2.149104\n",
       "blaster_launcher   2.750000  2.197500\n",
       "heavy_plasma       2.694000  2.232600"
      ]
     },
     "execution_count": 9,
     "metadata": {},
     "output_type": "execute_result"
    }
   ],
   "source": [
    "weapon_damages_per_tu_targets_expected = weapon_damages_per_tu_targets_max.merge(weapon_damages_per_tu_targets_average, on=\"weapon\")\n",
    "weapon_damages_per_tu_targets_expected = weapon_damages_per_tu_targets_expected.rename(columns={\"penetrating_damage_per_time_unit_x\": \"max\", \"penetrating_damage_per_time_unit_y\": \"average\"})\n",
    "weapon_damages_per_tu_targets_expected = weapon_damages_per_tu_targets_expected.sort_values(by=[\"average\"])\n",
    "weapon_damages_per_tu_targets_expected"
   ]
  },
  {
   "cell_type": "code",
   "execution_count": 10,
   "metadata": {
    "scrolled": false
   },
   "outputs": [
    {
     "data": {
      "text/plain": [
       "Text(0, 0.5, 'Ratio')"
      ]
     },
     "execution_count": 10,
     "metadata": {},
     "output_type": "execute_result"
    },
    {
     "data": {
      "image/png": "[encoded data removed]",
      "text/plain": [
       "<Figure size 432x288 with 1 Axes>"
      ]
     },
     "metadata": {
      "needs_background": "light"
     },
     "output_type": "display_data"
    }
   ],
   "source": [
    "ax = weapon_damages_per_tu_targets_expected.plot.bar(title=\"Damage per time unit on average alien\", legend=False)\n",
    "ax.legend([\"Max\", \"Average\"])\n",
    "ax.xaxis.get_label().set_visible(False)\n",
    "ax.set_ylabel(\"Ratio\")"
   ]
  },
  {
   "cell_type": "markdown",
   "metadata": {},
   "source": [
    "### Hits to Kill"
   ]
  },
  {
   "cell_type": "code",
   "execution_count": 11,
   "metadata": {},
   "outputs": [],
   "source": [
    "hits_to_kill_average = weapon_data_aliens[[\"weapon\", \"hits_to_kill\"]]\n",
    "hits_to_kill_average = hits_to_kill_average[hits_to_kill_average[\"hits_to_kill\"] < 200]\n",
    "hits_to_kill_average = hits_to_kill_average.groupby([\"weapon\"]).mean()\n",
    "hits_to_kill_average[\"hits_to_kill\"] = hits_to_kill_average.apply(lambda x: math.ceil(x[\"hits_to_kill\"]), axis=1)\n",
    "hits_to_kill_average = hits_to_kill_average.sort_values(by=[\"hits_to_kill\"])"
   ]
  },
  {
   "cell_type": "code",
   "execution_count": 12,
   "metadata": {
    "scrolled": false
   },
   "outputs": [
    {
     "data": {
      "text/plain": [
       "Text(0, 0.5, 'Hits')"
      ]
     },
     "execution_count": 12,
     "metadata": {},
     "output_type": "execute_result"
    },
    {
     "data": {
      "image/png": "[encoded data removed]",
      "text/plain": [
       "<Figure size 432x288 with 1 Axes>"
      ]
     },
     "metadata": {
      "needs_background": "light"
     },
     "output_type": "display_data"
    }
   ],
   "source": [
    "ax = hits_to_kill_average.plot.bar(title=\"Hits to kill on average alien\", legend=False)\n",
    "ax.xaxis.get_label().set_visible(False)\n",
    "ax.set_ylabel(\"Hits\")"
   ]
  },
  {
   "cell_type": "markdown",
   "metadata": {},
   "source": [
    "### Expected Kills in a Turn"
   ]
  },
  {
   "cell_type": "code",
   "execution_count": 13,
   "metadata": {},
   "outputs": [],
   "source": [
    "expected_kills = weapon_data_aliens[[\"weapon\", \"expected_kills\"]]\n",
    "expected_kills = expected_kills.groupby([\"weapon\"]).mean()\n",
    "expected_kills[\"expected_kills\"] = expected_kills.apply(lambda x: math.ceil(x[\"expected_kills\"]), axis=1)\n",
    "expected_kills = expected_kills.sort_values(by=[\"expected_kills\"])"
   ]
  },
  {
   "cell_type": "code",
   "execution_count": 14,
   "metadata": {},
   "outputs": [
    {
     "data": {
      "text/plain": [
       "Text(0, 0.5, 'Kills')"
      ]
     },
     "execution_count": 14,
     "metadata": {},
     "output_type": "execute_result"
    },
    {
     "data": {
      "image/png": "[encoded data removed]",
      "text/plain": [
       "<Figure size 432x288 with 1 Axes>"
      ]
     },
     "metadata": {
      "needs_background": "light"
     },
     "output_type": "display_data"
    }
   ],
   "source": [
    "ax = expected_kills.plot.bar(title=\"Expected kills on sustained fire\", legend=False)\n",
    "ax.xaxis.get_label().set_visible(False)\n",
    "ax.set_ylabel(\"Kills\")"
   ]
  }
 ],
 "metadata": {
  "kernelspec": {
   "display_name": "Python 3",
   "language": "python",
   "name": "python3"
  },
  "language_info": {
   "codemirror_mode": {
    "name": "ipython",
    "version": 3
   },
   "file_extension": ".py",
   "mimetype": "text/x-python",
   "name": "python",
   "nbconvert_exporter": "python",
   "pygments_lexer": "ipython3",
   "version": "3.8.5"
  }
 },
 "nbformat": 4,
 "nbformat_minor": 4
}
