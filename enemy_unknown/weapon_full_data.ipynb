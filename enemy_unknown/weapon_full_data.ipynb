{
 "cells": [
  {
   "cell_type": "markdown",
   "metadata": {},
   "source": [
    "# Full Data Calculation for Weapons"
   ]
  },
  {
   "cell_type": "markdown",
   "metadata": {},
   "source": [
    "## Setting Up"
   ]
  },
  {
   "cell_type": "code",
   "execution_count": 1,
   "metadata": {},
   "outputs": [],
   "source": [
    "import pandas as pd\n",
    "from scripts.weapon import max_shots, burst\n",
    "from scripts.accuracy import average_to_hit\n",
    "\n",
    "aliens = pd.read_csv(\"datasets/aliens.csv\")\n",
    "weapon_stats = pd.read_csv(\"datasets/weapon_stats.csv\")\n",
    "ammo_stats = pd.read_csv(\"datasets/ammo_stats.csv\")\n",
    "weapon_firemodes = pd.read_csv(\"datasets/weapon_firemodes.csv\")\n",
    "damage_modifiers = pd.read_csv(\"datasets/damage_modifiers.csv\")"
   ]
  },
  {
   "cell_type": "markdown",
   "metadata": {},
   "source": [
    "## Data Merge"
   ]
  },
  {
   "cell_type": "code",
   "execution_count": 2,
   "metadata": {
    "scrolled": false
   },
   "outputs": [],
   "source": [
    "weapon_data = weapon_stats.merge(ammo_stats, on=\"weapon\")\n",
    "weapon_data = weapon_data.merge(weapon_firemodes, on=\"weapon\")"
   ]
  },
  {
   "cell_type": "markdown",
   "metadata": {},
   "source": [
    "## Chance to Hit"
   ]
  },
  {
   "cell_type": "markdown",
   "metadata": {},
   "source": [
    "We will use an average Accuracy of 50. Meaning the soldier fails half of the time.\n",
    "\n",
    "The chance of hit formula is simple. Just multiply the soldier's accuracy chance by the weapon's accuracy chance. So an average of 50 to a weapon of Accuracy 90 means 0.50 * 0.9 = 0.45 chance of hit."
   ]
  },
  {
   "cell_type": "code",
   "execution_count": 3,
   "metadata": {
    "scrolled": true
   },
   "outputs": [],
   "source": [
    "weapon_data[\"average_chance_to_hit\"] = weapon_data.apply(lambda x: average_to_hit(x[\"accuracy\"]), axis=1)"
   ]
  },
  {
   "cell_type": "markdown",
   "metadata": {},
   "source": [
    "## Shots"
   ]
  },
  {
   "cell_type": "code",
   "execution_count": 4,
   "metadata": {
    "scrolled": false
   },
   "outputs": [],
   "source": [
    "weapon_data[\"burst\"] = weapon_data.apply(burst, axis=1)\n",
    "weapon_data[\"turn_max_shots\"] = weapon_data.apply(max_shots, axis=1)\n",
    "weapon_data[\"turn_max_shots\"] = weapon_data.apply(max_shots, axis=1)\n",
    "weapon_data[\"turns_to_reload\"] = weapon_data.apply(lambda x: x[\"capacity\"] / x[\"turn_max_shots\"], axis=1)"
   ]
  },
  {
   "cell_type": "markdown",
   "metadata": {},
   "source": [
    "## Damage Range"
   ]
  },
  {
   "cell_type": "code",
   "execution_count": 5,
   "metadata": {},
   "outputs": [],
   "source": [
    "weapon_data[\"turn_damage_max\"] = weapon_data.apply(lambda x: x[\"turn_max_shots\"] * x[\"damage\"], axis=1)\n",
    "weapon_data[\"turn_damage_expected\"] = weapon_data.apply(lambda x: x[\"turn_damage_max\"] * x[\"average_chance_to_hit\"], axis=1)\n",
    "weapon_data[\"clip_damage\"] = weapon_data.apply(lambda x: x[\"capacity\"] * x[\"damage\"], axis=1)"
   ]
  },
  {
   "cell_type": "markdown",
   "metadata": {},
   "source": [
    "## Costs"
   ]
  },
  {
   "cell_type": "code",
   "execution_count": 6,
   "metadata": {},
   "outputs": [],
   "source": [
    "weapon_data[\"damage_per_time_unit\"] = weapon_data.apply(lambda x: x[\"damage\"] / x[\"time_units\"], axis=1)"
   ]
  },
  {
   "cell_type": "markdown",
   "metadata": {},
   "source": [
    "## Damage to Target Type"
   ]
  },
  {
   "cell_type": "markdown",
   "metadata": {},
   "source": [
    "### Data Merge"
   ]
  },
  {
   "cell_type": "code",
   "execution_count": 7,
   "metadata": {},
   "outputs": [],
   "source": [
    "weapon_data_targets = weapon_data.append([weapon_data] * (len(damage_modifiers.index)-1), ignore_index=True)\n",
    "weapon_data_targets[\"key\"] = weapon_data_targets.groupby([\"weapon\", \"ammo\", \"fire_mode\"]).cumcount()\n",
    "\n",
    "targets = damage_modifiers[\"target\"]\n",
    "\n",
    "weapon_data_targets = pd.merge(weapon_data_targets, targets, left_on=\"key\", right_index=True, how=\"left\", sort=False)\n",
    "weapon_data_targets = weapon_data_targets.drop(columns=[\"key\"])"
   ]
  },
  {
   "cell_type": "markdown",
   "metadata": {},
   "source": [
    "### Damage vs Type"
   ]
  },
  {
   "cell_type": "code",
   "execution_count": 8,
   "metadata": {},
   "outputs": [],
   "source": [
    "def damage_modifier(group):\n",
    "    \"\"\"\n",
    "    Returns the damage modifier for the weapon target.\n",
    "    \"\"\"\n",
    "    target = damage_modifiers[damage_modifiers[\"target\"] == group[\"target\"]]\n",
    "    damage = target[group[\"damage_type\"]].values[0]\n",
    "    return damage / 100"
   ]
  },
  {
   "cell_type": "code",
   "execution_count": 9,
   "metadata": {},
   "outputs": [],
   "source": [
    "weapon_data_targets[\"target_damage\"] = weapon_data_targets.apply(lambda x: x[\"damage\"] * damage_modifier(x), axis=1)\n",
    "weapon_data_targets[\"target_turn_damage_max\"] = weapon_data_targets.apply(lambda x: x[\"turn_max_shots\"] * x[\"target_damage\"], axis=1)\n",
    "weapon_data_targets[\"target_turn_damage_expected\"] = weapon_data_targets.apply(lambda x: x[\"target_turn_damage_max\"] * x[\"average_chance_to_hit\"], axis=1)"
   ]
  },
  {
   "cell_type": "markdown",
   "metadata": {},
   "source": [
    "### Costs"
   ]
  },
  {
   "cell_type": "code",
   "execution_count": 10,
   "metadata": {},
   "outputs": [],
   "source": [
    "weapon_data_targets[\"target_damage_per_time_unit\"] = weapon_data_targets.apply(lambda x: x[\"target_damage\"] / x[\"time_units\"], axis=1)"
   ]
  },
  {
   "cell_type": "markdown",
   "metadata": {},
   "source": [
    "## Damage to Alien"
   ]
  },
  {
   "cell_type": "markdown",
   "metadata": {},
   "source": [
    "### Average Armor"
   ]
  },
  {
   "cell_type": "code",
   "execution_count": 11,
   "metadata": {},
   "outputs": [],
   "source": [
    "aliens_armor = aliens[[\"alien\", \"armor_front\", \"armor_side\", \"armor_rear\", \"armor_under\"]]\n",
    "aliens_armor = aliens_armor.set_index(\"alien\")\n",
    "aliens_armor = aliens_armor.mean(axis=1)\n",
    "aliens_armor = aliens_armor.reset_index()\n",
    "aliens_armor = aliens_armor.rename(columns={0: \"armor\"})"
   ]
  },
  {
   "cell_type": "markdown",
   "metadata": {},
   "source": [
    "### Base data"
   ]
  },
  {
   "cell_type": "code",
   "execution_count": 12,
   "metadata": {},
   "outputs": [],
   "source": [
    "weapon_damages_targets = weapon_data_targets.groupby([\"weapon\", \"target\"]).mean()\n",
    "weapon_damages_targets = weapon_damages_targets.reset_index()"
   ]
  },
  {
   "cell_type": "code",
   "execution_count": 13,
   "metadata": {},
   "outputs": [],
   "source": [
    "weapon_data_aliens = aliens.merge(aliens_armor, on=\"alien\")\n",
    "weapon_data_aliens = weapon_data_aliens.merge(weapon_damages_targets, on=\"target\")\n",
    "weapon_data_aliens = weapon_data_aliens.rename(columns={\"time_units_x\": \"time_units\"})\n",
    "weapon_data_aliens = weapon_data_aliens.rename(columns={\"time_units_y\": \"weapon_time_units\"})"
   ]
  },
  {
   "cell_type": "markdown",
   "metadata": {},
   "source": [
    "### Penetrating Damage"
   ]
  },
  {
   "cell_type": "code",
   "execution_count": 14,
   "metadata": {},
   "outputs": [],
   "source": [
    "def penetrating_damage(base_damage, armor):\n",
    "    \"\"\"\n",
    "    Returns the damage after applying armor.\n",
    "    \"\"\"\n",
    "    if armor >= base_damage:\n",
    "        damage = 0\n",
    "    else:\n",
    "        damage = base_damage - armor\n",
    "    \n",
    "    return damage"
   ]
  },
  {
   "cell_type": "code",
   "execution_count": 15,
   "metadata": {
    "scrolled": true
   },
   "outputs": [],
   "source": [
    "weapon_data_aliens[\"penetrating_damage\"] = weapon_data_aliens.apply(lambda x: penetrating_damage(x[\"target_damage\"],x[\"armor\"]), axis=1)\n",
    "weapon_data_aliens[\"penetrating_damage_max\"] = weapon_data_aliens.apply(lambda x: x[\"turn_max_shots\"] * x[\"penetrating_damage\"], axis=1)\n",
    "weapon_data_aliens[\"penetrating_damage_expected\"] = weapon_data_aliens.apply(lambda x: x[\"penetrating_damage_max\"] * x[\"average_chance_to_hit\"], axis=1)\n",
    "weapon_data_aliens[\"penetrating_damage_crit\"] = weapon_data_aliens.apply(lambda x: penetrating_damage(x[\"target_damage\"] * 2,x[\"armor\"]), axis=1)\n",
    "weapon_data_aliens[\"penetrating_damage_crit_expected\"] = weapon_data_aliens.apply(lambda x: x[\"penetrating_damage_crit\"] * x[\"average_chance_to_hit\"], axis=1)"
   ]
  },
  {
   "cell_type": "markdown",
   "metadata": {},
   "source": [
    "### Hits to Kill"
   ]
  },
  {
   "cell_type": "code",
   "execution_count": 16,
   "metadata": {},
   "outputs": [],
   "source": [
    "def hits_to_kill(damage, health):\n",
    "    \"\"\"\n",
    "    Returns the number of hits it takes to kill the target.\n",
    "    \"\"\"\n",
    "    if damage > 0:\n",
    "        hits = health / damage\n",
    "    else:\n",
    "        hits = 1000\n",
    "    \n",
    "    return hits"
   ]
  },
  {
   "cell_type": "code",
   "execution_count": 17,
   "metadata": {},
   "outputs": [],
   "source": [
    "weapon_data_aliens[\"hits_to_kill\"] = weapon_data_aliens.apply(lambda x: hits_to_kill(x[\"penetrating_damage\"], x[\"health\"]), axis=1)\n",
    "weapon_data_aliens[\"hits_to_kill_crit\"] = weapon_data_aliens.apply(lambda x: hits_to_kill(x[\"penetrating_damage_crit\"], x[\"health\"]), axis=1)\n",
    "weapon_data_aliens[\"expected_kills\"] = weapon_data_aliens.apply(lambda x: x[\"turn_max_shots\"] / x[\"hits_to_kill\"], axis=1)"
   ]
  },
  {
   "cell_type": "markdown",
   "metadata": {},
   "source": [
    "### Costs"
   ]
  },
  {
   "cell_type": "code",
   "execution_count": 18,
   "metadata": {},
   "outputs": [],
   "source": [
    "weapon_data_aliens[\"penetrating_damage_per_time_unit\"] = weapon_data_aliens.apply(lambda x: x[\"penetrating_damage\"] / x[\"weapon_time_units\"], axis=1)"
   ]
  },
  {
   "cell_type": "markdown",
   "metadata": {},
   "source": [
    "## Data Generated"
   ]
  },
  {
   "cell_type": "code",
   "execution_count": 19,
   "metadata": {},
   "outputs": [
    {
     "data": {
      "text/html": [
       "<div>\n",
       "<style scoped>\n",
       "    .dataframe tbody tr th:only-of-type {\n",
       "        vertical-align: middle;\n",
       "    }\n",
       "\n",
       "    .dataframe tbody tr th {\n",
       "        vertical-align: top;\n",
       "    }\n",
       "\n",
       "    .dataframe thead th {\n",
       "        text-align: right;\n",
       "    }\n",
       "</style>\n",
       "<table border=\"1\" class=\"dataframe\">\n",
       "  <thead>\n",
       "    <tr style=\"text-align: right;\">\n",
       "      <th></th>\n",
       "      <th>weapon</th>\n",
       "      <th>grip</th>\n",
       "      <th>ammo</th>\n",
       "      <th>damage</th>\n",
       "      <th>damage_type</th>\n",
       "      <th>capacity</th>\n",
       "      <th>fire_mode</th>\n",
       "      <th>time_units</th>\n",
       "      <th>accuracy</th>\n",
       "      <th>average_chance_to_hit</th>\n",
       "      <th>burst</th>\n",
       "      <th>turn_max_shots</th>\n",
       "      <th>turns_to_reload</th>\n",
       "      <th>turn_damage_max</th>\n",
       "      <th>turn_damage_expected</th>\n",
       "      <th>clip_damage</th>\n",
       "      <th>damage_per_time_unit</th>\n",
       "    </tr>\n",
       "  </thead>\n",
       "  <tbody>\n",
       "    <tr>\n",
       "      <th>0</th>\n",
       "      <td>pistol</td>\n",
       "      <td>1</td>\n",
       "      <td>pistol_clip</td>\n",
       "      <td>26</td>\n",
       "      <td>armor_piercing</td>\n",
       "      <td>12.0</td>\n",
       "      <td>snapshot</td>\n",
       "      <td>18</td>\n",
       "      <td>60</td>\n",
       "      <td>0.3300</td>\n",
       "      <td>1</td>\n",
       "      <td>5</td>\n",
       "      <td>2.400000</td>\n",
       "      <td>130</td>\n",
       "      <td>42.900</td>\n",
       "      <td>312.0</td>\n",
       "      <td>1.444444</td>\n",
       "    </tr>\n",
       "    <tr>\n",
       "      <th>1</th>\n",
       "      <td>pistol</td>\n",
       "      <td>1</td>\n",
       "      <td>pistol_clip</td>\n",
       "      <td>26</td>\n",
       "      <td>armor_piercing</td>\n",
       "      <td>12.0</td>\n",
       "      <td>aimed</td>\n",
       "      <td>30</td>\n",
       "      <td>78</td>\n",
       "      <td>0.4290</td>\n",
       "      <td>1</td>\n",
       "      <td>3</td>\n",
       "      <td>4.000000</td>\n",
       "      <td>78</td>\n",
       "      <td>33.462</td>\n",
       "      <td>312.0</td>\n",
       "      <td>0.866667</td>\n",
       "    </tr>\n",
       "    <tr>\n",
       "      <th>2</th>\n",
       "      <td>rifle</td>\n",
       "      <td>2</td>\n",
       "      <td>rifle_clip</td>\n",
       "      <td>30</td>\n",
       "      <td>armor_piercing</td>\n",
       "      <td>20.0</td>\n",
       "      <td>auto</td>\n",
       "      <td>35</td>\n",
       "      <td>35</td>\n",
       "      <td>0.1925</td>\n",
       "      <td>3</td>\n",
       "      <td>6</td>\n",
       "      <td>3.333333</td>\n",
       "      <td>180</td>\n",
       "      <td>34.650</td>\n",
       "      <td>600.0</td>\n",
       "      <td>0.857143</td>\n",
       "    </tr>\n",
       "    <tr>\n",
       "      <th>3</th>\n",
       "      <td>rifle</td>\n",
       "      <td>2</td>\n",
       "      <td>rifle_clip</td>\n",
       "      <td>30</td>\n",
       "      <td>armor_piercing</td>\n",
       "      <td>20.0</td>\n",
       "      <td>snapshot</td>\n",
       "      <td>25</td>\n",
       "      <td>60</td>\n",
       "      <td>0.3300</td>\n",
       "      <td>1</td>\n",
       "      <td>4</td>\n",
       "      <td>5.000000</td>\n",
       "      <td>120</td>\n",
       "      <td>39.600</td>\n",
       "      <td>600.0</td>\n",
       "      <td>1.200000</td>\n",
       "    </tr>\n",
       "    <tr>\n",
       "      <th>4</th>\n",
       "      <td>rifle</td>\n",
       "      <td>2</td>\n",
       "      <td>rifle_clip</td>\n",
       "      <td>30</td>\n",
       "      <td>armor_piercing</td>\n",
       "      <td>20.0</td>\n",
       "      <td>aimed</td>\n",
       "      <td>80</td>\n",
       "      <td>110</td>\n",
       "      <td>0.6050</td>\n",
       "      <td>1</td>\n",
       "      <td>1</td>\n",
       "      <td>20.000000</td>\n",
       "      <td>30</td>\n",
       "      <td>18.150</td>\n",
       "      <td>600.0</td>\n",
       "      <td>0.375000</td>\n",
       "    </tr>\n",
       "  </tbody>\n",
       "</table>\n",
       "</div>"
      ],
      "text/plain": [
       "   weapon  grip         ammo  damage     damage_type  capacity fire_mode  \\\n",
       "0  pistol     1  pistol_clip      26  armor_piercing      12.0  snapshot   \n",
       "1  pistol     1  pistol_clip      26  armor_piercing      12.0     aimed   \n",
       "2   rifle     2   rifle_clip      30  armor_piercing      20.0      auto   \n",
       "3   rifle     2   rifle_clip      30  armor_piercing      20.0  snapshot   \n",
       "4   rifle     2   rifle_clip      30  armor_piercing      20.0     aimed   \n",
       "\n",
       "   time_units  accuracy  average_chance_to_hit  burst  turn_max_shots  \\\n",
       "0          18        60                 0.3300      1               5   \n",
       "1          30        78                 0.4290      1               3   \n",
       "2          35        35                 0.1925      3               6   \n",
       "3          25        60                 0.3300      1               4   \n",
       "4          80       110                 0.6050      1               1   \n",
       "\n",
       "   turns_to_reload  turn_damage_max  turn_damage_expected  clip_damage  \\\n",
       "0         2.400000              130                42.900        312.0   \n",
       "1         4.000000               78                33.462        312.0   \n",
       "2         3.333333              180                34.650        600.0   \n",
       "3         5.000000              120                39.600        600.0   \n",
       "4        20.000000               30                18.150        600.0   \n",
       "\n",
       "   damage_per_time_unit  \n",
       "0              1.444444  \n",
       "1              0.866667  \n",
       "2              0.857143  \n",
       "3              1.200000  \n",
       "4              0.375000  "
      ]
     },
     "execution_count": 19,
     "metadata": {},
     "output_type": "execute_result"
    }
   ],
   "source": [
    "weapon_data.head()"
   ]
  },
  {
   "cell_type": "code",
   "execution_count": 20,
   "metadata": {},
   "outputs": [
    {
     "data": {
      "text/html": [
       "<div>\n",
       "<style scoped>\n",
       "    .dataframe tbody tr th:only-of-type {\n",
       "        vertical-align: middle;\n",
       "    }\n",
       "\n",
       "    .dataframe tbody tr th {\n",
       "        vertical-align: top;\n",
       "    }\n",
       "\n",
       "    .dataframe thead th {\n",
       "        text-align: right;\n",
       "    }\n",
       "</style>\n",
       "<table border=\"1\" class=\"dataframe\">\n",
       "  <thead>\n",
       "    <tr style=\"text-align: right;\">\n",
       "      <th></th>\n",
       "      <th>weapon</th>\n",
       "      <th>grip</th>\n",
       "      <th>ammo</th>\n",
       "      <th>damage</th>\n",
       "      <th>damage_type</th>\n",
       "      <th>capacity</th>\n",
       "      <th>fire_mode</th>\n",
       "      <th>time_units</th>\n",
       "      <th>accuracy</th>\n",
       "      <th>average_chance_to_hit</th>\n",
       "      <th>...</th>\n",
       "      <th>turns_to_reload</th>\n",
       "      <th>turn_damage_max</th>\n",
       "      <th>turn_damage_expected</th>\n",
       "      <th>clip_damage</th>\n",
       "      <th>damage_per_time_unit</th>\n",
       "      <th>target</th>\n",
       "      <th>target_damage</th>\n",
       "      <th>target_turn_damage_max</th>\n",
       "      <th>target_turn_damage_expected</th>\n",
       "      <th>target_damage_per_time_unit</th>\n",
       "    </tr>\n",
       "  </thead>\n",
       "  <tbody>\n",
       "    <tr>\n",
       "      <th>0</th>\n",
       "      <td>pistol</td>\n",
       "      <td>1</td>\n",
       "      <td>pistol_clip</td>\n",
       "      <td>26</td>\n",
       "      <td>armor_piercing</td>\n",
       "      <td>12.0</td>\n",
       "      <td>snapshot</td>\n",
       "      <td>18</td>\n",
       "      <td>60</td>\n",
       "      <td>0.3300</td>\n",
       "      <td>...</td>\n",
       "      <td>2.400000</td>\n",
       "      <td>130</td>\n",
       "      <td>42.900</td>\n",
       "      <td>312.0</td>\n",
       "      <td>1.444444</td>\n",
       "      <td>terrain</td>\n",
       "      <td>26.0</td>\n",
       "      <td>130.0</td>\n",
       "      <td>42.900</td>\n",
       "      <td>1.444444</td>\n",
       "    </tr>\n",
       "    <tr>\n",
       "      <th>1</th>\n",
       "      <td>pistol</td>\n",
       "      <td>1</td>\n",
       "      <td>pistol_clip</td>\n",
       "      <td>26</td>\n",
       "      <td>armor_piercing</td>\n",
       "      <td>12.0</td>\n",
       "      <td>aimed</td>\n",
       "      <td>30</td>\n",
       "      <td>78</td>\n",
       "      <td>0.4290</td>\n",
       "      <td>...</td>\n",
       "      <td>4.000000</td>\n",
       "      <td>78</td>\n",
       "      <td>33.462</td>\n",
       "      <td>312.0</td>\n",
       "      <td>0.866667</td>\n",
       "      <td>terrain</td>\n",
       "      <td>26.0</td>\n",
       "      <td>78.0</td>\n",
       "      <td>33.462</td>\n",
       "      <td>0.866667</td>\n",
       "    </tr>\n",
       "    <tr>\n",
       "      <th>2</th>\n",
       "      <td>rifle</td>\n",
       "      <td>2</td>\n",
       "      <td>rifle_clip</td>\n",
       "      <td>30</td>\n",
       "      <td>armor_piercing</td>\n",
       "      <td>20.0</td>\n",
       "      <td>auto</td>\n",
       "      <td>35</td>\n",
       "      <td>35</td>\n",
       "      <td>0.1925</td>\n",
       "      <td>...</td>\n",
       "      <td>3.333333</td>\n",
       "      <td>180</td>\n",
       "      <td>34.650</td>\n",
       "      <td>600.0</td>\n",
       "      <td>0.857143</td>\n",
       "      <td>terrain</td>\n",
       "      <td>30.0</td>\n",
       "      <td>180.0</td>\n",
       "      <td>34.650</td>\n",
       "      <td>0.857143</td>\n",
       "    </tr>\n",
       "    <tr>\n",
       "      <th>3</th>\n",
       "      <td>rifle</td>\n",
       "      <td>2</td>\n",
       "      <td>rifle_clip</td>\n",
       "      <td>30</td>\n",
       "      <td>armor_piercing</td>\n",
       "      <td>20.0</td>\n",
       "      <td>snapshot</td>\n",
       "      <td>25</td>\n",
       "      <td>60</td>\n",
       "      <td>0.3300</td>\n",
       "      <td>...</td>\n",
       "      <td>5.000000</td>\n",
       "      <td>120</td>\n",
       "      <td>39.600</td>\n",
       "      <td>600.0</td>\n",
       "      <td>1.200000</td>\n",
       "      <td>terrain</td>\n",
       "      <td>30.0</td>\n",
       "      <td>120.0</td>\n",
       "      <td>39.600</td>\n",
       "      <td>1.200000</td>\n",
       "    </tr>\n",
       "    <tr>\n",
       "      <th>4</th>\n",
       "      <td>rifle</td>\n",
       "      <td>2</td>\n",
       "      <td>rifle_clip</td>\n",
       "      <td>30</td>\n",
       "      <td>armor_piercing</td>\n",
       "      <td>20.0</td>\n",
       "      <td>aimed</td>\n",
       "      <td>80</td>\n",
       "      <td>110</td>\n",
       "      <td>0.6050</td>\n",
       "      <td>...</td>\n",
       "      <td>20.000000</td>\n",
       "      <td>30</td>\n",
       "      <td>18.150</td>\n",
       "      <td>600.0</td>\n",
       "      <td>0.375000</td>\n",
       "      <td>terrain</td>\n",
       "      <td>30.0</td>\n",
       "      <td>30.0</td>\n",
       "      <td>18.150</td>\n",
       "      <td>0.375000</td>\n",
       "    </tr>\n",
       "  </tbody>\n",
       "</table>\n",
       "<p>5 rows × 22 columns</p>\n",
       "</div>"
      ],
      "text/plain": [
       "   weapon  grip         ammo  damage     damage_type  capacity fire_mode  \\\n",
       "0  pistol     1  pistol_clip      26  armor_piercing      12.0  snapshot   \n",
       "1  pistol     1  pistol_clip      26  armor_piercing      12.0     aimed   \n",
       "2   rifle     2   rifle_clip      30  armor_piercing      20.0      auto   \n",
       "3   rifle     2   rifle_clip      30  armor_piercing      20.0  snapshot   \n",
       "4   rifle     2   rifle_clip      30  armor_piercing      20.0     aimed   \n",
       "\n",
       "   time_units  accuracy  average_chance_to_hit  ...  turns_to_reload  \\\n",
       "0          18        60                 0.3300  ...         2.400000   \n",
       "1          30        78                 0.4290  ...         4.000000   \n",
       "2          35        35                 0.1925  ...         3.333333   \n",
       "3          25        60                 0.3300  ...         5.000000   \n",
       "4          80       110                 0.6050  ...        20.000000   \n",
       "\n",
       "   turn_damage_max  turn_damage_expected  clip_damage  damage_per_time_unit  \\\n",
       "0              130                42.900        312.0              1.444444   \n",
       "1               78                33.462        312.0              0.866667   \n",
       "2              180                34.650        600.0              0.857143   \n",
       "3              120                39.600        600.0              1.200000   \n",
       "4               30                18.150        600.0              0.375000   \n",
       "\n",
       "    target  target_damage target_turn_damage_max  target_turn_damage_expected  \\\n",
       "0  terrain           26.0                  130.0                       42.900   \n",
       "1  terrain           26.0                   78.0                       33.462   \n",
       "2  terrain           30.0                  180.0                       34.650   \n",
       "3  terrain           30.0                  120.0                       39.600   \n",
       "4  terrain           30.0                   30.0                       18.150   \n",
       "\n",
       "   target_damage_per_time_unit  \n",
       "0                     1.444444  \n",
       "1                     0.866667  \n",
       "2                     0.857143  \n",
       "3                     1.200000  \n",
       "4                     0.375000  \n",
       "\n",
       "[5 rows x 22 columns]"
      ]
     },
     "execution_count": 20,
     "metadata": {},
     "output_type": "execute_result"
    }
   ],
   "source": [
    "weapon_data_targets.head()"
   ]
  },
  {
   "cell_type": "code",
   "execution_count": 21,
   "metadata": {
    "scrolled": true
   },
   "outputs": [
    {
     "data": {
      "text/html": [
       "<div>\n",
       "<style scoped>\n",
       "    .dataframe tbody tr th:only-of-type {\n",
       "        vertical-align: middle;\n",
       "    }\n",
       "\n",
       "    .dataframe tbody tr th {\n",
       "        vertical-align: top;\n",
       "    }\n",
       "\n",
       "    .dataframe thead th {\n",
       "        text-align: right;\n",
       "    }\n",
       "</style>\n",
       "<table border=\"1\" class=\"dataframe\">\n",
       "  <thead>\n",
       "    <tr style=\"text-align: right;\">\n",
       "      <th></th>\n",
       "      <th>alien</th>\n",
       "      <th>time_units</th>\n",
       "      <th>stamina</th>\n",
       "      <th>health</th>\n",
       "      <th>bravery</th>\n",
       "      <th>reactions</th>\n",
       "      <th>firing_accuracy</th>\n",
       "      <th>throwing_accuracy</th>\n",
       "      <th>strength</th>\n",
       "      <th>psionic_strength</th>\n",
       "      <th>...</th>\n",
       "      <th>target_damage_per_time_unit</th>\n",
       "      <th>penetrating_damage</th>\n",
       "      <th>penetrating_damage_max</th>\n",
       "      <th>penetrating_damage_expected</th>\n",
       "      <th>penetrating_damage_crit</th>\n",
       "      <th>penetrating_damage_crit_expected</th>\n",
       "      <th>hits_to_kill</th>\n",
       "      <th>hits_to_kill_crit</th>\n",
       "      <th>expected_kills</th>\n",
       "      <th>penetrating_damage_per_time_unit</th>\n",
       "    </tr>\n",
       "  </thead>\n",
       "  <tbody>\n",
       "    <tr>\n",
       "      <th>0</th>\n",
       "      <td>Floater Soldier</td>\n",
       "      <td>50</td>\n",
       "      <td>90</td>\n",
       "      <td>35</td>\n",
       "      <td>80</td>\n",
       "      <td>50</td>\n",
       "      <td>50</td>\n",
       "      <td>58</td>\n",
       "      <td>40</td>\n",
       "      <td>35</td>\n",
       "      <td>...</td>\n",
       "      <td>1.200000</td>\n",
       "      <td>82.500000</td>\n",
       "      <td>82.500000</td>\n",
       "      <td>29.493750</td>\n",
       "      <td>172.500000</td>\n",
       "      <td>61.668750</td>\n",
       "      <td>0.424242</td>\n",
       "      <td>0.202899</td>\n",
       "      <td>2.357143</td>\n",
       "      <td>1.100000</td>\n",
       "    </tr>\n",
       "    <tr>\n",
       "      <th>1</th>\n",
       "      <td>Floater Soldier</td>\n",
       "      <td>50</td>\n",
       "      <td>90</td>\n",
       "      <td>35</td>\n",
       "      <td>80</td>\n",
       "      <td>50</td>\n",
       "      <td>50</td>\n",
       "      <td>58</td>\n",
       "      <td>40</td>\n",
       "      <td>35</td>\n",
       "      <td>...</td>\n",
       "      <td>1.009512</td>\n",
       "      <td>37.166667</td>\n",
       "      <td>123.888889</td>\n",
       "      <td>38.612037</td>\n",
       "      <td>81.833333</td>\n",
       "      <td>25.504722</td>\n",
       "      <td>0.941704</td>\n",
       "      <td>0.427699</td>\n",
       "      <td>3.539683</td>\n",
       "      <td>0.728758</td>\n",
       "    </tr>\n",
       "    <tr>\n",
       "      <th>2</th>\n",
       "      <td>Floater Soldier</td>\n",
       "      <td>50</td>\n",
       "      <td>90</td>\n",
       "      <td>35</td>\n",
       "      <td>80</td>\n",
       "      <td>50</td>\n",
       "      <td>50</td>\n",
       "      <td>58</td>\n",
       "      <td>40</td>\n",
       "      <td>35</td>\n",
       "      <td>...</td>\n",
       "      <td>2.500000</td>\n",
       "      <td>192.500000</td>\n",
       "      <td>192.500000</td>\n",
       "      <td>127.050000</td>\n",
       "      <td>392.500000</td>\n",
       "      <td>259.050000</td>\n",
       "      <td>0.181818</td>\n",
       "      <td>0.089172</td>\n",
       "      <td>5.500000</td>\n",
       "      <td>2.406250</td>\n",
       "    </tr>\n",
       "    <tr>\n",
       "      <th>3</th>\n",
       "      <td>Floater Soldier</td>\n",
       "      <td>50</td>\n",
       "      <td>90</td>\n",
       "      <td>35</td>\n",
       "      <td>80</td>\n",
       "      <td>50</td>\n",
       "      <td>50</td>\n",
       "      <td>58</td>\n",
       "      <td>40</td>\n",
       "      <td>35</td>\n",
       "      <td>...</td>\n",
       "      <td>1.284091</td>\n",
       "      <td>52.500000</td>\n",
       "      <td>105.000000</td>\n",
       "      <td>43.312500</td>\n",
       "      <td>112.500000</td>\n",
       "      <td>46.406250</td>\n",
       "      <td>0.666667</td>\n",
       "      <td>0.311111</td>\n",
       "      <td>3.000000</td>\n",
       "      <td>0.929204</td>\n",
       "    </tr>\n",
       "    <tr>\n",
       "      <th>4</th>\n",
       "      <td>Floater Soldier</td>\n",
       "      <td>50</td>\n",
       "      <td>90</td>\n",
       "      <td>35</td>\n",
       "      <td>80</td>\n",
       "      <td>50</td>\n",
       "      <td>50</td>\n",
       "      <td>58</td>\n",
       "      <td>40</td>\n",
       "      <td>35</td>\n",
       "      <td>...</td>\n",
       "      <td>2.121212</td>\n",
       "      <td>132.500000</td>\n",
       "      <td>132.500000</td>\n",
       "      <td>72.875000</td>\n",
       "      <td>272.500000</td>\n",
       "      <td>149.875000</td>\n",
       "      <td>0.264151</td>\n",
       "      <td>0.128440</td>\n",
       "      <td>3.785714</td>\n",
       "      <td>2.007576</td>\n",
       "    </tr>\n",
       "  </tbody>\n",
       "</table>\n",
       "<p>5 rows × 51 columns</p>\n",
       "</div>"
      ],
      "text/plain": [
       "             alien  time_units  stamina  health  bravery  reactions  \\\n",
       "0  Floater Soldier          50       90      35       80         50   \n",
       "1  Floater Soldier          50       90      35       80         50   \n",
       "2  Floater Soldier          50       90      35       80         50   \n",
       "3  Floater Soldier          50       90      35       80         50   \n",
       "4  Floater Soldier          50       90      35       80         50   \n",
       "\n",
       "   firing_accuracy  throwing_accuracy  strength  psionic_strength  ...  \\\n",
       "0               50                 58        40                35  ...   \n",
       "1               50                 58        40                35  ...   \n",
       "2               50                 58        40                35  ...   \n",
       "3               50                 58        40                35  ...   \n",
       "4               50                 58        40                35  ...   \n",
       "\n",
       "   target_damage_per_time_unit  penetrating_damage  penetrating_damage_max  \\\n",
       "0                     1.200000           82.500000               82.500000   \n",
       "1                     1.009512           37.166667              123.888889   \n",
       "2                     2.500000          192.500000              192.500000   \n",
       "3                     1.284091           52.500000              105.000000   \n",
       "4                     2.121212          132.500000              132.500000   \n",
       "\n",
       "   penetrating_damage_expected  penetrating_damage_crit  \\\n",
       "0                    29.493750               172.500000   \n",
       "1                    38.612037                81.833333   \n",
       "2                   127.050000               392.500000   \n",
       "3                    43.312500               112.500000   \n",
       "4                    72.875000               272.500000   \n",
       "\n",
       "   penetrating_damage_crit_expected  hits_to_kill  hits_to_kill_crit  \\\n",
       "0                         61.668750      0.424242           0.202899   \n",
       "1                         25.504722      0.941704           0.427699   \n",
       "2                        259.050000      0.181818           0.089172   \n",
       "3                         46.406250      0.666667           0.311111   \n",
       "4                        149.875000      0.264151           0.128440   \n",
       "\n",
       "   expected_kills  penetrating_damage_per_time_unit  \n",
       "0        2.357143                          1.100000  \n",
       "1        3.539683                          0.728758  \n",
       "2        5.500000                          2.406250  \n",
       "3        3.000000                          0.929204  \n",
       "4        3.785714                          2.007576  \n",
       "\n",
       "[5 rows x 51 columns]"
      ]
     },
     "execution_count": 21,
     "metadata": {},
     "output_type": "execute_result"
    }
   ],
   "source": [
    "weapon_data_aliens.head()"
   ]
  }
 ],
 "metadata": {
  "kernelspec": {
   "display_name": "Python 3",
   "language": "python",
   "name": "python3"
  },
  "language_info": {
   "codemirror_mode": {
    "name": "ipython",
    "version": 3
   },
   "file_extension": ".py",
   "mimetype": "text/x-python",
   "name": "python",
   "nbconvert_exporter": "python",
   "pygments_lexer": "ipython3",
   "version": "3.8.5"
  }
 },
 "nbformat": 4,
 "nbformat_minor": 4
}
