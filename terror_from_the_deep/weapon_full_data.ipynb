{
 "cells": [
  {
   "cell_type": "markdown",
   "metadata": {},
   "source": [
    "# Full Data Calculation for Weapons"
   ]
  },
  {
   "cell_type": "markdown",
   "metadata": {},
   "source": [
    "## Setting Up"
   ]
  },
  {
   "cell_type": "code",
   "execution_count": 1,
   "metadata": {},
   "outputs": [],
   "source": [
    "import math\n",
    "import pandas as pd\n",
    "from scripts.weapon import max_shots, burst, penetrating_damage, hits_to_kill, chance_to_damage\n",
    "from scripts.accuracy import average_to_hit\n",
    "\n",
    "aliens = pd.read_csv(\"datasets/aliens.csv\")\n",
    "weapon_stats = pd.read_csv(\"datasets/weapon_stats.csv\")\n",
    "ammo_stats = pd.read_csv(\"datasets/ammo_stats.csv\")\n",
    "weapon_firemodes = pd.read_csv(\"datasets/weapon_firemodes.csv\")\n",
    "damage_modifiers = pd.read_csv(\"datasets/damage_modifiers.csv\")"
   ]
  },
  {
   "cell_type": "markdown",
   "metadata": {},
   "source": [
    "## Data Merge"
   ]
  },
  {
   "cell_type": "code",
   "execution_count": 2,
   "metadata": {
    "scrolled": false
   },
   "outputs": [],
   "source": [
    "weapon_data = weapon_stats.merge(ammo_stats, on=\"weapon\")\n",
    "weapon_data = weapon_data.merge(weapon_firemodes, on=\"weapon\")"
   ]
  },
  {
   "cell_type": "markdown",
   "metadata": {},
   "source": [
    "## Chance to Hit"
   ]
  },
  {
   "cell_type": "markdown",
   "metadata": {},
   "source": [
    "We will use an average Accuracy of 50. Meaning the soldier fails half of the time.\n",
    "\n",
    "The chance of hit formula is simple. Just multiply the soldier's accuracy chance by the weapon's accuracy chance. So an average of 50 to a weapon of Accuracy 90 means 0.50 * 0.9 = 0.45 chance of hit."
   ]
  },
  {
   "cell_type": "code",
   "execution_count": 3,
   "metadata": {
    "scrolled": true
   },
   "outputs": [],
   "source": [
    "weapon_data[\"average_chance_to_hit\"] = weapon_data.apply(lambda x: average_to_hit(x[\"accuracy\"]), axis=1)"
   ]
  },
  {
   "cell_type": "markdown",
   "metadata": {},
   "source": [
    "## Shots"
   ]
  },
  {
   "cell_type": "code",
   "execution_count": 4,
   "metadata": {
    "scrolled": false
   },
   "outputs": [],
   "source": [
    "weapon_data[\"burst\"] = weapon_data.apply(burst, axis=1)\n",
    "weapon_data[\"turn_max_shots\"] = weapon_data.apply(max_shots, axis=1)\n",
    "weapon_data[\"turn_max_shots\"] = weapon_data.apply(max_shots, axis=1)\n",
    "weapon_data[\"turns_to_reload\"] = weapon_data.apply(lambda x: x[\"capacity\"] / x[\"turn_max_shots\"], axis=1)\n",
    "weapon_data['turns_to_reload'] = weapon_data['turns_to_reload'].fillna(0)\n",
    "weapon_data[\"turns_to_reload\"] = weapon_data.apply(lambda x: x[\"turns_to_reload\"], axis=1)"
   ]
  },
  {
   "cell_type": "markdown",
   "metadata": {},
   "source": [
    "## Damage Range"
   ]
  },
  {
   "cell_type": "code",
   "execution_count": 5,
   "metadata": {},
   "outputs": [],
   "source": [
    "weapon_data[\"turn_damage_max\"] = weapon_data.apply(lambda x: x[\"turn_max_shots\"] * x[\"damage\"], axis=1)\n",
    "weapon_data[\"turn_damage_expected\"] = weapon_data.apply(lambda x: x[\"turn_damage_max\"] * x[\"average_chance_to_hit\"], axis=1)\n",
    "weapon_data[\"clip_damage\"] = weapon_data.apply(lambda x: x[\"capacity\"] * x[\"damage\"], axis=1)"
   ]
  },
  {
   "cell_type": "markdown",
   "metadata": {},
   "source": [
    "## Costs"
   ]
  },
  {
   "cell_type": "code",
   "execution_count": 6,
   "metadata": {},
   "outputs": [],
   "source": [
    "weapon_data[\"damage_per_time_unit\"] = weapon_data.apply(lambda x: x[\"damage\"] / x[\"time_units\"], axis=1)"
   ]
  },
  {
   "cell_type": "markdown",
   "metadata": {},
   "source": [
    "## Damage to Target Type"
   ]
  },
  {
   "cell_type": "markdown",
   "metadata": {},
   "source": [
    "### Data Merge"
   ]
  },
  {
   "cell_type": "code",
   "execution_count": 7,
   "metadata": {},
   "outputs": [],
   "source": [
    "weapon_data_targets = weapon_data.append([weapon_data] * (len(damage_modifiers.index)-1), ignore_index=True)\n",
    "weapon_data_targets[\"key\"] = weapon_data_targets.groupby([\"weapon\", \"ammo\", \"fire_mode\"]).cumcount()\n",
    "\n",
    "targets = damage_modifiers[\"target\"]\n",
    "\n",
    "weapon_data_targets = pd.merge(weapon_data_targets, targets, left_on=\"key\", right_index=True, how=\"left\", sort=False)\n",
    "weapon_data_targets = weapon_data_targets.drop(columns=[\"key\"])"
   ]
  },
  {
   "cell_type": "markdown",
   "metadata": {},
   "source": [
    "### Damage vs Type"
   ]
  },
  {
   "cell_type": "code",
   "execution_count": 8,
   "metadata": {},
   "outputs": [],
   "source": [
    "def damage_modifier(group):\n",
    "    \"\"\"\n",
    "    Returns the damage modifier for the weapon target.\n",
    "    \"\"\"\n",
    "    target = damage_modifiers[damage_modifiers[\"target\"] == group[\"target\"]]\n",
    "    damage = target[group[\"damage_type\"]].values[0]\n",
    "    return damage / 100"
   ]
  },
  {
   "cell_type": "code",
   "execution_count": 9,
   "metadata": {},
   "outputs": [],
   "source": [
    "weapon_data_targets[\"target_damage\"] = weapon_data_targets.apply(lambda x: x[\"damage\"] * damage_modifier(x), axis=1)\n",
    "weapon_data_targets[\"turn_target_damage_max\"] = weapon_data_targets.apply(lambda x: x[\"turn_max_shots\"] * x[\"target_damage\"], axis=1)\n",
    "weapon_data_targets[\"turn_target_damage_expected\"] = weapon_data_targets.apply(lambda x: x[\"turn_target_damage_max\"] * x[\"average_chance_to_hit\"], axis=1)"
   ]
  },
  {
   "cell_type": "markdown",
   "metadata": {},
   "source": [
    "### Costs"
   ]
  },
  {
   "cell_type": "code",
   "execution_count": 10,
   "metadata": {},
   "outputs": [],
   "source": [
    "weapon_data_targets[\"target_damage_per_time_unit\"] = weapon_data_targets.apply(lambda x: x[\"target_damage\"] / x[\"time_units\"], axis=1)"
   ]
  },
  {
   "cell_type": "markdown",
   "metadata": {},
   "source": [
    "## Damage to Alien"
   ]
  },
  {
   "cell_type": "markdown",
   "metadata": {},
   "source": [
    "### Average Armor"
   ]
  },
  {
   "cell_type": "code",
   "execution_count": 11,
   "metadata": {},
   "outputs": [],
   "source": [
    "aliens_armor = aliens[[\"alien\", \"armor_front\", \"armor_side\", \"armor_rear\", \"armor_under\"]]\n",
    "aliens_armor = aliens_armor.set_index(\"alien\")\n",
    "aliens_armor = aliens_armor.mean(axis=1)\n",
    "aliens_armor = aliens_armor.reset_index()\n",
    "aliens_armor = aliens_armor.rename(columns={0: \"armor\"})"
   ]
  },
  {
   "cell_type": "markdown",
   "metadata": {},
   "source": [
    "### Base data"
   ]
  },
  {
   "cell_type": "code",
   "execution_count": 12,
   "metadata": {},
   "outputs": [],
   "source": [
    "weapon_data_aliens = aliens.merge(aliens_armor, on=\"alien\")\n",
    "weapon_data_aliens = weapon_data_aliens.merge(weapon_data_targets, on=\"target\")\n",
    "weapon_data_aliens = weapon_data_aliens.rename(columns={\"time_units_x\": \"time_units\"})\n",
    "weapon_data_aliens = weapon_data_aliens.rename(columns={\"time_units_y\": \"weapon_time_units\"})"
   ]
  },
  {
   "cell_type": "markdown",
   "metadata": {},
   "source": [
    "### Penetrating Damage"
   ]
  },
  {
   "cell_type": "code",
   "execution_count": 13,
   "metadata": {},
   "outputs": [],
   "source": [
    "weapon_data_aliens[\"chance_to_penetrate\"] = weapon_data_aliens.apply(lambda x: chance_to_damage(x[\"target_damage\"], x[\"armor\"]), axis=1)\n",
    "weapon_data_aliens[\"chance_to_penetrate\"] = pd.to_numeric(weapon_data_aliens[\"chance_to_penetrate\"])\n",
    "weapon_data_aliens[\"chance_of_hit_and_penetrate\"] = weapon_data_aliens.apply(lambda x: x[\"average_chance_to_hit\"] * x[\"chance_to_penetrate\"], axis=1)"
   ]
  },
  {
   "cell_type": "code",
   "execution_count": 14,
   "metadata": {
    "scrolled": true
   },
   "outputs": [],
   "source": [
    "weapon_data_aliens[\"penetrating_damage\"] = weapon_data_aliens.apply(lambda x: penetrating_damage(x[\"target_damage\"],x[\"armor\"]), axis=1)\n",
    "weapon_data_aliens[\"turn_penetrating_damage_max\"] = weapon_data_aliens.apply(lambda x: x[\"turn_max_shots\"] * x[\"penetrating_damage\"], axis=1)\n",
    "weapon_data_aliens[\"turn_penetrating_damage_expected\"] = weapon_data_aliens.apply(lambda x: x[\"turn_penetrating_damage_max\"] * x[\"average_chance_to_hit\"], axis=1)\n",
    "weapon_data_aliens[\"clip_penetrating_damage\"] = weapon_data_aliens.apply(lambda x: x[\"capacity\"] * x[\"penetrating_damage\"], axis=1)"
   ]
  },
  {
   "cell_type": "markdown",
   "metadata": {},
   "source": [
    "### Hits to Kill"
   ]
  },
  {
   "cell_type": "code",
   "execution_count": 15,
   "metadata": {},
   "outputs": [],
   "source": [
    "weapon_data_aliens[\"hits_to_kill\"] = weapon_data_aliens.apply(lambda x: hits_to_kill(x[\"penetrating_damage\"], x[\"health\"]), axis=1)\n",
    "weapon_data_aliens[\"turn_expected_kills\"] = weapon_data_aliens.apply(lambda x: x[\"turn_max_shots\"] / x[\"hits_to_kill\"], axis=1)"
   ]
  },
  {
   "cell_type": "code",
   "execution_count": 16,
   "metadata": {},
   "outputs": [],
   "source": [
    "weapon_data_aliens[\"overkill\"] = weapon_data_aliens.apply(lambda x: (x[\"hits_to_kill\"] * x[\"penetrating_damage\"]) - x[\"health\"], axis=1)"
   ]
  },
  {
   "cell_type": "markdown",
   "metadata": {},
   "source": [
    "### Costs"
   ]
  },
  {
   "cell_type": "code",
   "execution_count": 17,
   "metadata": {},
   "outputs": [],
   "source": [
    "weapon_data_aliens[\"penetrating_damage_per_time_unit\"] = weapon_data_aliens.apply(lambda x: x[\"penetrating_damage\"] / x[\"weapon_time_units\"], axis=1)\n",
    "weapon_data_aliens[\"overkill_per_time_unit\"] = weapon_data_aliens.apply(lambda x: x[\"overkill\"] / x[\"weapon_time_units\"], axis=1)"
   ]
  },
  {
   "cell_type": "markdown",
   "metadata": {},
   "source": [
    "## Data Generated"
   ]
  },
  {
   "cell_type": "code",
   "execution_count": 18,
   "metadata": {},
   "outputs": [
    {
     "data": {
      "text/html": [
       "<div>\n",
       "<style scoped>\n",
       "    .dataframe tbody tr th:only-of-type {\n",
       "        vertical-align: middle;\n",
       "    }\n",
       "\n",
       "    .dataframe tbody tr th {\n",
       "        vertical-align: top;\n",
       "    }\n",
       "\n",
       "    .dataframe thead th {\n",
       "        text-align: right;\n",
       "    }\n",
       "</style>\n",
       "<table border=\"1\" class=\"dataframe\">\n",
       "  <thead>\n",
       "    <tr style=\"text-align: right;\">\n",
       "      <th></th>\n",
       "      <th>weapon</th>\n",
       "      <th>grip</th>\n",
       "      <th>ammo</th>\n",
       "      <th>damage</th>\n",
       "      <th>damage_type</th>\n",
       "      <th>capacity</th>\n",
       "      <th>fire_mode</th>\n",
       "      <th>time_units</th>\n",
       "      <th>accuracy</th>\n",
       "      <th>average_chance_to_hit</th>\n",
       "      <th>burst</th>\n",
       "      <th>turn_max_shots</th>\n",
       "      <th>turns_to_reload</th>\n",
       "      <th>turn_damage_max</th>\n",
       "      <th>turn_damage_expected</th>\n",
       "      <th>clip_damage</th>\n",
       "      <th>damage_per_time_unit</th>\n",
       "    </tr>\n",
       "  </thead>\n",
       "  <tbody>\n",
       "  </tbody>\n",
       "</table>\n",
       "</div>"
      ],
      "text/plain": [
       "Empty DataFrame\n",
       "Columns: [weapon, grip, ammo, damage, damage_type, capacity, fire_mode, time_units, accuracy, average_chance_to_hit, burst, turn_max_shots, turns_to_reload, turn_damage_max, turn_damage_expected, clip_damage, damage_per_time_unit]\n",
       "Index: []"
      ]
     },
     "execution_count": 18,
     "metadata": {},
     "output_type": "execute_result"
    }
   ],
   "source": [
    "weapon_data[weapon_data[\"weapon\"]==\"heavy_plasma\"]"
   ]
  },
  {
   "cell_type": "code",
   "execution_count": 19,
   "metadata": {
    "scrolled": true
   },
   "outputs": [
    {
     "data": {
      "text/html": [
       "<div>\n",
       "<style scoped>\n",
       "    .dataframe tbody tr th:only-of-type {\n",
       "        vertical-align: middle;\n",
       "    }\n",
       "\n",
       "    .dataframe tbody tr th {\n",
       "        vertical-align: top;\n",
       "    }\n",
       "\n",
       "    .dataframe thead th {\n",
       "        text-align: right;\n",
       "    }\n",
       "</style>\n",
       "<table border=\"1\" class=\"dataframe\">\n",
       "  <thead>\n",
       "    <tr style=\"text-align: right;\">\n",
       "      <th></th>\n",
       "      <th>weapon</th>\n",
       "      <th>grip</th>\n",
       "      <th>ammo</th>\n",
       "      <th>damage</th>\n",
       "      <th>damage_type</th>\n",
       "      <th>capacity</th>\n",
       "      <th>fire_mode</th>\n",
       "      <th>time_units</th>\n",
       "      <th>accuracy</th>\n",
       "      <th>average_chance_to_hit</th>\n",
       "      <th>burst</th>\n",
       "      <th>turn_max_shots</th>\n",
       "      <th>turns_to_reload</th>\n",
       "      <th>turn_damage_max</th>\n",
       "      <th>turn_damage_expected</th>\n",
       "      <th>clip_damage</th>\n",
       "      <th>damage_per_time_unit</th>\n",
       "    </tr>\n",
       "  </thead>\n",
       "  <tbody>\n",
       "    <tr>\n",
       "      <th>0</th>\n",
       "      <td>dart_gun</td>\n",
       "      <td>1</td>\n",
       "      <td>dart_gun_clip</td>\n",
       "      <td>16</td>\n",
       "      <td>armor_piercing</td>\n",
       "      <td>12.0</td>\n",
       "      <td>snapshot</td>\n",
       "      <td>20</td>\n",
       "      <td>40</td>\n",
       "      <td>0.220</td>\n",
       "      <td>1</td>\n",
       "      <td>3</td>\n",
       "      <td>4.0</td>\n",
       "      <td>48</td>\n",
       "      <td>10.56</td>\n",
       "      <td>192.0</td>\n",
       "      <td>0.800000</td>\n",
       "    </tr>\n",
       "    <tr>\n",
       "      <th>1</th>\n",
       "      <td>dart_gun</td>\n",
       "      <td>1</td>\n",
       "      <td>dart_gun_clip</td>\n",
       "      <td>16</td>\n",
       "      <td>armor_piercing</td>\n",
       "      <td>12.0</td>\n",
       "      <td>aimed</td>\n",
       "      <td>50</td>\n",
       "      <td>80</td>\n",
       "      <td>0.440</td>\n",
       "      <td>1</td>\n",
       "      <td>1</td>\n",
       "      <td>12.0</td>\n",
       "      <td>16</td>\n",
       "      <td>7.04</td>\n",
       "      <td>192.0</td>\n",
       "      <td>0.320000</td>\n",
       "    </tr>\n",
       "    <tr>\n",
       "      <th>2</th>\n",
       "      <td>jet_harpoon</td>\n",
       "      <td>2</td>\n",
       "      <td>jet_harpoon_clip</td>\n",
       "      <td>10</td>\n",
       "      <td>armor_piercing</td>\n",
       "      <td>32.0</td>\n",
       "      <td>auto</td>\n",
       "      <td>40</td>\n",
       "      <td>40</td>\n",
       "      <td>0.220</td>\n",
       "      <td>3</td>\n",
       "      <td>2</td>\n",
       "      <td>16.0</td>\n",
       "      <td>20</td>\n",
       "      <td>4.40</td>\n",
       "      <td>320.0</td>\n",
       "      <td>0.250000</td>\n",
       "    </tr>\n",
       "    <tr>\n",
       "      <th>3</th>\n",
       "      <td>jet_harpoon</td>\n",
       "      <td>2</td>\n",
       "      <td>jet_harpoon_clip</td>\n",
       "      <td>10</td>\n",
       "      <td>armor_piercing</td>\n",
       "      <td>32.0</td>\n",
       "      <td>snapshot</td>\n",
       "      <td>35</td>\n",
       "      <td>60</td>\n",
       "      <td>0.330</td>\n",
       "      <td>1</td>\n",
       "      <td>2</td>\n",
       "      <td>16.0</td>\n",
       "      <td>20</td>\n",
       "      <td>6.60</td>\n",
       "      <td>320.0</td>\n",
       "      <td>0.285714</td>\n",
       "    </tr>\n",
       "    <tr>\n",
       "      <th>4</th>\n",
       "      <td>jet_harpoon</td>\n",
       "      <td>2</td>\n",
       "      <td>jet_harpoon_clip</td>\n",
       "      <td>10</td>\n",
       "      <td>armor_piercing</td>\n",
       "      <td>32.0</td>\n",
       "      <td>aimed</td>\n",
       "      <td>70</td>\n",
       "      <td>90</td>\n",
       "      <td>0.495</td>\n",
       "      <td>1</td>\n",
       "      <td>1</td>\n",
       "      <td>32.0</td>\n",
       "      <td>10</td>\n",
       "      <td>4.95</td>\n",
       "      <td>320.0</td>\n",
       "      <td>0.142857</td>\n",
       "    </tr>\n",
       "  </tbody>\n",
       "</table>\n",
       "</div>"
      ],
      "text/plain": [
       "        weapon  grip              ammo  damage     damage_type  capacity  \\\n",
       "0     dart_gun     1     dart_gun_clip      16  armor_piercing      12.0   \n",
       "1     dart_gun     1     dart_gun_clip      16  armor_piercing      12.0   \n",
       "2  jet_harpoon     2  jet_harpoon_clip      10  armor_piercing      32.0   \n",
       "3  jet_harpoon     2  jet_harpoon_clip      10  armor_piercing      32.0   \n",
       "4  jet_harpoon     2  jet_harpoon_clip      10  armor_piercing      32.0   \n",
       "\n",
       "  fire_mode  time_units  accuracy  average_chance_to_hit  burst  \\\n",
       "0  snapshot          20        40                  0.220      1   \n",
       "1     aimed          50        80                  0.440      1   \n",
       "2      auto          40        40                  0.220      3   \n",
       "3  snapshot          35        60                  0.330      1   \n",
       "4     aimed          70        90                  0.495      1   \n",
       "\n",
       "   turn_max_shots  turns_to_reload  turn_damage_max  turn_damage_expected  \\\n",
       "0               3              4.0               48                 10.56   \n",
       "1               1             12.0               16                  7.04   \n",
       "2               2             16.0               20                  4.40   \n",
       "3               2             16.0               20                  6.60   \n",
       "4               1             32.0               10                  4.95   \n",
       "\n",
       "   clip_damage  damage_per_time_unit  \n",
       "0        192.0              0.800000  \n",
       "1        192.0              0.320000  \n",
       "2        320.0              0.250000  \n",
       "3        320.0              0.285714  \n",
       "4        320.0              0.142857  "
      ]
     },
     "execution_count": 19,
     "metadata": {},
     "output_type": "execute_result"
    }
   ],
   "source": [
    "weapon_data.head()"
   ]
  },
  {
   "cell_type": "code",
   "execution_count": 20,
   "metadata": {},
   "outputs": [
    {
     "data": {
      "text/html": [
       "<div>\n",
       "<style scoped>\n",
       "    .dataframe tbody tr th:only-of-type {\n",
       "        vertical-align: middle;\n",
       "    }\n",
       "\n",
       "    .dataframe tbody tr th {\n",
       "        vertical-align: top;\n",
       "    }\n",
       "\n",
       "    .dataframe thead th {\n",
       "        text-align: right;\n",
       "    }\n",
       "</style>\n",
       "<table border=\"1\" class=\"dataframe\">\n",
       "  <thead>\n",
       "    <tr style=\"text-align: right;\">\n",
       "      <th></th>\n",
       "      <th>weapon</th>\n",
       "      <th>grip</th>\n",
       "      <th>ammo</th>\n",
       "      <th>damage</th>\n",
       "      <th>damage_type</th>\n",
       "      <th>capacity</th>\n",
       "      <th>fire_mode</th>\n",
       "      <th>time_units</th>\n",
       "      <th>accuracy</th>\n",
       "      <th>average_chance_to_hit</th>\n",
       "      <th>...</th>\n",
       "      <th>turns_to_reload</th>\n",
       "      <th>turn_damage_max</th>\n",
       "      <th>turn_damage_expected</th>\n",
       "      <th>clip_damage</th>\n",
       "      <th>damage_per_time_unit</th>\n",
       "      <th>target</th>\n",
       "      <th>target_damage</th>\n",
       "      <th>turn_target_damage_max</th>\n",
       "      <th>turn_target_damage_expected</th>\n",
       "      <th>target_damage_per_time_unit</th>\n",
       "    </tr>\n",
       "  </thead>\n",
       "  <tbody>\n",
       "    <tr>\n",
       "      <th>0</th>\n",
       "      <td>dart_gun</td>\n",
       "      <td>1</td>\n",
       "      <td>dart_gun_clip</td>\n",
       "      <td>16</td>\n",
       "      <td>armor_piercing</td>\n",
       "      <td>12.0</td>\n",
       "      <td>snapshot</td>\n",
       "      <td>20</td>\n",
       "      <td>40</td>\n",
       "      <td>0.220</td>\n",
       "      <td>...</td>\n",
       "      <td>4.0</td>\n",
       "      <td>48</td>\n",
       "      <td>10.56</td>\n",
       "      <td>192.0</td>\n",
       "      <td>0.800000</td>\n",
       "      <td>terrain</td>\n",
       "      <td>16.0</td>\n",
       "      <td>48.0</td>\n",
       "      <td>10.56</td>\n",
       "      <td>0.800000</td>\n",
       "    </tr>\n",
       "    <tr>\n",
       "      <th>1</th>\n",
       "      <td>dart_gun</td>\n",
       "      <td>1</td>\n",
       "      <td>dart_gun_clip</td>\n",
       "      <td>16</td>\n",
       "      <td>armor_piercing</td>\n",
       "      <td>12.0</td>\n",
       "      <td>aimed</td>\n",
       "      <td>50</td>\n",
       "      <td>80</td>\n",
       "      <td>0.440</td>\n",
       "      <td>...</td>\n",
       "      <td>12.0</td>\n",
       "      <td>16</td>\n",
       "      <td>7.04</td>\n",
       "      <td>192.0</td>\n",
       "      <td>0.320000</td>\n",
       "      <td>terrain</td>\n",
       "      <td>16.0</td>\n",
       "      <td>16.0</td>\n",
       "      <td>7.04</td>\n",
       "      <td>0.320000</td>\n",
       "    </tr>\n",
       "    <tr>\n",
       "      <th>2</th>\n",
       "      <td>jet_harpoon</td>\n",
       "      <td>2</td>\n",
       "      <td>jet_harpoon_clip</td>\n",
       "      <td>10</td>\n",
       "      <td>armor_piercing</td>\n",
       "      <td>32.0</td>\n",
       "      <td>auto</td>\n",
       "      <td>40</td>\n",
       "      <td>40</td>\n",
       "      <td>0.220</td>\n",
       "      <td>...</td>\n",
       "      <td>16.0</td>\n",
       "      <td>20</td>\n",
       "      <td>4.40</td>\n",
       "      <td>320.0</td>\n",
       "      <td>0.250000</td>\n",
       "      <td>terrain</td>\n",
       "      <td>10.0</td>\n",
       "      <td>20.0</td>\n",
       "      <td>4.40</td>\n",
       "      <td>0.250000</td>\n",
       "    </tr>\n",
       "    <tr>\n",
       "      <th>3</th>\n",
       "      <td>jet_harpoon</td>\n",
       "      <td>2</td>\n",
       "      <td>jet_harpoon_clip</td>\n",
       "      <td>10</td>\n",
       "      <td>armor_piercing</td>\n",
       "      <td>32.0</td>\n",
       "      <td>snapshot</td>\n",
       "      <td>35</td>\n",
       "      <td>60</td>\n",
       "      <td>0.330</td>\n",
       "      <td>...</td>\n",
       "      <td>16.0</td>\n",
       "      <td>20</td>\n",
       "      <td>6.60</td>\n",
       "      <td>320.0</td>\n",
       "      <td>0.285714</td>\n",
       "      <td>terrain</td>\n",
       "      <td>10.0</td>\n",
       "      <td>20.0</td>\n",
       "      <td>6.60</td>\n",
       "      <td>0.285714</td>\n",
       "    </tr>\n",
       "    <tr>\n",
       "      <th>4</th>\n",
       "      <td>jet_harpoon</td>\n",
       "      <td>2</td>\n",
       "      <td>jet_harpoon_clip</td>\n",
       "      <td>10</td>\n",
       "      <td>armor_piercing</td>\n",
       "      <td>32.0</td>\n",
       "      <td>aimed</td>\n",
       "      <td>70</td>\n",
       "      <td>90</td>\n",
       "      <td>0.495</td>\n",
       "      <td>...</td>\n",
       "      <td>32.0</td>\n",
       "      <td>10</td>\n",
       "      <td>4.95</td>\n",
       "      <td>320.0</td>\n",
       "      <td>0.142857</td>\n",
       "      <td>terrain</td>\n",
       "      <td>10.0</td>\n",
       "      <td>10.0</td>\n",
       "      <td>4.95</td>\n",
       "      <td>0.142857</td>\n",
       "    </tr>\n",
       "  </tbody>\n",
       "</table>\n",
       "<p>5 rows × 22 columns</p>\n",
       "</div>"
      ],
      "text/plain": [
       "        weapon  grip              ammo  damage     damage_type  capacity  \\\n",
       "0     dart_gun     1     dart_gun_clip      16  armor_piercing      12.0   \n",
       "1     dart_gun     1     dart_gun_clip      16  armor_piercing      12.0   \n",
       "2  jet_harpoon     2  jet_harpoon_clip      10  armor_piercing      32.0   \n",
       "3  jet_harpoon     2  jet_harpoon_clip      10  armor_piercing      32.0   \n",
       "4  jet_harpoon     2  jet_harpoon_clip      10  armor_piercing      32.0   \n",
       "\n",
       "  fire_mode  time_units  accuracy  average_chance_to_hit  ...  \\\n",
       "0  snapshot          20        40                  0.220  ...   \n",
       "1     aimed          50        80                  0.440  ...   \n",
       "2      auto          40        40                  0.220  ...   \n",
       "3  snapshot          35        60                  0.330  ...   \n",
       "4     aimed          70        90                  0.495  ...   \n",
       "\n",
       "   turns_to_reload  turn_damage_max  turn_damage_expected  clip_damage  \\\n",
       "0              4.0               48                 10.56        192.0   \n",
       "1             12.0               16                  7.04        192.0   \n",
       "2             16.0               20                  4.40        320.0   \n",
       "3             16.0               20                  6.60        320.0   \n",
       "4             32.0               10                  4.95        320.0   \n",
       "\n",
       "   damage_per_time_unit   target  target_damage turn_target_damage_max  \\\n",
       "0              0.800000  terrain           16.0                   48.0   \n",
       "1              0.320000  terrain           16.0                   16.0   \n",
       "2              0.250000  terrain           10.0                   20.0   \n",
       "3              0.285714  terrain           10.0                   20.0   \n",
       "4              0.142857  terrain           10.0                   10.0   \n",
       "\n",
       "   turn_target_damage_expected  target_damage_per_time_unit  \n",
       "0                        10.56                     0.800000  \n",
       "1                         7.04                     0.320000  \n",
       "2                         4.40                     0.250000  \n",
       "3                         6.60                     0.285714  \n",
       "4                         4.95                     0.142857  \n",
       "\n",
       "[5 rows x 22 columns]"
      ]
     },
     "execution_count": 20,
     "metadata": {},
     "output_type": "execute_result"
    }
   ],
   "source": [
    "weapon_data_targets.head()"
   ]
  },
  {
   "cell_type": "code",
   "execution_count": 21,
   "metadata": {
    "scrolled": true
   },
   "outputs": [
    {
     "data": {
      "text/html": [
       "<div>\n",
       "<style scoped>\n",
       "    .dataframe tbody tr th:only-of-type {\n",
       "        vertical-align: middle;\n",
       "    }\n",
       "\n",
       "    .dataframe tbody tr th {\n",
       "        vertical-align: top;\n",
       "    }\n",
       "\n",
       "    .dataframe thead th {\n",
       "        text-align: right;\n",
       "    }\n",
       "</style>\n",
       "<table border=\"1\" class=\"dataframe\">\n",
       "  <thead>\n",
       "    <tr style=\"text-align: right;\">\n",
       "      <th></th>\n",
       "      <th>alien</th>\n",
       "      <th>time_units</th>\n",
       "      <th>stamina</th>\n",
       "      <th>health</th>\n",
       "      <th>bravery</th>\n",
       "      <th>reactions</th>\n",
       "      <th>firing_accuracy</th>\n",
       "      <th>throwing_accuracy</th>\n",
       "      <th>strength</th>\n",
       "      <th>psionic_strength</th>\n",
       "      <th>...</th>\n",
       "      <th>chance_of_hit_and_penetrate</th>\n",
       "      <th>penetrating_damage</th>\n",
       "      <th>turn_penetrating_damage_max</th>\n",
       "      <th>turn_penetrating_damage_expected</th>\n",
       "      <th>clip_penetrating_damage</th>\n",
       "      <th>hits_to_kill</th>\n",
       "      <th>turn_expected_kills</th>\n",
       "      <th>overkill</th>\n",
       "      <th>penetrating_damage_per_time_unit</th>\n",
       "      <th>overkill_per_time_unit</th>\n",
       "    </tr>\n",
       "  </thead>\n",
       "  <tbody>\n",
       "    <tr>\n",
       "      <th>0</th>\n",
       "      <td>Aquatoid Soldier</td>\n",
       "      <td>54</td>\n",
       "      <td>90</td>\n",
       "      <td>30</td>\n",
       "      <td>80</td>\n",
       "      <td>63</td>\n",
       "      <td>52</td>\n",
       "      <td>58</td>\n",
       "      <td>30</td>\n",
       "      <td>35</td>\n",
       "      <td>...</td>\n",
       "      <td>0.220</td>\n",
       "      <td>16.0</td>\n",
       "      <td>48.0</td>\n",
       "      <td>10.56</td>\n",
       "      <td>192.0</td>\n",
       "      <td>2.0</td>\n",
       "      <td>1.500000</td>\n",
       "      <td>2.0</td>\n",
       "      <td>0.800000</td>\n",
       "      <td>0.10</td>\n",
       "    </tr>\n",
       "    <tr>\n",
       "      <th>1</th>\n",
       "      <td>Aquatoid Soldier</td>\n",
       "      <td>54</td>\n",
       "      <td>90</td>\n",
       "      <td>30</td>\n",
       "      <td>80</td>\n",
       "      <td>63</td>\n",
       "      <td>52</td>\n",
       "      <td>58</td>\n",
       "      <td>30</td>\n",
       "      <td>35</td>\n",
       "      <td>...</td>\n",
       "      <td>0.440</td>\n",
       "      <td>16.0</td>\n",
       "      <td>16.0</td>\n",
       "      <td>7.04</td>\n",
       "      <td>192.0</td>\n",
       "      <td>2.0</td>\n",
       "      <td>0.500000</td>\n",
       "      <td>2.0</td>\n",
       "      <td>0.320000</td>\n",
       "      <td>0.04</td>\n",
       "    </tr>\n",
       "    <tr>\n",
       "      <th>2</th>\n",
       "      <td>Aquatoid Soldier</td>\n",
       "      <td>54</td>\n",
       "      <td>90</td>\n",
       "      <td>30</td>\n",
       "      <td>80</td>\n",
       "      <td>63</td>\n",
       "      <td>52</td>\n",
       "      <td>58</td>\n",
       "      <td>30</td>\n",
       "      <td>35</td>\n",
       "      <td>...</td>\n",
       "      <td>0.220</td>\n",
       "      <td>10.0</td>\n",
       "      <td>20.0</td>\n",
       "      <td>4.40</td>\n",
       "      <td>320.0</td>\n",
       "      <td>3.0</td>\n",
       "      <td>0.666667</td>\n",
       "      <td>0.0</td>\n",
       "      <td>0.250000</td>\n",
       "      <td>0.00</td>\n",
       "    </tr>\n",
       "    <tr>\n",
       "      <th>3</th>\n",
       "      <td>Aquatoid Soldier</td>\n",
       "      <td>54</td>\n",
       "      <td>90</td>\n",
       "      <td>30</td>\n",
       "      <td>80</td>\n",
       "      <td>63</td>\n",
       "      <td>52</td>\n",
       "      <td>58</td>\n",
       "      <td>30</td>\n",
       "      <td>35</td>\n",
       "      <td>...</td>\n",
       "      <td>0.330</td>\n",
       "      <td>10.0</td>\n",
       "      <td>20.0</td>\n",
       "      <td>6.60</td>\n",
       "      <td>320.0</td>\n",
       "      <td>3.0</td>\n",
       "      <td>0.666667</td>\n",
       "      <td>0.0</td>\n",
       "      <td>0.285714</td>\n",
       "      <td>0.00</td>\n",
       "    </tr>\n",
       "    <tr>\n",
       "      <th>4</th>\n",
       "      <td>Aquatoid Soldier</td>\n",
       "      <td>54</td>\n",
       "      <td>90</td>\n",
       "      <td>30</td>\n",
       "      <td>80</td>\n",
       "      <td>63</td>\n",
       "      <td>52</td>\n",
       "      <td>58</td>\n",
       "      <td>30</td>\n",
       "      <td>35</td>\n",
       "      <td>...</td>\n",
       "      <td>0.495</td>\n",
       "      <td>10.0</td>\n",
       "      <td>10.0</td>\n",
       "      <td>4.95</td>\n",
       "      <td>320.0</td>\n",
       "      <td>3.0</td>\n",
       "      <td>0.333333</td>\n",
       "      <td>0.0</td>\n",
       "      <td>0.142857</td>\n",
       "      <td>0.00</td>\n",
       "    </tr>\n",
       "  </tbody>\n",
       "</table>\n",
       "<p>5 rows × 54 columns</p>\n",
       "</div>"
      ],
      "text/plain": [
       "              alien  time_units  stamina  health  bravery  reactions  \\\n",
       "0  Aquatoid Soldier          54       90      30       80         63   \n",
       "1  Aquatoid Soldier          54       90      30       80         63   \n",
       "2  Aquatoid Soldier          54       90      30       80         63   \n",
       "3  Aquatoid Soldier          54       90      30       80         63   \n",
       "4  Aquatoid Soldier          54       90      30       80         63   \n",
       "\n",
       "   firing_accuracy  throwing_accuracy  strength  psionic_strength  ...  \\\n",
       "0               52                 58        30                35  ...   \n",
       "1               52                 58        30                35  ...   \n",
       "2               52                 58        30                35  ...   \n",
       "3               52                 58        30                35  ...   \n",
       "4               52                 58        30                35  ...   \n",
       "\n",
       "   chance_of_hit_and_penetrate  penetrating_damage  \\\n",
       "0                        0.220                16.0   \n",
       "1                        0.440                16.0   \n",
       "2                        0.220                10.0   \n",
       "3                        0.330                10.0   \n",
       "4                        0.495                10.0   \n",
       "\n",
       "   turn_penetrating_damage_max  turn_penetrating_damage_expected  \\\n",
       "0                         48.0                             10.56   \n",
       "1                         16.0                              7.04   \n",
       "2                         20.0                              4.40   \n",
       "3                         20.0                              6.60   \n",
       "4                         10.0                              4.95   \n",
       "\n",
       "   clip_penetrating_damage  hits_to_kill  turn_expected_kills  overkill  \\\n",
       "0                    192.0           2.0             1.500000       2.0   \n",
       "1                    192.0           2.0             0.500000       2.0   \n",
       "2                    320.0           3.0             0.666667       0.0   \n",
       "3                    320.0           3.0             0.666667       0.0   \n",
       "4                    320.0           3.0             0.333333       0.0   \n",
       "\n",
       "   penetrating_damage_per_time_unit  overkill_per_time_unit  \n",
       "0                          0.800000                    0.10  \n",
       "1                          0.320000                    0.04  \n",
       "2                          0.250000                    0.00  \n",
       "3                          0.285714                    0.00  \n",
       "4                          0.142857                    0.00  \n",
       "\n",
       "[5 rows x 54 columns]"
      ]
     },
     "execution_count": 21,
     "metadata": {},
     "output_type": "execute_result"
    }
   ],
   "source": [
    "weapon_data_aliens.head()"
   ]
  }
 ],
 "metadata": {
  "kernelspec": {
   "display_name": "Python 3",
   "language": "python",
   "name": "python3"
  },
  "language_info": {
   "codemirror_mode": {
    "name": "ipython",
    "version": 3
   },
   "file_extension": ".py",
   "mimetype": "text/x-python",
   "name": "python",
   "nbconvert_exporter": "python",
   "pygments_lexer": "ipython3",
   "version": "3.8.5"
  }
 },
 "nbformat": 4,
 "nbformat_minor": 4
}
