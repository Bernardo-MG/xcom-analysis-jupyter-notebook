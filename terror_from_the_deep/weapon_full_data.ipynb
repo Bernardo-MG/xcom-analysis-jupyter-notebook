{
 "cells": [
  {
   "cell_type": "markdown",
   "metadata": {},
   "source": [
    "# Full Data Calculation for Weapons"
   ]
  },
  {
   "cell_type": "markdown",
   "metadata": {},
   "source": [
    "## Setting Up"
   ]
  },
  {
   "cell_type": "code",
   "execution_count": 1,
   "metadata": {},
   "outputs": [],
   "source": [
    "import math\n",
    "import pandas as pd\n",
    "from scripts.weapon import max_shots, burst\n",
    "from scripts.accuracy import average_to_hit\n",
    "\n",
    "aliens = pd.read_csv(\"datasets/aliens.csv\")\n",
    "weapon_stats = pd.read_csv(\"datasets/weapon_stats.csv\")\n",
    "ammo_stats = pd.read_csv(\"datasets/ammo_stats.csv\")\n",
    "weapon_firemodes = pd.read_csv(\"datasets/weapon_firemodes.csv\")\n",
    "damage_modifiers = pd.read_csv(\"datasets/damage_modifiers.csv\")"
   ]
  },
  {
   "cell_type": "markdown",
   "metadata": {},
   "source": [
    "## Data Merge"
   ]
  },
  {
   "cell_type": "code",
   "execution_count": 2,
   "metadata": {
    "scrolled": false
   },
   "outputs": [],
   "source": [
    "weapon_data = weapon_stats.merge(ammo_stats, on=\"weapon\")\n",
    "weapon_data = weapon_data.merge(weapon_firemodes, on=\"weapon\")"
   ]
  },
  {
   "cell_type": "markdown",
   "metadata": {},
   "source": [
    "## Chance to Hit"
   ]
  },
  {
   "cell_type": "markdown",
   "metadata": {},
   "source": [
    "We will use an average Accuracy of 50. Meaning the soldier fails half of the time.\n",
    "\n",
    "The chance of hit formula is simple. Just multiply the soldier's accuracy chance by the weapon's accuracy chance. So an average of 50 to a weapon of Accuracy 90 means 0.50 * 0.9 = 0.45 chance of hit."
   ]
  },
  {
   "cell_type": "code",
   "execution_count": 3,
   "metadata": {
    "scrolled": true
   },
   "outputs": [],
   "source": [
    "weapon_data[\"average_chance_to_hit\"] = weapon_data.apply(lambda x: average_to_hit(x[\"accuracy\"]), axis=1)"
   ]
  },
  {
   "cell_type": "markdown",
   "metadata": {},
   "source": [
    "## Shots"
   ]
  },
  {
   "cell_type": "code",
   "execution_count": 4,
   "metadata": {
    "scrolled": false
   },
   "outputs": [],
   "source": [
    "weapon_data[\"burst\"] = weapon_data.apply(burst, axis=1)\n",
    "weapon_data[\"turn_max_shots\"] = weapon_data.apply(max_shots, axis=1)\n",
    "weapon_data[\"turn_max_shots\"] = weapon_data.apply(max_shots, axis=1)\n",
    "weapon_data[\"turns_to_reload\"] = weapon_data.apply(lambda x: x[\"capacity\"] / x[\"turn_max_shots\"], axis=1)\n",
    "weapon_data['turns_to_reload'] = weapon_data['turns_to_reload'].fillna(0)\n",
    "weapon_data[\"turns_to_reload\"] = weapon_data.apply(lambda x: x[\"turns_to_reload\"], axis=1)"
   ]
  },
  {
   "cell_type": "markdown",
   "metadata": {},
   "source": [
    "## Damage Range"
   ]
  },
  {
   "cell_type": "code",
   "execution_count": 5,
   "metadata": {},
   "outputs": [],
   "source": [
    "weapon_data[\"turn_damage_max\"] = weapon_data.apply(lambda x: x[\"turn_max_shots\"] * x[\"damage\"], axis=1)\n",
    "weapon_data[\"turn_damage_expected\"] = weapon_data.apply(lambda x: x[\"turn_damage_max\"] * x[\"average_chance_to_hit\"], axis=1)\n",
    "weapon_data[\"clip_damage\"] = weapon_data.apply(lambda x: x[\"capacity\"] * x[\"damage\"], axis=1)"
   ]
  },
  {
   "cell_type": "markdown",
   "metadata": {},
   "source": [
    "## Costs"
   ]
  },
  {
   "cell_type": "code",
   "execution_count": 6,
   "metadata": {},
   "outputs": [],
   "source": [
    "weapon_data[\"damage_per_time_unit\"] = weapon_data.apply(lambda x: x[\"damage\"] / x[\"time_units\"], axis=1)"
   ]
  },
  {
   "cell_type": "markdown",
   "metadata": {},
   "source": [
    "## Damage to Target Type"
   ]
  },
  {
   "cell_type": "markdown",
   "metadata": {},
   "source": [
    "### Data Merge"
   ]
  },
  {
   "cell_type": "code",
   "execution_count": 7,
   "metadata": {},
   "outputs": [],
   "source": [
    "weapon_data_targets = weapon_data.append([weapon_data] * (len(damage_modifiers.index)-1), ignore_index=True)\n",
    "weapon_data_targets[\"key\"] = weapon_data_targets.groupby([\"weapon\", \"ammo\", \"fire_mode\"]).cumcount()\n",
    "\n",
    "targets = damage_modifiers[\"target\"]\n",
    "\n",
    "weapon_data_targets = pd.merge(weapon_data_targets, targets, left_on=\"key\", right_index=True, how=\"left\", sort=False)\n",
    "weapon_data_targets = weapon_data_targets.drop(columns=[\"key\"])"
   ]
  },
  {
   "cell_type": "markdown",
   "metadata": {},
   "source": [
    "### Damage vs Type"
   ]
  },
  {
   "cell_type": "code",
   "execution_count": 8,
   "metadata": {},
   "outputs": [],
   "source": [
    "def damage_modifier(group):\n",
    "    \"\"\"\n",
    "    Returns the damage modifier for the weapon target.\n",
    "    \"\"\"\n",
    "    target = damage_modifiers[damage_modifiers[\"target\"] == group[\"target\"]]\n",
    "    damage = target[group[\"damage_type\"]].values[0]\n",
    "    return damage / 100"
   ]
  },
  {
   "cell_type": "code",
   "execution_count": 9,
   "metadata": {},
   "outputs": [],
   "source": [
    "weapon_data_targets[\"target_damage\"] = weapon_data_targets.apply(lambda x: x[\"damage\"] * damage_modifier(x), axis=1)\n",
    "weapon_data_targets[\"target_turn_damage_max\"] = weapon_data_targets.apply(lambda x: x[\"turn_max_shots\"] * x[\"target_damage\"], axis=1)\n",
    "weapon_data_targets[\"target_turn_damage_expected\"] = weapon_data_targets.apply(lambda x: x[\"target_turn_damage_max\"] * x[\"average_chance_to_hit\"], axis=1)"
   ]
  },
  {
   "cell_type": "markdown",
   "metadata": {},
   "source": [
    "### Costs"
   ]
  },
  {
   "cell_type": "code",
   "execution_count": 10,
   "metadata": {},
   "outputs": [],
   "source": [
    "weapon_data_targets[\"target_damage_per_time_unit\"] = weapon_data_targets.apply(lambda x: x[\"target_damage\"] / x[\"time_units\"], axis=1)"
   ]
  },
  {
   "cell_type": "markdown",
   "metadata": {},
   "source": [
    "## Damage to Alien"
   ]
  },
  {
   "cell_type": "markdown",
   "metadata": {},
   "source": [
    "### Average Armor"
   ]
  },
  {
   "cell_type": "code",
   "execution_count": 11,
   "metadata": {},
   "outputs": [],
   "source": [
    "aliens_armor = aliens[[\"alien\", \"armor_front\", \"armor_side\", \"armor_rear\", \"armor_under\"]]\n",
    "aliens_armor = aliens_armor.set_index(\"alien\")\n",
    "aliens_armor = aliens_armor.mean(axis=1)\n",
    "aliens_armor = aliens_armor.reset_index()\n",
    "aliens_armor = aliens_armor.rename(columns={0: \"armor\"})"
   ]
  },
  {
   "cell_type": "markdown",
   "metadata": {},
   "source": [
    "### Base data"
   ]
  },
  {
   "cell_type": "code",
   "execution_count": 12,
   "metadata": {},
   "outputs": [],
   "source": [
    "weapon_damages_targets = weapon_data_targets.groupby([\"weapon\", \"target\"]).mean()\n",
    "weapon_damages_targets = weapon_damages_targets.reset_index()"
   ]
  },
  {
   "cell_type": "code",
   "execution_count": 13,
   "metadata": {},
   "outputs": [],
   "source": [
    "weapon_data_aliens = aliens.merge(aliens_armor, on=\"alien\")\n",
    "weapon_data_aliens = weapon_data_aliens.merge(weapon_damages_targets, on=\"target\")\n",
    "weapon_data_aliens = weapon_data_aliens.rename(columns={\"time_units_x\": \"time_units\"})\n",
    "weapon_data_aliens = weapon_data_aliens.rename(columns={\"time_units_y\": \"weapon_time_units\"})"
   ]
  },
  {
   "cell_type": "markdown",
   "metadata": {},
   "source": [
    "### Penetrating Damage"
   ]
  },
  {
   "cell_type": "code",
   "execution_count": 14,
   "metadata": {},
   "outputs": [],
   "source": [
    "def penetrating_damage(base_damage, armor):\n",
    "    \"\"\"\n",
    "    Returns the damage after applying armor.\n",
    "    \"\"\"\n",
    "    if armor >= base_damage:\n",
    "        damage = 0\n",
    "    else:\n",
    "        damage = base_damage - armor\n",
    "    \n",
    "    return damage"
   ]
  },
  {
   "cell_type": "code",
   "execution_count": 15,
   "metadata": {
    "scrolled": true
   },
   "outputs": [],
   "source": [
    "weapon_data_aliens[\"penetrating_damage\"] = weapon_data_aliens.apply(lambda x: penetrating_damage(x[\"target_damage\"],x[\"armor\"]), axis=1)\n",
    "weapon_data_aliens[\"penetrating_damage_max\"] = weapon_data_aliens.apply(lambda x: x[\"turn_max_shots\"] * x[\"penetrating_damage\"], axis=1)\n",
    "weapon_data_aliens[\"penetrating_damage_expected\"] = weapon_data_aliens.apply(lambda x: x[\"penetrating_damage_max\"] * x[\"average_chance_to_hit\"], axis=1)\n",
    "weapon_data_aliens[\"penetrating_damage_crit\"] = weapon_data_aliens.apply(lambda x: penetrating_damage(x[\"target_damage\"] * 2,x[\"armor\"]), axis=1)\n",
    "weapon_data_aliens[\"penetrating_damage_crit_expected\"] = weapon_data_aliens.apply(lambda x: x[\"penetrating_damage_crit\"] * x[\"average_chance_to_hit\"], axis=1)"
   ]
  },
  {
   "cell_type": "markdown",
   "metadata": {},
   "source": [
    "### Hits to Kill"
   ]
  },
  {
   "cell_type": "code",
   "execution_count": 16,
   "metadata": {},
   "outputs": [],
   "source": [
    "def hits_to_kill(damage, health):\n",
    "    \"\"\"\n",
    "    Returns the number of hits it takes to kill the target.\n",
    "    \"\"\"\n",
    "    if damage > 0:\n",
    "        hits = health / damage\n",
    "    else:\n",
    "        hits = 1000\n",
    "    \n",
    "    if hits < 1:\n",
    "        hits = 1\n",
    "    else:\n",
    "        hits = math.ceil(hits)\n",
    "    \n",
    "    return hits"
   ]
  },
  {
   "cell_type": "code",
   "execution_count": 17,
   "metadata": {},
   "outputs": [],
   "source": [
    "weapon_data_aliens[\"hits_to_kill\"] = weapon_data_aliens.apply(lambda x: hits_to_kill(x[\"penetrating_damage\"], x[\"health\"]), axis=1)\n",
    "weapon_data_aliens[\"hits_to_kill_crit\"] = weapon_data_aliens.apply(lambda x: hits_to_kill(x[\"penetrating_damage_crit\"], x[\"health\"]), axis=1)\n",
    "weapon_data_aliens[\"expected_kills\"] = weapon_data_aliens.apply(lambda x: x[\"turn_max_shots\"] / x[\"hits_to_kill\"], axis=1)"
   ]
  },
  {
   "cell_type": "markdown",
   "metadata": {},
   "source": [
    "### Costs"
   ]
  },
  {
   "cell_type": "code",
   "execution_count": 18,
   "metadata": {},
   "outputs": [],
   "source": [
    "weapon_data_aliens[\"penetrating_damage_per_time_unit\"] = weapon_data_aliens.apply(lambda x: x[\"penetrating_damage\"] / x[\"weapon_time_units\"], axis=1)"
   ]
  },
  {
   "cell_type": "markdown",
   "metadata": {},
   "source": [
    "## Data Generated"
   ]
  },
  {
   "cell_type": "code",
   "execution_count": 19,
   "metadata": {},
   "outputs": [
    {
     "data": {
      "text/html": [
       "<div>\n",
       "<style scoped>\n",
       "    .dataframe tbody tr th:only-of-type {\n",
       "        vertical-align: middle;\n",
       "    }\n",
       "\n",
       "    .dataframe tbody tr th {\n",
       "        vertical-align: top;\n",
       "    }\n",
       "\n",
       "    .dataframe thead th {\n",
       "        text-align: right;\n",
       "    }\n",
       "</style>\n",
       "<table border=\"1\" class=\"dataframe\">\n",
       "  <thead>\n",
       "    <tr style=\"text-align: right;\">\n",
       "      <th></th>\n",
       "      <th>weapon</th>\n",
       "      <th>grip</th>\n",
       "      <th>ammo</th>\n",
       "      <th>damage</th>\n",
       "      <th>damage_type</th>\n",
       "      <th>capacity</th>\n",
       "      <th>fire_mode</th>\n",
       "      <th>time_units</th>\n",
       "      <th>accuracy</th>\n",
       "      <th>average_chance_to_hit</th>\n",
       "      <th>burst</th>\n",
       "      <th>turn_max_shots</th>\n",
       "      <th>turns_to_reload</th>\n",
       "      <th>turn_damage_max</th>\n",
       "      <th>turn_damage_expected</th>\n",
       "      <th>clip_damage</th>\n",
       "      <th>damage_per_time_unit</th>\n",
       "    </tr>\n",
       "  </thead>\n",
       "  <tbody>\n",
       "  </tbody>\n",
       "</table>\n",
       "</div>"
      ],
      "text/plain": [
       "Empty DataFrame\n",
       "Columns: [weapon, grip, ammo, damage, damage_type, capacity, fire_mode, time_units, accuracy, average_chance_to_hit, burst, turn_max_shots, turns_to_reload, turn_damage_max, turn_damage_expected, clip_damage, damage_per_time_unit]\n",
       "Index: []"
      ]
     },
     "execution_count": 19,
     "metadata": {},
     "output_type": "execute_result"
    }
   ],
   "source": [
    "weapon_data[weapon_data[\"weapon\"]==\"heavy_plasma\"]"
   ]
  },
  {
   "cell_type": "code",
   "execution_count": 20,
   "metadata": {},
   "outputs": [
    {
     "data": {
      "text/html": [
       "<div>\n",
       "<style scoped>\n",
       "    .dataframe tbody tr th:only-of-type {\n",
       "        vertical-align: middle;\n",
       "    }\n",
       "\n",
       "    .dataframe tbody tr th {\n",
       "        vertical-align: top;\n",
       "    }\n",
       "\n",
       "    .dataframe thead th {\n",
       "        text-align: right;\n",
       "    }\n",
       "</style>\n",
       "<table border=\"1\" class=\"dataframe\">\n",
       "  <thead>\n",
       "    <tr style=\"text-align: right;\">\n",
       "      <th></th>\n",
       "      <th>weapon</th>\n",
       "      <th>grip</th>\n",
       "      <th>ammo</th>\n",
       "      <th>damage</th>\n",
       "      <th>damage_type</th>\n",
       "      <th>capacity</th>\n",
       "      <th>fire_mode</th>\n",
       "      <th>time_units</th>\n",
       "      <th>accuracy</th>\n",
       "      <th>average_chance_to_hit</th>\n",
       "      <th>burst</th>\n",
       "      <th>turn_max_shots</th>\n",
       "      <th>turns_to_reload</th>\n",
       "      <th>turn_damage_max</th>\n",
       "      <th>turn_damage_expected</th>\n",
       "      <th>clip_damage</th>\n",
       "      <th>damage_per_time_unit</th>\n",
       "    </tr>\n",
       "  </thead>\n",
       "  <tbody>\n",
       "    <tr>\n",
       "      <th>0</th>\n",
       "      <td>dart_gun</td>\n",
       "      <td>1</td>\n",
       "      <td>dart_gun_clip</td>\n",
       "      <td>16</td>\n",
       "      <td>armor_piercing</td>\n",
       "      <td>12.0</td>\n",
       "      <td>snapshot</td>\n",
       "      <td>20</td>\n",
       "      <td>40</td>\n",
       "      <td>0.220</td>\n",
       "      <td>1</td>\n",
       "      <td>5</td>\n",
       "      <td>2.400000</td>\n",
       "      <td>80</td>\n",
       "      <td>17.60</td>\n",
       "      <td>192.0</td>\n",
       "      <td>0.800000</td>\n",
       "    </tr>\n",
       "    <tr>\n",
       "      <th>1</th>\n",
       "      <td>dart_gun</td>\n",
       "      <td>1</td>\n",
       "      <td>dart_gun_clip</td>\n",
       "      <td>16</td>\n",
       "      <td>armor_piercing</td>\n",
       "      <td>12.0</td>\n",
       "      <td>aimed</td>\n",
       "      <td>50</td>\n",
       "      <td>80</td>\n",
       "      <td>0.440</td>\n",
       "      <td>1</td>\n",
       "      <td>2</td>\n",
       "      <td>6.000000</td>\n",
       "      <td>32</td>\n",
       "      <td>14.08</td>\n",
       "      <td>192.0</td>\n",
       "      <td>0.320000</td>\n",
       "    </tr>\n",
       "    <tr>\n",
       "      <th>2</th>\n",
       "      <td>jet_harpoon</td>\n",
       "      <td>2</td>\n",
       "      <td>jet_harpoon_clip</td>\n",
       "      <td>10</td>\n",
       "      <td>armor_piercing</td>\n",
       "      <td>32.0</td>\n",
       "      <td>auto</td>\n",
       "      <td>40</td>\n",
       "      <td>40</td>\n",
       "      <td>0.220</td>\n",
       "      <td>3</td>\n",
       "      <td>6</td>\n",
       "      <td>5.333333</td>\n",
       "      <td>60</td>\n",
       "      <td>13.20</td>\n",
       "      <td>320.0</td>\n",
       "      <td>0.250000</td>\n",
       "    </tr>\n",
       "    <tr>\n",
       "      <th>3</th>\n",
       "      <td>jet_harpoon</td>\n",
       "      <td>2</td>\n",
       "      <td>jet_harpoon_clip</td>\n",
       "      <td>10</td>\n",
       "      <td>armor_piercing</td>\n",
       "      <td>32.0</td>\n",
       "      <td>snapshot</td>\n",
       "      <td>35</td>\n",
       "      <td>60</td>\n",
       "      <td>0.330</td>\n",
       "      <td>1</td>\n",
       "      <td>2</td>\n",
       "      <td>16.000000</td>\n",
       "      <td>20</td>\n",
       "      <td>6.60</td>\n",
       "      <td>320.0</td>\n",
       "      <td>0.285714</td>\n",
       "    </tr>\n",
       "    <tr>\n",
       "      <th>4</th>\n",
       "      <td>jet_harpoon</td>\n",
       "      <td>2</td>\n",
       "      <td>jet_harpoon_clip</td>\n",
       "      <td>10</td>\n",
       "      <td>armor_piercing</td>\n",
       "      <td>32.0</td>\n",
       "      <td>aimed</td>\n",
       "      <td>70</td>\n",
       "      <td>90</td>\n",
       "      <td>0.495</td>\n",
       "      <td>1</td>\n",
       "      <td>1</td>\n",
       "      <td>32.000000</td>\n",
       "      <td>10</td>\n",
       "      <td>4.95</td>\n",
       "      <td>320.0</td>\n",
       "      <td>0.142857</td>\n",
       "    </tr>\n",
       "  </tbody>\n",
       "</table>\n",
       "</div>"
      ],
      "text/plain": [
       "        weapon  grip              ammo  damage     damage_type  capacity  \\\n",
       "0     dart_gun     1     dart_gun_clip      16  armor_piercing      12.0   \n",
       "1     dart_gun     1     dart_gun_clip      16  armor_piercing      12.0   \n",
       "2  jet_harpoon     2  jet_harpoon_clip      10  armor_piercing      32.0   \n",
       "3  jet_harpoon     2  jet_harpoon_clip      10  armor_piercing      32.0   \n",
       "4  jet_harpoon     2  jet_harpoon_clip      10  armor_piercing      32.0   \n",
       "\n",
       "  fire_mode  time_units  accuracy  average_chance_to_hit  burst  \\\n",
       "0  snapshot          20        40                  0.220      1   \n",
       "1     aimed          50        80                  0.440      1   \n",
       "2      auto          40        40                  0.220      3   \n",
       "3  snapshot          35        60                  0.330      1   \n",
       "4     aimed          70        90                  0.495      1   \n",
       "\n",
       "   turn_max_shots  turns_to_reload  turn_damage_max  turn_damage_expected  \\\n",
       "0               5         2.400000               80                 17.60   \n",
       "1               2         6.000000               32                 14.08   \n",
       "2               6         5.333333               60                 13.20   \n",
       "3               2        16.000000               20                  6.60   \n",
       "4               1        32.000000               10                  4.95   \n",
       "\n",
       "   clip_damage  damage_per_time_unit  \n",
       "0        192.0              0.800000  \n",
       "1        192.0              0.320000  \n",
       "2        320.0              0.250000  \n",
       "3        320.0              0.285714  \n",
       "4        320.0              0.142857  "
      ]
     },
     "execution_count": 20,
     "metadata": {},
     "output_type": "execute_result"
    }
   ],
   "source": [
    "weapon_data.head()"
   ]
  },
  {
   "cell_type": "code",
   "execution_count": 21,
   "metadata": {},
   "outputs": [
    {
     "data": {
      "text/html": [
       "<div>\n",
       "<style scoped>\n",
       "    .dataframe tbody tr th:only-of-type {\n",
       "        vertical-align: middle;\n",
       "    }\n",
       "\n",
       "    .dataframe tbody tr th {\n",
       "        vertical-align: top;\n",
       "    }\n",
       "\n",
       "    .dataframe thead th {\n",
       "        text-align: right;\n",
       "    }\n",
       "</style>\n",
       "<table border=\"1\" class=\"dataframe\">\n",
       "  <thead>\n",
       "    <tr style=\"text-align: right;\">\n",
       "      <th></th>\n",
       "      <th>weapon</th>\n",
       "      <th>grip</th>\n",
       "      <th>ammo</th>\n",
       "      <th>damage</th>\n",
       "      <th>damage_type</th>\n",
       "      <th>capacity</th>\n",
       "      <th>fire_mode</th>\n",
       "      <th>time_units</th>\n",
       "      <th>accuracy</th>\n",
       "      <th>average_chance_to_hit</th>\n",
       "      <th>...</th>\n",
       "      <th>turns_to_reload</th>\n",
       "      <th>turn_damage_max</th>\n",
       "      <th>turn_damage_expected</th>\n",
       "      <th>clip_damage</th>\n",
       "      <th>damage_per_time_unit</th>\n",
       "      <th>target</th>\n",
       "      <th>target_damage</th>\n",
       "      <th>target_turn_damage_max</th>\n",
       "      <th>target_turn_damage_expected</th>\n",
       "      <th>target_damage_per_time_unit</th>\n",
       "    </tr>\n",
       "  </thead>\n",
       "  <tbody>\n",
       "    <tr>\n",
       "      <th>0</th>\n",
       "      <td>dart_gun</td>\n",
       "      <td>1</td>\n",
       "      <td>dart_gun_clip</td>\n",
       "      <td>16</td>\n",
       "      <td>armor_piercing</td>\n",
       "      <td>12.0</td>\n",
       "      <td>snapshot</td>\n",
       "      <td>20</td>\n",
       "      <td>40</td>\n",
       "      <td>0.220</td>\n",
       "      <td>...</td>\n",
       "      <td>2.400000</td>\n",
       "      <td>80</td>\n",
       "      <td>17.60</td>\n",
       "      <td>192.0</td>\n",
       "      <td>0.800000</td>\n",
       "      <td>terrain</td>\n",
       "      <td>16.0</td>\n",
       "      <td>80.0</td>\n",
       "      <td>17.60</td>\n",
       "      <td>0.800000</td>\n",
       "    </tr>\n",
       "    <tr>\n",
       "      <th>1</th>\n",
       "      <td>dart_gun</td>\n",
       "      <td>1</td>\n",
       "      <td>dart_gun_clip</td>\n",
       "      <td>16</td>\n",
       "      <td>armor_piercing</td>\n",
       "      <td>12.0</td>\n",
       "      <td>aimed</td>\n",
       "      <td>50</td>\n",
       "      <td>80</td>\n",
       "      <td>0.440</td>\n",
       "      <td>...</td>\n",
       "      <td>6.000000</td>\n",
       "      <td>32</td>\n",
       "      <td>14.08</td>\n",
       "      <td>192.0</td>\n",
       "      <td>0.320000</td>\n",
       "      <td>terrain</td>\n",
       "      <td>16.0</td>\n",
       "      <td>32.0</td>\n",
       "      <td>14.08</td>\n",
       "      <td>0.320000</td>\n",
       "    </tr>\n",
       "    <tr>\n",
       "      <th>2</th>\n",
       "      <td>jet_harpoon</td>\n",
       "      <td>2</td>\n",
       "      <td>jet_harpoon_clip</td>\n",
       "      <td>10</td>\n",
       "      <td>armor_piercing</td>\n",
       "      <td>32.0</td>\n",
       "      <td>auto</td>\n",
       "      <td>40</td>\n",
       "      <td>40</td>\n",
       "      <td>0.220</td>\n",
       "      <td>...</td>\n",
       "      <td>5.333333</td>\n",
       "      <td>60</td>\n",
       "      <td>13.20</td>\n",
       "      <td>320.0</td>\n",
       "      <td>0.250000</td>\n",
       "      <td>terrain</td>\n",
       "      <td>10.0</td>\n",
       "      <td>60.0</td>\n",
       "      <td>13.20</td>\n",
       "      <td>0.250000</td>\n",
       "    </tr>\n",
       "    <tr>\n",
       "      <th>3</th>\n",
       "      <td>jet_harpoon</td>\n",
       "      <td>2</td>\n",
       "      <td>jet_harpoon_clip</td>\n",
       "      <td>10</td>\n",
       "      <td>armor_piercing</td>\n",
       "      <td>32.0</td>\n",
       "      <td>snapshot</td>\n",
       "      <td>35</td>\n",
       "      <td>60</td>\n",
       "      <td>0.330</td>\n",
       "      <td>...</td>\n",
       "      <td>16.000000</td>\n",
       "      <td>20</td>\n",
       "      <td>6.60</td>\n",
       "      <td>320.0</td>\n",
       "      <td>0.285714</td>\n",
       "      <td>terrain</td>\n",
       "      <td>10.0</td>\n",
       "      <td>20.0</td>\n",
       "      <td>6.60</td>\n",
       "      <td>0.285714</td>\n",
       "    </tr>\n",
       "    <tr>\n",
       "      <th>4</th>\n",
       "      <td>jet_harpoon</td>\n",
       "      <td>2</td>\n",
       "      <td>jet_harpoon_clip</td>\n",
       "      <td>10</td>\n",
       "      <td>armor_piercing</td>\n",
       "      <td>32.0</td>\n",
       "      <td>aimed</td>\n",
       "      <td>70</td>\n",
       "      <td>90</td>\n",
       "      <td>0.495</td>\n",
       "      <td>...</td>\n",
       "      <td>32.000000</td>\n",
       "      <td>10</td>\n",
       "      <td>4.95</td>\n",
       "      <td>320.0</td>\n",
       "      <td>0.142857</td>\n",
       "      <td>terrain</td>\n",
       "      <td>10.0</td>\n",
       "      <td>10.0</td>\n",
       "      <td>4.95</td>\n",
       "      <td>0.142857</td>\n",
       "    </tr>\n",
       "  </tbody>\n",
       "</table>\n",
       "<p>5 rows × 22 columns</p>\n",
       "</div>"
      ],
      "text/plain": [
       "        weapon  grip              ammo  damage     damage_type  capacity  \\\n",
       "0     dart_gun     1     dart_gun_clip      16  armor_piercing      12.0   \n",
       "1     dart_gun     1     dart_gun_clip      16  armor_piercing      12.0   \n",
       "2  jet_harpoon     2  jet_harpoon_clip      10  armor_piercing      32.0   \n",
       "3  jet_harpoon     2  jet_harpoon_clip      10  armor_piercing      32.0   \n",
       "4  jet_harpoon     2  jet_harpoon_clip      10  armor_piercing      32.0   \n",
       "\n",
       "  fire_mode  time_units  accuracy  average_chance_to_hit  ...  \\\n",
       "0  snapshot          20        40                  0.220  ...   \n",
       "1     aimed          50        80                  0.440  ...   \n",
       "2      auto          40        40                  0.220  ...   \n",
       "3  snapshot          35        60                  0.330  ...   \n",
       "4     aimed          70        90                  0.495  ...   \n",
       "\n",
       "   turns_to_reload  turn_damage_max  turn_damage_expected  clip_damage  \\\n",
       "0         2.400000               80                 17.60        192.0   \n",
       "1         6.000000               32                 14.08        192.0   \n",
       "2         5.333333               60                 13.20        320.0   \n",
       "3        16.000000               20                  6.60        320.0   \n",
       "4        32.000000               10                  4.95        320.0   \n",
       "\n",
       "   damage_per_time_unit   target  target_damage target_turn_damage_max  \\\n",
       "0              0.800000  terrain           16.0                   80.0   \n",
       "1              0.320000  terrain           16.0                   32.0   \n",
       "2              0.250000  terrain           10.0                   60.0   \n",
       "3              0.285714  terrain           10.0                   20.0   \n",
       "4              0.142857  terrain           10.0                   10.0   \n",
       "\n",
       "   target_turn_damage_expected  target_damage_per_time_unit  \n",
       "0                        17.60                     0.800000  \n",
       "1                        14.08                     0.320000  \n",
       "2                        13.20                     0.250000  \n",
       "3                         6.60                     0.285714  \n",
       "4                         4.95                     0.142857  \n",
       "\n",
       "[5 rows x 22 columns]"
      ]
     },
     "execution_count": 21,
     "metadata": {},
     "output_type": "execute_result"
    }
   ],
   "source": [
    "weapon_data_targets.head()"
   ]
  },
  {
   "cell_type": "code",
   "execution_count": 22,
   "metadata": {
    "scrolled": true
   },
   "outputs": [
    {
     "data": {
      "text/html": [
       "<div>\n",
       "<style scoped>\n",
       "    .dataframe tbody tr th:only-of-type {\n",
       "        vertical-align: middle;\n",
       "    }\n",
       "\n",
       "    .dataframe tbody tr th {\n",
       "        vertical-align: top;\n",
       "    }\n",
       "\n",
       "    .dataframe thead th {\n",
       "        text-align: right;\n",
       "    }\n",
       "</style>\n",
       "<table border=\"1\" class=\"dataframe\">\n",
       "  <thead>\n",
       "    <tr style=\"text-align: right;\">\n",
       "      <th></th>\n",
       "      <th>alien</th>\n",
       "      <th>time_units</th>\n",
       "      <th>stamina</th>\n",
       "      <th>health</th>\n",
       "      <th>bravery</th>\n",
       "      <th>reactions</th>\n",
       "      <th>firing_accuracy</th>\n",
       "      <th>throwing_accuracy</th>\n",
       "      <th>strength</th>\n",
       "      <th>psionic_strength</th>\n",
       "      <th>...</th>\n",
       "      <th>target_damage_per_time_unit</th>\n",
       "      <th>penetrating_damage</th>\n",
       "      <th>penetrating_damage_max</th>\n",
       "      <th>penetrating_damage_expected</th>\n",
       "      <th>penetrating_damage_crit</th>\n",
       "      <th>penetrating_damage_crit_expected</th>\n",
       "      <th>hits_to_kill</th>\n",
       "      <th>hits_to_kill_crit</th>\n",
       "      <th>expected_kills</th>\n",
       "      <th>penetrating_damage_per_time_unit</th>\n",
       "    </tr>\n",
       "  </thead>\n",
       "  <tbody>\n",
       "    <tr>\n",
       "      <th>0</th>\n",
       "      <td>Aquatoid Soldier</td>\n",
       "      <td>54</td>\n",
       "      <td>90</td>\n",
       "      <td>30</td>\n",
       "      <td>80</td>\n",
       "      <td>63</td>\n",
       "      <td>52</td>\n",
       "      <td>58</td>\n",
       "      <td>30</td>\n",
       "      <td>35</td>\n",
       "      <td>...</td>\n",
       "      <td>1.155556</td>\n",
       "      <td>62.250000</td>\n",
       "      <td>93.375</td>\n",
       "      <td>43.652813</td>\n",
       "      <td>127.250000</td>\n",
       "      <td>59.489375</td>\n",
       "      <td>1</td>\n",
       "      <td>1</td>\n",
       "      <td>1.500000</td>\n",
       "      <td>1.037500</td>\n",
       "    </tr>\n",
       "    <tr>\n",
       "      <th>1</th>\n",
       "      <td>Aquatoid Soldier</td>\n",
       "      <td>54</td>\n",
       "      <td>90</td>\n",
       "      <td>30</td>\n",
       "      <td>80</td>\n",
       "      <td>63</td>\n",
       "      <td>52</td>\n",
       "      <td>58</td>\n",
       "      <td>30</td>\n",
       "      <td>35</td>\n",
       "      <td>...</td>\n",
       "      <td>0.560000</td>\n",
       "      <td>13.250000</td>\n",
       "      <td>46.375</td>\n",
       "      <td>15.303750</td>\n",
       "      <td>29.250000</td>\n",
       "      <td>9.652500</td>\n",
       "      <td>3</td>\n",
       "      <td>2</td>\n",
       "      <td>1.166667</td>\n",
       "      <td>0.378571</td>\n",
       "    </tr>\n",
       "    <tr>\n",
       "      <th>2</th>\n",
       "      <td>Aquatoid Soldier</td>\n",
       "      <td>54</td>\n",
       "      <td>90</td>\n",
       "      <td>30</td>\n",
       "      <td>80</td>\n",
       "      <td>63</td>\n",
       "      <td>52</td>\n",
       "      <td>58</td>\n",
       "      <td>30</td>\n",
       "      <td>35</td>\n",
       "      <td>...</td>\n",
       "      <td>2.800000</td>\n",
       "      <td>207.250000</td>\n",
       "      <td>207.250</td>\n",
       "      <td>136.785000</td>\n",
       "      <td>417.250000</td>\n",
       "      <td>275.385000</td>\n",
       "      <td>1</td>\n",
       "      <td>1</td>\n",
       "      <td>1.000000</td>\n",
       "      <td>2.763333</td>\n",
       "    </tr>\n",
       "    <tr>\n",
       "      <th>3</th>\n",
       "      <td>Aquatoid Soldier</td>\n",
       "      <td>54</td>\n",
       "      <td>90</td>\n",
       "      <td>30</td>\n",
       "      <td>80</td>\n",
       "      <td>63</td>\n",
       "      <td>52</td>\n",
       "      <td>58</td>\n",
       "      <td>30</td>\n",
       "      <td>35</td>\n",
       "      <td>...</td>\n",
       "      <td>1.181944</td>\n",
       "      <td>58.916667</td>\n",
       "      <td>88.375</td>\n",
       "      <td>36.454688</td>\n",
       "      <td>120.583333</td>\n",
       "      <td>49.740625</td>\n",
       "      <td>1</td>\n",
       "      <td>1</td>\n",
       "      <td>1.500000</td>\n",
       "      <td>1.024638</td>\n",
       "    </tr>\n",
       "    <tr>\n",
       "      <th>4</th>\n",
       "      <td>Aquatoid Soldier</td>\n",
       "      <td>54</td>\n",
       "      <td>90</td>\n",
       "      <td>30</td>\n",
       "      <td>80</td>\n",
       "      <td>63</td>\n",
       "      <td>52</td>\n",
       "      <td>58</td>\n",
       "      <td>30</td>\n",
       "      <td>35</td>\n",
       "      <td>...</td>\n",
       "      <td>1.284091</td>\n",
       "      <td>57.250000</td>\n",
       "      <td>114.500</td>\n",
       "      <td>47.231250</td>\n",
       "      <td>117.250000</td>\n",
       "      <td>48.365625</td>\n",
       "      <td>1</td>\n",
       "      <td>1</td>\n",
       "      <td>2.000000</td>\n",
       "      <td>1.013274</td>\n",
       "    </tr>\n",
       "  </tbody>\n",
       "</table>\n",
       "<p>5 rows × 49 columns</p>\n",
       "</div>"
      ],
      "text/plain": [
       "              alien  time_units  stamina  health  bravery  reactions  \\\n",
       "0  Aquatoid Soldier          54       90      30       80         63   \n",
       "1  Aquatoid Soldier          54       90      30       80         63   \n",
       "2  Aquatoid Soldier          54       90      30       80         63   \n",
       "3  Aquatoid Soldier          54       90      30       80         63   \n",
       "4  Aquatoid Soldier          54       90      30       80         63   \n",
       "\n",
       "   firing_accuracy  throwing_accuracy  strength  psionic_strength  ...  \\\n",
       "0               52                 58        30                35  ...   \n",
       "1               52                 58        30                35  ...   \n",
       "2               52                 58        30                35  ...   \n",
       "3               52                 58        30                35  ...   \n",
       "4               52                 58        30                35  ...   \n",
       "\n",
       "   target_damage_per_time_unit  penetrating_damage  penetrating_damage_max  \\\n",
       "0                     1.155556           62.250000                  93.375   \n",
       "1                     0.560000           13.250000                  46.375   \n",
       "2                     2.800000          207.250000                 207.250   \n",
       "3                     1.181944           58.916667                  88.375   \n",
       "4                     1.284091           57.250000                 114.500   \n",
       "\n",
       "   penetrating_damage_expected  penetrating_damage_crit  \\\n",
       "0                    43.652813               127.250000   \n",
       "1                    15.303750                29.250000   \n",
       "2                   136.785000               417.250000   \n",
       "3                    36.454688               120.583333   \n",
       "4                    47.231250               117.250000   \n",
       "\n",
       "   penetrating_damage_crit_expected  hits_to_kill  hits_to_kill_crit  \\\n",
       "0                         59.489375             1                  1   \n",
       "1                          9.652500             3                  2   \n",
       "2                        275.385000             1                  1   \n",
       "3                         49.740625             1                  1   \n",
       "4                         48.365625             1                  1   \n",
       "\n",
       "   expected_kills  penetrating_damage_per_time_unit  \n",
       "0        1.500000                          1.037500  \n",
       "1        1.166667                          0.378571  \n",
       "2        1.000000                          2.763333  \n",
       "3        1.500000                          1.024638  \n",
       "4        2.000000                          1.013274  \n",
       "\n",
       "[5 rows x 49 columns]"
      ]
     },
     "execution_count": 22,
     "metadata": {},
     "output_type": "execute_result"
    }
   ],
   "source": [
    "weapon_data_aliens.head()"
   ]
  }
 ],
 "metadata": {
  "kernelspec": {
   "display_name": "Python 3",
   "language": "python",
   "name": "python3"
  },
  "language_info": {
   "codemirror_mode": {
    "name": "ipython",
    "version": 3
   },
   "file_extension": ".py",
   "mimetype": "text/x-python",
   "name": "python",
   "nbconvert_exporter": "python",
   "pygments_lexer": "ipython3",
   "version": "3.8.5"
  }
 },
 "nbformat": 4,
 "nbformat_minor": 4
}
