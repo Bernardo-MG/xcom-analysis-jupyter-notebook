{
 "cells": [
  {
   "cell_type": "markdown",
   "metadata": {},
   "source": [
    "# Fire Modes Comparison"
   ]
  },
  {
   "cell_type": "markdown",
   "metadata": {},
   "source": [
    "## Setting Up"
   ]
  },
  {
   "cell_type": "code",
   "execution_count": 1,
   "metadata": {},
   "outputs": [],
   "source": [
    "import pandas as pd\n",
    "from scripts.probability import at_least_one\n",
    "\n",
    "%run weapon_full_data.ipynb"
   ]
  },
  {
   "cell_type": "markdown",
   "metadata": {},
   "source": [
    "## Fire Modes Data"
   ]
  },
  {
   "cell_type": "markdown",
   "metadata": {},
   "source": [
    "Base data. Not taking into account targets or aliens."
   ]
  },
  {
   "cell_type": "code",
   "execution_count": 2,
   "metadata": {},
   "outputs": [
    {
     "data": {
      "text/html": [
       "<div>\n",
       "<style scoped>\n",
       "    .dataframe tbody tr th:only-of-type {\n",
       "        vertical-align: middle;\n",
       "    }\n",
       "\n",
       "    .dataframe tbody tr th {\n",
       "        vertical-align: top;\n",
       "    }\n",
       "\n",
       "    .dataframe thead th {\n",
       "        text-align: right;\n",
       "    }\n",
       "</style>\n",
       "<table border=\"1\" class=\"dataframe\">\n",
       "  <thead>\n",
       "    <tr style=\"text-align: right;\">\n",
       "      <th></th>\n",
       "      <th>time_units</th>\n",
       "      <th>average_chance_to_hit</th>\n",
       "      <th>turn_damage_expected</th>\n",
       "      <th>damage_per_time_unit</th>\n",
       "    </tr>\n",
       "    <tr>\n",
       "      <th>fire_mode</th>\n",
       "      <th></th>\n",
       "      <th></th>\n",
       "      <th></th>\n",
       "      <th></th>\n",
       "    </tr>\n",
       "  </thead>\n",
       "  <tbody>\n",
       "    <tr>\n",
       "      <th>aimed</th>\n",
       "      <td>70.666667</td>\n",
       "      <td>0.529375</td>\n",
       "      <td>43.920938</td>\n",
       "      <td>1.129569</td>\n",
       "    </tr>\n",
       "    <tr>\n",
       "      <th>auto</th>\n",
       "      <td>38.333333</td>\n",
       "      <td>0.220000</td>\n",
       "      <td>19.479167</td>\n",
       "      <td>1.083333</td>\n",
       "    </tr>\n",
       "    <tr>\n",
       "      <th>grenade</th>\n",
       "      <td>75.000000</td>\n",
       "      <td>0.357500</td>\n",
       "      <td>30.387500</td>\n",
       "      <td>1.133333</td>\n",
       "    </tr>\n",
       "    <tr>\n",
       "      <th>melee</th>\n",
       "      <td>21.250000</td>\n",
       "      <td>0.783750</td>\n",
       "      <td>259.600000</td>\n",
       "      <td>6.208333</td>\n",
       "    </tr>\n",
       "    <tr>\n",
       "      <th>snapshot</th>\n",
       "      <td>36.636364</td>\n",
       "      <td>0.318750</td>\n",
       "      <td>41.536250</td>\n",
       "      <td>1.893377</td>\n",
       "    </tr>\n",
       "  </tbody>\n",
       "</table>\n",
       "</div>"
      ],
      "text/plain": [
       "           time_units  average_chance_to_hit  turn_damage_expected  \\\n",
       "fire_mode                                                            \n",
       "aimed       70.666667               0.529375             43.920938   \n",
       "auto        38.333333               0.220000             19.479167   \n",
       "grenade     75.000000               0.357500             30.387500   \n",
       "melee       21.250000               0.783750            259.600000   \n",
       "snapshot    36.636364               0.318750             41.536250   \n",
       "\n",
       "           damage_per_time_unit  \n",
       "fire_mode                        \n",
       "aimed                  1.129569  \n",
       "auto                   1.083333  \n",
       "grenade                1.133333  \n",
       "melee                  6.208333  \n",
       "snapshot               1.893377  "
      ]
     },
     "execution_count": 2,
     "metadata": {},
     "output_type": "execute_result"
    }
   ],
   "source": [
    "weapon_firemodes = weapon_data[ [\"fire_mode\", \"time_units\", \"average_chance_to_hit\", \"turn_damage_expected\", \"damage_per_time_unit\"] ]\n",
    "weapon_firemodes = weapon_firemodes.groupby(\"fire_mode\").mean()\n",
    "weapon_firemodes"
   ]
  },
  {
   "cell_type": "markdown",
   "metadata": {},
   "source": [
    "## Fire Modes Data Agains Aliens"
   ]
  },
  {
   "cell_type": "markdown",
   "metadata": {},
   "source": [
    "This is more useful. The actual average damages after all calculations have been applied."
   ]
  },
  {
   "cell_type": "code",
   "execution_count": 3,
   "metadata": {},
   "outputs": [
    {
     "data": {
      "text/html": [
       "<div>\n",
       "<style scoped>\n",
       "    .dataframe tbody tr th:only-of-type {\n",
       "        vertical-align: middle;\n",
       "    }\n",
       "\n",
       "    .dataframe tbody tr th {\n",
       "        vertical-align: top;\n",
       "    }\n",
       "\n",
       "    .dataframe thead th {\n",
       "        text-align: right;\n",
       "    }\n",
       "</style>\n",
       "<table border=\"1\" class=\"dataframe\">\n",
       "  <thead>\n",
       "    <tr style=\"text-align: right;\">\n",
       "      <th></th>\n",
       "      <th>chance_of_hit_and_penetrate</th>\n",
       "      <th>turn_penetrating_damage_expected</th>\n",
       "      <th>penetrating_damage_per_time_unit</th>\n",
       "    </tr>\n",
       "    <tr>\n",
       "      <th>fire_mode</th>\n",
       "      <th></th>\n",
       "      <th></th>\n",
       "      <th></th>\n",
       "    </tr>\n",
       "  </thead>\n",
       "  <tbody>\n",
       "    <tr>\n",
       "      <th>aimed</th>\n",
       "      <td>0.410807</td>\n",
       "      <td>36.207646</td>\n",
       "      <td>0.927128</td>\n",
       "    </tr>\n",
       "    <tr>\n",
       "      <th>auto</th>\n",
       "      <td>0.130491</td>\n",
       "      <td>13.794159</td>\n",
       "      <td>0.765712</td>\n",
       "    </tr>\n",
       "    <tr>\n",
       "      <th>grenade</th>\n",
       "      <td>0.284983</td>\n",
       "      <td>24.174648</td>\n",
       "      <td>0.901619</td>\n",
       "    </tr>\n",
       "    <tr>\n",
       "      <th>melee</th>\n",
       "      <td>0.752170</td>\n",
       "      <td>355.237332</td>\n",
       "      <td>8.500551</td>\n",
       "    </tr>\n",
       "    <tr>\n",
       "      <th>snapshot</th>\n",
       "      <td>0.242586</td>\n",
       "      <td>33.962060</td>\n",
       "      <td>1.530300</td>\n",
       "    </tr>\n",
       "  </tbody>\n",
       "</table>\n",
       "</div>"
      ],
      "text/plain": [
       "           chance_of_hit_and_penetrate  turn_penetrating_damage_expected  \\\n",
       "fire_mode                                                                  \n",
       "aimed                         0.410807                         36.207646   \n",
       "auto                          0.130491                         13.794159   \n",
       "grenade                       0.284983                         24.174648   \n",
       "melee                         0.752170                        355.237332   \n",
       "snapshot                      0.242586                         33.962060   \n",
       "\n",
       "           penetrating_damage_per_time_unit  \n",
       "fire_mode                                    \n",
       "aimed                              0.927128  \n",
       "auto                               0.765712  \n",
       "grenade                            0.901619  \n",
       "melee                              8.500551  \n",
       "snapshot                           1.530300  "
      ]
     },
     "execution_count": 3,
     "metadata": {},
     "output_type": "execute_result"
    }
   ],
   "source": [
    "weapon_damages_aliens = weapon_data_aliens.groupby([\"fire_mode\"]).mean()\n",
    "weapon_damages_aliens = weapon_damages_aliens[[\"chance_of_hit_and_penetrate\", \"turn_penetrating_damage_expected\", \"penetrating_damage_per_time_unit\"]]\n",
    "weapon_damages_aliens"
   ]
  },
  {
   "cell_type": "markdown",
   "metadata": {},
   "source": [
    "## Data Merge"
   ]
  },
  {
   "cell_type": "markdown",
   "metadata": {},
   "source": [
    "Lets mix both data sets."
   ]
  },
  {
   "cell_type": "code",
   "execution_count": 4,
   "metadata": {},
   "outputs": [],
   "source": [
    "weapon_firemodes = weapon_firemodes.merge(weapon_damages_aliens, on=\"fire_mode\")"
   ]
  },
  {
   "cell_type": "markdown",
   "metadata": {},
   "source": [
    "## Chance to Hit"
   ]
  },
  {
   "cell_type": "code",
   "execution_count": 5,
   "metadata": {},
   "outputs": [],
   "source": [
    "weapon_firemodes_to_hit = pd.DataFrame()\n",
    "weapon_firemodes_to_hit[\"to_damage\"] = weapon_firemodes[\"chance_of_hit_and_penetrate\"]\n",
    "weapon_firemodes_to_hit[\"to_not_damage\"] = weapon_firemodes.apply(lambda x: x[\"average_chance_to_hit\"] - x[\"chance_of_hit_and_penetrate\"], axis=1)\n",
    "weapon_firemodes_to_hit = weapon_firemodes_to_hit.sort_values(by=[\"to_damage\"])"
   ]
  },
  {
   "cell_type": "code",
   "execution_count": 6,
   "metadata": {},
   "outputs": [
    {
     "data": {
      "text/plain": [
       "Text(0, 0.5, 'Chance')"
      ]
     },
     "execution_count": 6,
     "metadata": {},
     "output_type": "execute_result"
    },
    {
     "data": {
      "image/png": "[encoded data removed]",
      "text/plain": [
       "<Figure size 432x288 with 1 Axes>"
      ]
     },
     "metadata": {
      "needs_background": "light"
     },
     "output_type": "display_data"
    }
   ],
   "source": [
    "ax = weapon_firemodes_to_hit.plot.bar(title=\"Chance to hit by fire mode\", stacked=True, legend=False)\n",
    "ax.legend([\"Damage\", \"Impact, no damage\"])\n",
    "ax.xaxis.get_label().set_visible(False)\n",
    "ax.set_ylabel(\"Chance\")"
   ]
  },
  {
   "cell_type": "markdown",
   "metadata": {},
   "source": [
    "## Damage"
   ]
  },
  {
   "cell_type": "code",
   "execution_count": 7,
   "metadata": {},
   "outputs": [],
   "source": [
    "weapon_firemodes_damage = pd.DataFrame()\n",
    "weapon_firemodes_damage[\"damage\"] = weapon_firemodes[\"turn_penetrating_damage_expected\"]\n",
    "weapon_firemodes_damage[\"lost_damage\"] = weapon_firemodes.apply(lambda x: x[\"turn_damage_expected\"] - x[\"turn_penetrating_damage_expected\"], axis=1)\n",
    "weapon_firemodes_damage = weapon_firemodes_damage.sort_values(by=[\"damage\"])"
   ]
  },
  {
   "cell_type": "code",
   "execution_count": 8,
   "metadata": {},
   "outputs": [
    {
     "data": {
      "text/plain": [
       "Text(0, 0.5, 'Chance')"
      ]
     },
     "execution_count": 8,
     "metadata": {},
     "output_type": "execute_result"
    },
    {
     "data": {
      "image/png": "[encoded data removed]",
      "text/plain": [
       "<Figure size 432x288 with 1 Axes>"
      ]
     },
     "metadata": {
      "needs_background": "light"
     },
     "output_type": "display_data"
    }
   ],
   "source": [
    "ax = weapon_firemodes_damage.plot.bar(title=\"Damage by fire mode\", stacked=True, legend=False)\n",
    "ax.legend([\"Damage\", \"Lost damage\"])\n",
    "ax.xaxis.get_label().set_visible(False)\n",
    "ax.set_ylabel(\"Chance\")"
   ]
  },
  {
   "cell_type": "markdown",
   "metadata": {},
   "source": [
    "## Time Units"
   ]
  },
  {
   "cell_type": "code",
   "execution_count": 9,
   "metadata": {},
   "outputs": [],
   "source": [
    "weapon_firemodes_tus_average = weapon_data[ [\"fire_mode\", \"time_units\"] ]\n",
    "weapon_firemodes_tus_average = weapon_firemodes_tus_average.groupby(\"fire_mode\").mean()"
   ]
  },
  {
   "cell_type": "code",
   "execution_count": 10,
   "metadata": {},
   "outputs": [],
   "source": [
    "weapon_firemodes_tus_max = weapon_data[ [\"fire_mode\", \"time_units\"] ]\n",
    "weapon_firemodes_tus_max = weapon_firemodes_tus_max.groupby(\"fire_mode\").max()"
   ]
  },
  {
   "cell_type": "code",
   "execution_count": 11,
   "metadata": {},
   "outputs": [],
   "source": [
    "weapon_firemodes_tus = pd.DataFrame()\n",
    "weapon_firemodes_tus[\"time_units\"] = weapon_firemodes_tus_average[\"time_units\"]\n",
    "weapon_firemodes_tus[\"up_to_max\"] = weapon_firemodes_tus_max[\"time_units\"]\n",
    "weapon_firemodes_tus[\"up_to_max\"] = weapon_firemodes_tus.apply(lambda x: x[\"up_to_max\"] - x[\"time_units\"], axis=1)\n",
    "weapon_firemodes_tus = weapon_firemodes_tus.sort_values(by=[\"time_units\"])"
   ]
  },
  {
   "cell_type": "code",
   "execution_count": 12,
   "metadata": {},
   "outputs": [
    {
     "data": {
      "text/plain": [
       "Text(0, 0.5, 'Tus')"
      ]
     },
     "execution_count": 12,
     "metadata": {},
     "output_type": "execute_result"
    },
    {
     "data": {
      "image/png": "[encoded data removed]",
      "text/plain": [
       "<Figure size 432x288 with 1 Axes>"
      ]
     },
     "metadata": {
      "needs_background": "light"
     },
     "output_type": "display_data"
    }
   ],
   "source": [
    "ax = weapon_firemodes_tus.plot.bar(title=\"TUs cost\", stacked=True, legend=False)\n",
    "ax.legend([\"Average\", \"Max\"])\n",
    "ax.xaxis.get_label().set_visible(False)\n",
    "ax.set_ylabel(\"Tus\")"
   ]
  },
  {
   "cell_type": "markdown",
   "metadata": {},
   "source": [
    "## Damage Per Time Unit"
   ]
  },
  {
   "cell_type": "code",
   "execution_count": 13,
   "metadata": {},
   "outputs": [],
   "source": [
    "weapon_firemodes_dam_tu = pd.DataFrame()\n",
    "weapon_firemodes_dam_tu[\"damage\"] = weapon_firemodes[\"penetrating_damage_per_time_unit\"]\n",
    "weapon_firemodes_dam_tu[\"lost_damage\"] = weapon_firemodes.apply(lambda x: x[\"damage_per_time_unit\"] - x[\"penetrating_damage_per_time_unit\"], axis=1)\n",
    "weapon_firemodes_dam_tu = weapon_firemodes_damage.sort_values(by=[\"damage\"])"
   ]
  },
  {
   "cell_type": "code",
   "execution_count": 14,
   "metadata": {},
   "outputs": [
    {
     "data": {
      "text/plain": [
       "Text(0, 0.5, 'Ratio')"
      ]
     },
     "execution_count": 14,
     "metadata": {},
     "output_type": "execute_result"
    },
    {
     "data": {
      "image/png": "[encoded data removed]",
      "text/plain": [
       "<Figure size 432x288 with 1 Axes>"
      ]
     },
     "metadata": {
      "needs_background": "light"
     },
     "output_type": "display_data"
    }
   ],
   "source": [
    "ax = weapon_firemodes_dam_tu.plot.bar(title=\"Damage per TU\", stacked=True, legend=False)\n",
    "ax.legend([\"Damage\", \"Lost damage\"])\n",
    "ax.xaxis.get_label().set_visible(False)\n",
    "ax.set_ylabel(\"Ratio\")"
   ]
  },
  {
   "cell_type": "markdown",
   "metadata": {},
   "source": [
    "## Chance to Hit"
   ]
  },
  {
   "cell_type": "code",
   "execution_count": 15,
   "metadata": {},
   "outputs": [],
   "source": [
    "at_least_one_compare = weapon_data[[\"fire_mode\", \"burst\", \"accuracy\"]]\n",
    "at_least_one_compare = at_least_one_compare.groupby([\"fire_mode\"]).mean()"
   ]
  },
  {
   "cell_type": "code",
   "execution_count": 16,
   "metadata": {},
   "outputs": [],
   "source": [
    "at_least_one_compare[\"chance\"] = at_least_one_compare.apply(lambda x: at_least_one(x[\"accuracy\"]/100, x[\"burst\"]), axis=1)\n",
    "at_least_one_compare[\"chance\"] = pd.to_numeric(at_least_one_compare[\"chance\"])\n",
    "at_least_one_compare = at_least_one_compare.drop([\"burst\", \"accuracy\"], axis=1)\n",
    "at_least_one_compare = at_least_one_compare.reset_index()\n",
    "at_least_one_compare = at_least_one_compare.set_index(\"fire_mode\")\n",
    "at_least_one_compare = at_least_one_compare.sort_values(by=[\"chance\"])"
   ]
  },
  {
   "cell_type": "code",
   "execution_count": 17,
   "metadata": {},
   "outputs": [
    {
     "data": {
      "text/plain": [
       "Text(0, 0.5, 'Chance')"
      ]
     },
     "execution_count": 17,
     "metadata": {},
     "output_type": "execute_result"
    },
    {
     "data": {
      "image/png": "[encoded data removed]",
      "text/plain": [
       "<Figure size 432x288 with 1 Axes>"
      ]
     },
     "metadata": {
      "needs_background": "light"
     },
     "output_type": "display_data"
    }
   ],
   "source": [
    "ax = at_least_one_compare.plot.bar(title=\"Chance to hit at least once\", legend=False)\n",
    "ax.xaxis.get_label().set_visible(False)\n",
    "ax.set_ylabel(\"Chance\")"
   ]
  }
 ],
 "metadata": {
  "kernelspec": {
   "display_name": "Python 3",
   "language": "python",
   "name": "python3"
  },
  "language_info": {
   "codemirror_mode": {
    "name": "ipython",
    "version": 3
   },
   "file_extension": ".py",
   "mimetype": "text/x-python",
   "name": "python",
   "nbconvert_exporter": "python",
   "pygments_lexer": "ipython3",
   "version": "3.8.5"
  }
 },
 "nbformat": 4,
 "nbformat_minor": 4
}
